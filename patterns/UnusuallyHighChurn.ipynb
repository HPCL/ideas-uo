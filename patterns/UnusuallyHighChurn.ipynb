{
  "nbformat": 4,
  "nbformat_minor": 0,
  "metadata": {
    "colab": {
      "name": "UnusuallyHighChurn.ipynb",
      "provenance": []
    },
    "kernelspec": {
      "name": "python3",
      "display_name": "Python 3"
    }
  },
  "cells": [
    {
      "cell_type": "markdown",
      "metadata": {
        "id": "ozafl_6Y0eGy",
        "colab_type": "text"
      },
      "source": [
        "assume notebook in the style of [anl_get_commits.ipynb](https://colab.research.google.com/drive/1KVCVwkmQUdJb2pS2r8p9Gyi0t7CYzHkV?usp=sharing#scrollTo=c8nKzlPmaaKq) by fickas@cs.uoregon.edu has been run to generate appropriate .csv file."
      ]
    },
    {
      "cell_type": "code",
      "metadata": {
        "id": "9e6IoX2Q3WH_",
        "colab_type": "code",
        "colab": {
          "base_uri": "https://localhost:8080/",
          "height": 122
        },
        "outputId": "8d9b6f76-1327-4f9e-a0f1-4f23598347c0"
      },
      "source": [
        "from google.colab import drive \n",
        "drive.mount('/content/drive', force_remount=True)"
      ],
      "execution_count": null,
      "outputs": [
        {
          "output_type": "stream",
          "text": [
            "Go to this URL in a browser: https://accounts.google.com/o/oauth2/auth?client_id=947318989803-6bn6qk8qdgf4n4g3pfee6491hc0brc4i.apps.googleusercontent.com&redirect_uri=urn%3aietf%3awg%3aoauth%3a2.0%3aoob&response_type=code&scope=email%20https%3a%2f%2fwww.googleapis.com%2fauth%2fdocs.test%20https%3a%2f%2fwww.googleapis.com%2fauth%2fdrive%20https%3a%2f%2fwww.googleapis.com%2fauth%2fdrive.photos.readonly%20https%3a%2f%2fwww.googleapis.com%2fauth%2fpeopleapi.readonly\n",
            "\n",
            "Enter your authorization code:\n",
            "··········\n",
            "Mounted at /content/drive\n"
          ],
          "name": "stdout"
        }
      ]
    },
    {
      "cell_type": "code",
      "metadata": {
        "id": "v8D2-s7P3vRo",
        "colab_type": "code",
        "colab": {
          "base_uri": "https://localhost:8080/",
          "height": 34
        },
        "outputId": "baa8eff1-d900-497a-b100-6594402a32f5"
      },
      "source": [
        "ls /content/"
      ],
      "execution_count": null,
      "outputs": [
        {
          "output_type": "stream",
          "text": [
            "\u001b[0m\u001b[01;34mdrive\u001b[0m/  \u001b[01;34msample_data\u001b[0m/\n"
          ],
          "name": "stdout"
        }
      ]
    },
    {
      "cell_type": "code",
      "metadata": {
        "id": "in8F_ejS38kB",
        "colab_type": "code",
        "colab": {
          "base_uri": "https://localhost:8080/",
          "height": 34
        },
        "outputId": "711e4daa-2719-434f-ac70-a649c1ea3341"
      },
      "source": [
        "ls -a /content/drive/"
      ],
      "execution_count": null,
      "outputs": [
        {
          "output_type": "stream",
          "text": [
            "\u001b[0m\u001b[01;34m'My Drive'\u001b[0m/   \u001b[01;34m.shortcut-targets-by-id\u001b[0m/   \u001b[01;34m.Trash\u001b[0m/\n"
          ],
          "name": "stdout"
        }
      ]
    },
    {
      "cell_type": "code",
      "metadata": {
        "id": "u5gGdgWZ41KH",
        "colab_type": "code",
        "colab": {
          "base_uri": "https://localhost:8080/",
          "height": 34
        },
        "outputId": "2e104af4-fb47-4d8c-e47b-c56081f88d67"
      },
      "source": [
        "ls -a /content/drive/My\\ Drive/SortedCommits"
      ],
      "execution_count": null,
      "outputs": [
        {
          "output_type": "stream",
          "text": [
            "moose_sorted_commits.csv  spack_sorted_commits.csv\n"
          ],
          "name": "stdout"
        }
      ]
    },
    {
      "cell_type": "code",
      "metadata": {
        "id": "IkOhBl2F5IHG",
        "colab_type": "code",
        "colab": {}
      },
      "source": [
        "path = '/content/drive/My Drive/SortedCommits/moose_sorted_commits.csv'"
      ],
      "execution_count": null,
      "outputs": []
    },
    {
      "cell_type": "code",
      "metadata": {
        "id": "z2dPyg-_5sv4",
        "colab_type": "code",
        "colab": {}
      },
      "source": [
        "import pandas as pd \n",
        "moose_sorted_commits = pd.read_csv(\"/content/drive/My Drive/SortedCommits/moose_sorted_commits.csv\").drop(columns=['Unnamed: 0'])"
      ],
      "execution_count": null,
      "outputs": []
    },
    {
      "cell_type": "code",
      "metadata": {
        "id": "K_X8oW6r5yT7",
        "colab_type": "code",
        "colab": {
          "base_uri": "https://localhost:8080/",
          "height": 204
        },
        "outputId": "9e8d5487-ca45-4f79-ce7c-64238cc9fa89"
      },
      "source": [
        "moose_sorted_commits.head()"
      ],
      "execution_count": null,
      "outputs": [
        {
          "output_type": "execute_result",
          "data": {
            "text/html": [
              "<div>\n",
              "<style scoped>\n",
              "    .dataframe tbody tr th:only-of-type {\n",
              "        vertical-align: middle;\n",
              "    }\n",
              "\n",
              "    .dataframe tbody tr th {\n",
              "        vertical-align: top;\n",
              "    }\n",
              "\n",
              "    .dataframe thead th {\n",
              "        text-align: right;\n",
              "    }\n",
              "</style>\n",
              "<table border=\"1\" class=\"dataframe\">\n",
              "  <thead>\n",
              "    <tr style=\"text-align: right;\">\n",
              "      <th></th>\n",
              "      <th>year</th>\n",
              "      <th>month</th>\n",
              "      <th>day</th>\n",
              "      <th>doy</th>\n",
              "      <th>dow</th>\n",
              "      <th>full_date</th>\n",
              "      <th>files</th>\n",
              "      <th>message</th>\n",
              "      <th>person</th>\n",
              "      <th>locc</th>\n",
              "    </tr>\n",
              "  </thead>\n",
              "  <tbody>\n",
              "    <tr>\n",
              "      <th>0</th>\n",
              "      <td>2008</td>\n",
              "      <td>6</td>\n",
              "      <td>10</td>\n",
              "      <td>162</td>\n",
              "      <td>Tuesday</td>\n",
              "      <td>2008-06-10 14:45:00+00:00</td>\n",
              "      <td>['a/.gitignore b/.gitignore', 'a/COPYING b/COP...</td>\n",
              "      <td>Starting MOOSE project - adding license, c...</td>\n",
              "      <td>b'Cody Permann &lt;codypermann@gmail.com&gt;'</td>\n",
              "      <td>1243</td>\n",
              "    </tr>\n",
              "    <tr>\n",
              "      <th>1</th>\n",
              "      <td>2008</td>\n",
              "      <td>6</td>\n",
              "      <td>10</td>\n",
              "      <td>162</td>\n",
              "      <td>Tuesday</td>\n",
              "      <td>2008-06-10 15:01:21+00:00</td>\n",
              "      <td>['a/framework/Makefile b/framework/Makefile']</td>\n",
              "      <td>Fix Makefile\\n    \\n    r111\\n</td>\n",
              "      <td>b'Derek Gaston &lt;derek.gaston@inl.gov&gt;'</td>\n",
              "      <td>5</td>\n",
              "    </tr>\n",
              "    <tr>\n",
              "      <th>2</th>\n",
              "      <td>2008</td>\n",
              "      <td>6</td>\n",
              "      <td>10</td>\n",
              "      <td>162</td>\n",
              "      <td>Tuesday</td>\n",
              "      <td>2008-06-10 14:47:02+00:00</td>\n",
              "      <td>['a/framework/Makefile b/framework/Makefile', ...</td>\n",
              "      <td>Add stroma\\n    \\n    r110\\n</td>\n",
              "      <td>b'Derek Gaston &lt;derek.gaston@inl.gov&gt;'</td>\n",
              "      <td>72</td>\n",
              "    </tr>\n",
              "    <tr>\n",
              "      <th>3</th>\n",
              "      <td>2008</td>\n",
              "      <td>6</td>\n",
              "      <td>11</td>\n",
              "      <td>163</td>\n",
              "      <td>Wednesday</td>\n",
              "      <td>2008-06-11 10:18:20+00:00</td>\n",
              "      <td>['a/framework/Makefile.export b/framework/Make...</td>\n",
              "      <td>Fix Skagia makefile to link against Stroma...</td>\n",
              "      <td>b'Derek Gaston &lt;derek.gaston@inl.gov&gt;'</td>\n",
              "      <td>1</td>\n",
              "    </tr>\n",
              "    <tr>\n",
              "      <th>4</th>\n",
              "      <td>2008</td>\n",
              "      <td>6</td>\n",
              "      <td>11</td>\n",
              "      <td>163</td>\n",
              "      <td>Wednesday</td>\n",
              "      <td>2008-06-11 07:36:16+00:00</td>\n",
              "      <td>['a/framework/Makefile.export b/framework/Make...</td>\n",
              "      <td>Intial Skagia commit\\n    \\n    r112\\n</td>\n",
              "      <td>b'Derek Gaston &lt;derek.gaston@inl.gov&gt;'</td>\n",
              "      <td>11</td>\n",
              "    </tr>\n",
              "  </tbody>\n",
              "</table>\n",
              "</div>"
            ],
            "text/plain": [
              "   year  month  ...                                   person  locc\n",
              "0  2008      6  ...  b'Cody Permann <codypermann@gmail.com>'  1243\n",
              "1  2008      6  ...   b'Derek Gaston <derek.gaston@inl.gov>'     5\n",
              "2  2008      6  ...   b'Derek Gaston <derek.gaston@inl.gov>'    72\n",
              "3  2008      6  ...   b'Derek Gaston <derek.gaston@inl.gov>'     1\n",
              "4  2008      6  ...   b'Derek Gaston <derek.gaston@inl.gov>'    11\n",
              "\n",
              "[5 rows x 10 columns]"
            ]
          },
          "metadata": {
            "tags": []
          },
          "execution_count": 9
        }
      ]
    },
    {
      "cell_type": "markdown",
      "metadata": {
        "id": "P4KzASgl768G",
        "colab_type": "text"
      },
      "source": [
        "\n",
        "Given a time window (say a year)\n",
        "\n",
        "*   Precompute repository contributors\n",
        "*   Precompute list of files in repo \n",
        "*   Step through list commits, increment user entry in vector with number of contributors as length if user modified file in current commit \n",
        "*   Visualize data\n",
        "\n"
      ]
    },
    {
      "cell_type": "markdown",
      "metadata": {
        "id": "2N79SayNdgqX",
        "colab_type": "text"
      },
      "source": [
        "compute list of contributors along with their commits as panda dfs in given year. "
      ]
    },
    {
      "cell_type": "code",
      "metadata": {
        "id": "wtDpPrm6C--q",
        "colab_type": "code",
        "colab": {}
      },
      "source": [
        "import sys \n",
        "def sorted_people_yearly_commits(year):\n",
        "  \"\"\"return list of commits per user as panda dataframes (slices of the original) sorted in descending order by rows. Filter out users with no commits\n",
        "\n",
        "  param  : year as time window from which to search \n",
        "  \n",
        "  \"\"\"\n",
        "  people_commits = []\n",
        "  seen = {}\n",
        "  for i in range(len(moose_sorted_commits['person'].index)):\n",
        "    try:\n",
        "      throw_away = seen[moose_sorted_commits['person'][i]]\n",
        "      if throw_away == 1:\n",
        "        continue \n",
        "    except KeyError:\n",
        "      seen[moose_sorted_commits['person'][i]] = 1\n",
        "      commits_by_p = moose_sorted_commits[(moose_sorted_commits['year'] == year) & (moose_sorted_commits['person'] == moose_sorted_commits['person'][i])]\n",
        "      people_commits.append(commits_by_p)\n",
        "  people_commits = list(filter(lambda x: len(x['full_date']) > 0, people_commits))\n",
        "  people_commits.sort(key=lambda x: len(x['full_date']), reverse=True) #this doesn't work for some reason\n",
        "  return people_commits"
      ],
      "execution_count": null,
      "outputs": []
    },
    {
      "cell_type": "code",
      "metadata": {
        "id": "UQle5sePf3MO",
        "colab_type": "code",
        "colab": {
          "base_uri": "https://localhost:8080/",
          "height": 204
        },
        "outputId": "67eb2fe6-6251-4015-af6c-161720f2416f"
      },
      "source": [
        "sorted_people_yearly_commits(2008)[1].head()"
      ],
      "execution_count": null,
      "outputs": [
        {
          "output_type": "execute_result",
          "data": {
            "text/html": [
              "<div>\n",
              "<style scoped>\n",
              "    .dataframe tbody tr th:only-of-type {\n",
              "        vertical-align: middle;\n",
              "    }\n",
              "\n",
              "    .dataframe tbody tr th {\n",
              "        vertical-align: top;\n",
              "    }\n",
              "\n",
              "    .dataframe thead th {\n",
              "        text-align: right;\n",
              "    }\n",
              "</style>\n",
              "<table border=\"1\" class=\"dataframe\">\n",
              "  <thead>\n",
              "    <tr style=\"text-align: right;\">\n",
              "      <th></th>\n",
              "      <th>year</th>\n",
              "      <th>month</th>\n",
              "      <th>day</th>\n",
              "      <th>doy</th>\n",
              "      <th>dow</th>\n",
              "      <th>full_date</th>\n",
              "      <th>files</th>\n",
              "      <th>message</th>\n",
              "      <th>person</th>\n",
              "      <th>locc</th>\n",
              "    </tr>\n",
              "  </thead>\n",
              "  <tbody>\n",
              "    <tr>\n",
              "      <th>57</th>\n",
              "      <td>2008</td>\n",
              "      <td>9</td>\n",
              "      <td>5</td>\n",
              "      <td>249</td>\n",
              "      <td>Friday</td>\n",
              "      <td>2008-09-05 11:50:05+00:00</td>\n",
              "      <td>['a/framework/include/VacuumBC.h b/framework/i...</td>\n",
              "      <td>trivial change in comment of Vacuum BC\\n  ...</td>\n",
              "      <td>b'Ryosuke Park &lt;ryosuke.park@inl.gov&gt;'</td>\n",
              "      <td>2</td>\n",
              "    </tr>\n",
              "    <tr>\n",
              "      <th>58</th>\n",
              "      <td>2008</td>\n",
              "      <td>9</td>\n",
              "      <td>5</td>\n",
              "      <td>249</td>\n",
              "      <td>Friday</td>\n",
              "      <td>2008-09-05 07:24:42+00:00</td>\n",
              "      <td>['a/framework/include/VacuumBC.h b/framework/i...</td>\n",
              "      <td>Adding Vacuum BC and Cross-section definit...</td>\n",
              "      <td>b'Ryosuke Park &lt;ryosuke.park@inl.gov&gt;'</td>\n",
              "      <td>46</td>\n",
              "    </tr>\n",
              "    <tr>\n",
              "      <th>59</th>\n",
              "      <td>2008</td>\n",
              "      <td>9</td>\n",
              "      <td>8</td>\n",
              "      <td>252</td>\n",
              "      <td>Monday</td>\n",
              "      <td>2008-09-08 21:28:10+00:00</td>\n",
              "      <td>['a/framework/include/materials/Constant.h b/f...</td>\n",
              "      <td>adding neutron velocity parameter into mat...</td>\n",
              "      <td>b'Ryosuke Park &lt;ryosuke.park@inl.gov&gt;'</td>\n",
              "      <td>3</td>\n",
              "    </tr>\n",
              "    <tr>\n",
              "      <th>60</th>\n",
              "      <td>2008</td>\n",
              "      <td>9</td>\n",
              "      <td>8</td>\n",
              "      <td>252</td>\n",
              "      <td>Monday</td>\n",
              "      <td>2008-09-08 14:23:27+00:00</td>\n",
              "      <td>['a/framework/include/Reaction.h b/framework/i...</td>\n",
              "      <td>fixing Reaction kernel\\n    \\n    r270\\n</td>\n",
              "      <td>b'Ryosuke Park &lt;ryosuke.park@inl.gov&gt;'</td>\n",
              "      <td>4</td>\n",
              "    </tr>\n",
              "    <tr>\n",
              "      <th>61</th>\n",
              "      <td>2008</td>\n",
              "      <td>9</td>\n",
              "      <td>8</td>\n",
              "      <td>252</td>\n",
              "      <td>Monday</td>\n",
              "      <td>2008-09-08 14:06:09+00:00</td>\n",
              "      <td>['a/framework/include/Reaction.h b/framework/i...</td>\n",
              "      <td>adding generic reaction kernel\\n    \\n    ...</td>\n",
              "      <td>b'Ryosuke Park &lt;ryosuke.park@inl.gov&gt;'</td>\n",
              "      <td>31</td>\n",
              "    </tr>\n",
              "  </tbody>\n",
              "</table>\n",
              "</div>"
            ],
            "text/plain": [
              "    year  month  ...                                  person  locc\n",
              "57  2008      9  ...  b'Ryosuke Park <ryosuke.park@inl.gov>'     2\n",
              "58  2008      9  ...  b'Ryosuke Park <ryosuke.park@inl.gov>'    46\n",
              "59  2008      9  ...  b'Ryosuke Park <ryosuke.park@inl.gov>'     3\n",
              "60  2008      9  ...  b'Ryosuke Park <ryosuke.park@inl.gov>'     4\n",
              "61  2008      9  ...  b'Ryosuke Park <ryosuke.park@inl.gov>'    31\n",
              "\n",
              "[5 rows x 10 columns]"
            ]
          },
          "metadata": {
            "tags": []
          },
          "execution_count": 90
        }
      ]
    },
    {
      "cell_type": "markdown",
      "metadata": {
        "id": "dnyMTiPZdvfz",
        "colab_type": "text"
      },
      "source": [
        "compute list of unique files in given year along with how many commits they appear in"
      ]
    },
    {
      "cell_type": "code",
      "metadata": {
        "id": "l7-f_v6HXgkY",
        "colab_type": "code",
        "colab": {}
      },
      "source": [
        "def files_in_year(year):\n",
        "  \"\"\"return list of (file, count) tuples sorted by count\n",
        "\n",
        "  param  : year as time window \n",
        "  \"\"\"\n",
        "  ppl_commits = sorted_people_yearly_commits(year)\n",
        "  seen = {}\n",
        "  for i in range(len(ppl_commits)):\n",
        "    df = ppl_commits[i]\n",
        "    file_lists = [eval(l) for l in list(df['files'])]\n",
        "    for l_file in file_lists:\n",
        "      for file in l_file:\n",
        "        try:\n",
        "          seen[file] += 1\n",
        "        except KeyError:\n",
        "          seen[file] = 1 \n",
        "  seen_sorted = sorted(seen.items(), key=lambda x : x[1], reverse=True)\n",
        "  return seen_sorted "
      ],
      "execution_count": null,
      "outputs": []
    },
    {
      "cell_type": "code",
      "metadata": {
        "id": "rqnbnxK9fNzi",
        "colab_type": "code",
        "colab": {
          "base_uri": "https://localhost:8080/",
          "height": 255
        },
        "outputId": "7df344ff-2951-4ecc-be02-c4bb51e189a0"
      },
      "source": [
        "files_in_year(2008)[:10]"
      ],
      "execution_count": null,
      "outputs": [
        {
          "output_type": "execute_result",
          "data": {
            "text/plain": [
              "[('a/framework/include/Kernel.h b/framework/include/Kernel.h', 34),\n",
              " ('a/framework/Makefile b/framework/Makefile', 11),\n",
              " ('a/framework/src/Kernel.C b/framework/src/Kernel.C', 10),\n",
              " ('a/framework/include/materials/Material.h b/framework/include/materials/Material.h',\n",
              "  8),\n",
              " ('a/framework/src/materials/PorousMedia.C b/framework/src/materials/PorousMedia.C',\n",
              "  8),\n",
              " ('a/framework/include/BCFactory.h b/framework/include/BCFactory.h', 7),\n",
              " ('a/framework/src/Moose.C b/framework/src/Moose.C', 7),\n",
              " ('a/framework/include/materials/PorousMedia.h b/framework/include/materials/PorousMedia.h',\n",
              "  5),\n",
              " ('a/framework/include/materials/Constant.h b/framework/include/materials/Constant.h',\n",
              "  4),\n",
              " ('a/framework/Makefile.export b/framework/Makefile.export', 3)]"
            ]
          },
          "metadata": {
            "tags": []
          },
          "execution_count": 92
        }
      ]
    },
    {
      "cell_type": "markdown",
      "metadata": {
        "id": "kWJCBvUxgqBY",
        "colab_type": "text"
      },
      "source": [
        "start computing 2d array of (file_count, user_count) pairs as you step through commit history."
      ]
    },
    {
      "cell_type": "code",
      "metadata": {
        "id": "VoBL55U8kSJj",
        "colab_type": "code",
        "colab": {}
      },
      "source": [
        "def make_indices(year):\n",
        "  \"\"\"return {file : file_rank}\n",
        "     , {person : person_rank}\n",
        "     , list of (file, count) tuples sorted by count\n",
        "     , list of commits per user as panda dataframes (slices of the original) sorted in descending order by rows.\n",
        "\n",
        "  param  : year as time window  \n",
        "  \"\"\"\n",
        "  files   = files_in_year(year)\n",
        "  commits = sorted_people_yearly_commits(year)\n",
        "  f_index_year = {u[0] : files.index(u) for u in files}\n",
        "  ppl_index_year = {list(commits[i]['person'])[0] : i for i in range(len(commits))}\n",
        "  return f_index_year, ppl_index_year, files, commits "
      ],
      "execution_count": null,
      "outputs": []
    },
    {
      "cell_type": "code",
      "metadata": {
        "id": "6Z0WEy1lm1cl",
        "colab_type": "code",
        "colab": {}
      },
      "source": [
        "def make_user_file_mat(year):\n",
        "  \"\"\"return {file : file_rank}\n",
        "     , {person : person_rank}\n",
        "\n",
        "  param : year as time window\n",
        "  \"\"\"\n",
        "  f_index, ppl_index, files, commits = make_indices(year)\n",
        "  file_user_mat = [[0 for i in ppl_index] for f in f_index] \n",
        "  for i in range(len(commits)):\n",
        "    df = commits[i]\n",
        "    file_lists = [eval(l) for l in list(df['files'])]\n",
        "    for file_l in file_lists:\n",
        "      for f in file_l:\n",
        "        if f in f_index:\n",
        "          file_user_mat[f_index[f]][ppl_index[list(df['person'])[0]]] += 1\n",
        "  return f_index, ppl_index, file_user_mat "
      ],
      "execution_count": null,
      "outputs": []
    },
    {
      "cell_type": "code",
      "metadata": {
        "id": "8i7_MMSTTh5U",
        "colab_type": "code",
        "colab": {}
      },
      "source": [
        "f_index, ppl_index, mat = make_user_file_mat(2008)"
      ],
      "execution_count": null,
      "outputs": []
    },
    {
      "cell_type": "code",
      "metadata": {
        "id": "SIFIlXVbjUIN",
        "colab_type": "code",
        "colab": {
          "base_uri": "https://localhost:8080/",
          "height": 54
        },
        "outputId": "26f3977c-0a70-429e-99da-b89eaf786a5f"
      },
      "source": [
        "print(mat[:10])"
      ],
      "execution_count": null,
      "outputs": [
        {
          "output_type": "stream",
          "text": [
            "[[27, 6, 0, 1, 0, 0], [10, 0, 1, 0, 0, 0], [8, 2, 0, 0, 0, 0], [1, 7, 0, 0, 0, 0], [0, 6, 0, 0, 2, 0], [6, 1, 0, 0, 0, 0], [2, 4, 1, 0, 0, 0], [1, 4, 0, 0, 0, 0], [2, 2, 0, 0, 0, 0], [3, 0, 0, 0, 0, 0]]\n"
          ],
          "name": "stdout"
        }
      ]
    },
    {
      "cell_type": "markdown",
      "metadata": {
        "id": "b64sie2Xj_8b",
        "colab_type": "text"
      },
      "source": [
        "Turn above data into pandas dataframe and use [seaborn](https://seaborn.pydata.org/#:~:text=Seaborn%20is%20a%20Python%20data,attractive%20and%20informative%20statistical%20graphics.) and [matplotlib's pyplot](https://matplotlib.org/users/pyplot_tutorial.html) to plot heatmap of top rows and values."
      ]
    },
    {
      "cell_type": "code",
      "metadata": {
        "id": "czZTKKCzSWh1",
        "colab_type": "code",
        "colab": {}
      },
      "source": [
        "def make_pandas_df(year):\n",
        "  f_index, ppl_index, file_user_mat = make_user_file_mat(year)\n",
        "  index_labels  = list(f_index.keys()) \n",
        "  column_labels = list(ppl_index.keys()) \n",
        "  to_return = pd.DataFrame.from_records(file_user_mat, index=index_labels, columns=column_labels)\n",
        "  return to_return "
      ],
      "execution_count": null,
      "outputs": []
    },
    {
      "cell_type": "code",
      "metadata": {
        "id": "1vbtoANgTrRr",
        "colab_type": "code",
        "colab": {}
      },
      "source": [
        "mat_df = make_pandas_df(2009)"
      ],
      "execution_count": null,
      "outputs": []
    },
    {
      "cell_type": "code",
      "metadata": {
        "id": "URJj-feaUnBr",
        "colab_type": "code",
        "colab": {
          "base_uri": "https://localhost:8080/",
          "height": 549
        },
        "outputId": "644c8a4a-438e-4f57-d45c-571eb126689c"
      },
      "source": [
        "heat_df_example = mat_df.head(n=10) \n",
        "heat_df_example"
      ],
      "execution_count": null,
      "outputs": [
        {
          "output_type": "execute_result",
          "data": {
            "text/html": [
              "<div>\n",
              "<style scoped>\n",
              "    .dataframe tbody tr th:only-of-type {\n",
              "        vertical-align: middle;\n",
              "    }\n",
              "\n",
              "    .dataframe tbody tr th {\n",
              "        vertical-align: top;\n",
              "    }\n",
              "\n",
              "    .dataframe thead th {\n",
              "        text-align: right;\n",
              "    }\n",
              "</style>\n",
              "<table border=\"1\" class=\"dataframe\">\n",
              "  <thead>\n",
              "    <tr style=\"text-align: right;\">\n",
              "      <th></th>\n",
              "      <th>b'Cody Permann &lt;cody.permann@inl.gov&gt;'</th>\n",
              "      <th>b'Derek Gaston &lt;derek.gaston@inl.gov&gt;'</th>\n",
              "      <th>b'Ryosuke Park &lt;ryosuke.park@inl.gov&gt;'</th>\n",
              "      <th>b'Vanessa Gertman &lt;vanessa.gertman@inl.gov&gt;'</th>\n",
              "      <th>b'William Taitano &lt;william.taitano@inl.gov&gt;'</th>\n",
              "      <th>b'Samet Kadioglu &lt;samet.kadioglu@inl.gov&gt;'</th>\n",
              "      <th>b'John Peterson &lt;jw.peterson@inl.gov&gt;'</th>\n",
              "      <th>b'Richard Williamson &lt;richard.williamson@inl.gov&gt;'</th>\n",
              "    </tr>\n",
              "  </thead>\n",
              "  <tbody>\n",
              "    <tr>\n",
              "      <th>a/framework/include/Moose.h b/framework/include/Moose.h</th>\n",
              "      <td>6</td>\n",
              "      <td>6</td>\n",
              "      <td>6</td>\n",
              "      <td>0</td>\n",
              "      <td>0</td>\n",
              "      <td>0</td>\n",
              "      <td>0</td>\n",
              "      <td>0</td>\n",
              "    </tr>\n",
              "    <tr>\n",
              "      <th>a/framework/Makefile b/framework/Makefile</th>\n",
              "      <td>3</td>\n",
              "      <td>8</td>\n",
              "      <td>0</td>\n",
              "      <td>0</td>\n",
              "      <td>0</td>\n",
              "      <td>0</td>\n",
              "      <td>0</td>\n",
              "      <td>0</td>\n",
              "    </tr>\n",
              "    <tr>\n",
              "      <th>a/framework/include/Kernel.h b/framework/include/Kernel.h</th>\n",
              "      <td>0</td>\n",
              "      <td>5</td>\n",
              "      <td>2</td>\n",
              "      <td>1</td>\n",
              "      <td>1</td>\n",
              "      <td>0</td>\n",
              "      <td>0</td>\n",
              "      <td>0</td>\n",
              "    </tr>\n",
              "    <tr>\n",
              "      <th>a/framework/src/Moose.C b/framework/src/Moose.C</th>\n",
              "      <td>4</td>\n",
              "      <td>3</td>\n",
              "      <td>0</td>\n",
              "      <td>0</td>\n",
              "      <td>0</td>\n",
              "      <td>1</td>\n",
              "      <td>0</td>\n",
              "      <td>0</td>\n",
              "    </tr>\n",
              "    <tr>\n",
              "      <th>a/framework/src/ComputeJacobian.C b/framework/src/ComputeJacobian.C</th>\n",
              "      <td>1</td>\n",
              "      <td>3</td>\n",
              "      <td>2</td>\n",
              "      <td>0</td>\n",
              "      <td>0</td>\n",
              "      <td>0</td>\n",
              "      <td>1</td>\n",
              "      <td>0</td>\n",
              "    </tr>\n",
              "    <tr>\n",
              "      <th>a/framework/include/AuxFactory.h b/framework/include/AuxFactory.h</th>\n",
              "      <td>0</td>\n",
              "      <td>3</td>\n",
              "      <td>0</td>\n",
              "      <td>4</td>\n",
              "      <td>0</td>\n",
              "      <td>0</td>\n",
              "      <td>0</td>\n",
              "      <td>0</td>\n",
              "    </tr>\n",
              "    <tr>\n",
              "      <th>a/framework/src/Kernel.C b/framework/src/Kernel.C</th>\n",
              "      <td>0</td>\n",
              "      <td>0</td>\n",
              "      <td>4</td>\n",
              "      <td>0</td>\n",
              "      <td>2</td>\n",
              "      <td>0</td>\n",
              "      <td>0</td>\n",
              "      <td>0</td>\n",
              "    </tr>\n",
              "    <tr>\n",
              "      <th>a/framework/include/materials/Material.h b/framework/include/materials/Material.h</th>\n",
              "      <td>3</td>\n",
              "      <td>1</td>\n",
              "      <td>1</td>\n",
              "      <td>0</td>\n",
              "      <td>0</td>\n",
              "      <td>0</td>\n",
              "      <td>0</td>\n",
              "      <td>0</td>\n",
              "    </tr>\n",
              "    <tr>\n",
              "      <th>a/modules/combined/src/base/Elk.C b/modules/combined/src/base/Elk.C</th>\n",
              "      <td>2</td>\n",
              "      <td>3</td>\n",
              "      <td>0</td>\n",
              "      <td>0</td>\n",
              "      <td>0</td>\n",
              "      <td>0</td>\n",
              "      <td>0</td>\n",
              "      <td>0</td>\n",
              "    </tr>\n",
              "    <tr>\n",
              "      <th>a/framework/include/utils/ColumnMajorMatrix.h b/framework/include/utils/ColumnMajorMatrix.h</th>\n",
              "      <td>3</td>\n",
              "      <td>2</td>\n",
              "      <td>0</td>\n",
              "      <td>0</td>\n",
              "      <td>0</td>\n",
              "      <td>0</td>\n",
              "      <td>0</td>\n",
              "      <td>0</td>\n",
              "    </tr>\n",
              "  </tbody>\n",
              "</table>\n",
              "</div>"
            ],
            "text/plain": [
              "                                                    b'Cody Permann <cody.permann@inl.gov>'  ...  b'Richard Williamson <richard.williamson@inl.gov>'\n",
              "a/framework/include/Moose.h b/framework/include...                                       6  ...                                                  0 \n",
              "a/framework/Makefile b/framework/Makefile                                                3  ...                                                  0 \n",
              "a/framework/include/Kernel.h b/framework/includ...                                       0  ...                                                  0 \n",
              "a/framework/src/Moose.C b/framework/src/Moose.C                                          4  ...                                                  0 \n",
              "a/framework/src/ComputeJacobian.C b/framework/s...                                       1  ...                                                  0 \n",
              "a/framework/include/AuxFactory.h b/framework/in...                                       0  ...                                                  0 \n",
              "a/framework/src/Kernel.C b/framework/src/Kernel.C                                        0  ...                                                  0 \n",
              "a/framework/include/materials/Material.h b/fram...                                       3  ...                                                  0 \n",
              "a/modules/combined/src/base/Elk.C b/modules/com...                                       2  ...                                                  0 \n",
              "a/framework/include/utils/ColumnMajorMatrix.h b...                                       3  ...                                                  0 \n",
              "\n",
              "[10 rows x 8 columns]"
            ]
          },
          "metadata": {
            "tags": []
          },
          "execution_count": 108
        }
      ]
    },
    {
      "cell_type": "code",
      "metadata": {
        "id": "75OaAwVlMYtq",
        "colab_type": "code",
        "colab": {}
      },
      "source": [
        "import seaborn as sb \n",
        "import matplotlib.pyplot as plt "
      ],
      "execution_count": null,
      "outputs": []
    },
    {
      "cell_type": "code",
      "metadata": {
        "id": "mDX-3WL-UohS",
        "colab_type": "code",
        "colab": {
          "base_uri": "https://localhost:8080/",
          "height": 957
        },
        "outputId": "4a3f179a-1590-4946-fb42-76df03f1bdba"
      },
      "source": [
        "fig, ax = plt.subplots(figsize=(22,12))\n",
        "sb.heatmap(heat_df_example, annot=True, linewidths=.5)\n",
        "plt.show()"
      ],
      "execution_count": null,
      "outputs": [
        {
          "output_type": "display_data",
          "data": {
            "image/png": "[encoded data removed]",
            "text/plain": [
              "<Figure size 1584x864 with 2 Axes>"
            ]
          },
          "metadata": {
            "tags": [],
            "needs_background": "light"
          }
        }
      ]
    },
    {
      "cell_type": "markdown",
      "metadata": {
        "id": "_kH6C8BVadhQ",
        "colab_type": "text"
      },
      "source": [
        "I suspect that a visualization such as the above can inform us of something like a hiearchy of who can do what in a given project. For example, this codypermann person (in 2009) must have been  important for moose as he seems to be able to heavily touch files that very few (if any) other users ever touch---The Makefile for example (could also probably be interesting to look at how individuals access to \"important\" files have changed over time).\n",
        "\n",
        "**side note: ** something fishy about the number of commits per user must be going on. github differentiates between the \"author\" of a commit, vs its \"committer\" vs its \"pusher\". I suspect this data must be using \"committer\"s. I wonder how different the heatmap would be were we using \"authors\" instead. \n",
        "\n",
        "(*i.e*): the differences between the different types of people being as described by [this github staff answer](https://github.community/t/why-is-my-commit-associated-with-the-wrong-person/10199). I also think that one can probably, with high accuracy, infer teams, and team leaders by analysing the disparities between authors, committers, and pushers.\n",
        "\n",
        "**N.B** it seems to me that patterns such as: [\"bit-twiddling\", \"in the zone\", or \"busy body\"](https://docs.google.com/document/d/1IbkpdkU0mWhCLMp19q0yuhwH4ixwFWRhTlTdU8Okg1s/edit) could probably be infered from above 2d array especially if time dimension was incorporated."
      ]
    },
    {
      "cell_type": "code",
      "metadata": {
        "id": "RL4_ONR1nLZm",
        "colab_type": "code",
        "colab": {}
      },
      "source": [
        ""
      ],
      "execution_count": null,
      "outputs": []
    }
  ]
}