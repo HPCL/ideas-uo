{
 "cells": [
  {
   "cell_type": "markdown",
   "metadata": {},
   "source": [
    "## Install MySQLClient"
   ]
  },
  {
   "cell_type": "code",
   "execution_count": 1,
   "metadata": {},
   "outputs": [
    {
     "name": "stdout",
     "output_type": "stream",
     "text": [
      "Requirement already satisfied: mysqlclient in /home/carter/anaconda3/lib/python3.7/site-packages (2.0.3)\r\n"
     ]
    }
   ],
   "source": [
    "!pip install mysqlclient"
   ]
  },
  {
   "cell_type": "markdown",
   "metadata": {},
   "source": [
    "## Connect to database\n",
    "Credentials are provided by server owner. Accounts only have `SELECT` privileges on authorized database. Note that the connection information in this tutorial may differ from permanent server."
   ]
  },
  {
   "cell_type": "code",
   "execution_count": 2,
   "metadata": {},
   "outputs": [],
   "source": [
    "import MySQLdb"
   ]
  },
  {
   "cell_type": "code",
   "execution_count": 3,
   "metadata": {},
   "outputs": [],
   "source": [
    "db = MySQLdb.connect(host='127.0.0.1', port=3306, user='root', passwd='admin', db='djangostack')"
   ]
  },
  {
   "cell_type": "markdown",
   "metadata": {},
   "source": [
    "### Disconnect from database\n",
    "When done, be sure to call `db.close()` to safely terminate the connection."
   ]
  },
  {
   "cell_type": "markdown",
   "metadata": {},
   "source": [
    "## Database information\n",
    "\n",
    "TODO: Replace with images of model?\n",
    "\n",
    "*MySQLdb Documentation*: https://mysqlclient.readthedocs.io/user_guide.html\n",
    "\n",
    "### Table 1: project\n",
    "1. id\n",
    "2. source_url\n",
    "3. name\n",
    "4. last_updated\t\n",
    "5. fork_of_id\n",
    "\n",
    "### Table 2: author\n",
    "1. id\n",
    "2. username\n",
    "3. email\n",
    "\n",
    "### Table 3*: project_has_author\n",
    "1. id\n",
    "2. author_id\n",
    "3. project_id\n",
    "\n",
    "### Table 4: commit\n",
    "1. id\n",
    "2. datetime\n",
    "3. author_id\n",
    "4. project_id\n",
    "5. message\n",
    "6. hash\n",
    "7. branch\n",
    "\n",
    "### Table 5: diff\n",
    "1. id\n",
    "2. file_path\n",
    "3. language\n",
    "4. commit_id\n",
    "5. body\n",
    "\n",
    "---\n",
    "\n",
    "***Not yet implemented tables, subject to change***\n",
    "\n",
    "### Table 6: person\n",
    "1. id\n",
    "2. alias\n",
    "3. email\n",
    "4. github_username\n",
    "5. gitlab_username\n",
    "\n",
    "### Table 7*: person_has_author\n",
    "1. id\n",
    "2. author_id\n",
    "3. person_id\n",
    "\n",
    "### Table 8: issue\n",
    "\n",
    "### Table 9: issue_comment\n",
    "\n",
    "### Table 10: pull_request\n",
    "\n",
    "\\* Bridge table"
   ]
  },
  {
   "cell_type": "markdown",
   "metadata": {},
   "source": [
    "## Cursor object\n",
    "To execute queries, create a cursor. Similar to the connection, be sure to call `cursor.close()` when you are done. A cursor can execute multiple queries so no need to create one for each query."
   ]
  },
  {
   "cell_type": "code",
   "execution_count": 4,
   "metadata": {},
   "outputs": [],
   "source": [
    "cursor = db.cursor()"
   ]
  },
  {
   "cell_type": "markdown",
   "metadata": {},
   "source": [
    "## Example 1: Viewing projects (and other tables)\n"
   ]
  },
  {
   "cell_type": "code",
   "execution_count": 5,
   "metadata": {},
   "outputs": [
    {
     "data": {
      "text/plain": [
       "(20,\n",
       " 'https://github.com/spotify/dockerfile-maven.git',\n",
       " 'dockerfile-maven',\n",
       " datetime.datetime(2021, 2, 2, 1, 43, 8),\n",
       " None)"
      ]
     },
     "execution_count": 5,
     "metadata": {},
     "output_type": "execute_result"
    }
   ],
   "source": [
    "query = 'select * from project' # MySQL keywords are case-insensitive\n",
    "cursor.execute(query) # Run the query\n",
    "cursor.fetchone() # alternatively, use fetchall(), fetchmany(n)"
   ]
  },
  {
   "cell_type": "markdown",
   "metadata": {},
   "source": [
    "## Example 2: Viewing authors associated with a project"
   ]
  },
  {
   "cell_type": "code",
   "execution_count": 6,
   "metadata": {},
   "outputs": [
    {
     "data": {
      "text/plain": [
       "(('Carter Perkins', 'cartersperkins@gmail.com'),\n",
       " ('Bosco Ndemeye', 'ndemeye@cs.uoregon.edu'),\n",
       " ('Jason Prideaux', 'jprideau@cs.uoregon.edu'),\n",
       " ('Boyana Norris', 'brnorris03@gmail.com'),\n",
       " ('Boyana Norris', 'brnorris03@users.noreply.github.com'),\n",
       " ('Boyana Norris', 'norris@cs.uoregon.edu'),\n",
       " ('fickas', 'fickas@cs.uoregon.edu'),\n",
       " ('Stephen Fickas', 'fickas@cs.uoregon.edu'))"
      ]
     },
     "execution_count": 6,
     "metadata": {},
     "output_type": "execute_result"
    }
   ],
   "source": [
    "url = 'https://github.com/HPCL/ideas-uo.git'\n",
    "query = '''select username, email \n",
    "from author a join project_has_author pha on(a.id = pha.author_id) join project p on(pha.project_id = p.id)\n",
    "where source_url = %s\n",
    "'''\n",
    "cursor.execute(query, (url,))\n",
    "cursor.fetchall()"
   ]
  },
  {
   "cell_type": "markdown",
   "metadata": {},
   "source": [
    "## Example 3: Viewing commits by an author in a project"
   ]
  },
  {
   "cell_type": "code",
   "execution_count": 7,
   "metadata": {},
   "outputs": [
    {
     "data": {
      "text/plain": [
       "((685,\n",
       "  datetime.datetime(2021, 2, 1, 19, 53, 2),\n",
       "  'Carter Perkins',\n",
       "  'ideas-uo',\n",
       "  'django update',\n",
       "  'e6b6668bd11cf9133f312c03f260cc1807320c69',\n",
       "  'master'),\n",
       " (686,\n",
       "  datetime.datetime(2021, 2, 1, 19, 50, 54),\n",
       "  'Carter Perkins',\n",
       "  'ideas-uo',\n",
       "  'db update script changes',\n",
       "  '47889b75a0307111cc423662b7a555477e431e2c',\n",
       "  'master'),\n",
       " (687,\n",
       "  datetime.datetime(2021, 1, 3, 19, 8, 41),\n",
       "  'Carter Perkins',\n",
       "  'ideas-uo',\n",
       "  'Init Django database files',\n",
       "  'fbc753c834566d96d36b68058f68bb9f82e0fea4',\n",
       "  'master'))"
      ]
     },
     "execution_count": 7,
     "metadata": {},
     "output_type": "execute_result"
    }
   ],
   "source": [
    "url = 'https://github.com/HPCL/ideas-uo.git'\n",
    "name = 'Carter Perkins'\n",
    "query = '''select c.id, c.datetime, a.username, p.name, c.message, c.hash, c.branch\n",
    "from commit c join author a on(c.author_id = a.id) join project p on(c.project_id = p.id)\n",
    "where username = %s and p.source_url = %s'''\n",
    "cursor.execute(query, (name, url,))\n",
    "cursor.fetchmany(3)"
   ]
  },
  {
   "cell_type": "markdown",
   "metadata": {},
   "source": [
    "## Example 4: Viewing commits between two dates in a project"
   ]
  },
  {
   "cell_type": "code",
   "execution_count": 8,
   "metadata": {},
   "outputs": [],
   "source": [
    "import datetime"
   ]
  },
  {
   "cell_type": "code",
   "execution_count": 9,
   "metadata": {},
   "outputs": [],
   "source": [
    "start = datetime.datetime(year=2020, month=11, day=1)\n",
    "end = datetime.datetime(year=2020, month=12, day=1)"
   ]
  },
  {
   "cell_type": "code",
   "execution_count": 10,
   "metadata": {},
   "outputs": [
    {
     "data": {
      "text/plain": [
       "((datetime.datetime(2020, 11, 4, 14, 17, 23),\n",
       "  'Implementation for reading any GitHub repo',\n",
       "  'Carter Perkins'),\n",
       " (datetime.datetime(2020, 11, 15, 11, 27, 30),\n",
       "  'add data to use with lammps high_churn pattern notebook',\n",
       "  'Bosco Ndemeye'),\n",
       " (datetime.datetime(2020, 11, 13, 10, 0, 48),\n",
       "  'Fixing issue of missing diff info.',\n",
       "  'Jason Prideaux'))"
      ]
     },
     "execution_count": 10,
     "metadata": {},
     "output_type": "execute_result"
    }
   ],
   "source": [
    "url = 'https://github.com/HPCL/ideas-uo.git'\n",
    "query = '''select c.datetime, c.message, a.username\n",
    "from commit c join author a on(c.author_id = a.id) join project p on(c.project_id = p.id)\n",
    "where (datetime between %s and %s) and source_url = %s'''\n",
    "cursor.execute(query, (start, end, url,))\n",
    "cursor.fetchall()"
   ]
  },
  {
   "cell_type": "markdown",
   "metadata": {},
   "source": [
    "## Example 5: Viewing diffs for a commit"
   ]
  },
  {
   "cell_type": "code",
   "execution_count": 11,
   "metadata": {},
   "outputs": [
    {
     "data": {
      "text/plain": [
       "('ideas-uo',\n",
       " 'fbc753c834566d96d36b68058f68bb9f82e0fea4',\n",
       " 'Init Django database files',\n",
       " 'database/README.md',\n",
       " 'PLACEHOLDER',\n",
       " 687,\n",
       " \"+# Database Information\\n+\\n+## Directory Structure                   \\n+\\n+| Name          | Description                                                         |\\n+| ------------  | ------------------------------------------------------------------- | \\n+| `django/`     | Django project and corresponding applications for the database.     |\\n+| `interface/`  | Script for interfacing with database. Use this file in your script. |\\n+| `resources/`  | ER diagrams, website description blurbs, and similar files.         |\\n+\\n+## Interface Usage\\n+\\n+***NOT YET READY***\\n+Built to run on Google Colab (Python 3.6.9). Make sure the packages in `interface/requirements.txt` are installed. Then copy all the python files in `interface/` to your current working directory. \\n+\\n+```python\\n+\\n+from db_interface import DatabaseInterface\\n+\\n+# Add/update a git project.\\n+interface = DatabaseInterface()\\n+url = 'https://github.com/HPCL/ideas-uo.git'\\n+interface.add_project(url)\\n+```\\n+\\n+## Django Notable Changes\\n+\\n+| Source File               | Change                                                               |\\n+| ------------------------- | ------------------------------------------------------------------------------------------------------------------------------------------- |\\n+| `IDEAS/IDEAS/settings.py` | Add `'database'` to `INSTALLED_APPS`. Connects database application to the project. Does not automatically occur when running `migrate.py`. |\\n+| `IDEAS/IDEAS/settings.py` | May want to change `SECRET_KEY` once closer to use.                                                                                         |\\n+\")"
      ]
     },
     "execution_count": 11,
     "metadata": {},
     "output_type": "execute_result"
    }
   ],
   "source": [
    "url = 'https://github.com/HPCL/ideas-uo.git'\n",
    "name = 'Carter Perkins'\n",
    "file = 'database/README.md'\n",
    "query = '''select p.name, c.hash, c.message, d.file_path, d.language, d.commit_id, d.body\n",
    "from diff d join commit c on(d.commit_id = c.id) join project p on (c.project_id = p.id)\n",
    "where source_url = %s and d.file_path = %s'''\n",
    "cursor.execute(query, (url, file,))\n",
    "cursor.fetchone()"
   ]
  },
  {
   "cell_type": "code",
   "execution_count": 12,
   "metadata": {},
   "outputs": [],
   "source": [
    "# Don't forget!\n",
    "cursor.close()\n",
    "db.close()"
   ]
  }
 ],
 "metadata": {
  "kernelspec": {
   "display_name": "Python 3",
   "language": "python",
   "name": "python3"
  },
  "language_info": {
   "codemirror_mode": {
    "name": "ipython",
    "version": 3
   },
   "file_extension": ".py",
   "mimetype": "text/x-python",
   "name": "python",
   "nbconvert_exporter": "python",
   "pygments_lexer": "ipython3",
   "version": "3.7.4"
  }
 },
 "nbformat": 4,
 "nbformat_minor": 2
}
