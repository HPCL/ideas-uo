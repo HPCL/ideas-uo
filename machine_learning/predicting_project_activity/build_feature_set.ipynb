{
 "cells": [
  {
   "cell_type": "markdown",
   "metadata": {},
   "source": [
    "# What this notebook does\n",
    "\n",
    "It assumes that a separate notebook has built a csv table where each row is a commit event. The table is sorted by date. The goal of this notebook is to load that table and build a day-by-day feature set represented by a list. Each item in the list is a feature. A feature has at least these first 3 values: day_name as int, month as int, day_of_month as int. It may have further values, e.g., number of commits that day, number of lines of code changed that day.\n",
    "\n",
    "In essence, the code below inverts a table by commits to a list by days."
   ]
  },
  {
   "cell_type": "markdown",
   "metadata": {},
   "source": [
    "## Assumptions of this notebook\n",
    "\n",
    "1. The code and notebooks we will be using, including this one, are in the following folder: /ideas-uo/machine_learning/predicting_project_activity\n",
    "\n",
    "2. We expect to be able to execute this code: sorted_table = pd.read_csv('sorted_'+project+'_table.csv')  \n",
    "\n",
    "3. Final result will be written to '/ideas-uo/machine_learning/predicting_project_activity' + 'features_by_day_'+project+'.txt'.\n",
    "\n",
    "4. This notebook should be started in folder /ideas-uo/machine_learning/predicting_project_activity."
   ]
  },
  {
   "cell_type": "markdown",
   "metadata": {},
   "source": [
    "## Parameters for this notebook"
   ]
  },
  {
   "cell_type": "code",
   "execution_count": 1,
   "metadata": {},
   "outputs": [],
   "source": [
    "project = 'spack'"
   ]
  },
  {
   "cell_type": "markdown",
   "metadata": {},
   "source": [
    "## Read the table based on commits\n",
    "\n",
    "Each row represents a separate commit."
   ]
  },
  {
   "cell_type": "code",
   "execution_count": 2,
   "metadata": {
    "format": "row"
   },
   "outputs": [],
   "source": [
    "import pandas as pd"
   ]
  },
  {
   "cell_type": "code",
   "execution_count": 3,
   "metadata": {},
   "outputs": [],
   "source": [
    "sorted_table = pd.read_csv('sorted_'+project+'_table.csv')  #produced prior to this notebook"
   ]
  },
  {
   "cell_type": "code",
   "execution_count": 4,
   "metadata": {},
   "outputs": [
    {
     "data": {
      "text/plain": [
       "10913"
      ]
     },
     "execution_count": 4,
     "metadata": {},
     "output_type": "execute_result"
    }
   ],
   "source": [
    "len(sorted_table)"
   ]
  },
  {
   "cell_type": "code",
   "execution_count": 5,
   "metadata": {
    "format": "row"
   },
   "outputs": [
    {
     "data": {
      "text/html": [
       "<div>\n",
       "<style scoped>\n",
       "    .dataframe tbody tr th:only-of-type {\n",
       "        vertical-align: middle;\n",
       "    }\n",
       "\n",
       "    .dataframe tbody tr th {\n",
       "        vertical-align: top;\n",
       "    }\n",
       "\n",
       "    .dataframe thead th {\n",
       "        text-align: right;\n",
       "    }\n",
       "</style>\n",
       "<table border=\"1\" class=\"dataframe\">\n",
       "  <thead>\n",
       "    <tr style=\"text-align: right;\">\n",
       "      <th></th>\n",
       "      <th>day_name</th>\n",
       "      <th>day_of_month</th>\n",
       "      <th>doy</th>\n",
       "      <th>files</th>\n",
       "      <th>message</th>\n",
       "      <th>month</th>\n",
       "      <th>name</th>\n",
       "      <th>utc_offset</th>\n",
       "      <th>year</th>\n",
       "    </tr>\n",
       "  </thead>\n",
       "  <tbody>\n",
       "    <tr>\n",
       "      <th>0</th>\n",
       "      <td>Wednesday</td>\n",
       "      <td>13</td>\n",
       "      <td>44</td>\n",
       "      <td>[b'.gitignore', b'bin/spack']</td>\n",
       "      <td>Initial version of spack with one package:...</td>\n",
       "      <td>2</td>\n",
       "      <td>b'Todd Gamblin &lt;tgamblin@llnl.gov&gt;'</td>\n",
       "      <td>57600</td>\n",
       "      <td>2013</td>\n",
       "    </tr>\n",
       "    <tr>\n",
       "      <th>1</th>\n",
       "      <td>Monday</td>\n",
       "      <td>18</td>\n",
       "      <td>49</td>\n",
       "      <td>[b'4 +1,4 @@']</td>\n",
       "      <td>Require python2.7\\n</td>\n",
       "      <td>2</td>\n",
       "      <td>b'Todd Gamblin &lt;tgamblin@llnl.gov&gt;'</td>\n",
       "      <td>57600</td>\n",
       "      <td>2013</td>\n",
       "    </tr>\n",
       "    <tr>\n",
       "      <th>2</th>\n",
       "      <td>Monday</td>\n",
       "      <td>18</td>\n",
       "      <td>49</td>\n",
       "      <td>[b',7 +19,7 @@ import spack']</td>\n",
       "      <td>Dependencies now work.  Added libelf, libd...</td>\n",
       "      <td>2</td>\n",
       "      <td>b'Todd Gamblin &lt;tgamblin@llnl.gov&gt;'</td>\n",
       "      <td>57600</td>\n",
       "      <td>2013</td>\n",
       "    </tr>\n",
       "    <tr>\n",
       "      <th>3</th>\n",
       "      <td>Tuesday</td>\n",
       "      <td>19</td>\n",
       "      <td>50</td>\n",
       "      <td>[b',7 +73,8 @@ for var in [\"LD_LIBRARY_PATH\", ...</td>\n",
       "      <td>Fixed passing of dependence prefixes to cc...</td>\n",
       "      <td>2</td>\n",
       "      <td>b'Todd Gamblin &lt;tgamblin@llnl.gov&gt;'</td>\n",
       "      <td>57600</td>\n",
       "      <td>2013</td>\n",
       "    </tr>\n",
       "    <tr>\n",
       "      <th>4</th>\n",
       "      <td>Tuesday</td>\n",
       "      <td>19</td>\n",
       "      <td>50</td>\n",
       "      <td>[b'28 +4,29 @@ import os']</td>\n",
       "      <td>Fixes, remove parallel build for libdwarf ...</td>\n",
       "      <td>2</td>\n",
       "      <td>b'Todd Gamblin &lt;tgamblin@llnl.gov&gt;'</td>\n",
       "      <td>57600</td>\n",
       "      <td>2013</td>\n",
       "    </tr>\n",
       "  </tbody>\n",
       "</table>\n",
       "</div>"
      ],
      "text/plain": [
       "    day_name  day_of_month  doy  \\\n",
       "0  Wednesday            13   44   \n",
       "1     Monday            18   49   \n",
       "2     Monday            18   49   \n",
       "3    Tuesday            19   50   \n",
       "4    Tuesday            19   50   \n",
       "\n",
       "                                               files  \\\n",
       "0                      [b'.gitignore', b'bin/spack']   \n",
       "1                                     [b'4 +1,4 @@']   \n",
       "2                      [b',7 +19,7 @@ import spack']   \n",
       "3  [b',7 +73,8 @@ for var in [\"LD_LIBRARY_PATH\", ...   \n",
       "4                         [b'28 +4,29 @@ import os']   \n",
       "\n",
       "                                             message  month  \\\n",
       "0      Initial version of spack with one package:...      2   \n",
       "1                                Require python2.7\\n      2   \n",
       "2      Dependencies now work.  Added libelf, libd...      2   \n",
       "3      Fixed passing of dependence prefixes to cc...      2   \n",
       "4      Fixes, remove parallel build for libdwarf ...      2   \n",
       "\n",
       "                                  name  utc_offset  year  \n",
       "0  b'Todd Gamblin <tgamblin@llnl.gov>'       57600  2013  \n",
       "1  b'Todd Gamblin <tgamblin@llnl.gov>'       57600  2013  \n",
       "2  b'Todd Gamblin <tgamblin@llnl.gov>'       57600  2013  \n",
       "3  b'Todd Gamblin <tgamblin@llnl.gov>'       57600  2013  \n",
       "4  b'Todd Gamblin <tgamblin@llnl.gov>'       57600  2013  "
      ]
     },
     "execution_count": 5,
     "metadata": {},
     "output_type": "execute_result"
    }
   ],
   "source": [
    "sorted_table.head()"
   ]
  },
  {
   "cell_type": "code",
   "execution_count": 6,
   "metadata": {},
   "outputs": [],
   "source": [
    "import datetime\n",
    "from dateutil import parser\n"
   ]
  },
  {
   "cell_type": "markdown",
   "metadata": {},
   "source": [
    "## Here is starting date"
   ]
  },
  {
   "cell_type": "code",
   "execution_count": 7,
   "metadata": {},
   "outputs": [
    {
     "data": {
      "text/plain": [
       "datetime.date(2013, 2, 13)"
      ]
     },
     "execution_count": 7,
     "metadata": {},
     "output_type": "execute_result"
    }
   ],
   "source": [
    "starting_year = sorted_table.loc[0,'year']\n",
    "starting_month = sorted_table.loc[0,'month']\n",
    "starting_day = sorted_table.loc[0,'day_of_month']\n",
    "starting_obj = datetime.date(starting_year, starting_month, starting_day)\n",
    "starting_obj"
   ]
  },
  {
   "cell_type": "markdown",
   "metadata": {},
   "source": [
    "## Here is ending date"
   ]
  },
  {
   "cell_type": "code",
   "execution_count": 8,
   "metadata": {},
   "outputs": [
    {
     "data": {
      "text/plain": [
       "datetime.date(2019, 7, 3)"
      ]
     },
     "execution_count": 8,
     "metadata": {},
     "output_type": "execute_result"
    }
   ],
   "source": [
    "ending_year = sorted_table.iloc[-1]['year']\n",
    "ending_month = sorted_table.iloc[-1]['month']\n",
    "ending_day = sorted_table.iloc[-1]['day_of_month']\n",
    "ending_obj = datetime.date(ending_year, ending_month, ending_day)\n",
    "ending_obj"
   ]
  },
  {
   "cell_type": "markdown",
   "metadata": {},
   "source": [
    "We should end up with a list of this length, i.e., a list item for each day."
   ]
  },
  {
   "cell_type": "code",
   "execution_count": 9,
   "metadata": {},
   "outputs": [
    {
     "data": {
      "text/plain": [
       "2331"
      ]
     },
     "execution_count": 9,
     "metadata": {},
     "output_type": "execute_result"
    }
   ],
   "source": [
    "td = ending_obj - starting_obj\n",
    "td.days"
   ]
  },
  {
   "cell_type": "markdown",
   "metadata": {},
   "source": [
    "## wrangling code\n",
    "\n",
    "Goal: for everyday between starting and ending dates, create a feature for that day.\n",
    "\n",
    "Actual method: loop through rows of commit table. Keep values needed to (a) count rows with same date, (b) count days skipped leading to a sequence of 0 entries, and (c) determine when switch years so can reset values."
   ]
  },
  {
   "cell_type": "code",
   "execution_count": 10,
   "metadata": {},
   "outputs": [],
   "source": [
    "current_day = int(sorted_table.loc[0,'doy'])  #day of year: 1-365 (or 366 on leap years)\n",
    "current_year = sorted_table.loc[0,'year']\n",
    "features_by_day = []           #where final sequence will be kept\n",
    "dnint = {'Monday':1, 'Tuesday':2, 'Wednesday':3, 'Thursday':4, 'Friday':5, 'Saturday':6, 'Sunday':7}\n",
    "day_tracker = {}  #use to track values accumulating for a single day\n",
    "day_tracker_keys = ['commit', 'locc']\n",
    "\n",
    "#Here is where extra feature values are defined. Have to be based on columns in the commit table\n",
    "for key in day_tracker_keys:\n",
    "    day_tracker[key] = 0\n",
    "\n",
    "for i in range(len(sorted_table)):\n",
    "\n",
    "    #pull out date pieces\n",
    "    year = int(sorted_table.loc[i,'year'])\n",
    "    day_of_year = int(sorted_table.loc[i,'doy'])\n",
    "    \n",
    "    #check if change years, e.g., change from 2013 to 2014\n",
    "    if year!=current_year:\n",
    "        current_year = year\n",
    "        diff = day_of_year + (365 - current_day)  #account for skipped days at end of old year\n",
    "    else:\n",
    "        diff = day_of_year - current_day\n",
    "    \n",
    "    #diff now holds number of days incremented\n",
    "    \n",
    "    #No diff so same day - increment all tracked values for the day\n",
    "    if diff==0:\n",
    "        for key in day_tracker_keys:\n",
    "            day_tracker[key] += 1\n",
    "        continue\n",
    "    \n",
    "    #Now things get interesting. We need to move back in time to beginning edge of gap. If gap is size diff,\n",
    "    #then move back diff days. That will give us the date before the gap begins.\n",
    "    \n",
    "    #First build date object - easier to do arithmetic on. This is date on ending edge of gap.\n",
    "    month = int(sorted_table.loc[i,'month'])\n",
    "    day_of_month = int(sorted_table.loc[i,'day_of_month'])\n",
    "    end_gap_date = datetime.datetime(year, month, day_of_month)   #current row we are looking at\n",
    "    \n",
    "    begin_gap_date = end_gap_date - datetime.timedelta(days=diff) #looking back in time\n",
    "    \n",
    "    #record feature values for begin gap date\n",
    "    prior_day_name = dnint[begin_gap_date.strftime('%A')]  #convert to int 1-7\n",
    "    prior_month = begin_gap_date.month\n",
    "    prior_day_of_month = begin_gap_date.day\n",
    "\n",
    "    #build features list\n",
    "    date_features = [prior_day_name, prior_month, prior_day_of_month]  #always include date data\n",
    "    more_features = [tup[1]   for tup in sorted(day_tracker.items())]\n",
    "    features_by_day.append(date_features+more_features)\n",
    "    \n",
    "    #Whew. Took care of recording data for the beginning data of gap.\n",
    "    \n",
    "    #diff = 1 so tomorrow is here :) Just reset things since no dates skipped\n",
    "    if diff == 1:\n",
    "        for key in day_tracker_keys:\n",
    "            day_tracker[key] = 1\n",
    "        current_day = day_of_year\n",
    "        continue\n",
    "    \n",
    "    #we have a gap! need to fill in with 0 feature values for each day in gap\n",
    "    if diff > 1:\n",
    "        date_obj = begin_gap_date\n",
    "        for key in day_tracker_keys:  #0 out the tracked items\n",
    "            day_tracker[key] = 0\n",
    "        for i in range(diff-1):\n",
    "            date_obj += datetime.timedelta(days=1)  #handles month change overs\n",
    "            day_name = dnint[date_obj.strftime('%A')]\n",
    "            date_features = [day_name, date_obj.month, date_obj.day]\n",
    "            more_features = [tup[1] for tup in sorted(day_tracker.items())]  #should all be 0\n",
    "            features_by_day.append(date_features+more_features) \n",
    "        day_tracker['commits'] = 1  #record the new one we just saw for data at end of gap\n",
    "        current_day = day_of_year  #now on new date\n",
    "        continue\n",
    "    \n",
    "    print((i, day_of_year, year, diff))\n",
    "    raise Exception  #should never get here\n",
    "\n",
    "#check if have any values accumulated.\n",
    "tracking_values = [tup[1] for tup in sorted(day_tracker.items())]\n",
    "if any(tracking_values):\n",
    "    date_features = [prior_day_name, prior_month, prior_day_of_month]\n",
    "    more_features = tracking_values\n",
    "    features_by_day.append(date_features+more_features)  "
   ]
  },
  {
   "cell_type": "code",
   "execution_count": 11,
   "metadata": {},
   "outputs": [
    {
     "data": {
      "text/plain": [
       "2331"
      ]
     },
     "execution_count": 11,
     "metadata": {},
     "output_type": "execute_result"
    }
   ],
   "source": [
    "len(features_by_day)"
   ]
  },
  {
   "cell_type": "code",
   "execution_count": 12,
   "metadata": {},
   "outputs": [
    {
     "data": {
      "text/plain": [
       "[[3, 2, 13, 1],\n",
       " [4, 2, 14, 0],\n",
       " [5, 2, 15, 0],\n",
       " [6, 2, 16, 0],\n",
       " [7, 2, 17, 0],\n",
       " [1, 2, 18, 2],\n",
       " [2, 2, 19, 3],\n",
       " [3, 2, 20, 2],\n",
       " [4, 2, 21, 6],\n",
       " [5, 2, 22, 1]]"
      ]
     },
     "execution_count": 12,
     "metadata": {},
     "output_type": "execute_result"
    }
   ],
   "source": [
    "'''\n",
    "[[3, 2, 13, 1],\n",
    " [4, 2, 14, 0],\n",
    " [5, 2, 15, 0],\n",
    " [6, 2, 16, 0],\n",
    " [7, 2, 17, 0],\n",
    " [1, 2, 18, 2],\n",
    " [2, 2, 19, 3],\n",
    " [3, 2, 20, 2],\n",
    " [4, 2, 21, 6],\n",
    " [5, 2, 22, 1]]\n",
    " '''\n",
    "features_by_day[:10]  #3=wednesday"
   ]
  },
  {
   "cell_type": "code",
   "execution_count": 13,
   "metadata": {},
   "outputs": [],
   "source": [
    "just_commits = [rec[3] for rec in features_by_day]"
   ]
  },
  {
   "cell_type": "code",
   "execution_count": 14,
   "metadata": {},
   "outputs": [
    {
     "data": {
      "text/plain": [
       "49"
      ]
     },
     "execution_count": 14,
     "metadata": {},
     "output_type": "execute_result"
    }
   ],
   "source": [
    "max(just_commits)  #49"
   ]
  },
  {
   "cell_type": "code",
   "execution_count": 15,
   "metadata": {
    "scrolled": true
   },
   "outputs": [
    {
     "name": "stdout",
     "output_type": "stream",
     "text": [
      "(0, 0.3341913341913342)\n",
      "(1, 0.09523809523809523)\n",
      "(2, 0.08065208065208065)\n",
      "(3, 0.06992706992706993)\n",
      "(4, 0.05405405405405406)\n",
      "(5, 0.05148005148005148)\n",
      "(6, 0.049335049335049334)\n",
      "(7, 0.03517803517803518)\n",
      "(8, 0.03088803088803089)\n",
      "(9, 0.029601029601029602)\n",
      "(10, 0.02702702702702703)\n",
      "(11, 0.02145002145002145)\n",
      "(12, 0.01673101673101673)\n",
      "(13, 0.015873015873015872)\n",
      "(14, 0.013728013728013728)\n",
      "(15, 0.010725010725010725)\n",
      "(16, 0.012012012012012012)\n",
      "(17, 0.006864006864006864)\n",
      "(18, 0.005577005577005577)\n",
      "(19, 0.006435006435006435)\n",
      "(20, 0.00429000429000429)\n",
      "(21, 0.005148005148005148)\n",
      "(22, 0.002574002574002574)\n",
      "(23, 0.001716001716001716)\n",
      "(24, 0.002145002145002145)\n",
      "(25, 0.003432003432003432)\n",
      "(26, 0.001716001716001716)\n",
      "(27, 0.000429000429000429)\n",
      "(28, 0.0)\n",
      "(29, 0.002145002145002145)\n",
      "(30, 0.001716001716001716)\n",
      "(31, 0.001287001287001287)\n",
      "(32, 0.000429000429000429)\n",
      "(33, 0.0)\n",
      "(34, 0.000429000429000429)\n",
      "(35, 0.000858000858000858)\n",
      "(36, 0.000429000429000429)\n",
      "(37, 0.001287001287001287)\n",
      "(38, 0.000858000858000858)\n",
      "(39, 0.0)\n",
      "(40, 0.0)\n",
      "(41, 0.000429000429000429)\n",
      "(42, 0.0)\n",
      "(43, 0.0)\n",
      "(44, 0.000429000429000429)\n",
      "(45, 0.000429000429000429)\n",
      "(46, 0.0)\n",
      "(47, 0.000429000429000429)\n",
      "(48, 0.0)\n",
      "(49, 0.000429000429000429)\n"
     ]
    }
   ],
   "source": [
    "n = len(just_commits)\n",
    "for i in range(max(just_commits)+1):\n",
    "    print((i, just_commits.count(i)/n))"
   ]
  },
  {
   "cell_type": "code",
   "execution_count": 16,
   "metadata": {},
   "outputs": [
    {
     "ename": "NameError",
     "evalue": "name 'fee_fie_foo' is not defined",
     "output_type": "error",
     "traceback": [
      "\u001b[0;31m---------------------------------------------------------------------------\u001b[0m",
      "\u001b[0;31mNameError\u001b[0m                                 Traceback (most recent call last)",
      "\u001b[0;32m<ipython-input-16-4124d2a20671>\u001b[0m in \u001b[0;36m<module>\u001b[0;34m()\u001b[0m\n\u001b[0;32m----> 1\u001b[0;31m \u001b[0mfee_fie_foo\u001b[0m\u001b[0;34m(\u001b[0m\u001b[0;34m)\u001b[0m  \u001b[0;31m#break here from Run All to see if want to save\u001b[0m\u001b[0;34m\u001b[0m\u001b[0m\n\u001b[0m",
      "\u001b[0;31mNameError\u001b[0m: name 'fee_fie_foo' is not defined"
     ]
    }
   ],
   "source": [
    "fee_fie_foo()  #break here from Run All to see if want to save"
   ]
  },
  {
   "cell_type": "code",
   "execution_count": 17,
   "metadata": {},
   "outputs": [
    {
     "data": {
      "text/plain": [
       "True"
      ]
     },
     "execution_count": 17,
     "metadata": {},
     "output_type": "execute_result"
    }
   ],
   "source": [
    "import json\n",
    "with open('features_by_day_'+project+'.txt', 'w') as f:\n",
    "    f.write(json.dumps(features_by_day))\n",
    "\n",
    "#Now read the file back into a Python list object\n",
    "with open('features_by_day_'+project+'.txt', 'r') as f:\n",
    "    a = json.loads(f.read())\n",
    "    \n",
    "len(a) == len(features_by_day)"
   ]
  },
  {
   "cell_type": "code",
   "execution_count": null,
   "metadata": {},
   "outputs": [],
   "source": [
    "len(a)"
   ]
  },
  {
   "cell_type": "code",
   "execution_count": null,
   "metadata": {},
   "outputs": [],
   "source": []
  }
 ],
 "metadata": {
  "kernelspec": {
   "display_name": "Python 3",
   "language": "python",
   "name": "python3"
  },
  "language_info": {
   "codemirror_mode": {
    "name": "ipython",
    "version": 3
   },
   "file_extension": ".py",
   "mimetype": "text/x-python",
   "name": "python",
   "nbconvert_exporter": "python",
   "pygments_lexer": "ipython3",
   "version": "3.6.4"
  },
  "toc": {
   "base_numbering": 1,
   "nav_menu": {},
   "number_sections": true,
   "sideBar": true,
   "skip_h1_title": false,
   "title_cell": "Table of Contents",
   "title_sidebar": "Contents",
   "toc_cell": false,
   "toc_position": {},
   "toc_section_display": true,
   "toc_window_display": false
  }
 },
 "nbformat": 4,
 "nbformat_minor": 2
}
