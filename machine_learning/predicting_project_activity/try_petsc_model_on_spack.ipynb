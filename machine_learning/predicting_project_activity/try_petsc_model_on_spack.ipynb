{
  "nbformat": 4,
  "nbformat_minor": 0,
  "metadata": {
    "colab": {
      "name": "try_petsc_model_on_spack.ipynb",
      "version": "0.3.2",
      "provenance": [],
      "collapsed_sections": []
    },
    "language_info": {
      "codemirror_mode": {
        "name": "ipython",
        "version": 3
      },
      "file_extension": ".py",
      "mimetype": "text/x-python",
      "name": "python",
      "nbconvert_exporter": "python",
      "pygments_lexer": "ipython3",
      "version": "3.6.4"
    },
    "kernelspec": {
      "display_name": "Python 3",
      "language": "python",
      "name": "python3"
    }
  },
  "cells": [
    {
      "cell_type": "markdown",
      "metadata": {
        "id": "lFY1vl48w4Em",
        "colab_type": "text"
      },
      "source": [
        "# What this notebook does\n",
        "\n",
        "Loads model built with petsc data and uses it on spack test data.\n",
        "\n",
        "  \n"
      ]
    },
    {
      "cell_type": "code",
      "metadata": {
        "colab_type": "code",
        "outputId": "87b9a2b6-0dcd-48a6-c374-4507c14d80c0",
        "id": "IudN3JiuQGBy",
        "colab": {
          "base_uri": "https://localhost:8080/",
          "height": 34
        }
      },
      "source": [
        "\n",
        "\n",
        "from google.colab import drive\n",
        "drive.mount('/content/gdrive')"
      ],
      "execution_count": 1,
      "outputs": [
        {
          "output_type": "stream",
          "text": [
            "Drive already mounted at /content/gdrive; to attempt to forcibly remount, call drive.mount(\"/content/gdrive\", force_remount=True).\n"
          ],
          "name": "stdout"
        }
      ]
    },
    {
      "cell_type": "markdown",
      "metadata": {
        "id": "-aYLqYY0XILW",
        "colab_type": "text"
      },
      "source": [
        "## Load petsc-trained model"
      ]
    },
    {
      "cell_type": "code",
      "metadata": {
        "id": "OO4mKMKwQbFJ",
        "colab_type": "code",
        "colab": {}
      },
      "source": [
        "model_path = '/content/gdrive/My Drive/model_results/'+'petsc_ann_model_08_01_2019_20_56_34'+'.h5'"
      ],
      "execution_count": 0,
      "outputs": []
    },
    {
      "cell_type": "code",
      "metadata": {
        "id": "l4cVqEX8P4xd",
        "colab_type": "code",
        "colab": {
          "base_uri": "https://localhost:8080/",
          "height": 255
        },
        "outputId": "68284eab-b039-4a68-f329-e7a9eb75d1f9"
      },
      "source": [
        "from keras.models import load_model\n",
        "\n",
        "model = load_model(model_path)"
      ],
      "execution_count": 5,
      "outputs": [
        {
          "output_type": "stream",
          "text": [
            "WARNING: Logging before flag parsing goes to stderr.\n",
            "W0801 22:23:07.899361 139744477968256 deprecation_wrapper.py:119] From /usr/local/lib/python3.6/dist-packages/keras/backend/tensorflow_backend.py:517: The name tf.placeholder is deprecated. Please use tf.compat.v1.placeholder instead.\n",
            "\n",
            "W0801 22:23:07.922435 139744477968256 deprecation_wrapper.py:119] From /usr/local/lib/python3.6/dist-packages/keras/backend/tensorflow_backend.py:4138: The name tf.random_uniform is deprecated. Please use tf.random.uniform instead.\n",
            "\n",
            "W0801 22:23:07.961723 139744477968256 deprecation_wrapper.py:119] From /usr/local/lib/python3.6/dist-packages/keras/backend/tensorflow_backend.py:174: The name tf.get_default_session is deprecated. Please use tf.compat.v1.get_default_session instead.\n",
            "\n",
            "W0801 22:23:07.962889 139744477968256 deprecation_wrapper.py:119] From /usr/local/lib/python3.6/dist-packages/keras/backend/tensorflow_backend.py:181: The name tf.ConfigProto is deprecated. Please use tf.compat.v1.ConfigProto instead.\n",
            "\n",
            "W0801 22:23:07.965847 139744477968256 deprecation_wrapper.py:119] From /usr/local/lib/python3.6/dist-packages/keras/backend/tensorflow_backend.py:186: The name tf.Session is deprecated. Please use tf.compat.v1.Session instead.\n",
            "\n",
            "W0801 22:23:08.023851 139744477968256 deprecation_wrapper.py:119] From /usr/local/lib/python3.6/dist-packages/keras/optimizers.py:790: The name tf.train.Optimizer is deprecated. Please use tf.compat.v1.train.Optimizer instead.\n",
            "\n"
          ],
          "name": "stderr"
        }
      ]
    },
    {
      "cell_type": "code",
      "metadata": {
        "id": "LT0DS3TwlRf_",
        "colab_type": "code",
        "colab": {}
      },
      "source": [
        "import numpy as np\n",
        "from scipy import stats\n",
        "import pandas as pd"
      ],
      "execution_count": 0,
      "outputs": []
    },
    {
      "cell_type": "code",
      "metadata": {
        "id": "phiCjJNHi7K0",
        "colab_type": "code",
        "colab": {}
      },
      "source": [
        "from numpy import array\n"
      ],
      "execution_count": 0,
      "outputs": []
    },
    {
      "cell_type": "code",
      "metadata": {
        "id": "AdDI8YqwcNZ1",
        "colab_type": "code",
        "colab": {}
      },
      "source": [
        "from sklearn.model_selection import TimeSeriesSplit"
      ],
      "execution_count": 0,
      "outputs": []
    },
    {
      "cell_type": "markdown",
      "metadata": {
        "id": "iGQRiJHjxXtH",
        "colab_type": "text"
      },
      "source": [
        "## Parameters for this notebook\n",
        "\n",
        "Important notes:\n",
        "\n",
        "* the notebook does not attempt to abstract/parametrize the deep-learning model used. If you want to try something different than what is used, probably safest to copy this notebook and make your changes there.\n",
        "\n"
      ]
    },
    {
      "cell_type": "code",
      "metadata": {
        "id": "1LUzeHeeIFW4",
        "colab_type": "code",
        "colab": {}
      },
      "source": [
        "project = 'spack'"
      ],
      "execution_count": 0,
      "outputs": []
    },
    {
      "cell_type": "code",
      "metadata": {
        "id": "jXbx3B9irv6w",
        "colab_type": "code",
        "colab": {}
      },
      "source": [
        "feature_set_file = project + '_feature_set_table_alt_2.csv'  #alt_2 includes issues"
      ],
      "execution_count": 0,
      "outputs": []
    },
    {
      "cell_type": "code",
      "metadata": {
        "id": "wzE5PjPJsWA0",
        "colab_type": "code",
        "colab": {}
      },
      "source": [
        "sequence_size = 10 #how many 7-day averages to chunk into one chunk, e.g., 10 => 16 days"
      ],
      "execution_count": 0,
      "outputs": []
    },
    {
      "cell_type": "code",
      "metadata": {
        "id": "MYwfnHTed8hg",
        "colab_type": "code",
        "colab": {}
      },
      "source": [
        "averaging_size = 7  #how many days to average over"
      ],
      "execution_count": 0,
      "outputs": []
    },
    {
      "cell_type": "code",
      "metadata": {
        "id": "k5cpGvjPLLFE",
        "colab_type": "code",
        "colab": {}
      },
      "source": [
        "epochs = 2000"
      ],
      "execution_count": 0,
      "outputs": []
    },
    {
      "cell_type": "code",
      "metadata": {
        "id": "6vn3HaYuLnLd",
        "colab_type": "code",
        "colab": {}
      },
      "source": [
        "start_day = 0  #what subset of days to model. 0 says start the first day of the project"
      ],
      "execution_count": 0,
      "outputs": []
    },
    {
      "cell_type": "code",
      "metadata": {
        "id": "-ap2P0bRNxxH",
        "colab_type": "code",
        "colab": {}
      },
      "source": [
        "splits = 3"
      ],
      "execution_count": 0,
      "outputs": []
    },
    {
      "cell_type": "markdown",
      "metadata": {
        "id": "yWpeHvcCdvm7",
        "colab_type": "text"
      },
      "source": [
        "## First load feature set from file"
      ]
    },
    {
      "cell_type": "code",
      "metadata": {
        "id": "RzkrJ1CPrFtC",
        "colab_type": "code",
        "outputId": "a6c868b2-ccf1-44d3-a181-80fba8c5b4d2",
        "colab": {
          "base_uri": "https://localhost:8080/",
          "height": 34
        }
      },
      "source": [
        "#need to remove because colab will not replace an existing file but instead tack on a version number instead\n",
        "!rm $feature_set_file"
      ],
      "execution_count": 0,
      "outputs": [
        {
          "output_type": "stream",
          "text": [
            "rm: cannot remove 'spack_feature_set_table_alt_2.csv': No such file or directory\n"
          ],
          "name": "stdout"
        }
      ]
    },
    {
      "cell_type": "code",
      "metadata": {
        "id": "oiPMFTyzL3AD",
        "colab_type": "code",
        "outputId": "97053a9a-be6b-4d82-87aa-15452fd27c28",
        "colab": {
          "resources": {
            "http://localhost:8080/nbextensions/google.colab/files.js": {
              "data": "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",
              "ok": true,
              "headers": [
                [
                  "content-type",
                  "application/javascript"
                ]
              ],
              "status": 200,
              "status_text": ""
            }
          },
          "base_uri": "https://localhost:8080/",
          "height": 70
        }
      },
      "source": [
        "from google.colab import files\n",
        "files.upload();"
      ],
      "execution_count": 0,
      "outputs": [
        {
          "output_type": "display_data",
          "data": {
            "text/html": [
              "\n",
              "     <input type=\"file\" id=\"files-609e3632-7b75-45ee-8077-0d6b132c5a4e\" name=\"files[]\" multiple disabled />\n",
              "     <output id=\"result-609e3632-7b75-45ee-8077-0d6b132c5a4e\">\n",
              "      Upload widget is only available when the cell has been executed in the\n",
              "      current browser session. Please rerun this cell to enable.\n",
              "      </output>\n",
              "      <script src=\"/nbextensions/google.colab/files.js\"></script> "
            ],
            "text/plain": [
              "<IPython.core.display.HTML object>"
            ]
          },
          "metadata": {
            "tags": []
          }
        },
        {
          "output_type": "stream",
          "text": [
            "Saving spack_feature_set_table_alt_2.csv to spack_feature_set_table_alt_2.csv\n"
          ],
          "name": "stdout"
        }
      ]
    },
    {
      "cell_type": "code",
      "metadata": {
        "id": "bXMXMLP8MKuO",
        "colab_type": "code",
        "outputId": "74d11c75-1e15-422c-a61d-94ad48e76d64",
        "colab": {
          "base_uri": "https://localhost:8080/",
          "height": 34
        }
      },
      "source": [
        "feature_set_table = pd.read_csv(feature_set_file)  #produced prior to this notebook\n",
        "    \n",
        "len(feature_set_table)"
      ],
      "execution_count": 16,
      "outputs": [
        {
          "output_type": "execute_result",
          "data": {
            "text/plain": [
              "2358"
            ]
          },
          "metadata": {
            "tags": []
          },
          "execution_count": 16
        }
      ]
    },
    {
      "cell_type": "markdown",
      "metadata": {
        "id": "xqCCnn1D7m2z",
        "colab_type": "text"
      },
      "source": [
        "## You can choose a <code>Runtime/Run-after</code> command at this point\n",
        "\n",
        "All interaction has been completed and code should run until completion."
      ]
    },
    {
      "cell_type": "code",
      "metadata": {
        "id": "gbtpPBZcA0_o",
        "colab_type": "code",
        "outputId": "27d09759-3ace-4566-d5eb-87df41d66134",
        "colab": {
          "base_uri": "https://localhost:8080/",
          "height": 195
        }
      },
      "source": [
        "feature_set_table.head()"
      ],
      "execution_count": 0,
      "outputs": [
        {
          "output_type": "execute_result",
          "data": {
            "text/html": [
              "<div>\n",
              "<style scoped>\n",
              "    .dataframe tbody tr th:only-of-type {\n",
              "        vertical-align: middle;\n",
              "    }\n",
              "\n",
              "    .dataframe tbody tr th {\n",
              "        vertical-align: top;\n",
              "    }\n",
              "\n",
              "    .dataframe thead th {\n",
              "        text-align: right;\n",
              "    }\n",
              "</style>\n",
              "<table border=\"1\" class=\"dataframe\">\n",
              "  <thead>\n",
              "    <tr style=\"text-align: right;\">\n",
              "      <th></th>\n",
              "      <th>month</th>\n",
              "      <th>day_of_month</th>\n",
              "      <th>day_of_week</th>\n",
              "      <th>year</th>\n",
              "      <th>total_commits</th>\n",
              "      <th>total_loccs</th>\n",
              "      <th>total_messages</th>\n",
              "      <th>total_filenames</th>\n",
              "      <th>total_names</th>\n",
              "      <th>doy</th>\n",
              "      <th>issues</th>\n",
              "    </tr>\n",
              "  </thead>\n",
              "  <tbody>\n",
              "    <tr>\n",
              "      <th>0</th>\n",
              "      <td>2</td>\n",
              "      <td>13</td>\n",
              "      <td>3</td>\n",
              "      <td>2013</td>\n",
              "      <td>1</td>\n",
              "      <td>1094</td>\n",
              "      <td>['    Initial version of spack with one packag...</td>\n",
              "      <td>[['a/.gitignore b/.gitignore', 'a/bin/spack b/...</td>\n",
              "      <td>[b'Todd Gamblin &lt;tgamblin@llnl.gov&gt;']</td>\n",
              "      <td>44</td>\n",
              "      <td>[]</td>\n",
              "    </tr>\n",
              "    <tr>\n",
              "      <th>1</th>\n",
              "      <td>2</td>\n",
              "      <td>14</td>\n",
              "      <td>4</td>\n",
              "      <td>2013</td>\n",
              "      <td>0</td>\n",
              "      <td>0</td>\n",
              "      <td>[]</td>\n",
              "      <td>[]</td>\n",
              "      <td>[]</td>\n",
              "      <td>45</td>\n",
              "      <td>[]</td>\n",
              "    </tr>\n",
              "    <tr>\n",
              "      <th>2</th>\n",
              "      <td>2</td>\n",
              "      <td>15</td>\n",
              "      <td>5</td>\n",
              "      <td>2013</td>\n",
              "      <td>0</td>\n",
              "      <td>0</td>\n",
              "      <td>[]</td>\n",
              "      <td>[]</td>\n",
              "      <td>[]</td>\n",
              "      <td>46</td>\n",
              "      <td>[]</td>\n",
              "    </tr>\n",
              "    <tr>\n",
              "      <th>3</th>\n",
              "      <td>2</td>\n",
              "      <td>16</td>\n",
              "      <td>6</td>\n",
              "      <td>2013</td>\n",
              "      <td>0</td>\n",
              "      <td>0</td>\n",
              "      <td>[]</td>\n",
              "      <td>[]</td>\n",
              "      <td>[]</td>\n",
              "      <td>47</td>\n",
              "      <td>[]</td>\n",
              "    </tr>\n",
              "    <tr>\n",
              "      <th>4</th>\n",
              "      <td>2</td>\n",
              "      <td>17</td>\n",
              "      <td>7</td>\n",
              "      <td>2013</td>\n",
              "      <td>0</td>\n",
              "      <td>0</td>\n",
              "      <td>[]</td>\n",
              "      <td>[]</td>\n",
              "      <td>[]</td>\n",
              "      <td>48</td>\n",
              "      <td>[]</td>\n",
              "    </tr>\n",
              "  </tbody>\n",
              "</table>\n",
              "</div>"
            ],
            "text/plain": [
              "   month  day_of_month  ...  doy  issues\n",
              "0      2            13  ...   44      []\n",
              "1      2            14  ...   45      []\n",
              "2      2            15  ...   46      []\n",
              "3      2            16  ...   47      []\n",
              "4      2            17  ...   48      []\n",
              "\n",
              "[5 rows x 11 columns]"
            ]
          },
          "metadata": {
            "tags": []
          },
          "execution_count": 13
        }
      ]
    },
    {
      "cell_type": "markdown",
      "metadata": {
        "id": "PA1Mnvo3Rg8O",
        "colab_type": "text"
      },
      "source": [
        "## Trim feature set down\n",
        "\n",
        "k is index to start from, i.e., [k:2344]\n",
        "\n",
        "if k = 0 then whole table (no trimming)."
      ]
    },
    {
      "cell_type": "code",
      "metadata": {
        "id": "YLQImU1LRnTk",
        "colab_type": "code",
        "colab": {}
      },
      "source": [
        "k = start_day  #by starting at day k you are trimming off the first k-1 days"
      ],
      "execution_count": 0,
      "outputs": []
    },
    {
      "cell_type": "code",
      "metadata": {
        "id": "Zzuy8j25RqL3",
        "colab_type": "code",
        "outputId": "66469b2b-605a-42de-ff9b-2f2f04436356",
        "colab": {
          "base_uri": "https://localhost:8080/",
          "height": 279
        }
      },
      "source": [
        "trimmed_table = feature_set_table.iloc[-k:]\n",
        "trimmed_table.tail()\n"
      ],
      "execution_count": 18,
      "outputs": [
        {
          "output_type": "execute_result",
          "data": {
            "text/html": [
              "<div>\n",
              "<style scoped>\n",
              "    .dataframe tbody tr th:only-of-type {\n",
              "        vertical-align: middle;\n",
              "    }\n",
              "\n",
              "    .dataframe tbody tr th {\n",
              "        vertical-align: top;\n",
              "    }\n",
              "\n",
              "    .dataframe thead th {\n",
              "        text-align: right;\n",
              "    }\n",
              "</style>\n",
              "<table border=\"1\" class=\"dataframe\">\n",
              "  <thead>\n",
              "    <tr style=\"text-align: right;\">\n",
              "      <th></th>\n",
              "      <th>month</th>\n",
              "      <th>day_of_month</th>\n",
              "      <th>day_of_week</th>\n",
              "      <th>year</th>\n",
              "      <th>total_commits</th>\n",
              "      <th>total_loccs</th>\n",
              "      <th>total_messages</th>\n",
              "      <th>total_filenames</th>\n",
              "      <th>total_names</th>\n",
              "      <th>doy</th>\n",
              "      <th>issues</th>\n",
              "    </tr>\n",
              "  </thead>\n",
              "  <tbody>\n",
              "    <tr>\n",
              "      <th>2353</th>\n",
              "      <td>7</td>\n",
              "      <td>26</td>\n",
              "      <td>5</td>\n",
              "      <td>2019</td>\n",
              "      <td>9</td>\n",
              "      <td>881</td>\n",
              "      <td>['    py-pyomo: new package at 5.6.6 (#12134)\\...</td>\n",
              "      <td>[['a/var/spack/repos/builtin/packages/py-pyomo...</td>\n",
              "      <td>[b'Justin S &lt;3630356+codeandkey@users.noreply....</td>\n",
              "      <td>207</td>\n",
              "      <td>['', \"Packages that link to glib were also pic...</td>\n",
              "    </tr>\n",
              "    <tr>\n",
              "      <th>2354</th>\n",
              "      <td>7</td>\n",
              "      <td>27</td>\n",
              "      <td>6</td>\n",
              "      <td>2019</td>\n",
              "      <td>4</td>\n",
              "      <td>28</td>\n",
              "      <td>['    cmake: Bump to 3.15.1 (#12151)\\n', '    ...</td>\n",
              "      <td>[['a/var/spack/repos/builtin/packages/cmake/pa...</td>\n",
              "      <td>[b'Chuck Atkins &lt;chuck.atkins@kitware.com&gt;', b...</td>\n",
              "      <td>208</td>\n",
              "      <td>['This PR overhauls the `py-matplotlib` packag...</td>\n",
              "    </tr>\n",
              "    <tr>\n",
              "      <th>2355</th>\n",
              "      <td>7</td>\n",
              "      <td>28</td>\n",
              "      <td>7</td>\n",
              "      <td>2019</td>\n",
              "      <td>3</td>\n",
              "      <td>11</td>\n",
              "      <td>['    Prevent conflicts between libuuid and Ap...</td>\n",
              "      <td>[['a/var/spack/repos/builtin/packages/python/p...</td>\n",
              "      <td>[b'Seth R. Johnson &lt;johnsonsr@ornl.gov&gt;', b'Ke...</td>\n",
              "      <td>209</td>\n",
              "      <td>['Successfully builds for me on macOS 10.14.5 ...</td>\n",
              "    </tr>\n",
              "    <tr>\n",
              "      <th>2356</th>\n",
              "      <td>7</td>\n",
              "      <td>29</td>\n",
              "      <td>1</td>\n",
              "      <td>2019</td>\n",
              "      <td>18</td>\n",
              "      <td>118</td>\n",
              "      <td>['    New package: cgdb (#12154)\\n', '    CMOR...</td>\n",
              "      <td>[['a/var/spack/repos/builtin/packages/cgdb/pac...</td>\n",
              "      <td>[b'Ben Bergen &lt;bergen@lanl.gov&gt;', b'Adam J. St...</td>\n",
              "      <td>210</td>\n",
              "      <td>['', \"- SWIG versions use commit hashes from t...</td>\n",
              "    </tr>\n",
              "    <tr>\n",
              "      <th>2357</th>\n",
              "      <td>7</td>\n",
              "      <td>30</td>\n",
              "      <td>2</td>\n",
              "      <td>2019</td>\n",
              "      <td>5</td>\n",
              "      <td>35</td>\n",
              "      <td>['    mii: new package at 1.0.2 (#12184)\\n    ...</td>\n",
              "      <td>[['a/var/spack/repos/builtin/packages/mii/pack...</td>\n",
              "      <td>[b'Justin S &lt;3630356+codeandkey@users.noreply....</td>\n",
              "      <td>211</td>\n",
              "      <td>['- Update c-blosc to 1.17.0\\r\\n- Add patch to...</td>\n",
              "    </tr>\n",
              "  </tbody>\n",
              "</table>\n",
              "</div>"
            ],
            "text/plain": [
              "      month  ...                                             issues\n",
              "2353      7  ...  ['', \"Packages that link to glib were also pic...\n",
              "2354      7  ...  ['This PR overhauls the `py-matplotlib` packag...\n",
              "2355      7  ...  ['Successfully builds for me on macOS 10.14.5 ...\n",
              "2356      7  ...  ['', \"- SWIG versions use commit hashes from t...\n",
              "2357      7  ...  ['- Update c-blosc to 1.17.0\\r\\n- Add patch to...\n",
              "\n",
              "[5 rows x 11 columns]"
            ]
          },
          "metadata": {
            "tags": []
          },
          "execution_count": 18
        }
      ]
    },
    {
      "cell_type": "code",
      "metadata": {
        "id": "lejJyrPuZH_V",
        "colab_type": "code",
        "outputId": "0ff96e0a-d29e-41b7-e818-564a6faa3375",
        "colab": {
          "base_uri": "https://localhost:8080/",
          "height": 195
        }
      },
      "source": [
        "trimmed_table.head()"
      ],
      "execution_count": 19,
      "outputs": [
        {
          "output_type": "execute_result",
          "data": {
            "text/html": [
              "<div>\n",
              "<style scoped>\n",
              "    .dataframe tbody tr th:only-of-type {\n",
              "        vertical-align: middle;\n",
              "    }\n",
              "\n",
              "    .dataframe tbody tr th {\n",
              "        vertical-align: top;\n",
              "    }\n",
              "\n",
              "    .dataframe thead th {\n",
              "        text-align: right;\n",
              "    }\n",
              "</style>\n",
              "<table border=\"1\" class=\"dataframe\">\n",
              "  <thead>\n",
              "    <tr style=\"text-align: right;\">\n",
              "      <th></th>\n",
              "      <th>month</th>\n",
              "      <th>day_of_month</th>\n",
              "      <th>day_of_week</th>\n",
              "      <th>year</th>\n",
              "      <th>total_commits</th>\n",
              "      <th>total_loccs</th>\n",
              "      <th>total_messages</th>\n",
              "      <th>total_filenames</th>\n",
              "      <th>total_names</th>\n",
              "      <th>doy</th>\n",
              "      <th>issues</th>\n",
              "    </tr>\n",
              "  </thead>\n",
              "  <tbody>\n",
              "    <tr>\n",
              "      <th>0</th>\n",
              "      <td>2</td>\n",
              "      <td>13</td>\n",
              "      <td>3</td>\n",
              "      <td>2013</td>\n",
              "      <td>1</td>\n",
              "      <td>1094</td>\n",
              "      <td>['    Initial version of spack with one packag...</td>\n",
              "      <td>[['a/.gitignore b/.gitignore', 'a/bin/spack b/...</td>\n",
              "      <td>[b'Todd Gamblin &lt;tgamblin@llnl.gov&gt;']</td>\n",
              "      <td>44</td>\n",
              "      <td>[]</td>\n",
              "    </tr>\n",
              "    <tr>\n",
              "      <th>1</th>\n",
              "      <td>2</td>\n",
              "      <td>14</td>\n",
              "      <td>4</td>\n",
              "      <td>2013</td>\n",
              "      <td>0</td>\n",
              "      <td>0</td>\n",
              "      <td>[]</td>\n",
              "      <td>[]</td>\n",
              "      <td>[]</td>\n",
              "      <td>45</td>\n",
              "      <td>[]</td>\n",
              "    </tr>\n",
              "    <tr>\n",
              "      <th>2</th>\n",
              "      <td>2</td>\n",
              "      <td>15</td>\n",
              "      <td>5</td>\n",
              "      <td>2013</td>\n",
              "      <td>0</td>\n",
              "      <td>0</td>\n",
              "      <td>[]</td>\n",
              "      <td>[]</td>\n",
              "      <td>[]</td>\n",
              "      <td>46</td>\n",
              "      <td>[]</td>\n",
              "    </tr>\n",
              "    <tr>\n",
              "      <th>3</th>\n",
              "      <td>2</td>\n",
              "      <td>16</td>\n",
              "      <td>6</td>\n",
              "      <td>2013</td>\n",
              "      <td>0</td>\n",
              "      <td>0</td>\n",
              "      <td>[]</td>\n",
              "      <td>[]</td>\n",
              "      <td>[]</td>\n",
              "      <td>47</td>\n",
              "      <td>[]</td>\n",
              "    </tr>\n",
              "    <tr>\n",
              "      <th>4</th>\n",
              "      <td>2</td>\n",
              "      <td>17</td>\n",
              "      <td>7</td>\n",
              "      <td>2013</td>\n",
              "      <td>0</td>\n",
              "      <td>0</td>\n",
              "      <td>[]</td>\n",
              "      <td>[]</td>\n",
              "      <td>[]</td>\n",
              "      <td>48</td>\n",
              "      <td>[]</td>\n",
              "    </tr>\n",
              "  </tbody>\n",
              "</table>\n",
              "</div>"
            ],
            "text/plain": [
              "   month  day_of_month  ...  doy  issues\n",
              "0      2            13  ...   44      []\n",
              "1      2            14  ...   45      []\n",
              "2      2            15  ...   46      []\n",
              "3      2            16  ...   47      []\n",
              "4      2            17  ...   48      []\n",
              "\n",
              "[5 rows x 11 columns]"
            ]
          },
          "metadata": {
            "tags": []
          },
          "execution_count": 19
        }
      ]
    },
    {
      "cell_type": "markdown",
      "metadata": {
        "id": "VLqyfwvxsR1c",
        "colab_type": "text"
      },
      "source": [
        "##Transform into a univariate sequence\n",
        "\n",
        "A sequence of n-day averages. Uses averaging_size to get n."
      ]
    },
    {
      "cell_type": "code",
      "metadata": {
        "id": "CRbq4mUzsgep",
        "colab_type": "code",
        "colab": {}
      },
      "source": [
        "averages = []\n",
        "\n",
        "for i in range(len(trimmed_table) - averaging_size):\n",
        "  x_average = sum([trimmed_table.loc[j, 'total_loccs'] for j in range(i, i+averaging_size)])/averaging_size\n",
        "  averages.append(x_average)"
      ],
      "execution_count": 0,
      "outputs": []
    },
    {
      "cell_type": "code",
      "metadata": {
        "id": "BsnFg1OntVu3",
        "colab_type": "code",
        "outputId": "6f035e28-fd8d-49cd-a49d-54471c0adcee",
        "colab": {
          "base_uri": "https://localhost:8080/",
          "height": 67
        }
      },
      "source": [
        "uni_averages = np.array(averages)\n",
        "uni_averages[:10]"
      ],
      "execution_count": 21,
      "outputs": [
        {
          "output_type": "execute_result",
          "data": {
            "text/plain": [
              "array([158.28571429,   3.14285714,   6.85714286,   8.14285714,\n",
              "         8.14285714,   8.14285714,   8.71428571,   7.28571429,\n",
              "         6.14285714,   2.42857143])"
            ]
          },
          "metadata": {
            "tags": []
          },
          "execution_count": 21
        }
      ]
    },
    {
      "cell_type": "markdown",
      "metadata": {
        "id": "ssIasUJfiivI",
        "colab_type": "text"
      },
      "source": [
        "## Now normalize"
      ]
    },
    {
      "cell_type": "code",
      "metadata": {
        "id": "esJ6O9rKgwOD",
        "colab_type": "code",
        "outputId": "391429f3-8d83-4c99-8ce9-02ce1841a35c",
        "colab": {
          "base_uri": "https://localhost:8080/",
          "height": 50
        }
      },
      "source": [
        "x_min = uni_averages.min()\n",
        "x_max = uni_averages.max()\n",
        "z = x_max - x_min\n",
        "x_normed = np.array([(val-x_min)/z for val in uni_averages])\n",
        "x_normed[:10]"
      ],
      "execution_count": 22,
      "outputs": [
        {
          "output_type": "execute_result",
          "data": {
            "text/plain": [
              "array([0.07927309, 0.00157401, 0.00343421, 0.00407813, 0.00407813,\n",
              "       0.00407813, 0.00436431, 0.00364885, 0.00307648, 0.00121628])"
            ]
          },
          "metadata": {
            "tags": []
          },
          "execution_count": 22
        }
      ]
    },
    {
      "cell_type": "markdown",
      "metadata": {
        "id": "uWqnqhze_ao9",
        "colab_type": "text"
      },
      "source": [
        "###Un-Norming function for later"
      ]
    },
    {
      "cell_type": "code",
      "metadata": {
        "id": "RXMaJicD_f_O",
        "colab_type": "code",
        "colab": {}
      },
      "source": [
        "def undo_norm(z, xm):\n",
        "  return lambda v: v * z + xm\n",
        "    \n",
        "unnorm = undo_norm(z,x_min)"
      ],
      "execution_count": 0,
      "outputs": []
    },
    {
      "cell_type": "code",
      "metadata": {
        "id": "UPZz-6r9B1cr",
        "colab_type": "code",
        "outputId": "cc2e29d6-0475-443b-d12f-eccba7518d5f",
        "colab": {
          "base_uri": "https://localhost:8080/",
          "height": 34
        }
      },
      "source": [
        "unnorm(0.07927309)"
      ],
      "execution_count": 24,
      "outputs": [
        {
          "output_type": "execute_result",
          "data": {
            "text/plain": [
              "158.2857112757143"
            ]
          },
          "metadata": {
            "tags": []
          },
          "execution_count": 24
        }
      ]
    },
    {
      "cell_type": "code",
      "metadata": {
        "id": "SHPIz3jIvETm",
        "colab_type": "code",
        "colab": {}
      },
      "source": [
        "from keras.preprocessing.sequence import TimeseriesGenerator"
      ],
      "execution_count": 0,
      "outputs": []
    },
    {
      "cell_type": "code",
      "metadata": {
        "colab_type": "code",
        "id": "oM0q97wOkOO4",
        "colab": {}
      },
      "source": [
        "from sklearn.model_selection import TimeSeriesSplit\n",
        "from matplotlib import pyplot"
      ],
      "execution_count": 0,
      "outputs": []
    },
    {
      "cell_type": "markdown",
      "metadata": {
        "id": "CSNJASVMOCjm",
        "colab_type": "text"
      },
      "source": [
        "## Now look at generating train-test splits"
      ]
    },
    {
      "cell_type": "code",
      "metadata": {
        "colab_type": "code",
        "id": "hal4UK-hkOO-",
        "outputId": "205740b0-6def-4012-ad12-e54cde01433d",
        "colab": {
          "base_uri": "https://localhost:8080/",
          "height": 420
        }
      },
      "source": [
        "X = [f for f in x_normed]  #use normed_total_loccs column\n",
        "splits = TimeSeriesSplit(n_splits=splits)  #choosing 3 splits\n",
        "pyplot.figure(1)\n",
        "index = 1\n",
        "for train_index, test_index in splits.split(X):\n",
        "  train = [X[i] for i in train_index]\n",
        "  test = [X[i] for i in test_index]\n",
        "  print('Observations: %d' % (len(train) + len(test)))\n",
        "  print('Training Observations: %d' % (len(train)))\n",
        "  print('Testing Observations: %d' % (len(test)))\n",
        "  pyplot.subplot(310 + index)\n",
        "  pyplot.plot(train)\n",
        "  pyplot.plot([None for i in train] + [x for x in test], 'y')\n",
        "  index += 1\n",
        "pyplot.show()\n"
      ],
      "execution_count": 34,
      "outputs": [
        {
          "output_type": "stream",
          "text": [
            "Observations: 1177\n",
            "Training Observations: 590\n",
            "Testing Observations: 587\n",
            "Observations: 1764\n",
            "Training Observations: 1177\n",
            "Testing Observations: 587\n",
            "Observations: 2351\n",
            "Training Observations: 1764\n",
            "Testing Observations: 587\n"
          ],
          "name": "stdout"
        },
        {
          "output_type": "display_data",
          "data": {
            "image/png": "[encoded data removed]",
            "text/plain": [
              "<Figure size 432x288 with 3 Axes>"
            ]
          },
          "metadata": {
            "tags": []
          }
        }
      ]
    },
    {
      "cell_type": "markdown",
      "metadata": {
        "id": "7_Pq2MbDBYcD",
        "colab_type": "text"
      },
      "source": [
        "## First model - straight up ANN"
      ]
    },
    {
      "cell_type": "code",
      "metadata": {
        "id": "8l_YbsshhOdr",
        "colab_type": "code",
        "colab": {}
      },
      "source": [
        "def ann_test(model, test_x, sequence_size):\n",
        "  \n",
        "  print('Testing model')\n",
        "  generator = TimeseriesGenerator(test_x, test_x, length=sequence_size, batch_size=1)\n",
        "  predictions = []\n",
        "  for  x,y in generator:\n",
        "    #chunk = np.expand_dims(x, axis=0)\n",
        "    chunk = x\n",
        "    yhat = model.predict(chunk, verbose=0)\n",
        "    predictions.append((yhat, y, abs(yhat-y)))  #(prediction, actual, diff)\n",
        "  print('model ready to go')\n",
        "  return predictions"
      ],
      "execution_count": 0,
      "outputs": []
    },
    {
      "cell_type": "markdown",
      "metadata": {
        "id": "lrTrln05v-iG",
        "colab_type": "text"
      },
      "source": [
        "### Reminder that k models will be trained and tested.\n",
        "\n",
        "Where k = splits (set at top of notebook).\n",
        "\n",
        "See graph above for the days that are included for each. Note only the last model takes into account the entire span of days."
      ]
    },
    {
      "cell_type": "code",
      "metadata": {
        "id": "pyytPd6NjXbc",
        "colab_type": "code",
        "outputId": "7749568a-f7fc-4c5d-a6d3-f2c5c47b109d",
        "colab": {
          "base_uri": "https://localhost:8080/",
          "height": 168
        }
      },
      "source": [
        "\n",
        "ann_model_predictions = []\n",
        "\n",
        "for train_indices, test_indices in splits.split(x_normed[:-averaging_size]):\n",
        "  test_x = [x_normed[i] for i in test_indices]\n",
        "  print('\\t Testing:  ' + str((test_indices[0], test_indices[-1])))\n",
        "  \n",
        "  predictions = ann_test(model,  test_x, sequence_size)\n",
        "\n",
        "  ann_model_predictions.append(predictions)  #list of (yhat, actual) for each feature in test\n",
        "\n"
      ],
      "execution_count": 37,
      "outputs": [
        {
          "output_type": "stream",
          "text": [
            "\t Testing:  (586, 1171)\n",
            "Testing model\n",
            "model ready to go\n",
            "\t Testing:  (1172, 1757)\n",
            "Testing model\n",
            "model ready to go\n",
            "\t Testing:  (1758, 2343)\n",
            "Testing model\n",
            "model ready to go\n"
          ],
          "name": "stdout"
        }
      ]
    },
    {
      "cell_type": "markdown",
      "metadata": {
        "id": "cGNkA3FlwUXg",
        "colab_type": "text"
      },
      "source": [
        "###Plot the abs differences bewteen predicted and actual in terms of k-day averages of lines of code changed."
      ]
    },
    {
      "cell_type": "code",
      "metadata": {
        "colab_type": "code",
        "id": "XMigBexDlIds",
        "outputId": "1afacbba-c7e1-455b-94d5-5175d8cc2415",
        "colab": {
          "base_uri": "https://localhost:8080/",
          "height": 34
        }
      },
      "source": [
        "## Plot abs(predicted-actual)\n",
        "\n",
        "%matplotlib inline\n",
        "from matplotlib import pyplot as plt\n",
        "\n",
        "\n",
        "# Get current size\n",
        "fig_size = plt.rcParams[\"figure.figsize\"]\n",
        " \n",
        "# Prints: [8.0, 6.0]\n",
        "print( \"Current size:\", fig_size)\n",
        "\n",
        "# Set figure width to 12 and height to 9\n",
        "fig_size[0] = 12\n",
        "fig_size[1] = 6\n",
        "plt.rcParams[\"figure.figsize\"] = fig_size\n",
        "\n",
        "def basic_plot(value_list, xlabel, ylabel):\n",
        "  the_mean = np.mean(value_list)\n",
        "  the_std = np.std(value_list)\n",
        "  length = len(value_list)\n",
        "  plt.plot(value_list)\n",
        "  plt.ylabel(ylabel)\n",
        "  plt.xlabel(xlabel)\n",
        "  plt.title('mean='+str(the_mean)[:5]+' std='+str(the_std)[:5])\n",
        "  plt.fill_between(list(range(len(value_list))), [the_mean+the_std]*length, [the_mean-the_std]*length, alpha = 0.1, color='red', edgecolor='green', linewidth=1)\n",
        "  plt.plot([the_mean+the_std]*length, label='std', linestyle='-', color='green', linewidth=1)\n",
        "  plt.plot([the_mean]*length, label='Mean', linestyle='--', color='red')\n",
        "  plt.plot([the_mean-the_std]*length, label='std', linestyle='-', color='green', linewidth=1)\n",
        "  plt.show()\n"
      ],
      "execution_count": 38,
      "outputs": [
        {
          "output_type": "stream",
          "text": [
            "Current size: [6.0, 4.0]\n"
          ],
          "name": "stdout"
        }
      ]
    },
    {
      "cell_type": "code",
      "metadata": {
        "id": "FNpJDJcXlPje",
        "colab_type": "code",
        "outputId": "a53206d3-8414-4d98-d0fe-ae9787beac02",
        "colab": {
          "base_uri": "https://localhost:8080/",
          "height": 404
        }
      },
      "source": [
        "diffs = [d[0] for y,a,d in ann_model_predictions[-1]]  #need [0] to strip array off\n",
        "basic_plot(diffs, 'by k-day chunk starting at '+str(test_indices[0]), 'by normed abs diff')"
      ],
      "execution_count": 39,
      "outputs": [
        {
          "output_type": "display_data",
          "data": {
            "image/png": "[encoded data removed]",
            "text/plain": [
              "<Figure size 864x432 with 1 Axes>"
            ]
          },
          "metadata": {
            "tags": []
          }
        }
      ]
    },
    {
      "cell_type": "markdown",
      "metadata": {
        "id": "nGlmmz_BIZe0",
        "colab_type": "text"
      },
      "source": [
        "### Show for unnormed\n",
        "\n",
        "Just because it is easier to see actual lines of code on y axis."
      ]
    },
    {
      "cell_type": "code",
      "metadata": {
        "id": "UiHVromXCNue",
        "colab_type": "code",
        "outputId": "bc4c67a8-b88b-4503-c4b8-865cf7bb1e33",
        "colab": {
          "base_uri": "https://localhost:8080/",
          "height": 404
        }
      },
      "source": [
        "diffs = [unnorm(d[0]) for y,a,d in ann_model_predictions[-1]]  #need [0] to strip array off\n",
        "basic_plot(diffs, 'by k-day chunk starting at '+str(test_indices[0]), 'by unnormed abs diff')"
      ],
      "execution_count": 40,
      "outputs": [
        {
          "output_type": "display_data",
          "data": {
            "image/png": "[encoded data removed]",
            "text/plain": [
              "<Figure size 864x432 with 1 Axes>"
            ]
          },
          "metadata": {
            "tags": []
          }
        }
      ]
    },
    {
      "cell_type": "markdown",
      "metadata": {
        "id": "hfTG7uOWun58",
        "colab_type": "text"
      },
      "source": [
        "### Percentage of differences below mean difference"
      ]
    },
    {
      "cell_type": "code",
      "metadata": {
        "id": "_XA81Oi3uEeW",
        "colab_type": "code",
        "outputId": "5d1a44a7-1c63-45fb-ac27-aacf1b48673d",
        "colab": {
          "base_uri": "https://localhost:8080/",
          "height": 34
        }
      },
      "source": [
        "the_mean = np.mean(diffs)\n",
        "sum([1 for d in diffs if d<the_mean])/len(diffs)"
      ],
      "execution_count": 41,
      "outputs": [
        {
          "output_type": "execute_result",
          "data": {
            "text/plain": [
              "0.703125"
            ]
          },
          "metadata": {
            "tags": []
          },
          "execution_count": 41
        }
      ]
    },
    {
      "cell_type": "markdown",
      "metadata": {
        "id": "YrBeLC7QAlM6",
        "colab_type": "text"
      },
      "source": [
        "### Mean Squared Error"
      ]
    },
    {
      "cell_type": "code",
      "metadata": {
        "id": "qHuV-cIWYj45",
        "colab_type": "code",
        "outputId": "39099b96-6fc3-47fd-9787-bdcb9cc0fffb",
        "colab": {
          "base_uri": "https://localhost:8080/",
          "height": 34
        }
      },
      "source": [
        "from sklearn.metrics import mean_squared_error\n",
        "mean_squared_error([unnorm(a[0]) for y,a,d in ann_model_predictions[-1]], [unnorm(y[0]) for y,a,d in ann_model_predictions[-1]])"
      ],
      "execution_count": 42,
      "outputs": [
        {
          "output_type": "execute_result",
          "data": {
            "text/plain": [
              "6198.170036531806"
            ]
          },
          "metadata": {
            "tags": []
          },
          "execution_count": 42
        }
      ]
    },
    {
      "cell_type": "markdown",
      "metadata": {
        "id": "zzqNtgxwvz5O",
        "colab_type": "text"
      },
      "source": [
        "###Check out binning\n",
        "\n",
        "Post-hoc look at binning. Bin both predicted and actual and see how they match up.\n",
        "\n",
        "Note could also set up model to be categorical and have it predict bins directly through one-hot encoding and softmax final layer."
      ]
    },
    {
      "cell_type": "code",
      "metadata": {
        "id": "rHg4blLqzFbx",
        "colab_type": "code",
        "colab": {}
      },
      "source": [
        "normed_mean = np.mean(x_normed)\n",
        "normed_std = np.std(x_normed)\n",
        "\n",
        "bins = [normed_mean, normed_mean+normed_std, max(x_normed)]  #below average, above average, way above average"
      ],
      "execution_count": 0,
      "outputs": []
    },
    {
      "cell_type": "code",
      "metadata": {
        "id": "F3Qhy7hsv2z-",
        "colab_type": "code",
        "colab": {}
      },
      "source": [
        "binned_results = []\n",
        "for y,a,d in ann_model_predictions[-1]:\n",
        "  for j,b in enumerate(bins):\n",
        "    if y<b:\n",
        "      yb = j\n",
        "      break\n",
        "      \n",
        "  for j,b in enumerate(bins):\n",
        "    if a<b:\n",
        "      ab = j\n",
        "      break\n",
        "      \n",
        "  binned_results.append((yb, ab))\n",
        "      \n",
        "  "
      ],
      "execution_count": 0,
      "outputs": []
    },
    {
      "cell_type": "code",
      "metadata": {
        "id": "s2f4wyLjyFJr",
        "colab_type": "code",
        "outputId": "87178d3f-06c2-4e2f-c668-4bb026251d03",
        "colab": {
          "base_uri": "https://localhost:8080/",
          "height": 168
        }
      },
      "source": [
        "for i in range(len(bins)):\n",
        "  for j in range(len(bins)):\n",
        "    print((i,j,binned_results.count((i,j))))"
      ],
      "execution_count": 45,
      "outputs": [
        {
          "output_type": "stream",
          "text": [
            "(0, 0, 333)\n",
            "(0, 1, 89)\n",
            "(0, 2, 3)\n",
            "(1, 0, 12)\n",
            "(1, 1, 100)\n",
            "(1, 2, 30)\n",
            "(2, 0, 0)\n",
            "(2, 1, 0)\n",
            "(2, 2, 9)\n"
          ],
          "name": "stdout"
        }
      ]
    },
    {
      "cell_type": "markdown",
      "metadata": {
        "id": "HIV2FHm1qZ2O",
        "colab_type": "text"
      },
      "source": [
        "### Way to read above\n",
        "\n",
        "Take this set of results as an example.\n",
        "\n",
        "<pre>\n",
        "(0, 0, 295)\n",
        "(0, 1, 34)\n",
        "(0, 2, 3)\n",
        "(1, 0, 47)\n",
        "(1, 1, 140)\n",
        "(1, 2, 5)\n",
        "(2, 0, 0)\n",
        "(2, 1, 10)\n",
        "(2, 2, 38)\n",
        "</pre>\n",
        "\n",
        "If you view predicting the spikes (bin 2) as key, then the results show false negative 3+5 times (14%), perhaps the 3 being the worst: predicting below avearage and actual spike instead. It shows false positives 0+10 times (18%). It is correct 38 times ( 68%).\n",
        "\n",
        "Code below gives accuracy for each bin."
      ]
    },
    {
      "cell_type": "code",
      "metadata": {
        "id": "OGPylkodB2-O",
        "colab_type": "code",
        "outputId": "e85b64e1-c17e-4a6b-f1ee-90a12673a7b8",
        "colab": {
          "base_uri": "https://localhost:8080/",
          "height": 67
        }
      },
      "source": [
        "\n",
        "for i in range(len(bins)):\n",
        "  errors = 0\n",
        "  for j in range(len(bins)):\n",
        "    if i==j:\n",
        "      correct = binned_results.count((i,i))\n",
        "      continue\n",
        "    errors += binned_results.count((i,j))\n",
        "  print((i, correct/(correct+errors)))\n",
        "  \n",
        "  "
      ],
      "execution_count": 46,
      "outputs": [
        {
          "output_type": "stream",
          "text": [
            "(0, 0.7835294117647059)\n",
            "(1, 0.704225352112676)\n",
            "(2, 1.0)\n"
          ],
          "name": "stdout"
        }
      ]
    },
    {
      "cell_type": "markdown",
      "metadata": {
        "id": "ijBq8CdPWLsy",
        "colab_type": "text"
      },
      "source": [
        "Values from spack-trained model:\n",
        "<pre>\n",
        "(0, 0.8412698412698413)\n",
        "(1, 0.7834394904458599)\n",
        "(2, 0.7804878048780488)\n",
        "</pre>"
      ]
    },
    {
      "cell_type": "markdown",
      "metadata": {
        "id": "tN6ZPczN3qms",
        "colab_type": "text"
      },
      "source": [
        "### Full binning accuracy"
      ]
    },
    {
      "cell_type": "code",
      "metadata": {
        "id": "NHwUNsAGyqfF",
        "colab_type": "code",
        "outputId": "ffd1e6f4-f284-4380-bb57-78857844289f",
        "colab": {
          "base_uri": "https://localhost:8080/",
          "height": 34
        }
      },
      "source": [
        "sum([1 for y,a in binned_results if y==a])/len(binned_results)  #percentage correct binning"
      ],
      "execution_count": 47,
      "outputs": [
        {
          "output_type": "execute_result",
          "data": {
            "text/plain": [
              "0.7673611111111112"
            ]
          },
          "metadata": {
            "tags": []
          },
          "execution_count": 47
        }
      ]
    }
  ]
}