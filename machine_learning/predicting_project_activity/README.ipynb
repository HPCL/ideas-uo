{
 "cells": [
  {
   "cell_type": "markdown",
   "metadata": {},
   "source": [
    "# This notebook acts as a guide\n",
    "\n",
    "The overall problem we are trying to solve is to take historical data about a project on github and use that to build a deep-learning model that can predict project activity in the future. We have broken the problem up into smaller steps, with each step producing some form of intermediate output that is saved to file.\n",
    "\n",
    "Each step is represented by a notebook. These are explained below. Note that all notebooks are found in the same directory as this one: /ideas-uo/machine_learning/predicting_project_activity.\n",
    "\n",
    "Also note that these steps assume that a single project has been selected to study. The project you select is a parameter to the various notebooks.\n",
    "\n",
    "Finally note that one notebook is set to run on a local jupyter server and the other 2 on google colab."
   ]
  },
  {
   "cell_type": "markdown",
   "metadata": {},
   "source": [
    "## Step 1: wrangling (intake, inversion, compaction)\n",
    "\n",
    "Notebook: build_days_table_from_github.ipynb\n",
    "\n",
    "This notebook gets data into shape for feature set construction. It has 2 basic pieces. First, pull information from the github project into Python lists and dictionaries. The project info comes in organized by individual developers. Each developer has a list of commits he or she has carried out over the life of the project. The goal is to invert this structure. Pull out each individual commit as a row in a table. Iterating over the entire developer list, we will get all the commits on the project. Some further wrangling is done to build a table with interesting columns. The table is then reordered by date to get a chronological picture of commits in sequence. Converting this to a pandas table is then straightforward.\n",
    "\n",
    "The second piece is to compact the commits table to a day table. The final days table will have a summarized account (as columns) for each day in the project from beginning until present.\n",
    "\n",
    "Here are screenshots of the 2 tables taken from the slack project.\n",
    "\n",
    "<img src=\"https://www.dropbox.com/s/j0wk6v3kn7bbyup/Screenshot%202019-07-14%2009.43.31.png?raw=1\">\n",
    "\n",
    "\n",
    "<img src=\"https://www.dropbox.com/s/k8tpjymolexlihj/Screenshot%202019-07-14%2010.26.48.png?raw=1\">"
   ]
  },
  {
   "cell_type": "markdown",
   "metadata": {},
   "source": [
    "## Step 2: explore deep-learning models\n",
    "\n",
    "Notebooks: expect to have alternatives depending on how the problem is set up. Here is one example: run_3_models_univariate_on_loccs_average.ipynb.\n",
    "\n",
    "First we read in the csv file produced in step 1. We then use the notebook to\n",
    "train and test a set of models and store results in 2 forms: (1) information about the model and the predictions it makes, and (2) the model, itself, as h5 files. An h5 file can be loaded and is ready to make predictions, e.g., as part of a flask server that allows a user to explore."
   ]
  },
  {
   "cell_type": "markdown",
   "metadata": {},
   "source": [
    "## Step 3: write out days table to mongo\n",
    "\n",
    "Notebook: store_days_table_in_mongo.ipynb\n",
    "\n",
    "This notebook will read in the csv file produced in step 1 and store it in a mongodb."
   ]
  },
  {
   "cell_type": "code",
   "execution_count": null,
   "metadata": {},
   "outputs": [],
   "source": []
  }
 ],
 "metadata": {
  "kernelspec": {
   "display_name": "Python 3",
   "language": "python",
   "name": "python3"
  },
  "language_info": {
   "codemirror_mode": {
    "name": "ipython",
    "version": 3
   },
   "file_extension": ".py",
   "mimetype": "text/x-python",
   "name": "python",
   "nbconvert_exporter": "python",
   "pygments_lexer": "ipython3",
   "version": "3.6.4"
  },
  "toc": {
   "base_numbering": 1,
   "nav_menu": {},
   "number_sections": true,
   "sideBar": true,
   "skip_h1_title": false,
   "title_cell": "Table of Contents",
   "title_sidebar": "Contents",
   "toc_cell": false,
   "toc_position": {},
   "toc_section_display": true,
   "toc_window_display": false
  }
 },
 "nbformat": 4,
 "nbformat_minor": 2
}
