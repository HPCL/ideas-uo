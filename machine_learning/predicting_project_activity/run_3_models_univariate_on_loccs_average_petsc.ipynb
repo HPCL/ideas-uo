{
  "nbformat": 4,
  "nbformat_minor": 0,
  "metadata": {
    "colab": {
      "name": "run_3_models_univariate_on_loccs_average_petsc.ipynb",
      "version": "0.3.2",
      "provenance": [],
      "collapsed_sections": []
    },
    "language_info": {
      "codemirror_mode": {
        "name": "ipython",
        "version": 3
      },
      "file_extension": ".py",
      "mimetype": "text/x-python",
      "name": "python",
      "nbconvert_exporter": "python",
      "pygments_lexer": "ipython3",
      "version": "3.6.4"
    },
    "kernelspec": {
      "display_name": "Python 3",
      "language": "python",
      "name": "python3"
    }
  },
  "cells": [
    {
      "cell_type": "markdown",
      "metadata": {
        "id": "lFY1vl48w4Em",
        "colab_type": "text"
      },
      "source": [
        "# What this notebook does\n",
        "\n",
        "The overall goal is to predict the average number of lines of code changed over a k-day span using the prior history of changes over k-day spans. For instance, if k=10, then we would look back over past 10-day averages to predict the next 10-day average. The value of k and the amount to look-back are parameters. We use the following library to build what we need:<p> <code>from keras.preprocessing.sequence import TimeseriesGenerator</code>.<p>\n",
        "Notice that the 10-day chunks are taken with a sliding window of stride 1. So 12 days will yield [0-9], [1-10] and [2-11], i.e., 3 chunks.\n",
        "\n",
        "Note that the notebook is set up to treat prediction as a univariate problem where we only look at one column, the lines of code changed (and the average over it). If you wish to explore multivariate models, with more than one column used as input (e.g., include date information), then I suggest you clone this notebook to use its basic structure and then make the changes you wish.\n",
        "\n",
        "The same is true if you wish to explore a categorization model where there is more than one output. For instance, you may wish to bin the model output and use a softmax layer and one-hot encoding to predict classes (i.e., bins). Again, I would suggest cloning and then editing.\n",
        "\n",
        "In terms of operation, we first read in a project daily-table that contains for each day of the project (represented as a row) the important information about the project that day (as columns). I expect the set of columns to grow in the future, probably capturing discussion and email for the day. The csv file that you read is produced by a separate notebook.\n",
        "\n",
        "Once the table is loaded into pandas, some wrangling occurs. We may exclude the first n days of the project, for instance, because it does not reflect the project in its maturity.\n",
        "\n",
        "We next normalize data.\n",
        "  \n",
        "\n",
        "  \n"
      ]
    },
    {
      "cell_type": "markdown",
      "metadata": {
        "id": "8yHi_G1LbfZg",
        "colab_type": "text"
      },
      "source": [
        "## The 3 models explored\n",
        "\n",
        "Once wrangling is complete, we focus on 3 separate models: (1) a relatively straightforward artificial neural net (ANN), (2) an LSTM, and (3) a 1d convnet.\n",
        "\n",
        "After each model is tested, information about the test (currently from only the last model in the train-test splits) is packaged up and stored to a json file.\n",
        "\n",
        "Some preliminary post-hoc binning is done but this could be removed. Enough information is stored in the json file to use another notebook to explore binning."
      ]
    },
    {
      "cell_type": "markdown",
      "metadata": {
        "id": "_-1toViRxF6H",
        "colab_type": "text"
      },
      "source": [
        "## Our focus is on deep learning models\n",
        "\n",
        "Of course, timeseries problems have been around forever and there are a wide-range of prediction models that are possible. See https://www.semanticscholar.org/paper/An-Empirical-Comparison-of-Machine-Learning-Models-Ahmed-Atiya/1f6451ac0572ce0a6a383a25413dadd52cf770ca for at least of a few. Here is a look at non-ML techniques: https://towardsdatascience.com/time-series-in-python-exponential-smoothing-and-arima-processes-2c67f2a52788"
      ]
    },
    {
      "cell_type": "markdown",
      "metadata": {
        "id": "kQImuWiMxUpW",
        "colab_type": "text"
      },
      "source": [
        "## Assumptions of this notebook\n",
        "\n",
        "1. This notebook is being run in google colab. It uses an upload function to bring files from local computer up to colab (i.e., Google Drive). If you wish to run it on your own computer, you will need to change the file reading and writing code. And probably install some libraries.\n",
        "\n",
        "2. We expect to be able to access this file <code>project + '_feature_set_table_alt_1.csv'</code>  uploaded from your local computer. This file is produced by a separate notebook.\n",
        "\n",
        "3. We do not save trained models. Howver, it is straightforward to do so. See code below. Note -1 indexes last model tested.<p>\n",
        "  <pre>\n",
        "   from keras.models import save, load_model\n",
        "   models[-1].save('/content/gdrive/My Drive/'+project+'_model_0.h5')\n",
        "   model_test = load_model('/content/gdrive/My Drive/'+project+'_model_0.h5')\n",
        "</pre>\n"
      ]
    },
    {
      "cell_type": "code",
      "metadata": {
        "id": "LT0DS3TwlRf_",
        "colab_type": "code",
        "colab": {}
      },
      "source": [
        "import numpy as np\n",
        "from scipy import stats\n",
        "import pandas as pd"
      ],
      "execution_count": 0,
      "outputs": []
    },
    {
      "cell_type": "code",
      "metadata": {
        "id": "phiCjJNHi7K0",
        "colab_type": "code",
        "outputId": "976e6fde-8497-43bd-8fc8-45e32391e4db",
        "colab": {
          "base_uri": "https://localhost:8080/",
          "height": 34
        }
      },
      "source": [
        "from numpy import array\n",
        "from keras.models import Sequential\n",
        "from keras.layers import Dense\n",
        "from keras.layers import Flatten\n",
        "from keras.layers import Dropout\n",
        "from keras.layers import LSTM\n",
        "from keras.layers.convolutional import Conv1D\n",
        "from keras.layers.convolutional import MaxPooling1D\n",
        "from keras.utils import to_categorical\n",
        "\n",
        "from keras.layers import Embedding\n",
        "from keras.layers import GlobalAveragePooling1D"
      ],
      "execution_count": 2,
      "outputs": [
        {
          "output_type": "stream",
          "text": [
            "Using TensorFlow backend.\n"
          ],
          "name": "stderr"
        }
      ]
    },
    {
      "cell_type": "code",
      "metadata": {
        "id": "AdDI8YqwcNZ1",
        "colab_type": "code",
        "colab": {}
      },
      "source": [
        "from sklearn.model_selection import TimeSeriesSplit"
      ],
      "execution_count": 0,
      "outputs": []
    },
    {
      "cell_type": "markdown",
      "metadata": {
        "id": "iGQRiJHjxXtH",
        "colab_type": "text"
      },
      "source": [
        "## Parameters for this notebook\n",
        "\n",
        "Important notes:\n",
        "\n",
        "* the notebook does not attempt to abstract/parametrize the deep-learning model used. If you want to try something different than what is used, probably safest to copy this notebook and make your changes there.\n",
        "\n"
      ]
    },
    {
      "cell_type": "code",
      "metadata": {
        "id": "1LUzeHeeIFW4",
        "colab_type": "code",
        "colab": {}
      },
      "source": [
        "project = 'petsc'"
      ],
      "execution_count": 0,
      "outputs": []
    },
    {
      "cell_type": "code",
      "metadata": {
        "id": "jXbx3B9irv6w",
        "colab_type": "code",
        "colab": {}
      },
      "source": [
        "feature_set_file = project + '_feature_set_table_alt_2.csv'  #alt_2 includes issues"
      ],
      "execution_count": 0,
      "outputs": []
    },
    {
      "cell_type": "code",
      "metadata": {
        "id": "wzE5PjPJsWA0",
        "colab_type": "code",
        "colab": {}
      },
      "source": [
        "sequence_size = 10 #how many 7-day averages to chunk into one chunk, e.g., 10 => 16 days"
      ],
      "execution_count": 0,
      "outputs": []
    },
    {
      "cell_type": "code",
      "metadata": {
        "id": "MYwfnHTed8hg",
        "colab_type": "code",
        "colab": {}
      },
      "source": [
        "averaging_size = 7  #how many days to average over"
      ],
      "execution_count": 0,
      "outputs": []
    },
    {
      "cell_type": "code",
      "metadata": {
        "id": "k5cpGvjPLLFE",
        "colab_type": "code",
        "colab": {}
      },
      "source": [
        "epochs = 2000"
      ],
      "execution_count": 0,
      "outputs": []
    },
    {
      "cell_type": "code",
      "metadata": {
        "id": "6vn3HaYuLnLd",
        "colab_type": "code",
        "colab": {}
      },
      "source": [
        "start_day = 0  #what subset of days to model. 0 says start the first day of the project"
      ],
      "execution_count": 0,
      "outputs": []
    },
    {
      "cell_type": "code",
      "metadata": {
        "id": "-ap2P0bRNxxH",
        "colab_type": "code",
        "colab": {}
      },
      "source": [
        "splits = 3  #how many train-test splits to carry out. A model will be trained and tested for each split"
      ],
      "execution_count": 0,
      "outputs": []
    },
    {
      "cell_type": "code",
      "metadata": {
        "id": "GmaBiimZKD2e",
        "colab_type": "code",
        "outputId": "a7ce87d5-e3d3-41bd-8832-1dbac8802e1b",
        "colab": {
          "base_uri": "https://localhost:8080/",
          "height": 34
        }
      },
      "source": [
        "#Need this for later when writing results out\n",
        "\n",
        "from google.colab import drive\n",
        "drive.mount('/content/gdrive')"
      ],
      "execution_count": 11,
      "outputs": [
        {
          "output_type": "stream",
          "text": [
            "Drive already mounted at /content/gdrive; to attempt to forcibly remount, call drive.mount(\"/content/gdrive\", force_remount=True).\n"
          ],
          "name": "stdout"
        }
      ]
    },
    {
      "cell_type": "markdown",
      "metadata": {
        "id": "yWpeHvcCdvm7",
        "colab_type": "text"
      },
      "source": [
        "## First load feature set from file"
      ]
    },
    {
      "cell_type": "code",
      "metadata": {
        "id": "RzkrJ1CPrFtC",
        "colab_type": "code",
        "outputId": "842d5bbf-d409-4e30-8b3e-6ceda64638bd",
        "colab": {
          "base_uri": "https://localhost:8080/",
          "height": 34
        }
      },
      "source": [
        "#need to remove because colab will not replace an existing file but instead tack on a version number instead\n",
        "!rm $feature_set_file"
      ],
      "execution_count": 12,
      "outputs": [
        {
          "output_type": "stream",
          "text": [
            "rm: cannot remove 'petsc_feature_set_table_alt_2.csv': No such file or directory\n"
          ],
          "name": "stdout"
        }
      ]
    },
    {
      "cell_type": "code",
      "metadata": {
        "id": "oiPMFTyzL3AD",
        "colab_type": "code",
        "outputId": "06c4aa4b-b43c-475d-e7dc-c6346745b691",
        "colab": {
          "resources": {
            "http://localhost:8080/nbextensions/google.colab/files.js": {
              "data": "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",
              "ok": true,
              "headers": [
                [
                  "content-type",
                  "application/javascript"
                ]
              ],
              "status": 200,
              "status_text": ""
            }
          },
          "base_uri": "https://localhost:8080/",
          "height": 70
        }
      },
      "source": [
        "from google.colab import files\n",
        "files.upload();"
      ],
      "execution_count": 13,
      "outputs": [
        {
          "output_type": "display_data",
          "data": {
            "text/html": [
              "\n",
              "     <input type=\"file\" id=\"files-ba524cdc-f1db-4faf-b2b6-b764f2e71237\" name=\"files[]\" multiple disabled />\n",
              "     <output id=\"result-ba524cdc-f1db-4faf-b2b6-b764f2e71237\">\n",
              "      Upload widget is only available when the cell has been executed in the\n",
              "      current browser session. Please rerun this cell to enable.\n",
              "      </output>\n",
              "      <script src=\"/nbextensions/google.colab/files.js\"></script> "
            ],
            "text/plain": [
              "<IPython.core.display.HTML object>"
            ]
          },
          "metadata": {
            "tags": []
          }
        },
        {
          "output_type": "stream",
          "text": [
            "Saving petsc_feature_set_table_alt_2.csv to petsc_feature_set_table_alt_2.csv\n"
          ],
          "name": "stdout"
        }
      ]
    },
    {
      "cell_type": "code",
      "metadata": {
        "id": "bXMXMLP8MKuO",
        "colab_type": "code",
        "outputId": "2c73d011-2e43-4845-c782-5155dd88948a",
        "colab": {
          "base_uri": "https://localhost:8080/",
          "height": 34
        }
      },
      "source": [
        "feature_set_table = pd.read_csv(feature_set_file)  #produced prior to this notebook\n",
        "    \n",
        "len(feature_set_table)"
      ],
      "execution_count": 14,
      "outputs": [
        {
          "output_type": "execute_result",
          "data": {
            "text/plain": [
              "9074"
            ]
          },
          "metadata": {
            "tags": []
          },
          "execution_count": 14
        }
      ]
    },
    {
      "cell_type": "markdown",
      "metadata": {
        "id": "xqCCnn1D7m2z",
        "colab_type": "text"
      },
      "source": [
        "## You can choose a <code>Runtime/Run-after</code> command at this point\n",
        "\n",
        "All interaction has been completed and code should run until completion."
      ]
    },
    {
      "cell_type": "code",
      "metadata": {
        "id": "gbtpPBZcA0_o",
        "colab_type": "code",
        "outputId": "16b1888d-a7c6-4a44-a51b-bde99c5f8a62",
        "colab": {
          "base_uri": "https://localhost:8080/",
          "height": 195
        }
      },
      "source": [
        "feature_set_table.head()"
      ],
      "execution_count": 15,
      "outputs": [
        {
          "output_type": "execute_result",
          "data": {
            "text/html": [
              "<div>\n",
              "<style scoped>\n",
              "    .dataframe tbody tr th:only-of-type {\n",
              "        vertical-align: middle;\n",
              "    }\n",
              "\n",
              "    .dataframe tbody tr th {\n",
              "        vertical-align: top;\n",
              "    }\n",
              "\n",
              "    .dataframe thead th {\n",
              "        text-align: right;\n",
              "    }\n",
              "</style>\n",
              "<table border=\"1\" class=\"dataframe\">\n",
              "  <thead>\n",
              "    <tr style=\"text-align: right;\">\n",
              "      <th></th>\n",
              "      <th>month</th>\n",
              "      <th>day_of_month</th>\n",
              "      <th>day_of_week</th>\n",
              "      <th>year</th>\n",
              "      <th>total_commits</th>\n",
              "      <th>total_loccs</th>\n",
              "      <th>total_messages</th>\n",
              "      <th>total_filenames</th>\n",
              "      <th>total_names</th>\n",
              "      <th>doy</th>\n",
              "      <th>issues</th>\n",
              "    </tr>\n",
              "  </thead>\n",
              "  <tbody>\n",
              "    <tr>\n",
              "      <th>0</th>\n",
              "      <td>9</td>\n",
              "      <td>22</td>\n",
              "      <td>4</td>\n",
              "      <td>1994</td>\n",
              "      <td>1</td>\n",
              "      <td>14</td>\n",
              "      <td>['    Initial revision\\n']</td>\n",
              "      <td>[['a/maint/mkpdir b/maint/mkpdir', 'a/maint/to...</td>\n",
              "      <td>[b'Barry Smith &lt;bsmith@mcs.anl.gov&gt;']</td>\n",
              "      <td>265</td>\n",
              "      <td>[]</td>\n",
              "    </tr>\n",
              "    <tr>\n",
              "      <th>1</th>\n",
              "      <td>9</td>\n",
              "      <td>23</td>\n",
              "      <td>5</td>\n",
              "      <td>1994</td>\n",
              "      <td>0</td>\n",
              "      <td>0</td>\n",
              "      <td>[]</td>\n",
              "      <td>[]</td>\n",
              "      <td>[]</td>\n",
              "      <td>266</td>\n",
              "      <td>[]</td>\n",
              "    </tr>\n",
              "    <tr>\n",
              "      <th>2</th>\n",
              "      <td>9</td>\n",
              "      <td>24</td>\n",
              "      <td>6</td>\n",
              "      <td>1994</td>\n",
              "      <td>0</td>\n",
              "      <td>0</td>\n",
              "      <td>[]</td>\n",
              "      <td>[]</td>\n",
              "      <td>[]</td>\n",
              "      <td>267</td>\n",
              "      <td>[]</td>\n",
              "    </tr>\n",
              "    <tr>\n",
              "      <th>3</th>\n",
              "      <td>9</td>\n",
              "      <td>25</td>\n",
              "      <td>7</td>\n",
              "      <td>1994</td>\n",
              "      <td>0</td>\n",
              "      <td>0</td>\n",
              "      <td>[]</td>\n",
              "      <td>[]</td>\n",
              "      <td>[]</td>\n",
              "      <td>268</td>\n",
              "      <td>[]</td>\n",
              "    </tr>\n",
              "    <tr>\n",
              "      <th>4</th>\n",
              "      <td>9</td>\n",
              "      <td>26</td>\n",
              "      <td>1</td>\n",
              "      <td>1994</td>\n",
              "      <td>0</td>\n",
              "      <td>0</td>\n",
              "      <td>[]</td>\n",
              "      <td>[]</td>\n",
              "      <td>[]</td>\n",
              "      <td>269</td>\n",
              "      <td>[]</td>\n",
              "    </tr>\n",
              "  </tbody>\n",
              "</table>\n",
              "</div>"
            ],
            "text/plain": [
              "   month  day_of_month  ...  doy  issues\n",
              "0      9            22  ...  265      []\n",
              "1      9            23  ...  266      []\n",
              "2      9            24  ...  267      []\n",
              "3      9            25  ...  268      []\n",
              "4      9            26  ...  269      []\n",
              "\n",
              "[5 rows x 11 columns]"
            ]
          },
          "metadata": {
            "tags": []
          },
          "execution_count": 15
        }
      ]
    },
    {
      "cell_type": "markdown",
      "metadata": {
        "id": "PA1Mnvo3Rg8O",
        "colab_type": "text"
      },
      "source": [
        "## Trim feature set down\n",
        "\n",
        "k is index to start from, i.e., [k:2344]\n",
        "\n",
        "if k = 0 then whole table (no trimming)."
      ]
    },
    {
      "cell_type": "code",
      "metadata": {
        "id": "YLQImU1LRnTk",
        "colab_type": "code",
        "colab": {}
      },
      "source": [
        "k = start_day  #by starting at day k you are trimming off the first k-1 days"
      ],
      "execution_count": 0,
      "outputs": []
    },
    {
      "cell_type": "code",
      "metadata": {
        "id": "Zzuy8j25RqL3",
        "colab_type": "code",
        "outputId": "7a3976dc-650f-46bc-9fca-3bc90f0ef107",
        "colab": {
          "base_uri": "https://localhost:8080/",
          "height": 195
        }
      },
      "source": [
        "trimmed_table = feature_set_table.iloc[-k:]\n",
        "trimmed_table.tail()\n"
      ],
      "execution_count": 17,
      "outputs": [
        {
          "output_type": "execute_result",
          "data": {
            "text/html": [
              "<div>\n",
              "<style scoped>\n",
              "    .dataframe tbody tr th:only-of-type {\n",
              "        vertical-align: middle;\n",
              "    }\n",
              "\n",
              "    .dataframe tbody tr th {\n",
              "        vertical-align: top;\n",
              "    }\n",
              "\n",
              "    .dataframe thead th {\n",
              "        text-align: right;\n",
              "    }\n",
              "</style>\n",
              "<table border=\"1\" class=\"dataframe\">\n",
              "  <thead>\n",
              "    <tr style=\"text-align: right;\">\n",
              "      <th></th>\n",
              "      <th>month</th>\n",
              "      <th>day_of_month</th>\n",
              "      <th>day_of_week</th>\n",
              "      <th>year</th>\n",
              "      <th>total_commits</th>\n",
              "      <th>total_loccs</th>\n",
              "      <th>total_messages</th>\n",
              "      <th>total_filenames</th>\n",
              "      <th>total_names</th>\n",
              "      <th>doy</th>\n",
              "      <th>issues</th>\n",
              "    </tr>\n",
              "  </thead>\n",
              "  <tbody>\n",
              "    <tr>\n",
              "      <th>9069</th>\n",
              "      <td>7</td>\n",
              "      <td>28</td>\n",
              "      <td>7</td>\n",
              "      <td>2019</td>\n",
              "      <td>3</td>\n",
              "      <td>174</td>\n",
              "      <td>['    tests: add alt files for ksp_ksp_tutoria...</td>\n",
              "      <td>[['a/src/ksp/ksp/examples/tutorials/output/ex7...</td>\n",
              "      <td>[b'Satish Balay &lt;balay@mcs.anl.gov&gt;', b'Pierre...</td>\n",
              "      <td>209</td>\n",
              "      <td>[]</td>\n",
              "    </tr>\n",
              "    <tr>\n",
              "      <th>9070</th>\n",
              "      <td>7</td>\n",
              "      <td>29</td>\n",
              "      <td>1</td>\n",
              "      <td>2019</td>\n",
              "      <td>7</td>\n",
              "      <td>88</td>\n",
              "      <td>['    Missing code around something that needs...</td>\n",
              "      <td>[['a/src/docs/website/documentation/installati...</td>\n",
              "      <td>[b'BarryFSmith &lt;bsmith@mcs.anl.gov&gt;', b'BarryF...</td>\n",
              "      <td>210</td>\n",
              "      <td>[]</td>\n",
              "    </tr>\n",
              "    <tr>\n",
              "      <th>9071</th>\n",
              "      <td>7</td>\n",
              "      <td>30</td>\n",
              "      <td>2</td>\n",
              "      <td>2019</td>\n",
              "      <td>2</td>\n",
              "      <td>50</td>\n",
              "      <td>['    Add PetscIntCast() to check for integer ...</td>\n",
              "      <td>[['a/include/petscsys.h b/include/petscsys.h']...</td>\n",
              "      <td>[b'Barry Smith &lt;bsmith@mcs.anl.gov&gt;', b'Vaclav...</td>\n",
              "      <td>211</td>\n",
              "      <td>[]</td>\n",
              "    </tr>\n",
              "    <tr>\n",
              "      <th>9072</th>\n",
              "      <td>7</td>\n",
              "      <td>31</td>\n",
              "      <td>3</td>\n",
              "      <td>2019</td>\n",
              "      <td>7</td>\n",
              "      <td>50</td>\n",
              "      <td>['    fix compile warnings on arch-linux-pkgs-...</td>\n",
              "      <td>[['a/include/petscsys.h b/include/petscsys.h']...</td>\n",
              "      <td>[b'Satish Balay &lt;balay@mcs.anl.gov&gt;', b'BarryF...</td>\n",
              "      <td>212</td>\n",
              "      <td>[]</td>\n",
              "    </tr>\n",
              "    <tr>\n",
              "      <th>9073</th>\n",
              "      <td>8</td>\n",
              "      <td>1</td>\n",
              "      <td>4</td>\n",
              "      <td>2019</td>\n",
              "      <td>1</td>\n",
              "      <td>3</td>\n",
              "      <td>['    Fix manual pages for MatXXXYBAIJSetPreal...</td>\n",
              "      <td>[['a/src/mat/impls/baij/mpi/mpibaij.c b/src/ma...</td>\n",
              "      <td>[b'Barry Smith &lt;bsmith@mcs.anl.gov&gt;']</td>\n",
              "      <td>213</td>\n",
              "      <td>[]</td>\n",
              "    </tr>\n",
              "  </tbody>\n",
              "</table>\n",
              "</div>"
            ],
            "text/plain": [
              "      month  day_of_month  ...  doy  issues\n",
              "9069      7            28  ...  209      []\n",
              "9070      7            29  ...  210      []\n",
              "9071      7            30  ...  211      []\n",
              "9072      7            31  ...  212      []\n",
              "9073      8             1  ...  213      []\n",
              "\n",
              "[5 rows x 11 columns]"
            ]
          },
          "metadata": {
            "tags": []
          },
          "execution_count": 17
        }
      ]
    },
    {
      "cell_type": "code",
      "metadata": {
        "id": "lejJyrPuZH_V",
        "colab_type": "code",
        "outputId": "847f5959-6d19-4525-d212-163967058174",
        "colab": {
          "base_uri": "https://localhost:8080/",
          "height": 195
        }
      },
      "source": [
        "trimmed_table.head()"
      ],
      "execution_count": 18,
      "outputs": [
        {
          "output_type": "execute_result",
          "data": {
            "text/html": [
              "<div>\n",
              "<style scoped>\n",
              "    .dataframe tbody tr th:only-of-type {\n",
              "        vertical-align: middle;\n",
              "    }\n",
              "\n",
              "    .dataframe tbody tr th {\n",
              "        vertical-align: top;\n",
              "    }\n",
              "\n",
              "    .dataframe thead th {\n",
              "        text-align: right;\n",
              "    }\n",
              "</style>\n",
              "<table border=\"1\" class=\"dataframe\">\n",
              "  <thead>\n",
              "    <tr style=\"text-align: right;\">\n",
              "      <th></th>\n",
              "      <th>month</th>\n",
              "      <th>day_of_month</th>\n",
              "      <th>day_of_week</th>\n",
              "      <th>year</th>\n",
              "      <th>total_commits</th>\n",
              "      <th>total_loccs</th>\n",
              "      <th>total_messages</th>\n",
              "      <th>total_filenames</th>\n",
              "      <th>total_names</th>\n",
              "      <th>doy</th>\n",
              "      <th>issues</th>\n",
              "    </tr>\n",
              "  </thead>\n",
              "  <tbody>\n",
              "    <tr>\n",
              "      <th>0</th>\n",
              "      <td>9</td>\n",
              "      <td>22</td>\n",
              "      <td>4</td>\n",
              "      <td>1994</td>\n",
              "      <td>1</td>\n",
              "      <td>14</td>\n",
              "      <td>['    Initial revision\\n']</td>\n",
              "      <td>[['a/maint/mkpdir b/maint/mkpdir', 'a/maint/to...</td>\n",
              "      <td>[b'Barry Smith &lt;bsmith@mcs.anl.gov&gt;']</td>\n",
              "      <td>265</td>\n",
              "      <td>[]</td>\n",
              "    </tr>\n",
              "    <tr>\n",
              "      <th>1</th>\n",
              "      <td>9</td>\n",
              "      <td>23</td>\n",
              "      <td>5</td>\n",
              "      <td>1994</td>\n",
              "      <td>0</td>\n",
              "      <td>0</td>\n",
              "      <td>[]</td>\n",
              "      <td>[]</td>\n",
              "      <td>[]</td>\n",
              "      <td>266</td>\n",
              "      <td>[]</td>\n",
              "    </tr>\n",
              "    <tr>\n",
              "      <th>2</th>\n",
              "      <td>9</td>\n",
              "      <td>24</td>\n",
              "      <td>6</td>\n",
              "      <td>1994</td>\n",
              "      <td>0</td>\n",
              "      <td>0</td>\n",
              "      <td>[]</td>\n",
              "      <td>[]</td>\n",
              "      <td>[]</td>\n",
              "      <td>267</td>\n",
              "      <td>[]</td>\n",
              "    </tr>\n",
              "    <tr>\n",
              "      <th>3</th>\n",
              "      <td>9</td>\n",
              "      <td>25</td>\n",
              "      <td>7</td>\n",
              "      <td>1994</td>\n",
              "      <td>0</td>\n",
              "      <td>0</td>\n",
              "      <td>[]</td>\n",
              "      <td>[]</td>\n",
              "      <td>[]</td>\n",
              "      <td>268</td>\n",
              "      <td>[]</td>\n",
              "    </tr>\n",
              "    <tr>\n",
              "      <th>4</th>\n",
              "      <td>9</td>\n",
              "      <td>26</td>\n",
              "      <td>1</td>\n",
              "      <td>1994</td>\n",
              "      <td>0</td>\n",
              "      <td>0</td>\n",
              "      <td>[]</td>\n",
              "      <td>[]</td>\n",
              "      <td>[]</td>\n",
              "      <td>269</td>\n",
              "      <td>[]</td>\n",
              "    </tr>\n",
              "  </tbody>\n",
              "</table>\n",
              "</div>"
            ],
            "text/plain": [
              "   month  day_of_month  ...  doy  issues\n",
              "0      9            22  ...  265      []\n",
              "1      9            23  ...  266      []\n",
              "2      9            24  ...  267      []\n",
              "3      9            25  ...  268      []\n",
              "4      9            26  ...  269      []\n",
              "\n",
              "[5 rows x 11 columns]"
            ]
          },
          "metadata": {
            "tags": []
          },
          "execution_count": 18
        }
      ]
    },
    {
      "cell_type": "markdown",
      "metadata": {
        "id": "VLqyfwvxsR1c",
        "colab_type": "text"
      },
      "source": [
        "##Transform into a univariate sequence\n",
        "\n",
        "A sequence of n-day averages. Uses averaging_size to get n."
      ]
    },
    {
      "cell_type": "code",
      "metadata": {
        "id": "CRbq4mUzsgep",
        "colab_type": "code",
        "colab": {}
      },
      "source": [
        "averages = []\n",
        "\n",
        "for i in range(len(trimmed_table) - averaging_size):\n",
        "  x_average = sum([trimmed_table.loc[j, 'total_loccs'] for j in range(i, i+averaging_size)])/averaging_size\n",
        "  averages.append(x_average)"
      ],
      "execution_count": 0,
      "outputs": []
    },
    {
      "cell_type": "code",
      "metadata": {
        "id": "BsnFg1OntVu3",
        "colab_type": "code",
        "outputId": "9f1aa97e-7ef9-4524-c1a6-0d5bff276156",
        "colab": {
          "base_uri": "https://localhost:8080/",
          "height": 67
        }
      },
      "source": [
        "uni_averages = np.array(averages)\n",
        "uni_averages[:10]"
      ],
      "execution_count": 20,
      "outputs": [
        {
          "output_type": "execute_result",
          "data": {
            "text/plain": [
              "array([   2.        ,    0.        ,    0.        , 1077.85714286,\n",
              "       1077.85714286, 1085.        , 1109.57142857, 1114.14285714,\n",
              "       1117.57142857, 1117.57142857])"
            ]
          },
          "metadata": {
            "tags": []
          },
          "execution_count": 20
        }
      ]
    },
    {
      "cell_type": "markdown",
      "metadata": {
        "id": "ssIasUJfiivI",
        "colab_type": "text"
      },
      "source": [
        "## Now normalize"
      ]
    },
    {
      "cell_type": "code",
      "metadata": {
        "id": "esJ6O9rKgwOD",
        "colab_type": "code",
        "outputId": "704d696e-bb95-445a-b609-fd658bfa6ee0",
        "colab": {
          "base_uri": "https://localhost:8080/",
          "height": 67
        }
      },
      "source": [
        "x_min = uni_averages.min()\n",
        "x_max = uni_averages.max()\n",
        "z = x_max - x_min\n",
        "x_normed = np.array([(val-x_min)/z for val in uni_averages])\n",
        "x_normed[:10]"
      ],
      "execution_count": 21,
      "outputs": [
        {
          "output_type": "execute_result",
          "data": {
            "text/plain": [
              "array([2.75573192e-05, 0.00000000e+00, 0.00000000e+00, 1.48514267e-02,\n",
              "       1.48514267e-02, 1.49498457e-02, 1.52884070e-02, 1.53513952e-02,\n",
              "       1.53986363e-02, 1.53986363e-02])"
            ]
          },
          "metadata": {
            "tags": []
          },
          "execution_count": 21
        }
      ]
    },
    {
      "cell_type": "markdown",
      "metadata": {
        "id": "uWqnqhze_ao9",
        "colab_type": "text"
      },
      "source": [
        "###Un-Norming function for later"
      ]
    },
    {
      "cell_type": "code",
      "metadata": {
        "id": "RXMaJicD_f_O",
        "colab_type": "code",
        "colab": {}
      },
      "source": [
        "def undo_norm(z, xm):\n",
        "  return lambda v: v * z + xm\n",
        "    \n",
        "unnorm = undo_norm(z,x_min)"
      ],
      "execution_count": 0,
      "outputs": []
    },
    {
      "cell_type": "code",
      "metadata": {
        "id": "UPZz-6r9B1cr",
        "colab_type": "code",
        "outputId": "1c491280-07ea-451c-8332-3793aa2de921",
        "colab": {
          "base_uri": "https://localhost:8080/",
          "height": 34
        }
      },
      "source": [
        "unnorm(2.75573192e-05)"
      ],
      "execution_count": 24,
      "outputs": [
        {
          "output_type": "execute_result",
          "data": {
            "text/plain": [
              "1.9999999982592"
            ]
          },
          "metadata": {
            "tags": []
          },
          "execution_count": 24
        }
      ]
    },
    {
      "cell_type": "markdown",
      "metadata": {
        "id": "AiOCUQpQtxLS",
        "colab_type": "text"
      },
      "source": [
        "## Look at rolling averages, etc.\n",
        "\n",
        "We are not doing anything with smoothing at the moment. However, some data that might be useful if you choose to do some smoothing is plotted.\n",
        "\n",
        "Also see https://machinelearningmastery.com/power-transform-time-series-forecast-data-python/."
      ]
    },
    {
      "cell_type": "code",
      "metadata": {
        "id": "6yP4NoD3tv85",
        "colab_type": "code",
        "colab": {}
      },
      "source": [
        "import matplotlib.pyplot as plt\n",
        "import matplotlib.dates as mdates\n",
        "%matplotlib inline\n",
        "plt.style.use('Solarize_Light2')\n",
        "\n",
        "\n",
        "data = [(i,v) for i,v in enumerate(uni_averages)]\n",
        "df = pd.DataFrame(data, columns=['time','data']).set_index('time')\n",
        "\n"
      ],
      "execution_count": 0,
      "outputs": []
    },
    {
      "cell_type": "code",
      "metadata": {
        "id": "sLCb6iIMvt8J",
        "colab_type": "code",
        "outputId": "73699a57-8920-4443-91c4-96af4afa9fa1",
        "colab": {
          "base_uri": "https://localhost:8080/",
          "height": 246
        }
      },
      "source": [
        "df.plot(figsize=(12,3));\n",
        "plt.title('Univariate Data');"
      ],
      "execution_count": 26,
      "outputs": [
        {
          "output_type": "display_data",
          "data": {
            "image/png": "[encoded data removed]",
            "text/plain": [
              "<Figure size 864x216 with 1 Axes>"
            ]
          },
          "metadata": {
            "tags": []
          }
        }
      ]
    },
    {
      "cell_type": "code",
      "metadata": {
        "id": "YEd5JVijvB_A",
        "colab_type": "code",
        "colab": {}
      },
      "source": [
        "window = 30\n",
        "df['z_data'] = (df['data'] - df.data.rolling(window=window).mean()) / df.data.rolling(window=window).std()\n",
        "df['zp_data'] = df['z_data'] - df['z_data'].shift(window)\n",
        "\n",
        "def plot_rolling(df):\n",
        "    fig, ax = plt.subplots(3,figsize=(12, 9))\n",
        "    ax[0].plot(df.index, df.data, label='raw data')\n",
        "    ax[0].plot(df.data.rolling(window=window).mean(), 'r', label=\"rolling mean\");\n",
        "    ax[0].plot(df.data.rolling(window=window).std(), 'y', label=\"rolling std (x10)\");\n",
        "    ax[0].legend()\n",
        "\n",
        "    ax[1].plot(df.index, df.z_data, label=\"de-trended data\")\n",
        "    ax[1].plot(df.z_data.rolling(window=window).mean(), 'r',label=\"rolling mean\");\n",
        "    ax[1].plot(df.z_data.rolling(window=window).std(), 'y',label=\"rolling std (x10)\");\n",
        "    ax[1].legend()\n",
        "\n",
        "    ax[2].plot(df.index, df.zp_data, label=str(window)+\" lag differenced de-trended data\")\n",
        "    ax[2].plot(df.zp_data.rolling(window=window).mean(), 'r',label=\"rolling mean\");\n",
        "    ax[2].plot(df.zp_data.rolling(window=window).std(), 'y',label=\"rolling std (x10)\");\n",
        "    ax[2].legend()\n",
        "\n",
        "    plt.tight_layout()\n",
        "    fig.autofmt_xdate()\n"
      ],
      "execution_count": 0,
      "outputs": []
    },
    {
      "cell_type": "code",
      "metadata": {
        "id": "0A8rjQ-AwbAM",
        "colab_type": "code",
        "outputId": "93f155ab-72d7-4aee-8609-f8295d49b724",
        "colab": {
          "base_uri": "https://localhost:8080/",
          "height": 567
        }
      },
      "source": [
        "plot_rolling(df)"
      ],
      "execution_count": 28,
      "outputs": [
        {
          "output_type": "display_data",
          "data": {
            "image/png": "[encoded data removed]",
            "text/plain": [
              "<Figure size 864x648 with 3 Axes>"
            ]
          },
          "metadata": {
            "tags": []
          }
        }
      ]
    },
    {
      "cell_type": "markdown",
      "metadata": {
        "id": "9bW99hAHxyQf",
        "colab_type": "text"
      },
      "source": [
        "##See how generator works\n",
        "\n",
        "Will be using it in setting up input and output during model training.\n",
        "\n",
        "Important to note that we are using a stride of 1. Only shift k-day lens one day at a time to the right. In particularly, we are not looking at weeks where we would have a stride of 7. Here is tutorial: https://machinelearningmastery.com/how-to-use-the-timeseriesgenerator-for-time-series-forecasting-in-keras/"
      ]
    },
    {
      "cell_type": "code",
      "metadata": {
        "id": "SHPIz3jIvETm",
        "colab_type": "code",
        "colab": {}
      },
      "source": [
        "from keras.preprocessing.sequence import TimeseriesGenerator"
      ],
      "execution_count": 0,
      "outputs": []
    },
    {
      "cell_type": "code",
      "metadata": {
        "id": "QOFbtX0FwvkR",
        "colab_type": "code",
        "colab": {}
      },
      "source": [
        "# define generator\n",
        "series = x_normed  #list of 7-day averages using sliding window, e.g., 14 days yields 8 x 7-day averages\n",
        "\n",
        "generator = TimeseriesGenerator(series, series, length=sequence_size, batch_size=1)"
      ],
      "execution_count": 0,
      "outputs": []
    },
    {
      "cell_type": "code",
      "metadata": {
        "id": "6ysU3XdAyCFi",
        "colab_type": "code",
        "outputId": "dc11a004-2ab3-4bcc-d59e-0d91243b731f",
        "colab": {
          "base_uri": "https://localhost:8080/",
          "height": 34
        }
      },
      "source": [
        "# number of samples\n",
        "print('Samples: %d' % len(generator))"
      ],
      "execution_count": 31,
      "outputs": [
        {
          "output_type": "stream",
          "text": [
            "Samples: 9057\n"
          ],
          "name": "stdout"
        }
      ]
    },
    {
      "cell_type": "code",
      "metadata": {
        "id": "aLXA6g6ryMCr",
        "colab_type": "code",
        "outputId": "560aa16c-6613-4321-f207-a8e449b27f9c",
        "colab": {
          "base_uri": "https://localhost:8080/",
          "height": 101
        }
      },
      "source": [
        "#note stride of only 1\n",
        "\n",
        "for i in range(2):\n",
        "\tx, y = generator[i]\n",
        "\tprint('%s => %s' % (x, y))"
      ],
      "execution_count": 32,
      "outputs": [
        {
          "output_type": "stream",
          "text": [
            "[[2.75573192e-05 0.00000000e+00 0.00000000e+00 1.48514267e-02\n",
            "  1.48514267e-02 1.49498457e-02 1.52884070e-02 1.53513952e-02\n",
            "  1.53986363e-02 1.53986363e-02]] => [0.00054721]\n",
            "[[0.         0.         0.01485143 0.01485143 0.01494985 0.01528841\n",
            "  0.0153514  0.01539864 0.01539864 0.00054721]] => [0.00054721]\n"
          ],
          "name": "stdout"
        }
      ]
    },
    {
      "cell_type": "markdown",
      "metadata": {
        "id": "1kw4QuHlBjVe",
        "colab_type": "text"
      },
      "source": [
        "### Grab a test value for illustration"
      ]
    },
    {
      "cell_type": "code",
      "metadata": {
        "id": "vA8r7YxeCfvn",
        "colab_type": "code",
        "outputId": "d4c95c79-69f2-4d75-b76d-72c9b46000f1",
        "colab": {
          "base_uri": "https://localhost:8080/",
          "height": 67
        }
      },
      "source": [
        "test_input = generator[0][0]\n",
        "test_input"
      ],
      "execution_count": 33,
      "outputs": [
        {
          "output_type": "execute_result",
          "data": {
            "text/plain": [
              "array([[2.75573192e-05, 0.00000000e+00, 0.00000000e+00, 1.48514267e-02,\n",
              "        1.48514267e-02, 1.49498457e-02, 1.52884070e-02, 1.53513952e-02,\n",
              "        1.53986363e-02, 1.53986363e-02]])"
            ]
          },
          "metadata": {
            "tags": []
          },
          "execution_count": 33
        }
      ]
    },
    {
      "cell_type": "code",
      "metadata": {
        "id": "SYjpUP9CC1ot",
        "colab_type": "code",
        "outputId": "2eb29ba8-3d69-48b1-f529-db9160472e71",
        "colab": {
          "base_uri": "https://localhost:8080/",
          "height": 34
        }
      },
      "source": [
        "test_output = generator[0][1]\n",
        "test_output"
      ],
      "execution_count": 34,
      "outputs": [
        {
          "output_type": "execute_result",
          "data": {
            "text/plain": [
              "array([0.00054721])"
            ]
          },
          "metadata": {
            "tags": []
          },
          "execution_count": 34
        }
      ]
    },
    {
      "cell_type": "code",
      "metadata": {
        "colab_type": "code",
        "id": "oM0q97wOkOO4",
        "colab": {}
      },
      "source": [
        "from sklearn.model_selection import TimeSeriesSplit\n",
        "from matplotlib import pyplot"
      ],
      "execution_count": 0,
      "outputs": []
    },
    {
      "cell_type": "markdown",
      "metadata": {
        "id": "CSNJASVMOCjm",
        "colab_type": "text"
      },
      "source": [
        "## Now look at generating train-test splits"
      ]
    },
    {
      "cell_type": "code",
      "metadata": {
        "colab_type": "code",
        "id": "hal4UK-hkOO-",
        "outputId": "f1337d1e-f9fd-43d4-b570-904e77b1c20e",
        "colab": {
          "base_uri": "https://localhost:8080/",
          "height": 420
        }
      },
      "source": [
        "X = [f for f in x_normed]  #use normed_total_loccs column\n",
        "splits = TimeSeriesSplit(n_splits=splits)  #choosing 3 splits\n",
        "pyplot.figure(1)\n",
        "index = 1\n",
        "for train_index, test_index in splits.split(X):\n",
        "  train = [X[i] for i in train_index]\n",
        "  test = [X[i] for i in test_index]\n",
        "  print('Observations: %d' % (len(train) + len(test)))\n",
        "  print('Training Observations: %d' % (len(train)))\n",
        "  print('Testing Observations: %d' % (len(test)))\n",
        "  pyplot.subplot(310 + index)\n",
        "  pyplot.plot(train)\n",
        "  pyplot.plot([None for i in train] + [x for x in test], 'y')\n",
        "  index += 1\n",
        "pyplot.show()\n"
      ],
      "execution_count": 36,
      "outputs": [
        {
          "output_type": "stream",
          "text": [
            "Observations: 4535\n",
            "Training Observations: 2269\n",
            "Testing Observations: 2266\n",
            "Observations: 6801\n",
            "Training Observations: 4535\n",
            "Testing Observations: 2266\n",
            "Observations: 9067\n",
            "Training Observations: 6801\n",
            "Testing Observations: 2266\n"
          ],
          "name": "stdout"
        },
        {
          "output_type": "display_data",
          "data": {
            "image/png": "[encoded data removed]",
            "text/plain": [
              "<Figure size 432x288 with 3 Axes>"
            ]
          },
          "metadata": {
            "tags": []
          }
        }
      ]
    },
    {
      "cell_type": "markdown",
      "metadata": {
        "id": "7_Pq2MbDBYcD",
        "colab_type": "text"
      },
      "source": [
        "## First model - straight up ANN"
      ]
    },
    {
      "cell_type": "code",
      "metadata": {
        "id": "8l_YbsshhOdr",
        "colab_type": "code",
        "colab": {}
      },
      "source": [
        "def ann_build_and_train_and_test(train_x, test_x, sequence_size, epochs=1000):\n",
        "  print('Starting new model construction')\n",
        "  \n",
        "  #generate a list of sequences for training \n",
        "  print('Generating training feature-set and labels')\n",
        "  \n",
        "  generator = TimeseriesGenerator(train_x, train_x, length=sequence_size, batch_size=1)\n",
        "  model = Sequential()\n",
        "  model.add(Dense(100, activation='relu', input_dim=sequence_size))\n",
        "  model.add(Dense(1))\n",
        "  model.compile(optimizer='adam', loss='mse')\n",
        "  model.fit_generator(generator, steps_per_epoch=1, epochs=epochs, verbose=0)\n",
        "  \n",
        "  #test model\n",
        "  print('Testing model')\n",
        "  generator = TimeseriesGenerator(test_x, test_x, length=sequence_size, batch_size=1)\n",
        "  predictions = []\n",
        "  for  x,y in generator:\n",
        "    #chunk = np.expand_dims(x, axis=0)\n",
        "    chunk = x\n",
        "    yhat = model.predict(chunk, verbose=0)\n",
        "    predictions.append((yhat, y, abs(yhat-y)))  #(prediction, actual, diff)\n",
        "  print('model ready to go')\n",
        "  return (model, predictions)"
      ],
      "execution_count": 0,
      "outputs": []
    },
    {
      "cell_type": "markdown",
      "metadata": {
        "id": "lrTrln05v-iG",
        "colab_type": "text"
      },
      "source": [
        "### Reminder that k models will be trained and tested.\n",
        "\n",
        "Where k = splits (set at top of notebook).\n",
        "\n",
        "See graph above for the days that are included for each. Note only the last model takes into account the entire span of days."
      ]
    },
    {
      "cell_type": "code",
      "metadata": {
        "id": "pyytPd6NjXbc",
        "colab_type": "code",
        "outputId": "14a5f2f7-7164-4c3a-9035-4d15eb25ba6b",
        "colab": {
          "base_uri": "https://localhost:8080/",
          "height": 386
        }
      },
      "source": [
        "import time\n",
        "t0 = time.time()\n",
        "\n",
        "ann_models = []\n",
        "ann_model_predictions = []\n",
        "\n",
        "for train_indices, test_indices in splits.split(x_normed[:-averaging_size]):\n",
        "  train_x = [x_normed[i] for i in train_indices]           #Note train_index is actually a list of indices\n",
        "  test_x = [x_normed[i] for i in test_indices]\n",
        "  \n",
        "  print('Building model with these ranges:')\n",
        "  print('\\t Training: ' + str((train_indices[0], train_indices[-1])))\n",
        "  print('\\t Testing:  ' + str((test_indices[0], test_indices[-1])))\n",
        "  \n",
        "  the_model, predictions = ann_build_and_train_and_test(train_x,  test_x, sequence_size, epochs)\n",
        "\n",
        "  ann_model_predictions.append(predictions)  #list of (yhat, actual) for each feature in test\n",
        "  ann_models.append(the_model)\n",
        "\n",
        "t1 = time.time()\n",
        "print(('elapsed time', t1-t0))"
      ],
      "execution_count": 40,
      "outputs": [
        {
          "output_type": "stream",
          "text": [
            "Building model with these ranges:\n",
            "\t Training: (0, 2264)\n",
            "\t Testing:  (2265, 4529)\n",
            "Starting new model construction\n",
            "Generating training feature-set and labels\n",
            "Testing model\n",
            "model ready to go\n",
            "Building model with these ranges:\n",
            "\t Training: (0, 4529)\n",
            "\t Testing:  (4530, 6794)\n",
            "Starting new model construction\n",
            "Generating training feature-set and labels\n",
            "Testing model\n",
            "model ready to go\n",
            "Building model with these ranges:\n",
            "\t Training: (0, 6794)\n",
            "\t Testing:  (6795, 9059)\n",
            "Starting new model construction\n",
            "Generating training feature-set and labels\n",
            "Testing model\n",
            "model ready to go\n",
            "('elapsed time', 14.555704593658447)\n"
          ],
          "name": "stdout"
        }
      ]
    },
    {
      "cell_type": "code",
      "metadata": {
        "id": "tpP4SB0v7qa1",
        "colab_type": "code",
        "colab": {
          "base_uri": "https://localhost:8080/",
          "height": 34
        },
        "outputId": "fb3dba81-7219-4288-ab06-094ce605b236"
      },
      "source": [
        "len(ann_models)"
      ],
      "execution_count": 41,
      "outputs": [
        {
          "output_type": "execute_result",
          "data": {
            "text/plain": [
              "3"
            ]
          },
          "metadata": {
            "tags": []
          },
          "execution_count": 41
        }
      ]
    },
    {
      "cell_type": "markdown",
      "metadata": {
        "id": "cGNkA3FlwUXg",
        "colab_type": "text"
      },
      "source": [
        "###Plot the abs differences bewteen predicted and actual in terms of k-day averages of lines of code changed."
      ]
    },
    {
      "cell_type": "code",
      "metadata": {
        "colab_type": "code",
        "id": "XMigBexDlIds",
        "outputId": "45297dcf-2913-44ca-aaae-21255593be6a",
        "colab": {
          "base_uri": "https://localhost:8080/",
          "height": 34
        }
      },
      "source": [
        "## Plot abs(predicted-actual)\n",
        "\n",
        "%matplotlib inline\n",
        "from matplotlib import pyplot as plt\n",
        "\n",
        "\n",
        "# Get current size\n",
        "fig_size = plt.rcParams[\"figure.figsize\"]\n",
        " \n",
        "# Prints: [8.0, 6.0]\n",
        "print( \"Current size:\", fig_size)\n",
        "\n",
        "# Set figure width to 12 and height to 9\n",
        "fig_size[0] = 12\n",
        "fig_size[1] = 6\n",
        "plt.rcParams[\"figure.figsize\"] = fig_size\n",
        "\n",
        "def basic_plot(value_list, xlabel, ylabel):\n",
        "  the_mean = np.mean(value_list)\n",
        "  the_std = np.std(value_list)\n",
        "  length = len(value_list)\n",
        "  plt.plot(value_list)\n",
        "  plt.ylabel(ylabel)\n",
        "  plt.xlabel(xlabel)\n",
        "  plt.title('mean='+str(the_mean)[:5]+' std='+str(the_std)[:5])\n",
        "  plt.fill_between(list(range(len(value_list))), [the_mean+the_std]*length, [the_mean-the_std]*length, alpha = 0.1, color='red', edgecolor='green', linewidth=1)\n",
        "  plt.plot([the_mean+the_std]*length, label='std', linestyle='-', color='green', linewidth=1)\n",
        "  plt.plot([the_mean]*length, label='Mean', linestyle='--', color='red')\n",
        "  plt.plot([the_mean-the_std]*length, label='std', linestyle='-', color='green', linewidth=1)\n",
        "  plt.show()\n"
      ],
      "execution_count": 42,
      "outputs": [
        {
          "output_type": "stream",
          "text": [
            "Current size: [6.0, 4.0]\n"
          ],
          "name": "stdout"
        }
      ]
    },
    {
      "cell_type": "code",
      "metadata": {
        "id": "FNpJDJcXlPje",
        "colab_type": "code",
        "outputId": "06c40dfb-456a-41ac-c503-07fd6a041d30",
        "colab": {
          "base_uri": "https://localhost:8080/",
          "height": 409
        }
      },
      "source": [
        "diffs = [d[0] for y,a,d in ann_model_predictions[-1]]  #need [0] to strip array off\n",
        "basic_plot(diffs, 'by k-day chunk starting at '+str(test_indices[0]), 'by normed abs diff')"
      ],
      "execution_count": 43,
      "outputs": [
        {
          "output_type": "display_data",
          "data": {
            "image/png": "[encoded data removed]",
            "text/plain": [
              "<Figure size 864x432 with 1 Axes>"
            ]
          },
          "metadata": {
            "tags": []
          }
        }
      ]
    },
    {
      "cell_type": "markdown",
      "metadata": {
        "id": "nGlmmz_BIZe0",
        "colab_type": "text"
      },
      "source": [
        "### Show for unnormed\n",
        "\n",
        "Just because it is easier to see actual lines of code on y axis."
      ]
    },
    {
      "cell_type": "code",
      "metadata": {
        "id": "UiHVromXCNue",
        "colab_type": "code",
        "outputId": "6b72990b-3077-4df2-de18-ca61f0d68de3",
        "colab": {
          "base_uri": "https://localhost:8080/",
          "height": 409
        }
      },
      "source": [
        "diffs = [unnorm(d[0]) for y,a,d in ann_model_predictions[-1]]  #need [0] to strip array off\n",
        "basic_plot(diffs, 'by k-day chunk starting at '+str(test_indices[0]), 'by unnormed abs diff')"
      ],
      "execution_count": 44,
      "outputs": [
        {
          "output_type": "display_data",
          "data": {
            "image/png": "[encoded data removed]",
            "text/plain": [
              "<Figure size 864x432 with 1 Axes>"
            ]
          },
          "metadata": {
            "tags": []
          }
        }
      ]
    },
    {
      "cell_type": "markdown",
      "metadata": {
        "id": "hfTG7uOWun58",
        "colab_type": "text"
      },
      "source": [
        "### Percentage of differences below mean difference"
      ]
    },
    {
      "cell_type": "code",
      "metadata": {
        "id": "_XA81Oi3uEeW",
        "colab_type": "code",
        "outputId": "428a25dc-4f69-4fb8-fa4a-75549b698667",
        "colab": {
          "base_uri": "https://localhost:8080/",
          "height": 34
        }
      },
      "source": [
        "the_mean = np.mean(diffs)\n",
        "sum([1 for d in diffs if d<the_mean])/len(diffs)"
      ],
      "execution_count": 45,
      "outputs": [
        {
          "output_type": "execute_result",
          "data": {
            "text/plain": [
              "0.8780487804878049"
            ]
          },
          "metadata": {
            "tags": []
          },
          "execution_count": 45
        }
      ]
    },
    {
      "cell_type": "markdown",
      "metadata": {
        "id": "YrBeLC7QAlM6",
        "colab_type": "text"
      },
      "source": [
        "### Mean Squared Error"
      ]
    },
    {
      "cell_type": "code",
      "metadata": {
        "id": "qHuV-cIWYj45",
        "colab_type": "code",
        "outputId": "71f62f97-46dc-494c-9830-fbe23a9dd0fc",
        "colab": {
          "base_uri": "https://localhost:8080/",
          "height": 34
        }
      },
      "source": [
        "from sklearn.metrics import mean_squared_error\n",
        "mean_squared_error([unnorm(a[0]) for y,a,d in ann_model_predictions[-1]], [unnorm(y[0]) for y,a,d in ann_model_predictions[-1]])"
      ],
      "execution_count": 46,
      "outputs": [
        {
          "output_type": "execute_result",
          "data": {
            "text/plain": [
              "1271460.6741831973"
            ]
          },
          "metadata": {
            "tags": []
          },
          "execution_count": 46
        }
      ]
    },
    {
      "cell_type": "markdown",
      "metadata": {
        "id": "zzqNtgxwvz5O",
        "colab_type": "text"
      },
      "source": [
        "###Check out binning\n",
        "\n",
        "Post-hoc look at binning. Bin both predicted and actual and see how they match up.\n",
        "\n",
        "Note could also set up model to be categorical and have it predict bins directly through one-hot encoding and softmax final layer."
      ]
    },
    {
      "cell_type": "code",
      "metadata": {
        "id": "rHg4blLqzFbx",
        "colab_type": "code",
        "colab": {}
      },
      "source": [
        "normed_mean = np.mean(x_normed)\n",
        "normed_std = np.std(x_normed)\n",
        "\n",
        "bins = [normed_mean, normed_mean+normed_std, max(x_normed)]  #below average, above average, way above average"
      ],
      "execution_count": 0,
      "outputs": []
    },
    {
      "cell_type": "code",
      "metadata": {
        "id": "F3Qhy7hsv2z-",
        "colab_type": "code",
        "colab": {}
      },
      "source": [
        "binned_results = []\n",
        "for y,a,d in ann_model_predictions[-1]:\n",
        "  for j,b in enumerate(bins):\n",
        "    if y<b:\n",
        "      yb = j\n",
        "      break\n",
        "      \n",
        "  for j,b in enumerate(bins):\n",
        "    if a<b:\n",
        "      ab = j\n",
        "      break\n",
        "      \n",
        "  binned_results.append((yb, ab))\n",
        "      \n",
        "  "
      ],
      "execution_count": 0,
      "outputs": []
    },
    {
      "cell_type": "code",
      "metadata": {
        "id": "s2f4wyLjyFJr",
        "colab_type": "code",
        "outputId": "4a386403-2fda-4546-b30b-831b42892f2b",
        "colab": {
          "base_uri": "https://localhost:8080/",
          "height": 168
        }
      },
      "source": [
        "for i in range(len(bins)):\n",
        "  for j in range(len(bins)):\n",
        "    print((i,j,binned_results.count((i,j))))"
      ],
      "execution_count": 49,
      "outputs": [
        {
          "output_type": "stream",
          "text": [
            "(0, 0, 1173)\n",
            "(0, 1, 46)\n",
            "(0, 2, 0)\n",
            "(1, 0, 405)\n",
            "(1, 1, 558)\n",
            "(1, 2, 22)\n",
            "(2, 0, 5)\n",
            "(2, 1, 1)\n",
            "(2, 2, 45)\n"
          ],
          "name": "stdout"
        }
      ]
    },
    {
      "cell_type": "markdown",
      "metadata": {
        "id": "HIV2FHm1qZ2O",
        "colab_type": "text"
      },
      "source": [
        "### Way to read above\n",
        "\n",
        "Take this set of results as an example.\n",
        "\n",
        "<pre>\n",
        "(0, 0, 295)\n",
        "(0, 1, 34)\n",
        "(0, 2, 3)\n",
        "(1, 0, 47)\n",
        "(1, 1, 140)\n",
        "(1, 2, 5)\n",
        "(2, 0, 0)\n",
        "(2, 1, 10)\n",
        "(2, 2, 38)\n",
        "</pre>\n",
        "\n",
        "If you view predicting the spikes (bin 2) as key, then the results show false negative 3+5 times (14%), perhaps the 3 being the worst: predicting below avearage and actual spike instead. It shows false positives 0+10 times (18%). It is correct 38 times ( 68%).\n",
        "\n",
        "Code below gives accuracy for each bin."
      ]
    },
    {
      "cell_type": "code",
      "metadata": {
        "id": "OGPylkodB2-O",
        "colab_type": "code",
        "outputId": "50d6efaa-9e15-4326-a789-7bf979d5809f",
        "colab": {
          "base_uri": "https://localhost:8080/",
          "height": 67
        }
      },
      "source": [
        "\n",
        "for i in range(len(bins)):\n",
        "  errors = 0\n",
        "  for j in range(len(bins)):\n",
        "    if i==j:\n",
        "      correct = binned_results.count((i,i))\n",
        "      continue\n",
        "    errors += binned_results.count((i,j))\n",
        "  print((i, correct/(correct+errors)))\n",
        "  \n",
        "  "
      ],
      "execution_count": 50,
      "outputs": [
        {
          "output_type": "stream",
          "text": [
            "(0, 0.9622641509433962)\n",
            "(1, 0.566497461928934)\n",
            "(2, 0.8823529411764706)\n"
          ],
          "name": "stdout"
        }
      ]
    },
    {
      "cell_type": "markdown",
      "metadata": {
        "id": "tN6ZPczN3qms",
        "colab_type": "text"
      },
      "source": [
        "### Full binning accuracy"
      ]
    },
    {
      "cell_type": "code",
      "metadata": {
        "id": "NHwUNsAGyqfF",
        "colab_type": "code",
        "outputId": "847c8a76-856c-4129-d4dd-a5346323eb56",
        "colab": {
          "base_uri": "https://localhost:8080/",
          "height": 34
        }
      },
      "source": [
        "sum([1 for y,a in binned_results if y==a])/len(binned_results)  #percentage correct binning"
      ],
      "execution_count": 51,
      "outputs": [
        {
          "output_type": "execute_result",
          "data": {
            "text/plain": [
              "0.7875831485587583"
            ]
          },
          "metadata": {
            "tags": []
          },
          "execution_count": 51
        }
      ]
    },
    {
      "cell_type": "markdown",
      "metadata": {
        "id": "c20sLdyts4AE",
        "colab_type": "text"
      },
      "source": [
        "## Store results"
      ]
    },
    {
      "cell_type": "code",
      "metadata": {
        "colab_type": "code",
        "id": "qU7XDOFwtkUx",
        "outputId": "bd59f75c-4293-40f9-b11b-4f4703306c19",
        "colab": {
          "base_uri": "https://localhost:8080/",
          "height": 202
        }
      },
      "source": [
        "ann_models[-1].summary()"
      ],
      "execution_count": 52,
      "outputs": [
        {
          "output_type": "stream",
          "text": [
            "_________________________________________________________________\n",
            "Layer (type)                 Output Shape              Param #   \n",
            "=================================================================\n",
            "dense_29 (Dense)             (None, 100)               1100      \n",
            "_________________________________________________________________\n",
            "dense_30 (Dense)             (None, 1)                 101       \n",
            "=================================================================\n",
            "Total params: 1,201\n",
            "Trainable params: 1,201\n",
            "Non-trainable params: 0\n",
            "_________________________________________________________________\n"
          ],
          "name": "stdout"
        }
      ]
    },
    {
      "cell_type": "code",
      "metadata": {
        "colab_type": "code",
        "id": "IzVekisxtkU8",
        "colab": {}
      },
      "source": [
        "%%capture --no-stderr x\n",
        "ann_models[-1].summary()\n"
      ],
      "execution_count": 0,
      "outputs": []
    },
    {
      "cell_type": "code",
      "metadata": {
        "colab_type": "code",
        "id": "BVWSNE9stkU-",
        "outputId": "6c4e5c99-6fda-454d-810b-2e26aa4abf14",
        "colab": {
          "base_uri": "https://localhost:8080/",
          "height": 54
        }
      },
      "source": [
        "description = x.stdout\n",
        "description"
      ],
      "execution_count": 54,
      "outputs": [
        {
          "output_type": "execute_result",
          "data": {
            "text/plain": [
              "'_________________________________________________________________\\nLayer (type)                 Output Shape              Param #   \\n=================================================================\\ndense_29 (Dense)             (None, 100)               1100      \\n_________________________________________________________________\\ndense_30 (Dense)             (None, 1)                 101       \\n=================================================================\\nTotal params: 1,201\\nTrainable params: 1,201\\nNon-trainable params: 0\\n_________________________________________________________________\\n'"
            ]
          },
          "metadata": {
            "tags": []
          },
          "execution_count": 54
        }
      ]
    },
    {
      "cell_type": "code",
      "metadata": {
        "id": "zIi3kUt_s61H",
        "colab_type": "code",
        "colab": {}
      },
      "source": [
        "ann_model_results = {'project': project}\n",
        "ann_model_results['model'] =  description\n",
        "ann_model_results['epochs'] = epochs\n",
        "ann_model_results['sequence_size'] = sequence_size\n",
        "ann_model_results['averaging_size'] = averaging_size\n",
        "ann_model_results['results'] = [(tup[0].tolist()[0][0], tup[1].tolist()[0], tup[2].tolist()[0][0]) for tup in ann_model_predictions[-1]]  #remove numpy wrappers"
      ],
      "execution_count": 0,
      "outputs": []
    },
    {
      "cell_type": "code",
      "metadata": {
        "id": "7Xjl-ZkH9OtO",
        "colab_type": "code",
        "colab": {}
      },
      "source": [
        "from datetime import datetime\n",
        "now = datetime.now() # current date and time\n",
        "date_time = now.strftime(\"%m_%d_%Y_%H_%M_%S\")\n",
        "\n",
        "ann_model_results['time_stamp'] = date_time"
      ],
      "execution_count": 0,
      "outputs": []
    },
    {
      "cell_type": "code",
      "metadata": {
        "id": "nAGZ6f8B92hC",
        "colab_type": "code",
        "colab": {}
      },
      "source": [
        "import json\n",
        "\n",
        "file_path = '/content/gdrive/My Drive/model_results/'+project+'_ann_results_'+date_time+'.json'\n",
        "\n",
        "json = json.dumps(ann_model_results)\n",
        "f = open(file_path,\"w\")\n",
        "f.write(json)\n",
        "f.close()"
      ],
      "execution_count": 0,
      "outputs": []
    },
    {
      "cell_type": "code",
      "metadata": {
        "id": "L0vzbHjHQzuN",
        "colab_type": "code",
        "colab": {}
      },
      "source": [
        "ann_models[-1].save('/content/gdrive/My Drive/model_results/'+project+'_ann_model_'+date_time+'.h5')\n",
        "#model_test = load_model('/content/gdrive/My Drive/'+project+'_model_0.h5')"
      ],
      "execution_count": 0,
      "outputs": []
    },
    {
      "cell_type": "markdown",
      "metadata": {
        "id": "l4xWAWTG32iQ",
        "colab_type": "text"
      },
      "source": [
        "## LSTM next up\n",
        "\n"
      ]
    },
    {
      "cell_type": "code",
      "metadata": {
        "id": "DC2O_kUrrHIN",
        "colab_type": "code",
        "outputId": "0d3a3d0d-22a1-4d18-dae8-2197b225932f",
        "colab": {
          "base_uri": "https://localhost:8080/",
          "height": 54
        }
      },
      "source": [
        "  '''\n",
        "  model = Sequential()\n",
        "  model.add(LSTM(units=50, return_sequences=True, input_shape=(np_features.shape[1], np_features.shape[2])))  #e.g., 30x4\n",
        "  model.add(Dropout(0.2))  \n",
        "  model.add(LSTM(units=50, return_sequences=True))  \n",
        "  model.add(Dropout(0.2))\n",
        "  model.add(LSTM(units=50, return_sequences=True))  \n",
        "  model.add(Dropout(0.2))\n",
        "  model.add(LSTM(units=50))  #return_sequences=False by default\n",
        "  model.add(Dropout(0.2))  \n",
        "  model.add(Dense(units = 1))  #defaults to linear activation function\n",
        "  model.compile(optimizer = 'adam', loss = 'mean_squared_error')\n",
        "  '''"
      ],
      "execution_count": 0,
      "outputs": [
        {
          "output_type": "execute_result",
          "data": {
            "text/plain": [
              "\"\\nmodel = Sequential()\\nmodel.add(LSTM(units=50, return_sequences=True, input_shape=(np_features.shape[1], np_features.shape[2])))  #e.g., 30x4\\nmodel.add(Dropout(0.2))  \\nmodel.add(LSTM(units=50, return_sequences=True))  \\nmodel.add(Dropout(0.2))\\nmodel.add(LSTM(units=50, return_sequences=True))  \\nmodel.add(Dropout(0.2))\\nmodel.add(LSTM(units=50))  #return_sequences=False by default\\nmodel.add(Dropout(0.2))  \\nmodel.add(Dense(units = 1))  #defaults to linear activation function\\nmodel.compile(optimizer = 'adam', loss = 'mean_squared_error')\\n\""
            ]
          },
          "metadata": {
            "tags": []
          },
          "execution_count": 56
        }
      ]
    },
    {
      "cell_type": "code",
      "metadata": {
        "colab_type": "code",
        "id": "g1B41iH637N_",
        "colab": {}
      },
      "source": [
        "def lstm_build_and_train_and_test(train_x, test_x, sequence_size, epochs=1000):\n",
        "  print('Starting new model construction')\n",
        "  \n",
        "  n_features = 1\n",
        "  w_series = np.array(train_x).reshape((len(train_x), n_features))\n",
        "  #generate a list of sequences for training \n",
        "  print('Generating training feature-set and labels')\n",
        "                            \n",
        "  n_input = sequence_size\n",
        "  generator = TimeseriesGenerator(w_series, w_series, length=n_input, batch_size=1)\n",
        "                            \n",
        "# define model\n",
        "  model = Sequential()\n",
        "  model.add(LSTM(100, activation='relu', input_shape=(n_input, n_features)))\n",
        "  model.add(Dense(1))\n",
        "  model.compile(optimizer='adam', loss='mse')\n",
        "  model.fit_generator(generator, steps_per_epoch=1, epochs=epochs, verbose=0)\n",
        "  \n",
        "  #test model\n",
        "  print('Testing model')\n",
        "  generator = TimeseriesGenerator(test_x, test_x, length=sequence_size, batch_size=1)\n",
        "  predictions = []\n",
        "  for  x,y in generator:\n",
        "    #chunk = np.expand_dims(x, axis=0)\n",
        "    x_input = x.reshape((1, n_input, n_features))\n",
        "    yhat = model.predict(x_input, verbose=0)\n",
        "    predictions.append((yhat, y, abs(yhat-y)))  #(prediction, actual, diff)\n",
        "  print('model ready to go')\n",
        "  return (model, predictions)"
      ],
      "execution_count": 0,
      "outputs": []
    },
    {
      "cell_type": "code",
      "metadata": {
        "colab_type": "code",
        "id": "QaIEq_Yk6dfa",
        "outputId": "5f6c284e-2d45-4cc1-9457-a604f5087208",
        "colab": {
          "base_uri": "https://localhost:8080/",
          "height": 440
        }
      },
      "source": [
        "lstm_models = []\n",
        "lstm_model_predictions = []\n",
        "\n",
        "for train_indices, test_indices in splits.split(x_normed[:-averaging_size]):\n",
        "  train_x = [x_normed[i] for i in train_indices]           #Note train_index is actually a list of indices\n",
        "  test_x = [x_normed[i] for i in test_indices]\n",
        "  \n",
        "  print('Building model with these ranges:')\n",
        "  print('\\t Training: ' + str((train_indices[0], train_indices[-1])))\n",
        "  print('\\t Testing:  ' + str((test_indices[0], test_indices[-1])))\n",
        "  \n",
        "  the_model, predictions = lstm_build_and_train_and_test(train_x,  test_x, sequence_size)\n",
        "\n",
        "  lstm_model_predictions.append(predictions)  #list of (yhat, actual) for each feature in test\n",
        "  lstm_models.append(the_model)\n"
      ],
      "execution_count": 61,
      "outputs": [
        {
          "output_type": "stream",
          "text": [
            "Building model with these ranges:\n",
            "\t Training: (0, 2264)\n",
            "\t Testing:  (2265, 4529)\n",
            "Starting new model construction\n",
            "Generating training feature-set and labels\n"
          ],
          "name": "stdout"
        },
        {
          "output_type": "stream",
          "text": [
            "W0801 20:54:47.183722 139887015524224 deprecation.py:323] From /usr/local/lib/python3.6/dist-packages/tensorflow/python/ops/math_grad.py:1250: add_dispatch_support.<locals>.wrapper (from tensorflow.python.ops.array_ops) is deprecated and will be removed in a future version.\n",
            "Instructions for updating:\n",
            "Use tf.where in 2.0, which has the same broadcast rule as np.where\n"
          ],
          "name": "stderr"
        },
        {
          "output_type": "stream",
          "text": [
            "Testing model\n",
            "model ready to go\n",
            "Building model with these ranges:\n",
            "\t Training: (0, 4529)\n",
            "\t Testing:  (4530, 6794)\n",
            "Starting new model construction\n",
            "Generating training feature-set and labels\n",
            "Testing model\n",
            "model ready to go\n",
            "Building model with these ranges:\n",
            "\t Training: (0, 6794)\n",
            "\t Testing:  (6795, 9059)\n",
            "Starting new model construction\n",
            "Generating training feature-set and labels\n",
            "Testing model\n",
            "model ready to go\n"
          ],
          "name": "stdout"
        }
      ]
    },
    {
      "cell_type": "code",
      "metadata": {
        "id": "wezB3qYVA88Y",
        "colab_type": "code",
        "colab": {}
      },
      "source": [
        ""
      ],
      "execution_count": 0,
      "outputs": []
    },
    {
      "cell_type": "markdown",
      "metadata": {
        "id": "LTsxwB6e95L3",
        "colab_type": "text"
      },
      "source": [
        "### Plot the differences (between predicted and actual)"
      ]
    },
    {
      "cell_type": "code",
      "metadata": {
        "id": "pBEBJNJP8Qxh",
        "colab_type": "code",
        "colab": {}
      },
      "source": [
        "# Set figure width to 12 and height to 9\n",
        "fig_size[0] = 12\n",
        "fig_size[1] = 6\n",
        "plt.rcParams[\"figure.figsize\"] = fig_size"
      ],
      "execution_count": 0,
      "outputs": []
    },
    {
      "cell_type": "code",
      "metadata": {
        "colab_type": "code",
        "id": "1ZiCUZNR78IB",
        "outputId": "cf33b270-f19e-4b09-dbb5-e3740dd67bb6",
        "colab": {
          "base_uri": "https://localhost:8080/",
          "height": 409
        }
      },
      "source": [
        "diffs = [d[0] for y,a,d in lstm_model_predictions[-1]]  #need [0] to strip array off\n",
        "basic_plot(diffs, 'by 7-day chunk starting at '+str(test_indices[0]), 'by abs diff')"
      ],
      "execution_count": 63,
      "outputs": [
        {
          "output_type": "display_data",
          "data": {
            "image/png": "[encoded data removed]",
            "text/plain": [
              "<Figure size 864x432 with 1 Axes>"
            ]
          },
          "metadata": {
            "tags": []
          }
        }
      ]
    },
    {
      "cell_type": "markdown",
      "metadata": {
        "id": "6GAZqbZ4IN6R",
        "colab_type": "text"
      },
      "source": [
        "### Show for unnormed"
      ]
    },
    {
      "cell_type": "code",
      "metadata": {
        "id": "hH9YEKlACdeZ",
        "colab_type": "code",
        "outputId": "cf4ee0e1-f8fe-4f89-db04-9a25426770a5",
        "colab": {
          "base_uri": "https://localhost:8080/",
          "height": 409
        }
      },
      "source": [
        "diffs = [unnorm(d[0]) for y,a,d in lstm_model_predictions[-1]]  #need [0] to strip array off\n",
        "basic_plot(diffs, 'by 7-day chunk starting at '+str(test_indices[0]), 'by abs diff')"
      ],
      "execution_count": 64,
      "outputs": [
        {
          "output_type": "display_data",
          "data": {
            "image/png": "[encoded data removed]",
            "text/plain": [
              "<Figure size 864x432 with 1 Axes>"
            ]
          },
          "metadata": {
            "tags": []
          }
        }
      ]
    },
    {
      "cell_type": "markdown",
      "metadata": {
        "colab_type": "text",
        "id": "hnR7R2tb78IE"
      },
      "source": [
        "### Percentage of differences below mean difference"
      ]
    },
    {
      "cell_type": "code",
      "metadata": {
        "colab_type": "code",
        "id": "JabBQ-KK78IE",
        "outputId": "2017617d-1df3-45cf-8bcb-f0870b6e6344",
        "colab": {
          "base_uri": "https://localhost:8080/",
          "height": 34
        }
      },
      "source": [
        "the_mean = np.mean(diffs)\n",
        "sum([1 for d in diffs if d<the_mean])/len(diffs)"
      ],
      "execution_count": 65,
      "outputs": [
        {
          "output_type": "execute_result",
          "data": {
            "text/plain": [
              "0.8501108647450111"
            ]
          },
          "metadata": {
            "tags": []
          },
          "execution_count": 65
        }
      ]
    },
    {
      "cell_type": "code",
      "metadata": {
        "id": "wfkFMuwQao19",
        "colab_type": "code",
        "outputId": "75feb2e7-3ef5-4679-b937-bc2c2270298f",
        "colab": {
          "base_uri": "https://localhost:8080/",
          "height": 34
        }
      },
      "source": [
        "mean_squared_error([unnorm(a[0]) for y,a,d in lstm_model_predictions[-1]], [unnorm(y[0]) for y,a,d in lstm_model_predictions[-1]])"
      ],
      "execution_count": 66,
      "outputs": [
        {
          "output_type": "execute_result",
          "data": {
            "text/plain": [
              "2278187.55526833"
            ]
          },
          "metadata": {
            "tags": []
          },
          "execution_count": 66
        }
      ]
    },
    {
      "cell_type": "markdown",
      "metadata": {
        "colab_type": "text",
        "id": "f5FNv6DX78IR"
      },
      "source": [
        "###Check out binning\n",
        "\n",
        "Post-hoc look at binning. Bin both predicted and actual and see how they match up."
      ]
    },
    {
      "cell_type": "code",
      "metadata": {
        "colab_type": "code",
        "id": "vxuy05f078IR",
        "colab": {}
      },
      "source": [
        "normed_mean = np.mean(x_normed)\n",
        "normed_std = np.std(x_normed)\n",
        "\n",
        "bins = [normed_mean, normed_mean+normed_std, max(x_normed)]  #below average, moderately above average, way above average"
      ],
      "execution_count": 0,
      "outputs": []
    },
    {
      "cell_type": "code",
      "metadata": {
        "colab_type": "code",
        "id": "PenPGN8s78IU",
        "colab": {}
      },
      "source": [
        "binned_results = []\n",
        "for y,a,d in lstm_model_predictions[-1]:\n",
        "  for j,b in enumerate(bins):\n",
        "    if y<b:\n",
        "      yb = j\n",
        "      break\n",
        "      \n",
        "  for j,b in enumerate(bins):\n",
        "    if a<b:\n",
        "      ab = j\n",
        "      break\n",
        "      \n",
        "  binned_results.append((yb, ab))\n",
        "      \n",
        "  "
      ],
      "execution_count": 0,
      "outputs": []
    },
    {
      "cell_type": "code",
      "metadata": {
        "colab_type": "code",
        "id": "2oreFe2R78IW",
        "outputId": "febcf237-3d4a-47a9-9a39-96507c77fa55",
        "colab": {
          "base_uri": "https://localhost:8080/",
          "height": 168
        }
      },
      "source": [
        "for i in range(len(bins)):\n",
        "  for j in range(len(bins)):\n",
        "    print((i,j,binned_results.count((i,j))))"
      ],
      "execution_count": 69,
      "outputs": [
        {
          "output_type": "stream",
          "text": [
            "(0, 0, 1468)\n",
            "(0, 1, 328)\n",
            "(0, 2, 7)\n",
            "(1, 0, 102)\n",
            "(1, 1, 276)\n",
            "(1, 2, 34)\n",
            "(2, 0, 13)\n",
            "(2, 1, 1)\n",
            "(2, 2, 26)\n"
          ],
          "name": "stdout"
        }
      ]
    },
    {
      "cell_type": "code",
      "metadata": {
        "id": "LQXWvXv2laMF",
        "colab_type": "code",
        "outputId": "fda9b1d3-74cc-430b-bc57-ba8bd03c36dd",
        "colab": {
          "base_uri": "https://localhost:8080/",
          "height": 67
        }
      },
      "source": [
        "for i in range(len(bins)):\n",
        "  errors = 0\n",
        "  for j in range(len(bins)):\n",
        "    if i==j:\n",
        "      correct = binned_results.count((i,i))\n",
        "      continue\n",
        "    errors += binned_results.count((i,j))\n",
        "  print((i, correct/(correct+errors)))"
      ],
      "execution_count": 70,
      "outputs": [
        {
          "output_type": "stream",
          "text": [
            "(0, 0.8141985579589573)\n",
            "(1, 0.6699029126213593)\n",
            "(2, 0.65)\n"
          ],
          "name": "stdout"
        }
      ]
    },
    {
      "cell_type": "code",
      "metadata": {
        "colab_type": "code",
        "id": "G1G5n-Is78Ie",
        "outputId": "80589275-47d9-4319-ef60-52f02628aa47",
        "colab": {
          "base_uri": "https://localhost:8080/",
          "height": 34
        }
      },
      "source": [
        "sum([1 for y,a in binned_results if y==a])/len(binned_results)  #percentage correct binning"
      ],
      "execution_count": 71,
      "outputs": [
        {
          "output_type": "execute_result",
          "data": {
            "text/plain": [
              "0.7849223946784922"
            ]
          },
          "metadata": {
            "tags": []
          },
          "execution_count": 71
        }
      ]
    },
    {
      "cell_type": "code",
      "metadata": {
        "colab_type": "code",
        "id": "873di5oXO0Zm",
        "outputId": "ac0b08dc-9997-419a-b9d7-b3729ad67c3f",
        "colab": {
          "base_uri": "https://localhost:8080/",
          "height": 202
        }
      },
      "source": [
        "lstm_models[-1].summary()"
      ],
      "execution_count": 72,
      "outputs": [
        {
          "output_type": "stream",
          "text": [
            "_________________________________________________________________\n",
            "Layer (type)                 Output Shape              Param #   \n",
            "=================================================================\n",
            "lstm_3 (LSTM)                (None, 100)               40800     \n",
            "_________________________________________________________________\n",
            "dense_33 (Dense)             (None, 1)                 101       \n",
            "=================================================================\n",
            "Total params: 40,901\n",
            "Trainable params: 40,901\n",
            "Non-trainable params: 0\n",
            "_________________________________________________________________\n"
          ],
          "name": "stdout"
        }
      ]
    },
    {
      "cell_type": "code",
      "metadata": {
        "colab_type": "code",
        "id": "uGgIu7APO0Zq",
        "colab": {}
      },
      "source": [
        "%%capture --no-stderr x\n",
        "lstm_models[-1].summary()\n"
      ],
      "execution_count": 0,
      "outputs": []
    },
    {
      "cell_type": "code",
      "metadata": {
        "colab_type": "code",
        "id": "2e5-hcKOO0Zs",
        "outputId": "c540422f-80f6-4c17-b7fc-fc7d1a4f21e3",
        "colab": {
          "base_uri": "https://localhost:8080/",
          "height": 54
        }
      },
      "source": [
        "description = x.stdout\n",
        "description"
      ],
      "execution_count": 74,
      "outputs": [
        {
          "output_type": "execute_result",
          "data": {
            "text/plain": [
              "'_________________________________________________________________\\nLayer (type)                 Output Shape              Param #   \\n=================================================================\\nlstm_3 (LSTM)                (None, 100)               40800     \\n_________________________________________________________________\\ndense_33 (Dense)             (None, 1)                 101       \\n=================================================================\\nTotal params: 40,901\\nTrainable params: 40,901\\nNon-trainable params: 0\\n_________________________________________________________________\\n'"
            ]
          },
          "metadata": {
            "tags": []
          },
          "execution_count": 74
        }
      ]
    },
    {
      "cell_type": "code",
      "metadata": {
        "colab_type": "code",
        "id": "Nh6IngLoO0Z2",
        "colab": {}
      },
      "source": [
        "lstm_model_results = {'project': project}\n",
        "lstm_model_results['model'] =  description\n",
        "lstm_model_results['epochs'] = epochs\n",
        "lstm_model_results['sequence_size'] = sequence_size\n",
        "lstm_model_results['averaging_size'] = averaging_size\n",
        "lstm_model_results['results'] = [(tup[0].tolist()[0][0], tup[1].tolist()[0], tup[2].tolist()[0][0]) for tup in lstm_model_predictions[-1]]  #remove numpy wrappers"
      ],
      "execution_count": 0,
      "outputs": []
    },
    {
      "cell_type": "code",
      "metadata": {
        "colab_type": "code",
        "id": "6fnzywMdR9Nk",
        "colab": {}
      },
      "source": [
        "\n",
        "now = datetime.now() # current date and time\n",
        "date_time = now.strftime(\"%m_%d_%Y_%H_%M_%S\")\n",
        "\n",
        "lstm_model_results['time_stamp'] = date_time"
      ],
      "execution_count": 0,
      "outputs": []
    },
    {
      "cell_type": "code",
      "metadata": {
        "colab_type": "code",
        "id": "JFBLHMf7R9Nn",
        "colab": {}
      },
      "source": [
        "import json\n",
        "\n",
        "file_path = '/content/gdrive/My Drive/model_results/'+project+'_lstm_results_'+date_time+'.json'\n",
        "\n",
        "json = json.dumps(ann_model_results)\n",
        "f = open(file_path,\"w\")\n",
        "f.write(json)\n",
        "f.close()"
      ],
      "execution_count": 0,
      "outputs": []
    },
    {
      "cell_type": "code",
      "metadata": {
        "id": "a67VFuTPbWb8",
        "colab_type": "code",
        "colab": {}
      },
      "source": [
        "lstm_models[-1].save('/content/gdrive/My Drive/model_results/'+project+'_lstm_model_'+date_time+'.h5')\n",
        "#model_test = load_model('/content/gdrive/My Drive/'+project+'_model_0.h5')"
      ],
      "execution_count": 0,
      "outputs": []
    },
    {
      "cell_type": "markdown",
      "metadata": {
        "id": "AiJQWitOCxVn",
        "colab_type": "text"
      },
      "source": [
        "## CNN up next\n",
        "\n",
        "use 1d convnet.\n",
        "\n",
        "I have a particular interest in convnets and their foundation for transfer learning. My conjecture is that we can train a set of features that recognize patterns across projects and then reuse by tacking on the last layers that fit a specific project."
      ]
    },
    {
      "cell_type": "code",
      "metadata": {
        "id": "wpON2x06C2g_",
        "colab_type": "code",
        "outputId": "73d786ca-b89a-484e-ecb9-4256b1c8d3a4",
        "colab": {
          "base_uri": "https://localhost:8080/",
          "height": 54
        }
      },
      "source": [
        "  #Some ideas to play around with later. Code below uses categorical prediction as opposed to regression.\n",
        "  \n",
        "  '''\n",
        "  model = Sequential()\n",
        "  model.add(Conv1D(filters=sequence_size, kernel_size=3, activation='relu', input_shape=(np_features.shape[1], np_features.shape[2])))\n",
        "  model.add(Conv1D(filters=sequence_size, kernel_size=3, activation='relu'))\n",
        "  model.add(Dropout(0.5))\n",
        "  model.add(MaxPooling1D(pool_size=2))\n",
        "  model.add(Flatten())\n",
        "  model.add(Dense(100, activation='relu'))\n",
        "  model.add(Dense(len(bins), activation='softmax'))\n",
        "  model.compile(loss='categorical_crossentropy', optimizer='adam', metrics=['accuracy'])\n",
        "\n",
        "  \n",
        "  #see https://blog.goodaudience.com/introduction-to-1d-convolutional-neural-networks-in-keras-for-time-sequences-3a7ff801a2cf\n",
        "  model = Sequential()\n",
        "  model.add(Conv1D(sequence_size, 7, activation='relu', input_shape=(sequence_size, averaging_size)))\n",
        "  model.add(Dropout(0.5))  \n",
        "  model.add(Conv1D(sequence_size, 7, activation='relu'))\n",
        "  model.add(MaxPooling1D(3))\n",
        "  model.add(Dropout(.5))  \n",
        "  model.add(Conv1D(2*sequence_size, 3, activation='relu'))\n",
        "  model.add(Dropout(0.5))  \n",
        "  model.add(Conv1D(2*sequence_size, 3, activation='relu'))\n",
        "  model.add(GlobalAveragePooling1D())\n",
        "  model.add(Dropout(0.5))\n",
        "  model.add(Dense(100, activation='relu'))\n",
        "  model.add(Dense(len(bins), activation='softmax'))\n",
        "\n",
        "  model.compile(loss='categorical_crossentropy',\n",
        "                optimizer='adam',\n",
        "                metrics=['accuracy'])\n",
        "                \n",
        " '''"
      ],
      "execution_count": 0,
      "outputs": [
        {
          "output_type": "execute_result",
          "data": {
            "text/plain": [
              "\"\\nmodel = Sequential()\\nmodel.add(Conv1D(filters=sequence_size, kernel_size=3, activation='relu', input_shape=(np_features.shape[1], np_features.shape[2])))\\nmodel.add(Conv1D(filters=sequence_size, kernel_size=3, activation='relu'))\\nmodel.add(Dropout(0.5))\\nmodel.add(MaxPooling1D(pool_size=2))\\nmodel.add(Flatten())\\nmodel.add(Dense(100, activation='relu'))\\nmodel.add(Dense(len(bins), activation='softmax'))\\nmodel.compile(loss='categorical_crossentropy', optimizer='adam', metrics=['accuracy'])\\n\\n\\n#see https://blog.goodaudience.com/introduction-to-1d-convolutional-neural-networks-in-keras-for-time-sequences-3a7ff801a2cf\\nmodel = Sequential()\\nmodel.add(Conv1D(sequence_size, 7, activation='relu', input_shape=(sequence_size, averaging_size)))\\nmodel.add(Dropout(0.5))  \\nmodel.add(Conv1D(sequence_size, 7, activation='relu'))\\nmodel.add(MaxPooling1D(3))\\nmodel.add(Dropout(.5))  \\nmodel.add(Conv1D(2*sequence_size, 3, activation='relu'))\\nmodel.add(Dropout(0.5))  \\nmodel.add(Conv1D(2*sequence_size, 3, activation='relu'))\\nmodel.add(GlobalAveragePooling1D())\\nmodel.add(Dropout(0.5))\\nmodel.add(Dense(100, activation='relu'))\\nmodel.add(Dense(len(bins), activation='softmax'))\\n\\nmodel.compile(loss='categorical_crossentropy',\\n              optimizer='adam',\\n              metrics=['accuracy'])\\n              \\n \""
            ]
          },
          "metadata": {
            "tags": []
          },
          "execution_count": 75
        }
      ]
    },
    {
      "cell_type": "code",
      "metadata": {
        "id": "lgKoO1ZJDOri",
        "colab_type": "code",
        "colab": {}
      },
      "source": [
        "def cnn_build_and_train_and_test(train_x, test_x, sequence_size, epochs=1000):\n",
        "  print('Starting new model construction')\n",
        "  \n",
        "  n_features = 1\n",
        "  w_series = np.array(train_x).reshape((len(train_x), n_features))\n",
        "  #generate a list of sequences for training \n",
        "  print('Generating training feature-set and labels')\n",
        "                            \n",
        "  n_steps = sequence_size\n",
        "  generator = TimeseriesGenerator(w_series, w_series, length=sequence_size, batch_size=1)  #0-29=>30, 1-30=>31, etc\n",
        "                            \n",
        "# define model\n",
        "  model = Sequential()\n",
        "  model.add(Conv1D(filters=64, kernel_size=5, activation= 'relu' , input_shape=(n_steps, n_features)))\n",
        "  model.add(Dropout(0.5)) \n",
        "  model.add(MaxPooling1D(pool_size=2))\n",
        "  model.add(Dropout(.5))\n",
        "  model.add(Flatten())\n",
        "  model.add(Dense(50, activation= 'relu' ))\n",
        "  model.add(Dropout(.5))\n",
        "  model.add(Dense(1))\n",
        "  model.compile(optimizer='adam', loss='mse')\n",
        "  model.fit_generator(generator, steps_per_epoch=1, epochs=epochs, verbose=0)\n",
        "  \n",
        "  #test model\n",
        "  print('Testing model')\n",
        "  generator = TimeseriesGenerator(test_x, test_x, length=sequence_size, batch_size=1)\n",
        "  predictions = []\n",
        "  for  x,y in generator:\n",
        "    #chunk = np.expand_dims(x, axis=0)\n",
        "    x_input = x.reshape((1, n_steps, n_features))\n",
        "    yhat = model.predict(x_input, verbose=0)\n",
        "    predictions.append((yhat, y, abs(yhat-y)))  #(prediction, actual, diff)\n",
        "  print('model ready to go')\n",
        "  return (model, predictions)"
      ],
      "execution_count": 0,
      "outputs": []
    },
    {
      "cell_type": "code",
      "metadata": {
        "id": "X0qxADflLcZ5",
        "colab_type": "code",
        "outputId": "7e76b5be-10b4-4272-957c-c195385fab4a",
        "colab": {
          "base_uri": "https://localhost:8080/",
          "height": 474
        }
      },
      "source": [
        "cnn_models = []\n",
        "cnn_model_predictions = []\n",
        "\n",
        "for train_indices, test_indices in splits.split(x_normed[:-averaging_size]):\n",
        "  train_x = [x_normed[i] for i in train_indices]           #Note train_index is actually a list of indices\n",
        "  test_x = [x_normed[i] for i in test_indices]\n",
        "  \n",
        "  print('Building model with these ranges:')\n",
        "  print('\\t Training: ' + str((train_indices[0], train_indices[-1])))\n",
        "  print('\\t Testing:  ' + str((test_indices[0], test_indices[-1])))\n",
        "  \n",
        "  the_model, predictions = cnn_build_and_train_and_test(train_x,  test_x, sequence_size, epochs)\n",
        "\n",
        "  cnn_model_predictions.append(predictions)  #list of (yhat, actual) for each feature in test\n",
        "  cnn_models.append(the_model)\n"
      ],
      "execution_count": 80,
      "outputs": [
        {
          "output_type": "stream",
          "text": [
            "W0801 20:56:54.216268 139887015524224 deprecation.py:506] From /usr/local/lib/python3.6/dist-packages/keras/backend/tensorflow_backend.py:3445: calling dropout (from tensorflow.python.ops.nn_ops) with keep_prob is deprecated and will be removed in a future version.\n",
            "Instructions for updating:\n",
            "Please use `rate` instead of `keep_prob`. Rate should be set to `rate = 1 - keep_prob`.\n",
            "W0801 20:56:54.234110 139887015524224 deprecation_wrapper.py:119] From /usr/local/lib/python3.6/dist-packages/keras/backend/tensorflow_backend.py:3976: The name tf.nn.max_pool is deprecated. Please use tf.nn.max_pool2d instead.\n",
            "\n"
          ],
          "name": "stderr"
        },
        {
          "output_type": "stream",
          "text": [
            "Building model with these ranges:\n",
            "\t Training: (0, 2264)\n",
            "\t Testing:  (2265, 4529)\n",
            "Starting new model construction\n",
            "Generating training feature-set and labels\n",
            "Testing model\n",
            "model ready to go\n",
            "Building model with these ranges:\n",
            "\t Training: (0, 4529)\n",
            "\t Testing:  (4530, 6794)\n",
            "Starting new model construction\n",
            "Generating training feature-set and labels\n",
            "Testing model\n",
            "model ready to go\n",
            "Building model with these ranges:\n",
            "\t Training: (0, 6794)\n",
            "\t Testing:  (6795, 9059)\n",
            "Starting new model construction\n",
            "Generating training feature-set and labels\n",
            "Testing model\n",
            "model ready to go\n"
          ],
          "name": "stdout"
        }
      ]
    },
    {
      "cell_type": "code",
      "metadata": {
        "colab_type": "code",
        "id": "vBcOg68-MbpV",
        "colab": {}
      },
      "source": [
        "# Set figure width to 12 and height to 9\n",
        "fig_size[0] = 12\n",
        "fig_size[1] = 6\n",
        "plt.rcParams[\"figure.figsize\"] = fig_size"
      ],
      "execution_count": 0,
      "outputs": []
    },
    {
      "cell_type": "code",
      "metadata": {
        "colab_type": "code",
        "id": "FYnKvUqTMbpZ",
        "outputId": "71283a78-1401-4ac6-d281-44a6afe77ac0",
        "colab": {
          "base_uri": "https://localhost:8080/",
          "height": 409
        }
      },
      "source": [
        "diffs = [d[0] for y,a,d in cnn_model_predictions[-1]]  #need [0] to strip array off\n",
        "basic_plot(diffs, 'by 7-day chunk starting at '+str(test_indices[0]), 'by abs diff')"
      ],
      "execution_count": 82,
      "outputs": [
        {
          "output_type": "display_data",
          "data": {
            "image/png": "[encoded data removed]",
            "text/plain": [
              "<Figure size 864x432 with 1 Axes>"
            ]
          },
          "metadata": {
            "tags": []
          }
        }
      ]
    },
    {
      "cell_type": "markdown",
      "metadata": {
        "colab_type": "text",
        "id": "SsUrl4ZNMbpe"
      },
      "source": [
        "### Show for unnormed"
      ]
    },
    {
      "cell_type": "code",
      "metadata": {
        "colab_type": "code",
        "id": "yGerVR5qMbpe",
        "outputId": "1486ae8f-786c-42f0-c548-c68f3f86970b",
        "colab": {
          "base_uri": "https://localhost:8080/",
          "height": 409
        }
      },
      "source": [
        "diffs = [unnorm(d[0]) for y,a,d in cnn_model_predictions[-1]]  #need [0] to strip array off\n",
        "basic_plot(diffs, 'by 7-day chunk starting at '+str(test_indices[0]), 'by abs diff')"
      ],
      "execution_count": 83,
      "outputs": [
        {
          "output_type": "display_data",
          "data": {
            "image/png": "[encoded data removed]",
            "text/plain": [
              "<Figure size 864x432 with 1 Axes>"
            ]
          },
          "metadata": {
            "tags": []
          }
        }
      ]
    },
    {
      "cell_type": "markdown",
      "metadata": {
        "colab_type": "text",
        "id": "HhPXk9h8Mbpi"
      },
      "source": [
        "### Percentage of differences below mean difference"
      ]
    },
    {
      "cell_type": "code",
      "metadata": {
        "colab_type": "code",
        "id": "5j-CGrSFMbpj",
        "outputId": "f214d63d-e008-4cfd-9b59-5694412d4884",
        "colab": {
          "base_uri": "https://localhost:8080/",
          "height": 34
        }
      },
      "source": [
        "the_mean = np.mean(diffs)\n",
        "sum([1 for d in diffs if d<the_mean])/len(diffs)"
      ],
      "execution_count": 84,
      "outputs": [
        {
          "output_type": "execute_result",
          "data": {
            "text/plain": [
              "0.8514412416851441"
            ]
          },
          "metadata": {
            "tags": []
          },
          "execution_count": 84
        }
      ]
    },
    {
      "cell_type": "code",
      "metadata": {
        "id": "99aJODuaa1L1",
        "colab_type": "code",
        "outputId": "2dbd1e56-604e-405b-8bab-a21fec59c685",
        "colab": {
          "base_uri": "https://localhost:8080/",
          "height": 34
        }
      },
      "source": [
        "mean_squared_error([unnorm(a[0]) for y,a,d in cnn_model_predictions[-1]], [unnorm(y[0]) for y,a,d in cnn_model_predictions[-1]])"
      ],
      "execution_count": 85,
      "outputs": [
        {
          "output_type": "execute_result",
          "data": {
            "text/plain": [
              "3979654.786788905"
            ]
          },
          "metadata": {
            "tags": []
          },
          "execution_count": 85
        }
      ]
    },
    {
      "cell_type": "markdown",
      "metadata": {
        "colab_type": "text",
        "id": "I1F43dAZMbpo"
      },
      "source": [
        "###Check out binning\n",
        "\n",
        "Post-hoc look at binning. Bin both predicted and actual and see how they match up."
      ]
    },
    {
      "cell_type": "code",
      "metadata": {
        "colab_type": "code",
        "id": "cwQUlmR4Mbpp",
        "colab": {}
      },
      "source": [
        "normed_mean = np.mean(x_normed)\n",
        "normed_std = np.std(x_normed)\n",
        "\n",
        "bins = [normed_mean, normed_mean+normed_std, max(x_normed)]  #below average, moderately above average, way above average"
      ],
      "execution_count": 0,
      "outputs": []
    },
    {
      "cell_type": "code",
      "metadata": {
        "colab_type": "code",
        "id": "kT9KJKTjMbps",
        "colab": {}
      },
      "source": [
        "binned_results = []\n",
        "for y,a,d in cnn_model_predictions[-1]:\n",
        "  for j,b in enumerate(bins):\n",
        "    if y<b:\n",
        "      yb = j\n",
        "      break\n",
        "      \n",
        "  for j,b in enumerate(bins):\n",
        "    if a<b:\n",
        "      ab = j\n",
        "      break\n",
        "      \n",
        "  binned_results.append((yb, ab))\n",
        "      \n",
        "  "
      ],
      "execution_count": 0,
      "outputs": []
    },
    {
      "cell_type": "code",
      "metadata": {
        "colab_type": "code",
        "id": "LaSVNbPtMbp6",
        "outputId": "3b042a88-2aff-42e8-d4b6-785f3430ea14",
        "colab": {
          "base_uri": "https://localhost:8080/",
          "height": 168
        }
      },
      "source": [
        "for i in range(len(bins)):\n",
        "  for j in range(len(bins)):\n",
        "    print((i,j,binned_results.count((i,j))))"
      ],
      "execution_count": 88,
      "outputs": [
        {
          "output_type": "stream",
          "text": [
            "(0, 0, 1583)\n",
            "(0, 1, 605)\n",
            "(0, 2, 66)\n",
            "(1, 0, 0)\n",
            "(1, 1, 0)\n",
            "(1, 2, 1)\n",
            "(2, 0, 0)\n",
            "(2, 1, 0)\n",
            "(2, 2, 0)\n"
          ],
          "name": "stdout"
        }
      ]
    },
    {
      "cell_type": "code",
      "metadata": {
        "id": "xSzPsU03lk3h",
        "colab_type": "code",
        "outputId": "347d29d6-2460-43e9-d9dd-ccd9b46f4607",
        "colab": {
          "base_uri": "https://localhost:8080/",
          "height": 263
        }
      },
      "source": [
        "for i in range(len(bins)):\n",
        "  errors = 0\n",
        "  for j in range(len(bins)):\n",
        "    if i==j:\n",
        "      correct = binned_results.count((i,i))\n",
        "      continue\n",
        "    errors += binned_results.count((i,j))\n",
        "  print((i, correct/(correct+errors)))\n",
        "  \n",
        "  "
      ],
      "execution_count": 89,
      "outputs": [
        {
          "output_type": "stream",
          "text": [
            "(0, 0.7023070097604259)\n",
            "(1, 0.0)\n"
          ],
          "name": "stdout"
        },
        {
          "output_type": "error",
          "ename": "ZeroDivisionError",
          "evalue": "ignored",
          "traceback": [
            "\u001b[0;31m---------------------------------------------------------------------------\u001b[0m",
            "\u001b[0;31mZeroDivisionError\u001b[0m                         Traceback (most recent call last)",
            "\u001b[0;32m<ipython-input-89-32f5eccdbd14>\u001b[0m in \u001b[0;36m<module>\u001b[0;34m()\u001b[0m\n\u001b[1;32m      6\u001b[0m       \u001b[0;32mcontinue\u001b[0m\u001b[0;34m\u001b[0m\u001b[0;34m\u001b[0m\u001b[0m\n\u001b[1;32m      7\u001b[0m     \u001b[0merrors\u001b[0m \u001b[0;34m+=\u001b[0m \u001b[0mbinned_results\u001b[0m\u001b[0;34m.\u001b[0m\u001b[0mcount\u001b[0m\u001b[0;34m(\u001b[0m\u001b[0;34m(\u001b[0m\u001b[0mi\u001b[0m\u001b[0;34m,\u001b[0m\u001b[0mj\u001b[0m\u001b[0;34m)\u001b[0m\u001b[0;34m)\u001b[0m\u001b[0;34m\u001b[0m\u001b[0;34m\u001b[0m\u001b[0m\n\u001b[0;32m----> 8\u001b[0;31m   \u001b[0mprint\u001b[0m\u001b[0;34m(\u001b[0m\u001b[0;34m(\u001b[0m\u001b[0mi\u001b[0m\u001b[0;34m,\u001b[0m \u001b[0mcorrect\u001b[0m\u001b[0;34m/\u001b[0m\u001b[0;34m(\u001b[0m\u001b[0mcorrect\u001b[0m\u001b[0;34m+\u001b[0m\u001b[0merrors\u001b[0m\u001b[0;34m)\u001b[0m\u001b[0;34m)\u001b[0m\u001b[0;34m)\u001b[0m\u001b[0;34m\u001b[0m\u001b[0;34m\u001b[0m\u001b[0m\n\u001b[0m\u001b[1;32m      9\u001b[0m \u001b[0;34m\u001b[0m\u001b[0m\n\u001b[1;32m     10\u001b[0m \u001b[0;34m\u001b[0m\u001b[0m\n",
            "\u001b[0;31mZeroDivisionError\u001b[0m: division by zero"
          ]
        }
      ]
    },
    {
      "cell_type": "code",
      "metadata": {
        "colab_type": "code",
        "id": "Mtb9sl9_MbqB",
        "outputId": "311d0cd4-eaea-45ac-e3ca-c33620e73680",
        "colab": {
          "base_uri": "https://localhost:8080/",
          "height": 34
        }
      },
      "source": [
        "sum([1 for y,a in binned_results if y==a])/len(binned_results)  #percentage correct binning"
      ],
      "execution_count": 90,
      "outputs": [
        {
          "output_type": "execute_result",
          "data": {
            "text/plain": [
              "0.7019955654101996"
            ]
          },
          "metadata": {
            "tags": []
          },
          "execution_count": 90
        }
      ]
    },
    {
      "cell_type": "code",
      "metadata": {
        "colab_type": "code",
        "id": "fuLYwex0P8XQ",
        "colab": {}
      },
      "source": [
        "%%capture --no-stderr x\n",
        "cnn_models[-1].summary()\n"
      ],
      "execution_count": 0,
      "outputs": []
    },
    {
      "cell_type": "code",
      "metadata": {
        "colab_type": "code",
        "id": "W6VR68D7P8XT",
        "outputId": "09e1894a-97c9-4977-b3ba-2df27537b864",
        "colab": {
          "base_uri": "https://localhost:8080/",
          "height": 54
        }
      },
      "source": [
        "description = x.stdout\n",
        "description"
      ],
      "execution_count": 0,
      "outputs": [
        {
          "output_type": "execute_result",
          "data": {
            "text/plain": [
              "'_________________________________________________________________\\nLayer (type)                 Output Shape              Param #   \\n=================================================================\\nconv1d_3 (Conv1D)            (None, 6, 64)             384       \\n_________________________________________________________________\\ndropout_7 (Dropout)          (None, 6, 64)             0         \\n_________________________________________________________________\\nmax_pooling1d_3 (MaxPooling1 (None, 3, 64)             0         \\n_________________________________________________________________\\ndropout_8 (Dropout)          (None, 3, 64)             0         \\n_________________________________________________________________\\nflatten_3 (Flatten)          (None, 192)               0         \\n_________________________________________________________________\\ndense_14 (Dense)             (None, 50)                9650      \\n_________________________________________________________________\\ndropout_9 (Dropout)          (None, 50)                0         \\n_________________________________________________________________\\ndense_15 (Dense)             (None, 1)                 51        \\n=================================================================\\nTotal params: 10,085\\nTrainable params: 10,085\\nNon-trainable params: 0\\n_________________________________________________________________\\n'"
            ]
          },
          "metadata": {
            "tags": []
          },
          "execution_count": 88
        }
      ]
    },
    {
      "cell_type": "code",
      "metadata": {
        "colab_type": "code",
        "id": "zPsMJX-MP8Xe",
        "colab": {}
      },
      "source": [
        "cnn_model_results = {'project': project}\n",
        "cnn_model_results['model'] =  description\n",
        "cnn_model_results['epochs'] = epochs\n",
        "cnn_model_results['sequence_size'] = sequence_size\n",
        "cnn_model_results['averaging_size'] = averaging_size\n",
        "cnn_model_results['results'] = [(tup[0].tolist()[0][0], tup[1].tolist()[0], tup[2].tolist()[0][0]) for tup in cnn_model_predictions[-1]]  #remove numpy wrappers"
      ],
      "execution_count": 0,
      "outputs": []
    },
    {
      "cell_type": "code",
      "metadata": {
        "colab_type": "code",
        "id": "dvDccSyKSPNW",
        "colab": {}
      },
      "source": [
        "\n",
        "now = datetime.now() # current date and time\n",
        "date_time = now.strftime(\"%m_%d_%Y_%H_%M_%S\")\n",
        "\n",
        "cnn_model_results['time_stamp'] = date_time"
      ],
      "execution_count": 0,
      "outputs": []
    },
    {
      "cell_type": "code",
      "metadata": {
        "colab_type": "code",
        "id": "ArYreNb7SPNb",
        "colab": {}
      },
      "source": [
        "import json\n",
        "\n",
        "file_path = '/content/gdrive/My Drive/model_results/'+project+'_cnn_results_'+date_time+'.json'\n",
        "\n",
        "json = json.dumps(cnn_model_results)\n",
        "f = open(file_path,\"w\")\n",
        "f.write(json)\n",
        "f.close()"
      ],
      "execution_count": 0,
      "outputs": []
    },
    {
      "cell_type": "code",
      "metadata": {
        "id": "WbCp04d7bizn",
        "colab_type": "code",
        "colab": {}
      },
      "source": [
        "cnn_models[-1].save('/content/gdrive/My Drive/model_results/'+project+'_cnn_model_'+date_time+'.h5')\n",
        "#model_test = load_model('/content/gdrive/My Drive/'+project+'_model_0.h5')"
      ],
      "execution_count": 0,
      "outputs": []
    },
    {
      "cell_type": "markdown",
      "metadata": {
        "id": "TL-mtC7gaU2p",
        "colab_type": "text"
      },
      "source": [
        "## End of main section\n",
        "\n",
        "Things below here just snippets to play around with."
      ]
    },
    {
      "cell_type": "code",
      "metadata": {
        "id": "mpyyPAbLQdC8",
        "colab_type": "code",
        "outputId": "6e17ab5d-0582-4e3f-a466-3730efe98797",
        "colab": {
          "base_uri": "https://localhost:8080/",
          "height": 162
        }
      },
      "source": [
        "fee_fie_foe()   #used to cause error and stop notebook here"
      ],
      "execution_count": 0,
      "outputs": [
        {
          "output_type": "error",
          "ename": "NameError",
          "evalue": "ignored",
          "traceback": [
            "\u001b[0;31m---------------------------------------------------------------------------\u001b[0m",
            "\u001b[0;31mNameError\u001b[0m                                 Traceback (most recent call last)",
            "\u001b[0;32m<ipython-input-93-0c786a86ae30>\u001b[0m in \u001b[0;36m<module>\u001b[0;34m()\u001b[0m\n\u001b[0;32m----> 1\u001b[0;31m \u001b[0mfee_fie_foe\u001b[0m\u001b[0;34m(\u001b[0m\u001b[0;34m)\u001b[0m   \u001b[0;31m#used to cause error and stop notebook here\u001b[0m\u001b[0;34m\u001b[0m\u001b[0;34m\u001b[0m\u001b[0m\n\u001b[0m",
            "\u001b[0;31mNameError\u001b[0m: name 'fee_fie_foe' is not defined"
          ]
        }
      ]
    },
    {
      "cell_type": "code",
      "metadata": {
        "id": "K5D1gungYoNC",
        "colab_type": "code",
        "colab": {}
      },
      "source": [
        "results_table.to_csv('/content/gdrive/My Drive/'+project+'_cnn_results_'+date_time+'.csv', index=False)"
      ],
      "execution_count": 0,
      "outputs": []
    },
    {
      "cell_type": "code",
      "metadata": {
        "id": "qLJq2Jp6eWfR",
        "colab_type": "code",
        "colab": {}
      },
      "source": [
        "# summarize the balance of classes in an output variable column\n",
        "def class_breakdown(data):\n",
        "  # convert the numpy array into a dataframe\n",
        "  df = pd.DataFrame(data)\n",
        "  # group data by the class value and calculate the number of rows\n",
        "  counts = df.groupby(0).size()\n",
        "  # retrieve raw rows\n",
        "  counts = counts.values\n",
        "  # summarize\n",
        "  print('Bin sizes - training:')\n",
        "  for i in range(len(counts)):\n",
        "    percent = counts[i] / len(df) * 100\n",
        "    print( 'Class=%d, total=%d, percentage=%.3f'  % (i+1, counts[i], percent))"
      ],
      "execution_count": 0,
      "outputs": []
    },
    {
      "cell_type": "code",
      "metadata": {
        "id": "W4Bj6gWQR6bl",
        "colab_type": "code",
        "colab": {}
      },
      "source": [
        "def do_binning_and_ohe_of_y(y_data, bins):\n",
        "  if not bins: return y_data  #if bins empty just return y_data\n",
        "  binned_labels = []\n",
        "  for raw in y_data:\n",
        "    for j,b in enumerate(bins):\n",
        "      if raw <= b:\n",
        "        binned_labels.append(j)\n",
        "        break\n",
        "    else:\n",
        "      print((raw, bins))\n",
        "      raise Exception()\n",
        "      \n",
        "  class_breakdown(binned_labels)  #print out percentages\n",
        "  \n",
        "  #may not see all bins given train-test splits so need to add them in\n",
        "  missing_set = set(list(range(len(bins))))-set(binned_labels)\n",
        "  if missing_set:\n",
        "    #replacing actual values at very end - a kludge\n",
        "    n_missing = len(missing_set)\n",
        "    binned_labels = binned_labels + list(missing_set)\n",
        "    print(('adding missing bins during training: ', missing_set))\n",
        "    np_labels = to_categorical(binned_labels)  #one hot encode using keras\n",
        "    np_labels = np_labels[:-n_missing]  #remove the ones that got tacked on\n",
        "  else:\n",
        "    np_labels = to_categorical(binned_labels)  #one hot encode using keras function\n",
        "\n",
        "  return np_labels"
      ],
      "execution_count": 0,
      "outputs": []
    },
    {
      "cell_type": "markdown",
      "metadata": {
        "id": "hp6BRFr-e0G1",
        "colab_type": "text"
      },
      "source": [
        "## Auto Grid Search example\n",
        "\n",
        "See https://stackoverflow.com/a/46918197\n",
        "\n",
        "Try later."
      ]
    },
    {
      "cell_type": "code",
      "metadata": {
        "id": "pypVbYECijrp",
        "colab_type": "code",
        "colab": {}
      },
      "source": [
        "bin0 = 0  #<=0\n",
        "bin1 = the_std  #<= 1*sigma\n",
        "bin2 = 2*the_std #<= 2*sigma\n",
        "bin3 = max(averaged_labels)  #<= the max\n",
        "bins = [bin0, bin1, bin2, bin3]\n",
        "bins"
      ],
      "execution_count": 0,
      "outputs": []
    },
    {
      "cell_type": "code",
      "metadata": {
        "id": "YxxotFi6DPXW",
        "colab_type": "code",
        "colab": {}
      },
      "source": [
        "def curry_bin(bins):\n",
        "  def produce_bin(chunk):\n",
        "    avg = create_average(chunk)\n",
        "    for i,b in enumerate(bins):\n",
        "      if avg <= b: return i\n",
        "\n",
        "    print('problem with binning: ' + str(val))\n",
        "    raise Exception\n",
        "    \n",
        "  return produce_bin"
      ],
      "execution_count": 0,
      "outputs": []
    },
    {
      "cell_type": "code",
      "metadata": {
        "id": "vIJczP58iQI6",
        "colab_type": "code",
        "colab": {}
      },
      "source": [
        "get_bin = curry_bin(bins)"
      ],
      "execution_count": 0,
      "outputs": []
    },
    {
      "cell_type": "markdown",
      "metadata": {
        "id": "1zpfKr7t3xMl",
        "colab_type": "text"
      },
      "source": [
        "##Note to self\n",
        "\n",
        "THere is a 0 at 1773 but not showing up when do splits on test data.\n",
        "\n",
        "Need to track down why not showing up on middle test split. Plot shows no 0 bins seen.\n",
        "\n",
        "Found problem: middle is cut off in middle of the 7 day 0 run. So never see the full 7 0s."
      ]
    },
    {
      "cell_type": "code",
      "metadata": {
        "id": "f-k_rgpPHng2",
        "colab_type": "code",
        "colab": {}
      },
      "source": [
        "binned_averages = []\n",
        "for i in range(chunk_size, len(just_commits)):  \n",
        "    next_chunk = just_commits[i:i+look_ahead_size]\n",
        "    the_average = get_average(next_chunk)\n",
        "    for j,b in enumerate(bins):\n",
        "      if the_average <= b:\n",
        "        the_bin = j\n",
        "        break\n",
        "    binned_averages.append(the_bin)"
      ],
      "execution_count": 0,
      "outputs": []
    },
    {
      "cell_type": "code",
      "metadata": {
        "id": "gpcAK2gnu7vp",
        "colab_type": "code",
        "colab": {}
      },
      "source": [
        "pie_labels = ['bin 0 <= '+'%.2f'%(bin0), 'bin 1 <= '+'%.2f'%(bin1), 'bin 2 <= '+'%.2f'%(bin2), 'bin 3 <= '+'%.2f'%(bin3)]\n",
        "sizes = [binned_averages.count(0),binned_averages.count(1),binned_averages.count(2),binned_averages.count(3)]\n",
        "\n",
        "plt.pie(sizes, labels=pie_labels, autopct='%1.1f%%',  shadow=True, startangle=90)\n",
        "plt.axis('equal')  # Equal aspect ratio ensures that pie is drawn as a circle.\n",
        "\n",
        "plt.show()"
      ],
      "execution_count": 0,
      "outputs": []
    },
    {
      "cell_type": "markdown",
      "metadata": {
        "id": "-yfKj3aHwPKO",
        "colab_type": "text"
      },
      "source": [
        "So if we always predicted bin 1 we would be accurate 39% of time."
      ]
    },
    {
      "cell_type": "code",
      "metadata": {
        "id": "NldVozTMkk18",
        "colab_type": "code",
        "colab": {}
      },
      "source": [
        "basic_plot(binned_averages, 'binned average by days', 'Commits per bin (0-3)')"
      ],
      "execution_count": 0,
      "outputs": []
    },
    {
      "cell_type": "markdown",
      "metadata": {
        "id": "Mac-5wiCyUS9",
        "colab_type": "text"
      },
      "source": [
        "## Important note\n",
        "\n",
        "The lonely bin 0 on right is lost when splitting. By accident, the split happens within the week with all 0s. So lose it."
      ]
    },
    {
      "cell_type": "markdown",
      "metadata": {
        "id": "Efau4Hz4eQwu",
        "colab_type": "text"
      },
      "source": [
        "And from above, we can go all the way back to around day 900 if ignore the one data point at 1743."
      ]
    },
    {
      "cell_type": "markdown",
      "metadata": {
        "colab_type": "text",
        "id": "8La2LOM865Rf"
      },
      "source": [
        "## Manual grid-search\n",
        "\n",
        "https://www.mikulskibartosz.name/nested-cross-validation-in-time-series-forecasting-using-scikit-learn-and-statsmodels/"
      ]
    },
    {
      "cell_type": "code",
      "metadata": {
        "colab_type": "code",
        "id": "s2N1l_hiU-cb",
        "colab": {}
      },
      "source": [
        "#Try on training set for giggles\n",
        "check_predictions = []\n",
        "\n",
        "for  i,chunk in enumerate(scaled_features_set):\n",
        "  chunk = np.reshape(chunk, (1, scaled_features_set.shape[1], 1))\n",
        "  yhat = model.predict(chunk, verbose=0)\n",
        "  check_predictions.append((yhat, scaled_labels[i], abs(yhat-scaled_labels[i])))\n"
      ],
      "execution_count": 0,
      "outputs": []
    }
  ]
}