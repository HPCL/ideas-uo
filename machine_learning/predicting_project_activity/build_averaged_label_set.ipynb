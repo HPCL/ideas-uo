{
 "cells": [
  {
   "cell_type": "markdown",
   "metadata": {},
   "source": [
    "# What this notebook does\n",
    "\n",
    "It assumes that a separate notebook has built a day-by-day feature set represented by a list. Each item in the list is a feature for a specific day. A feature has at least these first 3 values: day_name as int, month as int, day_of_month as int. It may have further values, e.g., number of commits that day, number of lines of code changed that day.\n",
    "\n",
    "The code below works with the feature set to build labels. Each label will be an average of one feature value (e.g., commits, locc) or a combination of feature values. Given we are looking at day d in the feature set, values will be averaged on the sequence [d+1:d+n] where n is a parameter ranging from 1 to some max.\n",
    "\n",
    "If you want some other form of label, one not based on averaging, then write your own notebook for it."
   ]
  },
  {
   "cell_type": "markdown",
   "metadata": {},
   "source": [
    "## Assumptions of this notebook\n",
    "\n",
    "1. The code and notebooks we will be using, including this one, are in the following folder: /ideas-uo/machine_learning/predicting_project_activity\n",
    "\n",
    "2. We expect to be able to execute this code: open('features_by_day_'+project+'.txt', 'r')\n",
    "\n",
    "3. Final result will be written to '/ideas-uo/machine_learning/predicting_project_activity' + 'commits_averaged_by_'+str(look_ahead)+'_'+project+'.txt'.\n",
    "\n",
    "4. This notebook should be started in folder /ideas-uo/machine_learning/predicting_project_activity."
   ]
  },
  {
   "cell_type": "markdown",
   "metadata": {},
   "source": [
    "## Parameters for this notebook"
   ]
  },
  {
   "cell_type": "code",
   "execution_count": 1,
   "metadata": {},
   "outputs": [],
   "source": [
    "project = 'spack'\n",
    "look_ahead = 7  #average over the following 7 days"
   ]
  },
  {
   "cell_type": "code",
   "execution_count": 2,
   "metadata": {},
   "outputs": [],
   "source": [
    "#This is index into a feature. It is the feature we will average over. A bit brittle. Should change\n",
    "#format of the features to be a dict so can specify a key as opposed to fixed index.\n",
    "\n",
    "feature_index = 3  #3 = commits"
   ]
  },
  {
   "cell_type": "markdown",
   "metadata": {},
   "source": [
    "## read in data"
   ]
  },
  {
   "cell_type": "code",
   "execution_count": 3,
   "metadata": {},
   "outputs": [
    {
     "data": {
      "text/plain": [
       "2331"
      ]
     },
     "execution_count": 3,
     "metadata": {},
     "output_type": "execute_result"
    }
   ],
   "source": [
    "import json\n",
    "with open('features_by_day_'+project+'.txt', 'r') as f:\n",
    "    features_by_day = json.loads(f.read())\n",
    "    \n",
    "len(features_by_day)"
   ]
  },
  {
   "cell_type": "markdown",
   "metadata": {},
   "source": [
    "## Build the labels"
   ]
  },
  {
   "cell_type": "code",
   "execution_count": 5,
   "metadata": {
    "format": "row"
   },
   "outputs": [],
   "source": [
    "labels_by_day =  []  \n",
    "for i in range(len(features_by_day)-look_ahead):  \n",
    "  next_chunk = features_by_day[i+1:i+look_ahead]\n",
    "  the_label = sum([f[feature_index] for f in next_chunk])/len(next_chunk)\n",
    "  labels_by_day.append(the_label)"
   ]
  },
  {
   "cell_type": "code",
   "execution_count": 6,
   "metadata": {},
   "outputs": [
    {
     "data": {
      "text/plain": [
       "2324"
      ]
     },
     "execution_count": 6,
     "metadata": {},
     "output_type": "execute_result"
    }
   ],
   "source": [
    "len(labels_by_day)"
   ]
  },
  {
   "cell_type": "code",
   "execution_count": 7,
   "metadata": {},
   "outputs": [
    {
     "data": {
      "text/plain": [
       "[0.8333333333333334,\n",
       " 1.1666666666666667,\n",
       " 2.1666666666666665,\n",
       " 2.3333333333333335,\n",
       " 2.3333333333333335,\n",
       " 2.0,\n",
       " 1.6666666666666667,\n",
       " 1.3333333333333333,\n",
       " 0.3333333333333333,\n",
       " 0.16666666666666666]"
      ]
     },
     "execution_count": 7,
     "metadata": {},
     "output_type": "execute_result"
    }
   ],
   "source": [
    "labels_by_day[:10]"
   ]
  },
  {
   "cell_type": "code",
   "execution_count": 8,
   "metadata": {},
   "outputs": [],
   "source": [
    "with open('commits_averaged_by_'+str(look_ahead)+'_'+project+'.txt', 'w') as f:\n",
    "    f.write(json.dumps(labels_by_day))"
   ]
  },
  {
   "cell_type": "code",
   "execution_count": null,
   "metadata": {},
   "outputs": [],
   "source": []
  }
 ],
 "metadata": {
  "kernelspec": {
   "display_name": "Python 3",
   "language": "python",
   "name": "python3"
  },
  "language_info": {
   "codemirror_mode": {
    "name": "ipython",
    "version": 3
   },
   "file_extension": ".py",
   "mimetype": "text/x-python",
   "name": "python",
   "nbconvert_exporter": "python",
   "pygments_lexer": "ipython3",
   "version": "3.6.4"
  },
  "toc": {
   "base_numbering": 1,
   "nav_menu": {},
   "number_sections": true,
   "sideBar": true,
   "skip_h1_title": false,
   "title_cell": "Table of Contents",
   "title_sidebar": "Contents",
   "toc_cell": false,
   "toc_position": {},
   "toc_section_display": true,
   "toc_window_display": false
  }
 },
 "nbformat": 4,
 "nbformat_minor": 2
}
