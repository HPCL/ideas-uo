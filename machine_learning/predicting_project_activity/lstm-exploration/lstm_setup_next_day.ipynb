{
  "nbformat": 4,
  "nbformat_minor": 0,
  "metadata": {
    "colab": {
      "name": "lstm_setup_next_day.ipynb",
      "version": "0.3.2",
      "provenance": [],
      "collapsed_sections": []
    },
    "language_info": {
      "codemirror_mode": {
        "name": "ipython",
        "version": 3
      },
      "file_extension": ".py",
      "mimetype": "text/x-python",
      "name": "python",
      "nbconvert_exporter": "python",
      "pygments_lexer": "ipython3",
      "version": "3.6.4"
    },
    "kernelspec": {
      "display_name": "Python 3",
      "language": "python",
      "name": "python3"
    }
  },
  "cells": [
    {
      "cell_type": "markdown",
      "metadata": {
        "id": "duQukSK8ncOL",
        "colab_type": "text"
      },
      "source": [
        "# Use commit counts by day to train an LSTM model to predict next day\n",
        "\n",
        "Will build 3 separate models and test on training data just for ballpark results. The models are:\n",
        "\n",
        "1.   Counts unscaled. 30 day chunk. 100 epochs. (lstm_model_v0.h5)\n",
        "2.   Counts scaled. 30 day chunk. 100 epochs. (lstm_model_v1.h5)\n",
        "3.   Counts binned into 4 bins. 30 day chunk. 100 epochs. (lstm_model_v2.h5 and (lstm_model_v2b.h5)\n",
        "\n",
        "Assumes have already run get_commits and wrangle_commits notebooks to produce daily commit counts.\n",
        "\n"
      ]
    },
    {
      "cell_type": "markdown",
      "metadata": {
        "id": "dFIa2YwHOO2x",
        "colab_type": "text"
      },
      "source": [
        "## Caveats\n",
        "\n",
        "1. Only testing on training data. Need to break out training set and test set.\n",
        "\n",
        "2. Bins are not well thought out. Not taking into account that 35% of days are 0 commit days and other features of the domain.\n",
        "\n",
        "3. Used 2 separate projects in combined form. Best if do single project, i.e., a model for each invdividual project. Down the road can build model library with attributes. Get attributes of new project, match with library, and attempt to reuse that model. Cool. Especially useful if not that much training data for new project.\n",
        "\n",
        "\n",
        "\n",
        "\n",
        "\n"
      ]
    },
    {
      "cell_type": "markdown",
      "metadata": {
        "id": "IC-aMFmI_3qk",
        "colab_type": "text"
      },
      "source": [
        "#use if on jupyter server\n",
        "import json\n",
        "\n",
        "with open('commit_counts.txt', 'r') as f:\n",
        "\n",
        "    commit_counts = json.loads(f.read())\n",
        "    \n",
        "len(commit_counts)"
      ]
    },
    {
      "cell_type": "code",
      "metadata": {
        "id": "oiPMFTyzL3AD",
        "colab_type": "code",
        "colab": {
          "resources": {
            "http://localhost:8080/nbextensions/google.colab/files.js": {
              "data": "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",
              "ok": true,
              "headers": [
                [
                  "content-type",
                  "application/javascript"
                ]
              ],
              "status": 200,
              "status_text": ""
            }
          },
          "base_uri": "https://localhost:8080/",
          "height": 70
        },
        "outputId": "b2bcbe21-7e1d-4bcf-cdbe-62830c4ae2cf"
      },
      "source": [
        "from google.colab import files\n",
        "files.upload();                   #commit_counts.txt"
      ],
      "execution_count": 73,
      "outputs": [
        {
          "output_type": "display_data",
          "data": {
            "text/html": [
              "\n",
              "     <input type=\"file\" id=\"files-099c0a06-9c46-4930-b121-d67a04ea6459\" name=\"files[]\" multiple disabled />\n",
              "     <output id=\"result-099c0a06-9c46-4930-b121-d67a04ea6459\">\n",
              "      Upload widget is only available when the cell has been executed in the\n",
              "      current browser session. Please rerun this cell to enable.\n",
              "      </output>\n",
              "      <script src=\"/nbextensions/google.colab/files.js\"></script> "
            ],
            "text/plain": [
              "<IPython.core.display.HTML object>"
            ]
          },
          "metadata": {
            "tags": []
          }
        },
        {
          "output_type": "stream",
          "text": [
            "Saving commit_counts.txt to commit_counts.txt\n"
          ],
          "name": "stdout"
        }
      ]
    },
    {
      "cell_type": "code",
      "metadata": {
        "id": "bXMXMLP8MKuO",
        "colab_type": "code",
        "colab": {
          "base_uri": "https://localhost:8080/",
          "height": 34
        },
        "outputId": "22f17498-2fa2-4016-bb96-0bcf746b7d8a"
      },
      "source": [
        "import json\n",
        "\n",
        "with open('commit_counts.txt', 'r') as f:\n",
        "    commit_counts = json.loads(f.read())\n",
        "    \n",
        "len(commit_counts) #2149"
      ],
      "execution_count": 75,
      "outputs": [
        {
          "output_type": "execute_result",
          "data": {
            "text/plain": [
              "2149"
            ]
          },
          "metadata": {
            "tags": []
          },
          "execution_count": 75
        }
      ]
    },
    {
      "cell_type": "code",
      "metadata": {
        "id": "gKzthqTPAa_K",
        "colab_type": "code",
        "colab": {}
      },
      "source": [
        "#kludge because did not want to mess with uploading commit_counts.txt. Just copy and pasted values.\n",
        "\n",
        "import numpy as np\n",
        "commit_counts = np.array([7, 0, 0, 0, 0, 12, 18, 12, 36, 6, 0, 0, 6, 0, 0, 0, 0, 0, 0, 0, 0, 0, 0, 0, 0, 0, 0, 0, 0, 0, 0, 0, 0, 0, 0, 0, 0, 12, 0, 0, 18, 0, 0, 0, 0, 0, 0, 0, 0, 0, 0, 0, 0, 0, 12, 0, 0, 0, 0, 0, 0, 0, 0, 0, 0, 0, 0, 0, 0, 0, 0, 0, 0, 0, 0, 0, 0, 0, 0, 0, 0, 0, 0, 0, 0, 30, 0, 0, 18, 6, 0, 6, 0, 24, 0, 0, 0, 0, 0, 0, 0, 0, 0, 0, 0, 0, 0, 0, 0, 6, 0, 0, 0, 0, 0, 0, 0, 0, 0, 0, 0, 0, 0, 0, 0, 0, 0, 0, 0, 0, 0, 0, 0, 0, 0, 0, 18, 0, 0, 0, 0, 0, 0, 0, 0, 0, 0, 0, 0, 0, 0, 0, 0, 0, 0, 0, 0, 0, 0, 0, 0, 0, 0, 0, 0, 0, 0, 0, 0, 0, 0, 0, 0, 0, 0, 0, 0, 0, 0, 0, 0, 0, 0, 0, 0, 0, 0, 0, 0, 0, 0, 0, 0, 0, 0, 0, 0, 0, 0, 0, 0, 0, 0, 0, 0, 0, 0, 0, 0, 0, 0, 0, 0, 0, 0, 0, 0, 0, 0, 0, 0, 0, 0, 0, 0, 0, 0, 0, 0, 0, 0, 0, 0, 0, 0, 0, 18, 0, 0, 0, 12, 0, 0, 0, 6, 0, 12, 6, 0, 0, 0, 0, 0, 0, 0, 6, 0, 0, 0, 0, 0, 0, 0, 0, 0, 0, 0, 0, 0, 0, 0, 0, 0, 0, 0, 0, 0, 0, 0, 0, 6, 0, 0, 36, 6, 0, 0, 0, 0, 0, 0, 6, 0, 0, 0, 0, 0, 12, 12, 24, 0, 0, 12, 0, 0, 0, 0, 0, 24, 0, 30, 6, 6, 30, 6, 18, 6, 0, 0, 0, 0, 0, 0, 0, 6, 15, 0, 25, 5, 15, 20, 0, 5, 10, 10, 10, 5, 0, 0, 0, 0, 0, 0, 0, 5, 0, 0, 50, 0, 0, 0, 0, 0, 0, 0, 0, 5, 5, 5, 30, 20, 5, 15, 0, 0, 0, 0, 0, 0, 0, 0, 0, 0, 0, 0, 0, 0, 0, 0, 0, 0, 0, 0, 0, 0, 0, 0, 0, 0, 0, 0, 0, 5, 130, 45, 20, 25, 15, 0, 0, 0, 0, 0, 0, 0, 0, 0, 0, 0, 0, 0, 0, 0, 0, 0, 0, 0, 0, 0, 0, 0, 0, 0, 0, 10, 20, 10, 10, 0, 0, 0, 0, 0, 0, 0, 5, 30, 0, 0, 0, 5, 0, 15, 0, 0, 5, 5, 0, 15, 0, 0, 0, 0, 0, 0, 0, 0, 10, 10, 0, 5, 15, 0, 0, 0, 0, 0, 0, 10, 5, 0, 5, 0, 0, 5, 0, 0, 10, 0, 0, 0, 0, 0, 0, 0, 0, 0, 15, 0, 10, 0, 10, 10, 0, 30, 10, 35, 0, 0, 0, 0, 0, 0, 0, 10, 0, 0, 0, 0, 0, 20, 10, 20, 0, 0, 0, 0, 0, 0, 0, 0, 0, 0, 0, 0, 0, 0, 15, 0, 0, 0, 5, 5, 50, 40, 0, 15, 5, 0, 5, 5, 5, 10, 55, 5, 0, 0, 0, 0, 15, 5, 0, 0, 10, 5, 10, 0, 0, 5, 0, 0, 0, 0, 0, 0, 0, 0, 0, 0, 10, 0, 0, 0, 0, 0, 0, 0, 0, 0, 0, 20, 25, 25, 15, 0, 0, 0, 10, 0, 0, 0, 30, 5, 30, 5, 5, 5, 0, 10, 0, 15, 30, 20, 0, 15, 0, 0, 0, 5, 10, 10, 0, 0, 0, 0, 0, 15, 5, 0, 25, 0, 60, 5, 0, 15, 5, 25, 5, 15, 0, 5, 10, 15, 25, 0, 0, 5, 0, 0, 0, 0, 5, 0, 0, 0, 0, 0, 0, 10, 0, 0, 0, 0, 0, 0, 0, 15, 30, 0, 15, 5, 0, 0, 5, 5, 5, 0, 5, 0, 0, 5, 0, 0, 15, 0, 0, 0, 15, 5, 0, 40, 10, 0, 0, 25, 5, 5, 0, 0, 9, 4, 4, 20, 12, 8, 0, 16, 0, 12, 8, 4, 8, 0, 4, 0, 32, 12, 4, 12, 8, 0, 4, 8, 0, 4, 0, 0, 0, 0, 8, 0, 8, 0, 20, 8, 36, 12, 0, 8, 12, 0, 0, 52, 16, 24, 48, 0, 0, 0, 8, 8, 16, 4, 8, 0, 0, 4, 0, 4, 8, 4, 0, 0, 0, 0, 0, 8, 16, 8, 0, 4, 0, 8, 8, 8, 0, 0, 0, 0, 16, 0, 12, 8, 0, 0, 4, 0, 4, 0, 0, 0, 0, 8, 12, 12, 4, 0, 0, 0, 4, 8, 0, 0, 0, 0, 0, 9, 0, 0, 0, 0, 0, 4, 8, 4, 4, 0, 4, 0, 0, 0, 8, 0, 8, 0, 16, 32, 0, 24, 0, 0, 0, 0, 4, 20, 0, 0, 0, 0, 0, 0, 0, 0, 16, 8, 32, 0, 4, 16, 0, 16, 4, 0, 60, 16, 0, 16, 20, 16, 0, 12, 0, 0, 0, 8, 12, 0, 12, 0, 0, 8, 0, 0, 0, 0, 0, 0, 0, 0, 24, 0, 0, 0, 3, 12, 4, 4, 4, 0, 0, 4, 16, 0, 8, 0, 0, 3, 0, 48, 4, 8, 4, 0, 0, 4, 0, 4, 0, 0, 8, 0, 4, 4, 0, 4, 8, 0, 0, 0, 0, 4, 8, 8, 0, 0, 4, 4, 3, 0, 12, 4, 0, 11, 20, 8, 4, 0, 0, 0, 8, 4, 0, 8, 0, 0, 0, 0, 0, 0, 0, 4, 0, 0, 0, 4, 3, 19, 7, 0, 0, 20, 8, 26, 4, 7, 4, 8, 0, 4, 3, 7, 6, 15, 0, 16, 4, 3, 12, 0, 0, 0, 16, 12, 11, 72, 16, 16, 4, 4, 9, 40, 39, 12, 8, 0, 36, 32, 4, 24, 33, 0, 4, 6, 0, 37, 27, 24, 0, 0, 16, 7, 32, 22, 19, 0, 0, 36, 12, 40, 16, 7, 0, 0, 62, 28, 26, 14, 4, 16, 12, 8, 31, 22, 12, 3, 8, 0, 24, 8, 36, 16, 25, 0, 4, 20, 12, 24, 15, 28, 32, 20, 37, 63, 20, 3, 6, 3, 9, 6, 9, 36, 6, 16, 15, 9, 6, 51, 24, 18, 78, 6, 9, 39, 42, 21, 27, 33, 0, 54, 15, 51, 30, 42, 15, 0, 12, 24, 30, 12, 33, 18, 0, 6, 21, 9, 18, 12, 6, 3, 6, 3, 3, 36, 21, 27, 15, 9, 3, 36, 39, 9, 3, 3, 0, 33, 0, 48, 36, 3, 3, 0, 15, 9, 114, 42, 27, 30, 18, 15, 33, 69, 39, 30, 3, 36, 18, 27, 36, 39, 72, 6, 12, 72, 96, 90, 81, 63, 30, 51, 45, 78, 114, 63, 21, 27, 24, 132, 54, 60, 18, 48, 6, 3, 9, 18, 24, 12, 18, 6, 12, 9, 15, 21, 15, 18, 21, 12, 12, 42, 42, 18, 30, 12, 9, 39, 66, 42, 75, 45, 6, 15, 63, 123, 93, 30, 24, 54, 24, 39, 42, 66, 24, 18, 3, 12, 18, 21, 18, 42, 30, 39, 21, 39, 45, 27, 12, 21, 36, 15, 36, 30, 48, 6, 27, 21, 54, 39, 33, 72, 48, 24, 54, 21, 87, 18, 36, 18, 9, 0, 30, 48, 21, 24, 39, 21, 6, 0, 33, 33, 57, 30, 36, 3, 9, 87, 51, 78, 39, 63, 30, 9, 105, 30, 87, 60, 48, 15, 15, 69, 39, 27, 12, 30, 57, 48, 90, 60, 48, 50, 24, 9, 24, 27, 45, 39, 18, 12, 0, 0, 33, 18, 15, 9, 27, 6, 6, 39, 51, 63, 45, 3, 3, 27, 63, 75, 12, 9, 42, 3, 3, 0, 27, 3, 15, 9, 0, 0, 0, 0, 15, 6, 0, 0, 0, 0, 90, 57, 30, 27, 0, 0, 9, 18, 30, 12, 6, 0, 27, 9, 27, 45, 63, 6, 9, 0, 15, 72, 30, 0, 21, 6, 9, 6, 21, 9, 0, 48, 27, 12, 21, 42, 30, 24, 15, 12, 21, 9, 9, 12, 14, 45, 21, 15, 3, 6, 21, 6, 11, 15, 9, 9, 9, 6, 3, 3, 0, 0, 6, 12, 27, 33, 0, 0, 18, 21, 21, 3, 33, 18, 12, 3, 27, 6, 24, 42, 12, 9, 27, 15, 24, 12, 9, 18, 6, 12, 36, 6, 6, 3, 0, 0, 27, 6, 12, 9, 11, 24, 3, 3, 2, 18, 6, 8, 12, 0, 4, 6, 2, 2, 2, 0, 36, 22, 10, 22, 4, 20, 0, 0, 22, 18, 14, 22, 6, 0, 0, 2, 22, 2, 0, 32, 8, 6, 10, 8, 10, 12, 12, 12, 0, 2, 4, 0, 1, 38, 26, 4, 16, 20, 8, 4, 4, 0, 2, 0, 30, 24, 46, 50, 32, 8, 0, 18, 4, 18, 24, 26, 4, 2, 12, 18, 34, 20, 10, 6, 22, 14, 10, 10, 38, 10, 16, 18, 58, 30, 8, 30, 12, 6, 18, 24, 20, 34, 32, 8, 0, 16, 20, 10, 4, 40, 10, 6, 8, 28, 30, 18, 30, 8, 10, 6, 28, 38, 32, 28, 14, 8, 26, 28, 12, 8, 22, 10, 0, 16, 22, 20, 18, 16, 0, 6, 8, 6, 18, 14, 20, 4, 8, 6, 16, 12, 24, 20, 14, 0, 8, 20, 8, 10, 8, 0, 0, 8, 8, 16, 6, 15, 2, 5, 8, 18, 16, 24, 22, 14, 0, 14, 10, 16, 14, 22, 8, 6, 6, 8, 28, 10, 6, 4, 16, 7, 4, 12, 10, 16, 0, 2, 14, 6, 6, 32, 22, 10, 0, 20, 40, 26, 12, 26, 6, 4, 22, 26, 10, 14, 4, 0, 4, 22, 2, 4, 20, 16, 32, 4, 38, 34, 32, 24, 20, 2, 0, 12, 18, 44, 26, 22, 6, 8, 8, 18, 12, 8, 16, 12, 2, 10, 2, 6, 12, 10, 2, 0, 0, 8, 4, 6, 2, 2, 18, 30, 12, 4, 20, 10, 22, 10, 28, 16, 26, 24, 22, 28, 8, 36, 20, 40, 60, 30, 4, 0, 18, 20, 20, 36, 28, 2, 6, 24, 10, 38, 26, 74, 10, 16, 12, 18, 14, 12, 12, 4, 2, 18, 90, 74, 30, 50, 18, 8, 42, 40, 34, 30, 26, 4, 10, 24, 8, 94, 36, 18, 6, 14, 18, 22, 28, 16, 16, 16, 4, 26, 32, 4, 28, 6, 28, 12, 24, 28, 22, 18, 16, 4, 8, 10, 18, 12, 6, 68, 0, 4, 8, 18, 14, 14, 2, 24, 14, 10, 24, 14, 6, 10, 0, 0, 0, 0, 0, 0, 0, 6, 2, 0, 26, 15, 17, 7, 4, 3, 10, 6, 29, 5, 4, 3, 18, 6, 6, 1, 4, 3, 14, 4, 5, 12, 2, 3, 4, 0, 6, 2, 0, 22, 3, 2, 6, 1, 2, 8, 1, 1, 8, 2, 9, 7, 9, 11, 3, 3, 1, 2, 2, 5, 6, 9, 6, 0, 0, 6, 10, 7, 3, 1, 0, 0, 14, 31, 11, 8, 12, 1, 0, 3, 6, 6, 1, 0, 4, 2, 13, 5, 35, 25, 12, 2, 6, 7, 5, 10, 7, 3, 5, 0, 5, 2, 6, 3, 5, 3, 3, 1, 16, 9, 18, 13, 4, 3, 10, 25, 11, 13, 2, 7, 4, 5, 5, 15, 17, 4, 4, 2, 4, 1, 8, 19, 6, 6, 6, 9, 10, 7, 5, 6, 10, 2, 19, 5, 2, 16, 20, 5, 12, 16, 4, 12, 9, 7, 4, 0, 6, 7, 7, 7, 10, 6, 3, 5, 5, 17, 15, 6, 2, 1, 5, 4, 13, 12, 9, 2, 3, 7, 2, 8, 6, 9, 5, 5, 2, 8, 10, 3, 9, 1, 1, 8, 4, 2, 4, 9, 2, 2, 6, 7, 14, 5, 6, 2, 6, 3, 10, 6, 13, 1, 4, 16, 7, 10, 3, 12, 7, 0, 4, 12, 4, 7, 19, 9, 3, 1, 13, 7, 3, 5, 6, 9, 1, 8, 7, 6, 12, 5, 8, 2, 7, 11, 21, 8, 7, 1, 3, 2, 6, 14, 3, 4, 2, 3, 16, 8, 6, 5, 2, 4, 0, 2, 2, 3, 1, 37, 4, 3, 0, 7, 3, 3, 1, 0, 0, 8, 3, 10, 9, 15, 0, 1, 6, 14, 11, 7, 4, 0, 3, 14, 20, 11, 10, 13, 0, 2, 12, 6, 8, 24, 10, 2, 0, 12, 0, 8, 12, 18, 9, 1, 11, 11, 7, 2, 6, 2, 1, 3, 5, 7, 2, 5, 0, 11, 19, 49, 8, 8, 7, 1, 2, 21, 6, 2, 5, 3, 6, 5, 8, 6, 6, 0, 2, 0, 0, 3, 26, 11, 5, 8, 6, 1, 4, 5, 2, 6, 16, 7, 3, 18, 10, 14, 8, 6, 5, 5, 7, 1, 9, 3, 5, 4, 3, 11, 2, 2])"
      ],
      "execution_count": 0,
      "outputs": []
    },
    {
      "cell_type": "code",
      "metadata": {
        "id": "-5i9sIxjNu3-",
        "colab_type": "code",
        "colab": {
          "base_uri": "https://localhost:8080/",
          "height": 34
        },
        "outputId": "2a6b9643-5017-4797-e550-35c04ef1daf9"
      },
      "source": [
        "len(commit_counts)"
      ],
      "execution_count": 2,
      "outputs": [
        {
          "output_type": "execute_result",
          "data": {
            "text/plain": [
              "2149"
            ]
          },
          "metadata": {
            "tags": []
          },
          "execution_count": 2
        }
      ]
    },
    {
      "cell_type": "code",
      "metadata": {
        "id": "hSr8crUf_3qt",
        "colab_type": "code",
        "colab": {
          "base_uri": "https://localhost:8080/",
          "height": 283
        },
        "outputId": "5bcd039e-e94c-487d-94c0-acdc575879fa"
      },
      "source": [
        "%matplotlib inline\n",
        "from matplotlib import pyplot as plt\n",
        "plt.plot(commit_counts)\n",
        "plt.ylabel('Commits per day')\n",
        "plt.xlabel('days')\n",
        "plt.show()"
      ],
      "execution_count": 3,
      "outputs": [
        {
          "output_type": "display_data",
          "data": {
            "image/png": "[encoded data removed]",
            "text/plain": [
              "<Figure size 432x288 with 1 Axes>"
            ]
          },
          "metadata": {
            "tags": []
          }
        }
      ]
    },
    {
      "cell_type": "markdown",
      "metadata": {
        "id": "3nvnEH7ntuov",
        "colab_type": "text"
      },
      "source": [
        "Scale for use later."
      ]
    },
    {
      "cell_type": "code",
      "metadata": {
        "id": "eOA48j6F1oBZ",
        "colab_type": "code",
        "colab": {
          "base_uri": "https://localhost:8080/",
          "height": 34
        },
        "outputId": "e60155ab-7636-4025-d8b8-fe5e22232ecd"
      },
      "source": [
        "max_daily = max(commit_counts)\n",
        "max_daily"
      ],
      "execution_count": 4,
      "outputs": [
        {
          "output_type": "execute_result",
          "data": {
            "text/plain": [
              "132"
            ]
          },
          "metadata": {
            "tags": []
          },
          "execution_count": 4
        }
      ]
    },
    {
      "cell_type": "code",
      "metadata": {
        "id": "c-bMthaa_3qy",
        "colab_type": "code",
        "colab": {}
      },
      "source": [
        "from sklearn.preprocessing import MinMaxScaler\n",
        "\n",
        "scaler = MinMaxScaler(feature_range = (0, 1))\n",
        "\n",
        "commit_counts_scaled = scaler.fit_transform(commit_counts.reshape(-1, 1))  "
      ],
      "execution_count": 0,
      "outputs": []
    },
    {
      "cell_type": "code",
      "metadata": {
        "id": "mKW8sqZbC7m8",
        "colab_type": "code",
        "colab": {
          "base_uri": "https://localhost:8080/",
          "height": 34
        },
        "outputId": "cbc5dc23-99a2-4f1b-8f7c-c348ef8dfba8"
      },
      "source": [
        "commit_counts[:10]"
      ],
      "execution_count": 6,
      "outputs": [
        {
          "output_type": "execute_result",
          "data": {
            "text/plain": [
              "array([ 7,  0,  0,  0,  0, 12, 18, 12, 36,  6])"
            ]
          },
          "metadata": {
            "tags": []
          },
          "execution_count": 6
        }
      ]
    },
    {
      "cell_type": "code",
      "metadata": {
        "id": "dfowiH7gCuki",
        "colab_type": "code",
        "colab": {
          "base_uri": "https://localhost:8080/",
          "height": 185
        },
        "outputId": "5fed8881-a515-4672-b75f-a0607b877005"
      },
      "source": [
        "print(commit_counts_scaled[:10])"
      ],
      "execution_count": 7,
      "outputs": [
        {
          "output_type": "stream",
          "text": [
            "[[0.0530303 ]\n",
            " [0.        ]\n",
            " [0.        ]\n",
            " [0.        ]\n",
            " [0.        ]\n",
            " [0.09090909]\n",
            " [0.13636364]\n",
            " [0.09090909]\n",
            " [0.27272727]\n",
            " [0.04545455]]\n"
          ],
          "name": "stdout"
        }
      ]
    },
    {
      "cell_type": "markdown",
      "metadata": {
        "id": "CuAxRHcBDph7",
        "colab_type": "text"
      },
      "source": [
        "## Working on unscaled for now"
      ]
    },
    {
      "cell_type": "code",
      "metadata": {
        "id": "UzYA98uc_3q2",
        "colab_type": "code",
        "colab": {
          "base_uri": "https://localhost:8080/",
          "height": 34
        },
        "outputId": "b0669637-9b7a-4e60-9be9-a0c5808bd838"
      },
      "source": [
        "chunk = 30  #take 30 days in each chunk, stride = 1\n",
        "\n",
        "features_set = []  \n",
        "labels =  []  \n",
        "for i in range(chunk, len(commit_counts)):  \n",
        "    features_set.append(commit_counts[i-chunk:i])\n",
        "    labels.append(commit_counts[i])\n",
        "    \n",
        "(len(features_set), len(labels))"
      ],
      "execution_count": 8,
      "outputs": [
        {
          "output_type": "execute_result",
          "data": {
            "text/plain": [
              "(2119, 2119)"
            ]
          },
          "metadata": {
            "tags": []
          },
          "execution_count": 8
        }
      ]
    },
    {
      "cell_type": "code",
      "metadata": {
        "id": "H7M4xPfV_3q6",
        "colab_type": "code",
        "colab": {
          "base_uri": "https://localhost:8080/",
          "height": 50
        },
        "outputId": "e92022a6-6122-43ee-ab98-54d9d670d7ce"
      },
      "source": [
        "features_set[-1]  #last 30 day chunk"
      ],
      "execution_count": 9,
      "outputs": [
        {
          "output_type": "execute_result",
          "data": {
            "text/plain": [
              "array([ 3, 26, 11,  5,  8,  6,  1,  4,  5,  2,  6, 16,  7,  3, 18, 10, 14,\n",
              "        8,  6,  5,  5,  7,  1,  9,  3,  5,  4,  3, 11,  2])"
            ]
          },
          "metadata": {
            "tags": []
          },
          "execution_count": 9
        }
      ]
    },
    {
      "cell_type": "code",
      "metadata": {
        "id": "Q5pAPCZ5_3q_",
        "colab_type": "code",
        "colab": {
          "base_uri": "https://localhost:8080/",
          "height": 34
        },
        "outputId": "d85c4ff7-e021-4689-ffb0-fcb3e4cde841"
      },
      "source": [
        "labels[:20]"
      ],
      "execution_count": 10,
      "outputs": [
        {
          "output_type": "execute_result",
          "data": {
            "text/plain": [
              "[0, 0, 0, 0, 0, 0, 0, 12, 0, 0, 18, 0, 0, 0, 0, 0, 0, 0, 0, 0]"
            ]
          },
          "metadata": {
            "tags": []
          },
          "execution_count": 10
        }
      ]
    },
    {
      "cell_type": "code",
      "metadata": {
        "id": "cl2Uno3d_3rD",
        "colab_type": "code",
        "colab": {}
      },
      "source": [
        "\n",
        "features_set, labels = np.array(features_set), np.array(labels)  "
      ],
      "execution_count": 0,
      "outputs": []
    },
    {
      "cell_type": "code",
      "metadata": {
        "id": "asgGkTPm_3rG",
        "colab_type": "code",
        "colab": {
          "base_uri": "https://localhost:8080/",
          "height": 34
        },
        "outputId": "03fe1487-dcb0-4b3c-fa56-0efedf498bb2"
      },
      "source": [
        "features_set = np.reshape(features_set, (features_set.shape[0], features_set.shape[1], 1))  \n",
        "features_set.shape"
      ],
      "execution_count": 12,
      "outputs": [
        {
          "output_type": "execute_result",
          "data": {
            "text/plain": [
              "(2119, 30, 1)"
            ]
          },
          "metadata": {
            "tags": []
          },
          "execution_count": 12
        }
      ]
    },
    {
      "cell_type": "code",
      "metadata": {
        "id": "g9J4S6t0_3rL",
        "colab_type": "code",
        "colab": {
          "base_uri": "https://localhost:8080/",
          "height": 34
        },
        "outputId": "2f42746d-8410-4828-840f-06befc140bae"
      },
      "source": [
        "from keras.models import Sequential  \n",
        "from keras.layers import Dense  \n",
        "from keras.layers import LSTM  \n",
        "from keras.layers import Dropout\n",
        "from keras.models import load_model"
      ],
      "execution_count": 13,
      "outputs": [
        {
          "output_type": "stream",
          "text": [
            "Using TensorFlow backend.\n"
          ],
          "name": "stderr"
        }
      ]
    },
    {
      "cell_type": "markdown",
      "metadata": {
        "id": "aJdlBBf6y4JP",
        "colab_type": "text"
      },
      "source": [
        "# Checkpoint\n",
        "\n",
        "Code below will halt Run All. Stopping after define features but before starting to define models."
      ]
    },
    {
      "cell_type": "code",
      "metadata": {
        "id": "7tFTdOoIzMC3",
        "colab_type": "code",
        "colab": {}
      },
      "source": [
        "foo_fum_fie()  #bogus function call"
      ],
      "execution_count": 0,
      "outputs": []
    },
    {
      "cell_type": "code",
      "metadata": {
        "id": "6Kx145El_3rP",
        "colab_type": "code",
        "colab": {}
      },
      "source": [
        "model = Sequential()  \n"
      ],
      "execution_count": 0,
      "outputs": []
    },
    {
      "cell_type": "code",
      "metadata": {
        "id": "dwfBRHQwEAUt",
        "colab_type": "code",
        "colab": {}
      },
      "source": [
        "model.add(LSTM(units=50, return_sequences=True, input_shape=(features_set.shape[1], 1)))  \n"
      ],
      "execution_count": 0,
      "outputs": []
    },
    {
      "cell_type": "code",
      "metadata": {
        "id": "wH4I4nGnEYyc",
        "colab_type": "code",
        "colab": {}
      },
      "source": [
        "model.add(Dropout(0.2))  \n",
        "\n"
      ],
      "execution_count": 0,
      "outputs": []
    },
    {
      "cell_type": "code",
      "metadata": {
        "id": "knFFLe49Eo2S",
        "colab_type": "code",
        "colab": {}
      },
      "source": [
        "model.add(LSTM(units=50, return_sequences=True))  \n",
        "model.add(Dropout(0.2))\n",
        "\n",
        "model.add(LSTM(units=50, return_sequences=True))  \n",
        "model.add(Dropout(0.2))\n",
        "\n",
        "model.add(LSTM(units=50))  \n",
        "model.add(Dropout(0.2))  "
      ],
      "execution_count": 0,
      "outputs": []
    },
    {
      "cell_type": "code",
      "metadata": {
        "id": "C9qTht1kE1Lj",
        "colab_type": "code",
        "colab": {}
      },
      "source": [
        "model.add(Dense(units = 1))  \n"
      ],
      "execution_count": 0,
      "outputs": []
    },
    {
      "cell_type": "code",
      "metadata": {
        "id": "v5YssZerE3Cp",
        "colab_type": "code",
        "colab": {}
      },
      "source": [
        "model.compile(optimizer = 'adam', loss = 'mean_squared_error')  \n"
      ],
      "execution_count": 0,
      "outputs": []
    },
    {
      "cell_type": "code",
      "metadata": {
        "id": "fQZ-7bAgE_ID",
        "colab_type": "code",
        "colab": {}
      },
      "source": [
        "'''\n",
        "Epoch 100/100\n",
        "1023/1023 [==============================] - 3s 3ms/step - loss: 12.6163\n",
        "'''\n",
        "model.fit(features_set, labels, epochs = 100, batch_size = 32)  \n"
      ],
      "execution_count": 0,
      "outputs": []
    },
    {
      "cell_type": "markdown",
      "metadata": {
        "id": "GPT-orXjJBmD",
        "colab_type": "text"
      },
      "source": [
        "## Write model out to gdrive"
      ]
    },
    {
      "cell_type": "code",
      "metadata": {
        "colab_type": "code",
        "id": "QxE83L41Hs_c",
        "outputId": "6566a93d-3323-47bc-f182-e045f1c763dd",
        "colab": {
          "base_uri": "https://localhost:8080/",
          "height": 34
        }
      },
      "source": [
        "from google.colab import drive\n",
        "drive.mount('/content/gdrive')"
      ],
      "execution_count": 22,
      "outputs": [
        {
          "output_type": "stream",
          "text": [
            "Drive already mounted at /content/gdrive; to attempt to forcibly remount, call drive.mount(\"/content/gdrive\", force_remount=True).\n"
          ],
          "name": "stdout"
        }
      ]
    },
    {
      "cell_type": "code",
      "metadata": {
        "id": "einStfZYG5Ur",
        "colab_type": "code",
        "colab": {}
      },
      "source": [
        "# save model to single file\n",
        "model.save('/content/gdrive/My Drive/lstm_model_v0.h5')"
      ],
      "execution_count": 0,
      "outputs": []
    },
    {
      "cell_type": "markdown",
      "metadata": {
        "id": "qWlRht32JIzp",
        "colab_type": "text"
      },
      "source": [
        "Make sure we can load it again."
      ]
    },
    {
      "cell_type": "code",
      "metadata": {
        "id": "TmnZsIEKHKt5",
        "colab_type": "code",
        "colab": {}
      },
      "source": [
        "#from keras.models import load_model # load model from single file\n",
        "#model_test = load_model('/content/gdrive/My Drive/lstm_model_v0.h5') # make predictions\n"
      ],
      "execution_count": 0,
      "outputs": []
    },
    {
      "cell_type": "code",
      "metadata": {
        "id": "vX8HZNphHPYI",
        "colab_type": "code",
        "colab": {}
      },
      "source": [
        "#Try on training set for giggles\n",
        "check_predictions = []\n",
        "\n",
        "for  i,chunk in enumerate(features_set):\n",
        "  chunk = np.reshape(chunk, (1, features_set.shape[1], 1))\n",
        "  yhat = model.predict(chunk, verbose=0)\n",
        "  check_predictions.append((yhat, labels[i], abs(yhat-labels[i])))  #(prediction, actual, abs diff)\n"
      ],
      "execution_count": 0,
      "outputs": []
    },
    {
      "cell_type": "code",
      "metadata": {
        "id": "W_U82cqUK-0U",
        "colab_type": "code",
        "colab": {
          "base_uri": "https://localhost:8080/",
          "height": 286
        },
        "outputId": "d75b56e2-b896-4da2-aa8c-8862a95fdba1"
      },
      "source": [
        "check_predictions[:10]"
      ],
      "execution_count": 25,
      "outputs": [
        {
          "output_type": "execute_result",
          "data": {
            "text/plain": [
              "[(array([[0.42539477]], dtype=float32),\n",
              "  0,\n",
              "  array([[0.42539477]], dtype=float32)),\n",
              " (array([[0.11111295]], dtype=float32),\n",
              "  0,\n",
              "  array([[0.11111295]], dtype=float32)),\n",
              " (array([[0.39133996]], dtype=float32),\n",
              "  0,\n",
              "  array([[0.39133996]], dtype=float32)),\n",
              " (array([[0.7249146]], dtype=float32), 0, array([[0.7249146]], dtype=float32)),\n",
              " (array([[1.1564618]], dtype=float32), 0, array([[1.1564618]], dtype=float32)),\n",
              " (array([[1.4801731]], dtype=float32), 0, array([[1.4801731]], dtype=float32)),\n",
              " (array([[3.0525913]], dtype=float32), 0, array([[3.0525913]], dtype=float32)),\n",
              " (array([[3.4147964]], dtype=float32), 12, array([[8.585203]], dtype=float32)),\n",
              " (array([[4.4207153]], dtype=float32), 0, array([[4.4207153]], dtype=float32)),\n",
              " (array([[4.4364514]], dtype=float32), 0, array([[4.4364514]], dtype=float32))]"
            ]
          },
          "metadata": {
            "tags": []
          },
          "execution_count": 25
        }
      ]
    },
    {
      "cell_type": "markdown",
      "metadata": {
        "id": "eqORU6PNR7U_",
        "colab_type": "text"
      },
      "source": [
        "Average (absolute) difference."
      ]
    },
    {
      "cell_type": "code",
      "metadata": {
        "id": "dOT8r959LtEK",
        "colab_type": "code",
        "colab": {
          "base_uri": "https://localhost:8080/",
          "height": 34
        },
        "outputId": "643ca2d7-6d86-445f-9302-d3a064c17531"
      },
      "source": [
        "sum([d for x,y,d in check_predictions])/len(check_predictions)  #5.316563"
      ],
      "execution_count": 26,
      "outputs": [
        {
          "output_type": "execute_result",
          "data": {
            "text/plain": [
              "array([[5.2712665]], dtype=float32)"
            ]
          },
          "metadata": {
            "tags": []
          },
          "execution_count": 26
        }
      ]
    },
    {
      "cell_type": "markdown",
      "metadata": {
        "id": "4_VE8xaqTHX6",
        "colab_type": "text"
      },
      "source": [
        "MSE"
      ]
    },
    {
      "cell_type": "code",
      "metadata": {
        "id": "AHav8JSFQvg5",
        "colab_type": "code",
        "colab": {
          "base_uri": "https://localhost:8080/",
          "height": 34
        },
        "outputId": "a54e63e2-ebd4-4826-bca9-cc4d80d666f7"
      },
      "source": [
        "sum([d**2 for x,y,d in check_predictions])/len(check_predictions)  #70.68988"
      ],
      "execution_count": 27,
      "outputs": [
        {
          "output_type": "execute_result",
          "data": {
            "text/plain": [
              "array([[70.7989]], dtype=float32)"
            ]
          },
          "metadata": {
            "tags": []
          },
          "execution_count": 27
        }
      ]
    },
    {
      "cell_type": "markdown",
      "metadata": {
        "id": "6VPBEXLKzHcn",
        "colab_type": "text"
      },
      "source": [
        "## Kind of interesting\n",
        "\n",
        "How many predictions are off by a given difference:\n",
        "<pre>\n",
        "(0, 0.0438886267107126)              #got 4% dead on\n",
        "(1, 0.21378008494572912)\n",
        "(2, 0.16281264747522417)\n",
        "(3, 0.12081170363378953)\n",
        "(4, 0.08117036337895234)            #62% within 4 out of max 132\n",
        "(5, 0.06370929683813119)\n",
        "(6, 0.045304388862671074)\n",
        "(7, 0.042000943841434636)\n",
        "(8, 0.038225578102878716)\n",
        "(9, 0.030202925908447382)\n",
        "</pre>"
      ]
    },
    {
      "cell_type": "code",
      "metadata": {
        "id": "6Anvjt1qwEoF",
        "colab_type": "code",
        "colab": {
          "base_uri": "https://localhost:8080/",
          "height": 185
        },
        "outputId": "81a407af-0430-425d-f85e-16eb2ad6f52c"
      },
      "source": [
        "#round prediction and compare that with actual\n",
        "\n",
        "for i in range(10):\n",
        "  print((i, len([1 for y,x,d in check_predictions if abs(x-np.round(y))==float(i)])/len(check_predictions)))"
      ],
      "execution_count": 28,
      "outputs": [
        {
          "output_type": "stream",
          "text": [
            "(0, 0.0778669183577159)\n",
            "(1, 0.15998112317130722)\n",
            "(2, 0.16941953751769703)\n",
            "(3, 0.12364322793770646)\n",
            "(4, 0.09532798489853704)\n",
            "(5, 0.06890042472864559)\n",
            "(6, 0.052855120339782916)\n",
            "(7, 0.04105710240679566)\n",
            "(8, 0.030202925908447382)\n",
            "(9, 0.02878716375648891)\n"
          ],
          "name": "stdout"
        }
      ]
    },
    {
      "cell_type": "markdown",
      "metadata": {
        "id": "Sdmf9kH_S7Ad",
        "colab_type": "text"
      },
      "source": [
        "# Try with scaled features\n",
        "\n"
      ]
    },
    {
      "cell_type": "code",
      "metadata": {
        "colab_type": "code",
        "outputId": "8702272d-5025-4f32-9387-30fc1e761dcc",
        "id": "hj_WtAdvUt8H",
        "colab": {
          "base_uri": "https://localhost:8080/",
          "height": 34
        }
      },
      "source": [
        "commit_counts[:10]"
      ],
      "execution_count": 29,
      "outputs": [
        {
          "output_type": "execute_result",
          "data": {
            "text/plain": [
              "array([ 7,  0,  0,  0,  0, 12, 18, 12, 36,  6])"
            ]
          },
          "metadata": {
            "tags": []
          },
          "execution_count": 29
        }
      ]
    },
    {
      "cell_type": "code",
      "metadata": {
        "colab_type": "code",
        "outputId": "b9290b1c-9ace-41f4-aea4-c2a408354e7d",
        "id": "JlqudhGmUt8R",
        "colab": {
          "base_uri": "https://localhost:8080/",
          "height": 185
        }
      },
      "source": [
        "commit_counts_scaled[:10]"
      ],
      "execution_count": 30,
      "outputs": [
        {
          "output_type": "execute_result",
          "data": {
            "text/plain": [
              "array([[0.0530303 ],\n",
              "       [0.        ],\n",
              "       [0.        ],\n",
              "       [0.        ],\n",
              "       [0.        ],\n",
              "       [0.09090909],\n",
              "       [0.13636364],\n",
              "       [0.09090909],\n",
              "       [0.27272727],\n",
              "       [0.04545455]])"
            ]
          },
          "metadata": {
            "tags": []
          },
          "execution_count": 30
        }
      ]
    },
    {
      "cell_type": "code",
      "metadata": {
        "id": "emQzaKL0hnA1",
        "colab_type": "code",
        "colab": {
          "base_uri": "https://localhost:8080/",
          "height": 283
        },
        "outputId": "6f170c91-ccd9-45d1-d30b-d9c6058207d1"
      },
      "source": [
        "plt.plot(commit_counts_scaled)\n",
        "plt.ylabel('Commits per day scaled')\n",
        "plt.xlabel('days')\n",
        "plt.show()"
      ],
      "execution_count": 31,
      "outputs": [
        {
          "output_type": "display_data",
          "data": {
            "image/png": "[encoded data removed]",
            "text/plain": [
              "<Figure size 432x288 with 1 Axes>"
            ]
          },
          "metadata": {
            "tags": []
          }
        }
      ]
    },
    {
      "cell_type": "markdown",
      "metadata": {
        "colab_type": "text",
        "id": "m_a6NsC-Ut8W"
      },
      "source": [
        "## Working on scaled"
      ]
    },
    {
      "cell_type": "code",
      "metadata": {
        "colab_type": "code",
        "outputId": "ad4e30c0-99d8-4f52-bd7f-af94f3dce924",
        "id": "L0__nWFSUt8X",
        "colab": {
          "base_uri": "https://localhost:8080/",
          "height": 34
        }
      },
      "source": [
        "chunk = 30  #take 30 days in each chunk\n",
        "\n",
        "scaled_features_set = []  \n",
        "scaled_labels =  []  \n",
        "for i in range(chunk, len(commit_counts_scaled)):  \n",
        "    scaled_features_set.append(commit_counts_scaled[i-chunk:i])\n",
        "    scaled_labels.append(commit_counts_scaled[i])\n",
        "    \n",
        "(len(scaled_features_set), len(scaled_labels))"
      ],
      "execution_count": 32,
      "outputs": [
        {
          "output_type": "execute_result",
          "data": {
            "text/plain": [
              "(2119, 2119)"
            ]
          },
          "metadata": {
            "tags": []
          },
          "execution_count": 32
        }
      ]
    },
    {
      "cell_type": "code",
      "metadata": {
        "colab_type": "code",
        "id": "rKkx4X5jUt8b",
        "colab": {}
      },
      "source": [
        "scaled_features_set[-1]  #last 30 day chunk"
      ],
      "execution_count": 0,
      "outputs": []
    },
    {
      "cell_type": "code",
      "metadata": {
        "colab_type": "code",
        "id": "710XD83hUt8j",
        "colab": {}
      },
      "source": [
        "scaled_labels[:20]"
      ],
      "execution_count": 0,
      "outputs": []
    },
    {
      "cell_type": "code",
      "metadata": {
        "colab_type": "code",
        "id": "e_6lYLYVUt8p",
        "colab": {}
      },
      "source": [
        "\n",
        "scaled_features_set, scaled_labels = np.array(scaled_features_set), np.array(scaled_labels)  "
      ],
      "execution_count": 0,
      "outputs": []
    },
    {
      "cell_type": "code",
      "metadata": {
        "colab_type": "code",
        "outputId": "b6217dbb-5711-4c7c-ce66-d41320b7cf47",
        "id": "VzNLXCIHUt8r",
        "colab": {
          "base_uri": "https://localhost:8080/",
          "height": 34
        }
      },
      "source": [
        "scaled_features_set = np.reshape(scaled_features_set, (scaled_features_set.shape[0], scaled_features_set.shape[1], 1))  \n",
        "scaled_features_set.shape"
      ],
      "execution_count": 36,
      "outputs": [
        {
          "output_type": "execute_result",
          "data": {
            "text/plain": [
              "(2119, 30, 1)"
            ]
          },
          "metadata": {
            "tags": []
          },
          "execution_count": 36
        }
      ]
    },
    {
      "cell_type": "code",
      "metadata": {
        "colab_type": "code",
        "id": "viQScea6U0z7",
        "colab": {}
      },
      "source": [
        "model = Sequential()  \n"
      ],
      "execution_count": 0,
      "outputs": []
    },
    {
      "cell_type": "code",
      "metadata": {
        "colab_type": "code",
        "id": "gabOlskPU00D",
        "colab": {}
      },
      "source": [
        "model.add(LSTM(units=50, return_sequences=True, input_shape=(features_set.shape[1], 1)))  \n"
      ],
      "execution_count": 0,
      "outputs": []
    },
    {
      "cell_type": "code",
      "metadata": {
        "colab_type": "code",
        "id": "iZePUePJU00H",
        "colab": {}
      },
      "source": [
        "model.add(Dropout(0.2))  \n",
        "\n"
      ],
      "execution_count": 0,
      "outputs": []
    },
    {
      "cell_type": "code",
      "metadata": {
        "colab_type": "code",
        "id": "glkqzoQTU00M",
        "colab": {}
      },
      "source": [
        "model.add(LSTM(units=50, return_sequences=True))  \n",
        "model.add(Dropout(0.2))\n",
        "\n",
        "model.add(LSTM(units=50, return_sequences=True))  \n",
        "model.add(Dropout(0.2))\n",
        "\n",
        "model.add(LSTM(units=50))  \n",
        "model.add(Dropout(0.2))  "
      ],
      "execution_count": 0,
      "outputs": []
    },
    {
      "cell_type": "code",
      "metadata": {
        "colab_type": "code",
        "id": "JWS0Os1iU00P",
        "colab": {}
      },
      "source": [
        "model.add(Dense(units = 1))  \n"
      ],
      "execution_count": 0,
      "outputs": []
    },
    {
      "cell_type": "code",
      "metadata": {
        "colab_type": "code",
        "id": "N39aJXnjU00X",
        "colab": {}
      },
      "source": [
        "model.compile(optimizer = 'adam', loss = 'mean_squared_error')  \n"
      ],
      "execution_count": 0,
      "outputs": []
    },
    {
      "cell_type": "code",
      "metadata": {
        "colab_type": "code",
        "id": "ImXEROfxU00b",
        "colab": {}
      },
      "source": [
        "'''\n",
        "Epoch 100/100\n",
        "1023/1023 [==============================] - 3s 3ms/step - loss: 0.0047\n",
        "'''\n",
        "model.fit(scaled_features_set, scaled_labels, epochs = 100, batch_size = 32)  \n"
      ],
      "execution_count": 0,
      "outputs": []
    },
    {
      "cell_type": "markdown",
      "metadata": {
        "colab_type": "text",
        "id": "i6LRqMXkU-cQ"
      },
      "source": [
        "## Write model out to gdrive"
      ]
    },
    {
      "cell_type": "code",
      "metadata": {
        "colab_type": "code",
        "outputId": "03b86734-8da2-448e-a1b4-e5816cb26281",
        "id": "PYB-EVe1U-cR",
        "colab": {
          "base_uri": "https://localhost:8080/",
          "height": 34
        }
      },
      "source": [
        "from google.colab import drive\n",
        "drive.mount('/content/gdrive')"
      ],
      "execution_count": 44,
      "outputs": [
        {
          "output_type": "stream",
          "text": [
            "Drive already mounted at /content/gdrive; to attempt to forcibly remount, call drive.mount(\"/content/gdrive\", force_remount=True).\n"
          ],
          "name": "stdout"
        }
      ]
    },
    {
      "cell_type": "code",
      "metadata": {
        "colab_type": "code",
        "id": "ioib7w54U-cX",
        "colab": {}
      },
      "source": [
        "# save model to single file\n",
        "model.save('/content/gdrive/My Drive/lstm_model_v1.h5')"
      ],
      "execution_count": 0,
      "outputs": []
    },
    {
      "cell_type": "markdown",
      "metadata": {
        "colab_type": "text",
        "id": "SZ7ITMIHU-cY"
      },
      "source": [
        "Make sure we can load it again."
      ]
    },
    {
      "cell_type": "code",
      "metadata": {
        "colab_type": "code",
        "id": "winTGsUaU-cZ",
        "colab": {}
      },
      "source": [
        "#from keras.models import load_model # load model from single file\n",
        "#model_test = load_model('/content/gdrive/My Drive/lstm_model_v1.h5') # make predictions\n"
      ],
      "execution_count": 0,
      "outputs": []
    },
    {
      "cell_type": "code",
      "metadata": {
        "colab_type": "code",
        "id": "s2N1l_hiU-cb",
        "colab": {}
      },
      "source": [
        "#Try on training set for giggles\n",
        "check_predictions = []\n",
        "\n",
        "for  i,chunk in enumerate(scaled_features_set):\n",
        "  chunk = np.reshape(chunk, (1, scaled_features_set.shape[1], 1))\n",
        "  yhat = model.predict(chunk, verbose=0)\n",
        "  check_predictions.append((yhat, scaled_labels[i], abs(yhat-scaled_labels[i])))\n"
      ],
      "execution_count": 0,
      "outputs": []
    },
    {
      "cell_type": "code",
      "metadata": {
        "colab_type": "code",
        "outputId": "af6a1179-71c5-406b-e26f-df8d4d7ea852",
        "id": "YQ195O07U-cj",
        "colab": {
          "base_uri": "https://localhost:8080/",
          "height": 218
        }
      },
      "source": [
        "check_predictions[:10]"
      ],
      "execution_count": 47,
      "outputs": [
        {
          "output_type": "execute_result",
          "data": {
            "text/plain": [
              "[(array([[0.03580192]], dtype=float32), array([0.]), array([[0.03580192]])),\n",
              " (array([[0.03311154]], dtype=float32), array([0.]), array([[0.03311154]])),\n",
              " (array([[0.03151471]], dtype=float32), array([0.]), array([[0.03151471]])),\n",
              " (array([[0.03120288]], dtype=float32), array([0.]), array([[0.03120288]])),\n",
              " (array([[0.03160755]], dtype=float32), array([0.]), array([[0.03160755]])),\n",
              " (array([[0.03186058]], dtype=float32), array([0.]), array([[0.03186058]])),\n",
              " (array([[0.03133972]], dtype=float32), array([0.]), array([[0.03133972]])),\n",
              " (array([[0.03031779]], dtype=float32),\n",
              "  array([0.09090909]),\n",
              "  array([[0.0605913]])),\n",
              " (array([[0.03879401]], dtype=float32), array([0.]), array([[0.03879401]])),\n",
              " (array([[0.03582741]], dtype=float32), array([0.]), array([[0.03582741]]))]"
            ]
          },
          "metadata": {
            "tags": []
          },
          "execution_count": 47
        }
      ]
    },
    {
      "cell_type": "markdown",
      "metadata": {
        "colab_type": "text",
        "id": "qvUEbkjfa7ZZ"
      },
      "source": [
        "Average (absolute) difference."
      ]
    },
    {
      "cell_type": "code",
      "metadata": {
        "colab_type": "code",
        "outputId": "1bd91ade-7bcb-4116-e2f5-ff6574588554",
        "id": "8zycHwKfa7Za",
        "colab": {
          "base_uri": "https://localhost:8080/",
          "height": 34
        }
      },
      "source": [
        "sum([d for y,x,d in check_predictions])/len(check_predictions)  #0.05848879"
      ],
      "execution_count": 48,
      "outputs": [
        {
          "output_type": "execute_result",
          "data": {
            "text/plain": [
              "array([[0.05862212]])"
            ]
          },
          "metadata": {
            "tags": []
          },
          "execution_count": 48
        }
      ]
    },
    {
      "cell_type": "markdown",
      "metadata": {
        "colab_type": "text",
        "id": "1jxpujt3a7Zd"
      },
      "source": [
        "MSE"
      ]
    },
    {
      "cell_type": "code",
      "metadata": {
        "colab_type": "code",
        "outputId": "b8a553c1-fab1-4ab6-8937-95f767c4dc4b",
        "id": "SJO0hp97a7Ze",
        "colab": {
          "base_uri": "https://localhost:8080/",
          "height": 34
        }
      },
      "source": [
        "sum([d**2 for y,x,d in check_predictions])/len(check_predictions)  #0.00789343"
      ],
      "execution_count": 49,
      "outputs": [
        {
          "output_type": "execute_result",
          "data": {
            "text/plain": [
              "array([[0.00797862]])"
            ]
          },
          "metadata": {
            "tags": []
          },
          "execution_count": 49
        }
      ]
    },
    {
      "cell_type": "code",
      "metadata": {
        "id": "kxEVKzb5dD4X",
        "colab_type": "code",
        "colab": {
          "base_uri": "https://localhost:8080/",
          "height": 34
        },
        "outputId": "c3ea2b5b-7ca8-4b7d-b380-04cd838d3d14"
      },
      "source": [
        "labels[:10]"
      ],
      "execution_count": 50,
      "outputs": [
        {
          "output_type": "execute_result",
          "data": {
            "text/plain": [
              "array([ 0,  0,  0,  0,  0,  0,  0, 12,  0,  0])"
            ]
          },
          "metadata": {
            "tags": []
          },
          "execution_count": 50
        }
      ]
    },
    {
      "cell_type": "code",
      "metadata": {
        "id": "3bk-xd2qe7yQ",
        "colab_type": "code",
        "colab": {
          "base_uri": "https://localhost:8080/",
          "height": 185
        },
        "outputId": "37a417a1-4c66-4504-bdfd-0d64385282ef"
      },
      "source": [
        "[y*max_daily for y,x,d in check_predictions][:10]"
      ],
      "execution_count": 53,
      "outputs": [
        {
          "output_type": "execute_result",
          "data": {
            "text/plain": [
              "[array([[4.725854]], dtype=float32),\n",
              " array([[4.370723]], dtype=float32),\n",
              " array([[4.1599417]], dtype=float32),\n",
              " array([[4.1187797]], dtype=float32),\n",
              " array([[4.172197]], dtype=float32),\n",
              " array([[4.2055964]], dtype=float32),\n",
              " array([[4.136843]], dtype=float32),\n",
              " array([[4.001949]], dtype=float32),\n",
              " array([[5.12081]], dtype=float32),\n",
              " array([[4.7292185]], dtype=float32)]"
            ]
          },
          "metadata": {
            "tags": []
          },
          "execution_count": 53
        }
      ]
    },
    {
      "cell_type": "markdown",
      "metadata": {
        "id": "uuhgf72MddMl",
        "colab_type": "text"
      },
      "source": [
        "Check out actual unscaled value (between 0 and 132) with scaled prediction times daily max."
      ]
    },
    {
      "cell_type": "code",
      "metadata": {
        "id": "bHRrywWrbxty",
        "colab_type": "code",
        "colab": {
          "base_uri": "https://localhost:8080/",
          "height": 34
        },
        "outputId": "7b788085-27e3-4ab6-e671-0d9c93b77b08"
      },
      "source": [
        "sum([ abs(val-(check_predictions[i][0]*max_daily)) for i,val in enumerate(labels)])/len(scaled_labels) #7.6242685\n",
        "  "
      ],
      "execution_count": 54,
      "outputs": [
        {
          "output_type": "execute_result",
          "data": {
            "text/plain": [
              "array([[7.738123]], dtype=float32)"
            ]
          },
          "metadata": {
            "tags": []
          },
          "execution_count": 54
        }
      ]
    },
    {
      "cell_type": "markdown",
      "metadata": {
        "id": "-fydDbU8eRo2",
        "colab_type": "text"
      },
      "source": [
        "Unscaled abs diff average was only 5.31."
      ]
    },
    {
      "cell_type": "markdown",
      "metadata": {
        "id": "i09XBA-2h09U",
        "colab_type": "text"
      },
      "source": [
        "# Now try binning\n",
        "\n",
        "Bin into 4 bins arbitrarily using glance at plot of unscaled counts.\n",
        "<p>\n",
        "  <img src='https://www.dropbox.com/s/nypu0ely8hbt0sg/unscaled_commits_v0.png?raw=1'>"
      ]
    },
    {
      "cell_type": "markdown",
      "metadata": {
        "id": "Ze_E5lH5xVXJ",
        "colab_type": "text"
      },
      "source": [
        "## Past Results\n",
        "\n",
        "<pre>\n",
        "bin1 = 5\n",
        "bin2 = 10\n",
        "bin3 = 20\n",
        "#bin4 is anything over 20\n",
        "Epoch 100/100\n",
        "1023/1023  loss: 0.3127\n",
        "(0, 0.5747994336951392)\n",
        "(1, 0.36290703161868804)\n",
        "(2, 0.05427088249174139)\n",
        "(3, 0.008022652194431336)\n",
        "\n",
        "=========================\n",
        "\n",
        "bin1 = 10\n",
        "bin2 = 40\n",
        "bin3 = 60\n",
        "#bin4 is anything over 60\n",
        "Epoch 100/100\n",
        "2119/2119- loss: 0.2153\n",
        "(0, 0.7748938178386031)\n",
        "(1, 0.21378008494572912)\n",
        "(2, 0.009910335063709298)\n",
        "(3, 0.001415762151958471)\n",
        "\n",
        "=========================\n",
        "\n",
        "</pre>"
      ]
    },
    {
      "cell_type": "code",
      "metadata": {
        "id": "pypVbYECijrp",
        "colab_type": "code",
        "colab": {}
      },
      "source": [
        "bin1 = 10\n",
        "bin2 = 40\n",
        "bin3 = 60\n",
        "#bin4 is anything over 60"
      ],
      "execution_count": 0,
      "outputs": []
    },
    {
      "cell_type": "markdown",
      "metadata": {
        "id": "h6AzT0uS2OGS",
        "colab_type": "text"
      },
      "source": [
        "## Note\n",
        "\n",
        "Might want to consider 0 commits in its own bin. Depends if there is a qualitative difference between 0 and not 0. Maybe if know 0 commits for next day, can avoid doing something. But if non 0, then will have to do it no matter.\n",
        "\n",
        "Or not. Just brainstorming."
      ]
    },
    {
      "cell_type": "code",
      "metadata": {
        "id": "vIJczP58iQI6",
        "colab_type": "code",
        "colab": {}
      },
      "source": [
        "binned_counts = []\n",
        "\n",
        "for c in commit_counts:\n",
        "  if c <= bin1:\n",
        "    binned_counts.append(0)\n",
        "    continue\n",
        "    \n",
        "  if c <= bin2:\n",
        "    binned_counts.append(1)\n",
        "    continue\n",
        "    \n",
        "  if c <= bin3:\n",
        "    binned_counts.append(2)\n",
        "    continue\n",
        "    \n",
        "  binned_counts.append(3)  # > bin3"
      ],
      "execution_count": 0,
      "outputs": []
    },
    {
      "cell_type": "code",
      "metadata": {
        "id": "NldVozTMkk18",
        "colab_type": "code",
        "colab": {
          "base_uri": "https://localhost:8080/",
          "height": 283
        },
        "outputId": "7528a2df-1b79-4072-f715-b0eed494930f"
      },
      "source": [
        "plt.plot(binned_counts)\n",
        "plt.ylabel('Commits per bin (1-4)')\n",
        "plt.xlabel('days')\n",
        "plt.show()"
      ],
      "execution_count": 57,
      "outputs": [
        {
          "output_type": "display_data",
          "data": {
            "image/png": "[encoded data removed]",
            "text/plain": [
              "<Figure size 432x288 with 1 Axes>"
            ]
          },
          "metadata": {
            "tags": []
          }
        }
      ]
    },
    {
      "cell_type": "code",
      "metadata": {
        "colab_type": "code",
        "outputId": "15295489-7ee2-4392-ea1c-632d67b625af",
        "id": "E36wo8FrklZs",
        "colab": {
          "base_uri": "https://localhost:8080/",
          "height": 34
        }
      },
      "source": [
        "chunk = 30  #take 30 days in each chunk\n",
        "\n",
        "binned_features_set = []  \n",
        "binned_labels =  []  \n",
        "for i in range(chunk, len(binned_counts)):  \n",
        "    binned_features_set.append(binned_counts[i-chunk:i])\n",
        "    binned_labels.append(binned_counts[i])\n",
        "    \n",
        "(len(binned_features_set), len(binned_labels))"
      ],
      "execution_count": 58,
      "outputs": [
        {
          "output_type": "execute_result",
          "data": {
            "text/plain": [
              "(2119, 2119)"
            ]
          },
          "metadata": {
            "tags": []
          },
          "execution_count": 58
        }
      ]
    },
    {
      "cell_type": "code",
      "metadata": {
        "colab_type": "code",
        "outputId": "0787ad40-b515-4a60-dd56-1e05ef8f17f7",
        "id": "7QeT43i-klZu",
        "colab": {
          "base_uri": "https://localhost:8080/",
          "height": 34
        }
      },
      "source": [
        "print(binned_features_set[-1])  #last 30 day chunk"
      ],
      "execution_count": 59,
      "outputs": [
        {
          "output_type": "stream",
          "text": [
            "[0, 1, 1, 0, 0, 0, 0, 0, 0, 0, 0, 1, 0, 0, 1, 0, 1, 0, 0, 0, 0, 0, 0, 0, 0, 0, 0, 0, 1, 0]\n"
          ],
          "name": "stdout"
        }
      ]
    },
    {
      "cell_type": "code",
      "metadata": {
        "colab_type": "code",
        "outputId": "f0d066e7-379f-43a1-baf6-8f6d49282159",
        "id": "riwE0o4-klZv",
        "colab": {
          "base_uri": "https://localhost:8080/",
          "height": 34
        }
      },
      "source": [
        "binned_labels[:20]"
      ],
      "execution_count": 60,
      "outputs": [
        {
          "output_type": "execute_result",
          "data": {
            "text/plain": [
              "[0, 0, 0, 0, 0, 0, 0, 1, 0, 0, 1, 0, 0, 0, 0, 0, 0, 0, 0, 0]"
            ]
          },
          "metadata": {
            "tags": []
          },
          "execution_count": 60
        }
      ]
    },
    {
      "cell_type": "code",
      "metadata": {
        "colab_type": "code",
        "id": "jEXmh_uuklZ1",
        "colab": {}
      },
      "source": [
        "\n",
        "binned_features_set, binned_labels = np.array(binned_features_set), np.array(binned_labels)  "
      ],
      "execution_count": 0,
      "outputs": []
    },
    {
      "cell_type": "code",
      "metadata": {
        "colab_type": "code",
        "outputId": "f0730e59-f3c7-4a68-c31d-a5b126f22223",
        "id": "gmx89a2JklZ2",
        "colab": {
          "base_uri": "https://localhost:8080/",
          "height": 34
        }
      },
      "source": [
        "binned_features_set = np.reshape(binned_features_set, (binned_features_set.shape[0], binned_features_set.shape[1], 1))  \n",
        "binned_features_set.shape"
      ],
      "execution_count": 62,
      "outputs": [
        {
          "output_type": "execute_result",
          "data": {
            "text/plain": [
              "(2119, 30, 1)"
            ]
          },
          "metadata": {
            "tags": []
          },
          "execution_count": 62
        }
      ]
    },
    {
      "cell_type": "code",
      "metadata": {
        "colab_type": "code",
        "id": "jmJF-CvWklZ8",
        "colab": {}
      },
      "source": [
        "model = Sequential()  \n"
      ],
      "execution_count": 0,
      "outputs": []
    },
    {
      "cell_type": "code",
      "metadata": {
        "colab_type": "code",
        "id": "Mb-XdRh1klZ9",
        "colab": {}
      },
      "source": [
        "model.add(LSTM(units=50, return_sequences=True, input_shape=(features_set.shape[1], 1)))  \n"
      ],
      "execution_count": 0,
      "outputs": []
    },
    {
      "cell_type": "code",
      "metadata": {
        "colab_type": "code",
        "id": "WF23zepuklZ-",
        "colab": {}
      },
      "source": [
        "model.add(Dropout(0.2))  \n",
        "\n"
      ],
      "execution_count": 0,
      "outputs": []
    },
    {
      "cell_type": "code",
      "metadata": {
        "colab_type": "code",
        "id": "lplS-KeNklaA",
        "colab": {}
      },
      "source": [
        "model.add(LSTM(units=50, return_sequences=True))  \n",
        "model.add(Dropout(0.2))\n",
        "\n",
        "model.add(LSTM(units=50, return_sequences=True))  \n",
        "model.add(Dropout(0.2))\n",
        "\n",
        "model.add(LSTM(units=50))  \n",
        "model.add(Dropout(0.2))  "
      ],
      "execution_count": 0,
      "outputs": []
    },
    {
      "cell_type": "code",
      "metadata": {
        "colab_type": "code",
        "id": "nfY6ThSsklaE",
        "colab": {}
      },
      "source": [
        "model.add(Dense(units = 1))  \n"
      ],
      "execution_count": 0,
      "outputs": []
    },
    {
      "cell_type": "code",
      "metadata": {
        "colab_type": "code",
        "id": "5WRey2FfklaF",
        "colab": {}
      },
      "source": [
        "model.compile(optimizer = 'adam', loss = 'mean_squared_error')  \n"
      ],
      "execution_count": 0,
      "outputs": []
    },
    {
      "cell_type": "code",
      "metadata": {
        "colab_type": "code",
        "outputId": "3ffd043b-24fd-451b-f4c9-6fa3ffedf151",
        "id": "vQ-6pUGxklaG",
        "colab": {
          "base_uri": "https://localhost:8080/",
          "height": 1000
        }
      },
      "source": [
        "'''\n",
        "Epoch 100/100\n",
        "1023/1023 [==============================] - 3s 3ms/step - loss: 0.2153\n",
        "'''\n",
        "model.fit(binned_features_set, binned_labels, epochs = 100, batch_size = 32)  \n"
      ],
      "execution_count": 69,
      "outputs": [
        {
          "output_type": "stream",
          "text": [
            "Epoch 1/100\n",
            "2119/2119 [==============================] - 9s 4ms/step - loss: 0.3437\n",
            "Epoch 2/100\n",
            "2119/2119 [==============================] - 6s 3ms/step - loss: 0.3223\n",
            "Epoch 3/100\n",
            "2119/2119 [==============================] - 6s 3ms/step - loss: 0.3175\n",
            "Epoch 4/100\n",
            "2119/2119 [==============================] - 6s 3ms/step - loss: 0.3228\n",
            "Epoch 5/100\n",
            "2119/2119 [==============================] - 6s 3ms/step - loss: 0.3158\n",
            "Epoch 6/100\n",
            "2119/2119 [==============================] - 6s 3ms/step - loss: 0.3105\n",
            "Epoch 7/100\n",
            "2119/2119 [==============================] - 6s 3ms/step - loss: 0.3129\n",
            "Epoch 8/100\n",
            "2119/2119 [==============================] - 6s 3ms/step - loss: 0.3097\n",
            "Epoch 9/100\n",
            "2119/2119 [==============================] - 6s 3ms/step - loss: 0.3105\n",
            "Epoch 10/100\n",
            "2119/2119 [==============================] - 6s 3ms/step - loss: 0.3067\n",
            "Epoch 11/100\n",
            "2119/2119 [==============================] - 6s 3ms/step - loss: 0.3076\n",
            "Epoch 12/100\n",
            "2119/2119 [==============================] - 6s 3ms/step - loss: 0.3076\n",
            "Epoch 13/100\n",
            "2119/2119 [==============================] - 6s 3ms/step - loss: 0.3044\n",
            "Epoch 14/100\n",
            "2119/2119 [==============================] - 6s 3ms/step - loss: 0.3074\n",
            "Epoch 15/100\n",
            "2119/2119 [==============================] - 6s 3ms/step - loss: 0.3096\n",
            "Epoch 16/100\n",
            "2119/2119 [==============================] - 6s 3ms/step - loss: 0.3096\n",
            "Epoch 17/100\n",
            "2119/2119 [==============================] - 6s 3ms/step - loss: 0.3042\n",
            "Epoch 18/100\n",
            "2119/2119 [==============================] - 6s 3ms/step - loss: 0.3053\n",
            "Epoch 19/100\n",
            "2119/2119 [==============================] - 6s 3ms/step - loss: 0.3040\n",
            "Epoch 20/100\n",
            "2119/2119 [==============================] - 6s 3ms/step - loss: 0.3030\n",
            "Epoch 21/100\n",
            "2119/2119 [==============================] - 6s 3ms/step - loss: 0.3012\n",
            "Epoch 22/100\n",
            "2119/2119 [==============================] - 6s 3ms/step - loss: 0.3064\n",
            "Epoch 23/100\n",
            "2119/2119 [==============================] - 6s 3ms/step - loss: 0.3079\n",
            "Epoch 24/100\n",
            "2119/2119 [==============================] - 6s 3ms/step - loss: 0.2974\n",
            "Epoch 25/100\n",
            "2119/2119 [==============================] - 6s 3ms/step - loss: 0.2991\n",
            "Epoch 26/100\n",
            "2119/2119 [==============================] - 6s 3ms/step - loss: 0.3039\n",
            "Epoch 27/100\n",
            "2119/2119 [==============================] - 6s 3ms/step - loss: 0.3050\n",
            "Epoch 28/100\n",
            "2119/2119 [==============================] - 6s 3ms/step - loss: 0.3038\n",
            "Epoch 29/100\n",
            "2119/2119 [==============================] - 6s 3ms/step - loss: 0.3044\n",
            "Epoch 30/100\n",
            "2119/2119 [==============================] - 6s 3ms/step - loss: 0.2990\n",
            "Epoch 31/100\n",
            "2119/2119 [==============================] - 6s 3ms/step - loss: 0.3026\n",
            "Epoch 32/100\n",
            "2119/2119 [==============================] - 6s 3ms/step - loss: 0.3027\n",
            "Epoch 33/100\n",
            "2119/2119 [==============================] - 6s 3ms/step - loss: 0.3046\n",
            "Epoch 34/100\n",
            "2119/2119 [==============================] - 6s 3ms/step - loss: 0.3018\n",
            "Epoch 35/100\n",
            "2119/2119 [==============================] - 6s 3ms/step - loss: 0.3028\n",
            "Epoch 36/100\n",
            "2119/2119 [==============================] - 6s 3ms/step - loss: 0.3014\n",
            "Epoch 37/100\n",
            "2119/2119 [==============================] - 6s 3ms/step - loss: 0.3004\n",
            "Epoch 38/100\n",
            "2119/2119 [==============================] - 6s 3ms/step - loss: 0.3013\n",
            "Epoch 39/100\n",
            "2119/2119 [==============================] - 6s 3ms/step - loss: 0.2986\n",
            "Epoch 40/100\n",
            "2119/2119 [==============================] - 6s 3ms/step - loss: 0.2980\n",
            "Epoch 41/100\n",
            "2119/2119 [==============================] - 6s 3ms/step - loss: 0.2906\n",
            "Epoch 42/100\n",
            "2119/2119 [==============================] - 6s 3ms/step - loss: 0.2953\n",
            "Epoch 43/100\n",
            "2119/2119 [==============================] - 6s 3ms/step - loss: 0.2932\n",
            "Epoch 44/100\n",
            "2119/2119 [==============================] - 6s 3ms/step - loss: 0.2900\n",
            "Epoch 45/100\n",
            "2119/2119 [==============================] - 6s 3ms/step - loss: 0.2956\n",
            "Epoch 46/100\n",
            "2119/2119 [==============================] - 6s 3ms/step - loss: 0.2931\n",
            "Epoch 47/100\n",
            "2119/2119 [==============================] - 6s 3ms/step - loss: 0.2899\n",
            "Epoch 48/100\n",
            "2119/2119 [==============================] - 6s 3ms/step - loss: 0.2856\n",
            "Epoch 49/100\n",
            "2119/2119 [==============================] - 6s 3ms/step - loss: 0.2840\n",
            "Epoch 50/100\n",
            "2119/2119 [==============================] - 6s 3ms/step - loss: 0.2829\n",
            "Epoch 51/100\n",
            "2119/2119 [==============================] - 6s 3ms/step - loss: 0.2760\n",
            "Epoch 52/100\n",
            "2119/2119 [==============================] - 6s 3ms/step - loss: 0.2793\n",
            "Epoch 53/100\n",
            "2119/2119 [==============================] - 6s 3ms/step - loss: 0.2774\n",
            "Epoch 54/100\n",
            "2119/2119 [==============================] - 6s 3ms/step - loss: 0.2758\n",
            "Epoch 55/100\n",
            "2119/2119 [==============================] - 6s 3ms/step - loss: 0.2710\n",
            "Epoch 56/100\n",
            "2119/2119 [==============================] - 6s 3ms/step - loss: 0.2744\n",
            "Epoch 57/100\n",
            "2119/2119 [==============================] - 6s 3ms/step - loss: 0.2700\n",
            "Epoch 58/100\n",
            "2119/2119 [==============================] - 6s 3ms/step - loss: 0.2764\n",
            "Epoch 59/100\n",
            "2119/2119 [==============================] - 6s 3ms/step - loss: 0.2748\n",
            "Epoch 60/100\n",
            "2119/2119 [==============================] - 6s 3ms/step - loss: 0.2696\n",
            "Epoch 61/100\n",
            "2119/2119 [==============================] - 6s 3ms/step - loss: 0.2710\n",
            "Epoch 62/100\n",
            "2119/2119 [==============================] - 6s 3ms/step - loss: 0.2602\n",
            "Epoch 63/100\n",
            "2119/2119 [==============================] - 6s 3ms/step - loss: 0.2725\n",
            "Epoch 64/100\n",
            "2119/2119 [==============================] - 6s 3ms/step - loss: 0.2637\n",
            "Epoch 65/100\n",
            "2119/2119 [==============================] - 6s 3ms/step - loss: 0.2663\n",
            "Epoch 66/100\n",
            "2119/2119 [==============================] - 6s 3ms/step - loss: 0.2641\n",
            "Epoch 67/100\n",
            "2119/2119 [==============================] - 6s 3ms/step - loss: 0.2688\n",
            "Epoch 68/100\n",
            "2119/2119 [==============================] - 6s 3ms/step - loss: 0.2659\n",
            "Epoch 69/100\n",
            "2119/2119 [==============================] - 6s 3ms/step - loss: 0.2626\n",
            "Epoch 70/100\n",
            "2119/2119 [==============================] - 6s 3ms/step - loss: 0.2647\n",
            "Epoch 71/100\n",
            "2119/2119 [==============================] - 6s 3ms/step - loss: 0.2623\n",
            "Epoch 72/100\n",
            "2119/2119 [==============================] - 6s 3ms/step - loss: 0.2591\n",
            "Epoch 73/100\n",
            "2119/2119 [==============================] - 6s 3ms/step - loss: 0.2556\n",
            "Epoch 74/100\n",
            "2119/2119 [==============================] - 6s 3ms/step - loss: 0.2592\n",
            "Epoch 75/100\n",
            "2119/2119 [==============================] - 6s 3ms/step - loss: 0.2532\n",
            "Epoch 76/100\n",
            "2119/2119 [==============================] - 6s 3ms/step - loss: 0.2571\n",
            "Epoch 77/100\n",
            "2119/2119 [==============================] - 6s 3ms/step - loss: 0.2573\n",
            "Epoch 78/100\n",
            "2119/2119 [==============================] - 6s 3ms/step - loss: 0.2497\n",
            "Epoch 79/100\n",
            "2119/2119 [==============================] - 6s 3ms/step - loss: 0.2561\n",
            "Epoch 80/100\n",
            "2119/2119 [==============================] - 6s 3ms/step - loss: 0.2567\n",
            "Epoch 81/100\n",
            "2119/2119 [==============================] - 6s 3ms/step - loss: 0.2488\n",
            "Epoch 82/100\n",
            "2119/2119 [==============================] - 6s 3ms/step - loss: 0.2551\n",
            "Epoch 83/100\n",
            "2119/2119 [==============================] - 6s 3ms/step - loss: 0.2526\n",
            "Epoch 84/100\n",
            "2119/2119 [==============================] - 6s 3ms/step - loss: 0.2530\n",
            "Epoch 85/100\n",
            "2119/2119 [==============================] - 6s 3ms/step - loss: 0.2449\n",
            "Epoch 86/100\n",
            "2119/2119 [==============================] - 6s 3ms/step - loss: 0.2498\n",
            "Epoch 87/100\n",
            "2119/2119 [==============================] - 6s 3ms/step - loss: 0.2559\n",
            "Epoch 88/100\n",
            "2119/2119 [==============================] - 6s 3ms/step - loss: 0.2474\n",
            "Epoch 89/100\n",
            "2119/2119 [==============================] - 6s 3ms/step - loss: 0.2401\n",
            "Epoch 90/100\n",
            "2119/2119 [==============================] - 6s 3ms/step - loss: 0.2387\n",
            "Epoch 91/100\n",
            "2119/2119 [==============================] - 6s 3ms/step - loss: 0.2473\n",
            "Epoch 92/100\n",
            "2119/2119 [==============================] - 6s 3ms/step - loss: 0.2449\n",
            "Epoch 93/100\n",
            "2119/2119 [==============================] - 6s 3ms/step - loss: 0.2372\n",
            "Epoch 94/100\n",
            "2119/2119 [==============================] - 6s 3ms/step - loss: 0.2373\n",
            "Epoch 95/100\n",
            "2119/2119 [==============================] - 6s 3ms/step - loss: 0.2398\n",
            "Epoch 96/100\n",
            "2119/2119 [==============================] - 6s 3ms/step - loss: 0.2419\n",
            "Epoch 97/100\n",
            "2119/2119 [==============================] - 6s 3ms/step - loss: 0.2394\n",
            "Epoch 98/100\n",
            "2119/2119 [==============================] - 6s 3ms/step - loss: 0.2456\n",
            "Epoch 99/100\n",
            "2119/2119 [==============================] - 6s 3ms/step - loss: 0.2413\n",
            "Epoch 100/100\n",
            "2119/2119 [==============================] - 6s 3ms/step - loss: 0.2388\n"
          ],
          "name": "stdout"
        },
        {
          "output_type": "execute_result",
          "data": {
            "text/plain": [
              "<keras.callbacks.History at 0x7f1f89975c88>"
            ]
          },
          "metadata": {
            "tags": []
          },
          "execution_count": 69
        }
      ]
    },
    {
      "cell_type": "markdown",
      "metadata": {
        "colab_type": "text",
        "id": "SjK4hqlkklaI"
      },
      "source": [
        "## Write model out to gdrive"
      ]
    },
    {
      "cell_type": "code",
      "metadata": {
        "colab_type": "code",
        "outputId": "bf5e54c7-1585-42be-ec7a-e696b257f562",
        "id": "7VFcCbcdklaN",
        "colab": {
          "base_uri": "https://localhost:8080/",
          "height": 34
        }
      },
      "source": [
        "from google.colab import drive\n",
        "drive.mount('/content/gdrive')"
      ],
      "execution_count": 70,
      "outputs": [
        {
          "output_type": "stream",
          "text": [
            "Drive already mounted at /content/gdrive; to attempt to forcibly remount, call drive.mount(\"/content/gdrive\", force_remount=True).\n"
          ],
          "name": "stdout"
        }
      ]
    },
    {
      "cell_type": "code",
      "metadata": {
        "colab_type": "code",
        "id": "vWQ95Jn_klaP",
        "colab": {}
      },
      "source": [
        "# save model to single file\n",
        "model.save('/content/gdrive/My Drive/lstm_model_v2_b.h5')"
      ],
      "execution_count": 0,
      "outputs": []
    },
    {
      "cell_type": "markdown",
      "metadata": {
        "colab_type": "text",
        "id": "50s_iSR9klaQ"
      },
      "source": [
        "Make sure we can load it again."
      ]
    },
    {
      "cell_type": "code",
      "metadata": {
        "colab_type": "code",
        "id": "QA_xIvSZklaQ",
        "colab": {}
      },
      "source": [
        "#from keras.models import load_model # load model from single file\n",
        "#model = load_model('/content/gdrive/My Drive/lstm_model_v2.h5') # make predictions\n"
      ],
      "execution_count": 0,
      "outputs": []
    },
    {
      "cell_type": "code",
      "metadata": {
        "colab_type": "code",
        "id": "Gxt21xnEklaR",
        "colab": {}
      },
      "source": [
        "#Try on training set for giggles\n",
        "check_predictions = []\n",
        "\n",
        "for  i,chunk in enumerate(binned_features_set):\n",
        "  chunk = np.reshape(chunk, (1, binned_features_set.shape[1], 1))\n",
        "  yhat = model.predict(chunk, verbose=0)\n",
        "  check_predictions.append((yhat, binned_labels[i], abs(yhat-binned_labels[i])))\n"
      ],
      "execution_count": 0,
      "outputs": []
    },
    {
      "cell_type": "code",
      "metadata": {
        "colab_type": "code",
        "outputId": "1f4e0d09-52e2-4873-8312-cebcbd87d59d",
        "id": "46IW3mBGklaV",
        "colab": {
          "base_uri": "https://localhost:8080/",
          "height": 487
        }
      },
      "source": [
        "check_predictions[:10]"
      ],
      "execution_count": 77,
      "outputs": [
        {
          "output_type": "execute_result",
          "data": {
            "text/plain": [
              "[(array([[0.1076444]], dtype=float32), 0, array([[0.1076444]], dtype=float32)),\n",
              " (array([[0.10665783]], dtype=float32),\n",
              "  0,\n",
              "  array([[0.10665783]], dtype=float32)),\n",
              " (array([[0.11028719]], dtype=float32),\n",
              "  0,\n",
              "  array([[0.11028719]], dtype=float32)),\n",
              " (array([[0.10969108]], dtype=float32),\n",
              "  0,\n",
              "  array([[0.10969108]], dtype=float32)),\n",
              " (array([[0.10231475]], dtype=float32),\n",
              "  0,\n",
              "  array([[0.10231475]], dtype=float32)),\n",
              " (array([[0.09864269]], dtype=float32),\n",
              "  0,\n",
              "  array([[0.09864269]], dtype=float32)),\n",
              " (array([[0.09835397]], dtype=float32),\n",
              "  0,\n",
              "  array([[0.09835397]], dtype=float32)),\n",
              " (array([[0.09607128]], dtype=float32),\n",
              "  1,\n",
              "  array([[0.9039287]], dtype=float32)),\n",
              " (array([[0.17877875]], dtype=float32),\n",
              "  0,\n",
              "  array([[0.17877875]], dtype=float32)),\n",
              " (array([[0.20513232]], dtype=float32),\n",
              "  0,\n",
              "  array([[0.20513232]], dtype=float32))]"
            ]
          },
          "metadata": {
            "tags": []
          },
          "execution_count": 77
        }
      ]
    },
    {
      "cell_type": "markdown",
      "metadata": {
        "colab_type": "text",
        "id": "PdIEgdXHklaY"
      },
      "source": [
        "Average (absolute) difference."
      ]
    },
    {
      "cell_type": "code",
      "metadata": {
        "colab_type": "code",
        "outputId": "b1489acf-a0c3-489b-f179-4d94151d7951",
        "id": "s8YqrNCFklaY",
        "colab": {
          "base_uri": "https://localhost:8080/",
          "height": 34
        }
      },
      "source": [
        "sum([d for y,x,d in check_predictions])/len(check_predictions)  #array([[0.35177565]], dtype=float32)"
      ],
      "execution_count": 78,
      "outputs": [
        {
          "output_type": "execute_result",
          "data": {
            "text/plain": [
              "array([[0.34836322]], dtype=float32)"
            ]
          },
          "metadata": {
            "tags": []
          },
          "execution_count": 78
        }
      ]
    },
    {
      "cell_type": "markdown",
      "metadata": {
        "colab_type": "text",
        "id": "60nAWSZcklaZ"
      },
      "source": [
        "MSE"
      ]
    },
    {
      "cell_type": "code",
      "metadata": {
        "colab_type": "code",
        "outputId": "5ff51a98-56af-4b53-b8b0-922aedbdcf08",
        "id": "In4d3Djwklaa",
        "colab": {
          "base_uri": "https://localhost:8080/",
          "height": 34
        }
      },
      "source": [
        "sum([d**2 for y,x,d in check_predictions])/len(check_predictions)  #array([[0.2961716]], dtype=float32)"
      ],
      "execution_count": 79,
      "outputs": [
        {
          "output_type": "execute_result",
          "data": {
            "text/plain": [
              "array([[0.23707537]], dtype=float32)"
            ]
          },
          "metadata": {
            "tags": []
          },
          "execution_count": 79
        }
      ]
    },
    {
      "cell_type": "markdown",
      "metadata": {
        "id": "Km2bR1FZs3bb",
        "colab_type": "text"
      },
      "source": [
        "Percentages of bin diff.\n",
        "<pre>\n",
        "(0, 0.756488909863143)\n",
        "(1, 0.2298253893345918)\n",
        "(2, 0.012269938650306749)\n",
        "(3, 0.001415762151958471)\n",
        "</pre>"
      ]
    },
    {
      "cell_type": "code",
      "metadata": {
        "id": "yKuL6rGizjz6",
        "colab_type": "code",
        "colab": {
          "base_uri": "https://localhost:8080/",
          "height": 84
        },
        "outputId": "e98f3698-537e-4531-dddb-4f50fe0f56b0"
      },
      "source": [
        "for i in range(4):\n",
        "  print((i, len([1 for y,x,d in check_predictions if abs(x-np.round(y))==float(i)])/len(check_predictions)))"
      ],
      "execution_count": 80,
      "outputs": [
        {
          "output_type": "stream",
          "text": [
            "(0, 0.756488909863143)\n",
            "(1, 0.2298253893345918)\n",
            "(2, 0.012269938650306749)\n",
            "(3, 0.001415762151958471)\n"
          ],
          "name": "stdout"
        }
      ]
    }
  ]
}