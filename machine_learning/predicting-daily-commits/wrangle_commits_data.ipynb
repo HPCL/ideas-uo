{
 "cells": [
  {
   "cell_type": "markdown",
   "metadata": {},
   "source": [
    "<h1>Produce commits by day</h1>\n",
    "\n",
    "Use rows in sorted_commits.csv to produce a count of commits for inclusive dates in the table. Each row represents a single commit."
   ]
  },
  {
   "cell_type": "code",
   "execution_count": 1,
   "metadata": {
    "format": "row"
   },
   "outputs": [],
   "source": [
    "import pandas as pd"
   ]
  },
  {
   "cell_type": "code",
   "execution_count": 33,
   "metadata": {},
   "outputs": [],
   "source": [
    "sorted_commits = pd.read_csv('sorted_commits.csv')"
   ]
  },
  {
   "cell_type": "code",
   "execution_count": 34,
   "metadata": {},
   "outputs": [
    {
     "data": {
      "text/plain": [
       "23059"
      ]
     },
     "execution_count": 34,
     "metadata": {},
     "output_type": "execute_result"
    }
   ],
   "source": [
    "len(sorted_commits)"
   ]
  },
  {
   "cell_type": "code",
   "execution_count": 25,
   "metadata": {
    "format": "row"
   },
   "outputs": [
    {
     "data": {
      "text/html": [
       "<div>\n",
       "<style scoped>\n",
       "    .dataframe tbody tr th:only-of-type {\n",
       "        vertical-align: middle;\n",
       "    }\n",
       "\n",
       "    .dataframe tbody tr th {\n",
       "        vertical-align: top;\n",
       "    }\n",
       "\n",
       "    .dataframe thead th {\n",
       "        text-align: right;\n",
       "    }\n",
       "</style>\n",
       "<table border=\"1\" class=\"dataframe\">\n",
       "  <thead>\n",
       "    <tr style=\"text-align: right;\">\n",
       "      <th></th>\n",
       "      <th>date</th>\n",
       "      <th>doy</th>\n",
       "      <th>files</th>\n",
       "      <th>message</th>\n",
       "      <th>person</th>\n",
       "      <th>year</th>\n",
       "    </tr>\n",
       "  </thead>\n",
       "  <tbody>\n",
       "    <tr>\n",
       "      <th>0</th>\n",
       "      <td>2013-02-13 17:50:44-08:00</td>\n",
       "      <td>44</td>\n",
       "      <td>['.gitignore', 'bin/spack']</td>\n",
       "      <td>Initial version of spack with one package:...</td>\n",
       "      <td>Todd Gamblin &lt;tgamblin@llnl.gov&gt;</td>\n",
       "      <td>2013</td>\n",
       "    </tr>\n",
       "    <tr>\n",
       "      <th>1</th>\n",
       "      <td>2013-02-13 17:50:44-08:00</td>\n",
       "      <td>44</td>\n",
       "      <td>['.gitignore', 'bin/spack']</td>\n",
       "      <td>Initial version of spack with one package:...</td>\n",
       "      <td>Todd Gamblin &lt;tgamblin@llnl.gov&gt;</td>\n",
       "      <td>2013</td>\n",
       "    </tr>\n",
       "    <tr>\n",
       "      <th>2</th>\n",
       "      <td>2013-02-13 17:50:44-08:00</td>\n",
       "      <td>44</td>\n",
       "      <td>['.gitignore', 'bin/spack']</td>\n",
       "      <td>Initial version of spack with one package:...</td>\n",
       "      <td>Todd Gamblin &lt;tgamblin@llnl.gov&gt;</td>\n",
       "      <td>2013</td>\n",
       "    </tr>\n",
       "    <tr>\n",
       "      <th>3</th>\n",
       "      <td>2013-02-13 17:50:44-08:00</td>\n",
       "      <td>44</td>\n",
       "      <td>['.gitignore', 'bin/spack']</td>\n",
       "      <td>Initial version of spack with one package:...</td>\n",
       "      <td>Todd Gamblin &lt;tgamblin@llnl.gov&gt;</td>\n",
       "      <td>2013</td>\n",
       "    </tr>\n",
       "    <tr>\n",
       "      <th>4</th>\n",
       "      <td>2013-02-13 17:50:44-08:00</td>\n",
       "      <td>44</td>\n",
       "      <td>['.gitignore', 'bin/spack']</td>\n",
       "      <td>Initial version of spack with one package:...</td>\n",
       "      <td>Todd Gamblin &lt;tgamblin@llnl.gov&gt;</td>\n",
       "      <td>2013</td>\n",
       "    </tr>\n",
       "  </tbody>\n",
       "</table>\n",
       "</div>"
      ],
      "text/plain": [
       "                        date  doy                        files  \\\n",
       "0  2013-02-13 17:50:44-08:00   44  ['.gitignore', 'bin/spack']   \n",
       "1  2013-02-13 17:50:44-08:00   44  ['.gitignore', 'bin/spack']   \n",
       "2  2013-02-13 17:50:44-08:00   44  ['.gitignore', 'bin/spack']   \n",
       "3  2013-02-13 17:50:44-08:00   44  ['.gitignore', 'bin/spack']   \n",
       "4  2013-02-13 17:50:44-08:00   44  ['.gitignore', 'bin/spack']   \n",
       "\n",
       "                                             message  \\\n",
       "0      Initial version of spack with one package:...   \n",
       "1      Initial version of spack with one package:...   \n",
       "2      Initial version of spack with one package:...   \n",
       "3      Initial version of spack with one package:...   \n",
       "4      Initial version of spack with one package:...   \n",
       "\n",
       "                             person  year  \n",
       "0  Todd Gamblin <tgamblin@llnl.gov>  2013  \n",
       "1  Todd Gamblin <tgamblin@llnl.gov>  2013  \n",
       "2  Todd Gamblin <tgamblin@llnl.gov>  2013  \n",
       "3  Todd Gamblin <tgamblin@llnl.gov>  2013  \n",
       "4  Todd Gamblin <tgamblin@llnl.gov>  2013  "
      ]
     },
     "execution_count": 25,
     "metadata": {},
     "output_type": "execute_result"
    }
   ],
   "source": [
    "sorted_commits.head()"
   ]
  },
  {
   "cell_type": "code",
   "execution_count": 5,
   "metadata": {},
   "outputs": [],
   "source": [
    "import datetime\n",
    "from dateutil import parser\n"
   ]
  },
  {
   "cell_type": "markdown",
   "metadata": {},
   "source": [
    "## Here is starting date"
   ]
  },
  {
   "cell_type": "code",
   "execution_count": 46,
   "metadata": {},
   "outputs": [
    {
     "data": {
      "text/plain": [
       "44"
      ]
     },
     "execution_count": 46,
     "metadata": {},
     "output_type": "execute_result"
    }
   ],
   "source": [
    "starting_day = int(sorted_commits.loc[0,'doy'])  #day of year for Feb 13\n",
    "starting_day"
   ]
  },
  {
   "cell_type": "code",
   "execution_count": 47,
   "metadata": {},
   "outputs": [
    {
     "data": {
      "text/plain": [
       "2013"
      ]
     },
     "execution_count": 47,
     "metadata": {},
     "output_type": "execute_result"
    }
   ],
   "source": [
    "starting_year = sorted_commits.loc[0,'year']\n",
    "starting_year"
   ]
  },
  {
   "cell_type": "markdown",
   "metadata": {},
   "source": [
    "## Here is ending date"
   ]
  },
  {
   "cell_type": "code",
   "execution_count": 38,
   "metadata": {},
   "outputs": [
    {
     "data": {
      "text/plain": [
       "datetime.datetime(2019, 1, 2, 1, 15, 15, tzinfo=tzoffset(None, 3600))"
      ]
     },
     "execution_count": 38,
     "metadata": {},
     "output_type": "execute_result"
    }
   ],
   "source": [
    "str_date = sorted_commits.loc[len(sorted_commits)-1,'date']\n",
    "parser.parse(str_date)  #-05 hours => -18000 seconds\n"
   ]
  },
  {
   "cell_type": "code",
   "execution_count": 49,
   "metadata": {},
   "outputs": [
    {
     "data": {
      "text/plain": [
       "2019"
      ]
     },
     "execution_count": 49,
     "metadata": {},
     "output_type": "execute_result"
    }
   ],
   "source": [
    "ending_year = sorted_commits.iloc[-1]['year']  #get ending year from last row\n",
    "ending_year"
   ]
  },
  {
   "cell_type": "code",
   "execution_count": 50,
   "metadata": {},
   "outputs": [
    {
     "data": {
      "text/plain": [
       "2"
      ]
     },
     "execution_count": 50,
     "metadata": {},
     "output_type": "execute_result"
    }
   ],
   "source": [
    "ending_day = sorted_commits.iloc[-1]['doy']  #get ending year from last row\n",
    "ending_day"
   ]
  },
  {
   "cell_type": "markdown",
   "metadata": {},
   "source": [
    "## wrangling code\n",
    "\n",
    "Goal: go through everyday between (2013, 2, 13) and (2019, 1, 2). For each day count how many commits occured, 0 is possible. Produce a list of commits per day.\n",
    "\n",
    "Actual method: loop through rows of table. Keep values needed to (a) count rows with same date, (b) count days skipped leading to a sequence of 0 entries, and (c) determine when switch years so can reset values."
   ]
  },
  {
   "cell_type": "markdown",
   "metadata": {},
   "source": [
    "Boyana suggests building table with row per day with 0 count then merge sorted_commits into that. Still seems would have to look through to consolidate counts."
   ]
  },
  {
   "cell_type": "code",
   "execution_count": 45,
   "metadata": {},
   "outputs": [],
   "source": [
    "current_day = starting_day    #computed above\n",
    "current_year = starting_year  #computed above\n",
    "commits_by_day = []           #where final sequence will be kept\n",
    "day_commits = 0               #count the commits for a single day\n",
    "\n",
    "for i in range(len(sorted_commits)):\n",
    "    year = sorted_commits.loc[i,'year']\n",
    "    day_of_year = int(sorted_commits.loc[i,'doy'])\n",
    "    \n",
    "    #check if change years, e.g., change from 2013 to 2014\n",
    "    if year!=current_year:\n",
    "        current_year = year\n",
    "        diff = day_of_year + (365 - current_day)  #account for skipped days at end of old year\n",
    "    else:\n",
    "        diff = day_of_year - current_day\n",
    "    \n",
    "    #diff now holds number of days skipped\n",
    "    \n",
    "    #No diff so same day - increment commits for the day\n",
    "    if diff==0:\n",
    "        day_commits += 1\n",
    "        continue\n",
    "    \n",
    "    #diff = 1 so tomorrow is here :)\n",
    "    if diff == 1:\n",
    "        commits_by_day.append(day_commits)  #save accumulation from previous day\n",
    "        day_commits = 1\n",
    "        current_day = day_of_year\n",
    "        continue\n",
    "    \n",
    "    #what if days skipped - need to fill in with 0\n",
    "    if diff > 1:\n",
    "        commits_by_day.append(day_commits)  #add the ones already counted\n",
    "        for i in range(diff-1):\n",
    "            commits_by_day.append(0)  #fill in 0 for missing days \n",
    "        day_commits = 1\n",
    "        current_day = day_of_year\n",
    "        continue\n",
    "    \n",
    "    print((i, current_day, current_year, day_of_year, year, diff))\n",
    "    raise Exception  #should never get here\n",
    "\n",
    "commits_by_day.append(day_commits)  #get the last one\n",
    "\n",
    "    \n",
    "\n"
   ]
  },
  {
   "cell_type": "code",
   "execution_count": 51,
   "metadata": {},
   "outputs": [
    {
     "data": {
      "text/plain": [
       "23059"
      ]
     },
     "execution_count": 51,
     "metadata": {},
     "output_type": "execute_result"
    }
   ],
   "source": [
    "len(sorted_commits)"
   ]
  },
  {
   "cell_type": "code",
   "execution_count": 52,
   "metadata": {},
   "outputs": [
    {
     "data": {
      "text/plain": [
       "23059"
      ]
     },
     "execution_count": 52,
     "metadata": {},
     "output_type": "execute_result"
    }
   ],
   "source": [
    "sum(commits_by_day)"
   ]
  },
  {
   "cell_type": "code",
   "execution_count": 54,
   "metadata": {},
   "outputs": [
    {
     "data": {
      "text/plain": [
       "0.03282883039160415"
      ]
     },
     "execution_count": 54,
     "metadata": {},
     "output_type": "execute_result"
    }
   ],
   "source": [
    "commits_by_day.count(0)/len(sorted_commits)  #roughly 3% of days have no commits"
   ]
  },
  {
   "cell_type": "code",
   "execution_count": null,
   "metadata": {},
   "outputs": [],
   "source": [
    "fee_fie_foo()  #break here from Run All to see if want to save"
   ]
  },
  {
   "cell_type": "code",
   "execution_count": 55,
   "metadata": {},
   "outputs": [
    {
     "data": {
      "text/plain": [
       "True"
      ]
     },
     "execution_count": 55,
     "metadata": {},
     "output_type": "execute_result"
    }
   ],
   "source": [
    "import json\n",
    "with open('commit_counts.txt', 'w') as f:\n",
    "    f.write(json.dumps(commits_by_day))\n",
    "\n",
    "#Now read the file back into a Python list object\n",
    "with open('commit_counts.txt', 'r') as f:\n",
    "    a = json.loads(f.read())\n",
    "    \n",
    "len(a) == len(commits_by_day)"
   ]
  },
  {
   "cell_type": "code",
   "execution_count": 56,
   "metadata": {},
   "outputs": [
    {
     "data": {
      "text/plain": [
       "2149"
      ]
     },
     "execution_count": 56,
     "metadata": {},
     "output_type": "execute_result"
    }
   ],
   "source": [
    "len(a)"
   ]
  }
 ],
 "metadata": {
  "kernelspec": {
   "display_name": "Python 3",
   "language": "python",
   "name": "python3"
  },
  "language_info": {
   "codemirror_mode": {
    "name": "ipython",
    "version": 3
   },
   "file_extension": ".py",
   "mimetype": "text/x-python",
   "name": "python",
   "nbconvert_exporter": "python",
   "pygments_lexer": "ipython3",
   "version": "3.6.4"
  },
  "toc": {
   "base_numbering": 1,
   "nav_menu": {},
   "number_sections": true,
   "sideBar": true,
   "skip_h1_title": false,
   "title_cell": "Table of Contents",
   "title_sidebar": "Contents",
   "toc_cell": false,
   "toc_position": {},
   "toc_section_display": true,
   "toc_window_display": false
  }
 },
 "nbformat": 4,
 "nbformat_minor": 2
}
