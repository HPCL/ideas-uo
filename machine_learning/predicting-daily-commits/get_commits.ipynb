{
 "cells": [
  {
   "cell_type": "markdown",
   "metadata": {},
   "source": [
    "# Build commit table\n",
    "\n",
    "The overall goal is to pull commit information about a single project from github, then format that info as a table where each row is a separate commit. Here is the target, where each row represents a single commit:\n",
    "\n",
    "<img src=\"https://www.dropbox.com/s/om587xsel6duayq/Screenshot%202019-06-25%2012.20.00.png?raw=1\">"
   ]
  },
  {
   "cell_type": "markdown",
   "metadata": {
    "colab_type": "text",
    "id": "YdsaQy6xaPC3"
   },
   "source": [
    "I first tried to run this from colab. I was able to download the hpcl folder to my desktop from here: https://github.com/HPCL/ideas-uo/tree/master/code/hpcl. Then upload it with code below. I first zipped it on the desktop so you can see unzipping below.\n",
    "\n",
    "However, I failed to bring in mysql.connector from colab so switched to jupyter server on my desktop"
   ]
  },
  {
   "cell_type": "code",
   "execution_count": 1,
   "metadata": {
    "colab": {},
    "colab_type": "code",
    "id": "k8aUB0VpgqXA"
   },
   "outputs": [],
   "source": [
    "#!rm -r hpcl*"
   ]
  },
  {
   "cell_type": "code",
   "execution_count": 2,
   "metadata": {
    "colab": {
     "base_uri": "https://localhost:8080/",
     "height": 70,
     "resources": {
      "http://localhost:8080/nbextensions/google.colab/files.js": {
       "data": "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",
       "headers": [
        [
         "content-type",
         "application/javascript"
        ]
       ],
       "ok": true,
       "status": 200,
       "status_text": ""
      }
     }
    },
    "colab_type": "code",
    "id": "dnHr-TA6gvK5",
    "outputId": "9c505b64-b083-4157-e367-64e15822160b"
   },
   "outputs": [],
   "source": [
    "#from google.colab import files\n",
    "#files.upload();"
   ]
  },
  {
   "cell_type": "markdown",
   "metadata": {},
   "source": [
    "Even when on jupyter, could not get mysql installed so commented out for now."
   ]
  },
  {
   "cell_type": "code",
   "execution_count": 3,
   "metadata": {
    "colab": {
     "base_uri": "https://localhost:8080/",
     "height": 364
    },
    "colab_type": "code",
    "id": "tfbctmWhJfy-",
    "outputId": "b5eaf339-01fa-41f4-e7cf-c447d80321bc"
   },
   "outputs": [],
   "source": [
    "import os, sys, subprocess\n",
    "import hpcl.Command\n",
    "from hpcl import GitCommand\n",
    "#import mysql.connector    #works from command line but not here\n",
    "from hpcl.analysis import *\n",
    "\n"
   ]
  },
  {
   "cell_type": "markdown",
   "metadata": {},
   "source": [
    "## Biggish issue\n",
    "\n",
    "Jason's code will not run in 3.6 so I switched kernels to 2.7. Reluctantly! Like to get everyhing in 3.6 soon.\n",
    "\n",
    "Note I did have to create a tmp dir prior to running this."
   ]
  },
  {
   "cell_type": "code",
   "execution_count": 4,
   "metadata": {
    "colab": {},
    "colab_type": "code",
    "id": "YIpCgM0OJsA0"
   },
   "outputs": [
    {
     "name": "stdout",
     "output_type": "stream",
     "text": [
      "Going to load repos...\n",
      "Cloning: https://github.com/spack/spack.git\n",
      "\n",
      "Cloning: https://github.com/lanl/LATTE.git\n",
      "\n",
      "Finished cloning repos.\n",
      "Checking: LATTE\n",
      "\n",
      "['cf192f6fd4209d7dc0759321451c30ccf5d51b02', '79d950d1f714c1358a018210f8f2603edef84520', 'b191c3c3fbfb699bded53435611d24f27fffcd2f', '8eb5f8188764116ec3a1690233cee51a5d636583']\n",
      "git checkout cf192f6fd4209d7dc0759321451c30ccf5d51b02\n",
      "\n",
      "git checkout 79d950d1f714c1358a018210f8f2603edef84520\n",
      "\n",
      "git checkout b191c3c3fbfb699bded53435611d24f27fffcd2f\n",
      "\n",
      "git checkout 8eb5f8188764116ec3a1690233cee51a5d636583\n",
      "\n",
      "15\n",
      "Christoph Junghans <junghans@votca.org>\n",
      "Christian Negre <cnegre@lanl.gov>\n",
      "Marc Cawkwell <cawkwell@lanl.gov>\n",
      "cawkwell <cawkwell@gransasso.lanl.gov>\n",
      "Christoph Junghans <junghans@lanl.gov>\n",
      "rperriot <rperriot@lanl.gov>\n",
      "Nestor F. Aguirre <nfaguirrec@gmail.com>\n",
      "Christoph Junghans <christoph.junghans@gmail.com>\n",
      "Axel Kohlmeyer <akohlmey@gmail.com>\n",
      "a1k12 <a1k2112@gmail.com>\n",
      "Chang Liu <chliu1990@users.noreply.github.com>\n",
      "Christian F. A. Negre <christianfannegre@gmail.com>\n",
      "Anders Niklasson <anders@gallium.lanl.gov>\n",
      "Christian Negre <cnegre@cori07-bond0.224>\n",
      "nfaguirrec <nestor@carbon.lanl.gov>\n",
      "Checking: spack\n",
      "\n",
      "['cc76c0f5f9f8021cfb7423a226bd431c00d791ce', '30d3b32085ab31c91ac45f2f14c5de07774823f7', '0a0291678e283bf154081df67b0a1f5c909d1d19', 'f5a49280c3b9063c6deb29307cd6356bf75cedd5']\n",
      "git checkout cc76c0f5f9f8021cfb7423a226bd431c00d791ce\n",
      "\n",
      "git checkout 30d3b32085ab31c91ac45f2f14c5de07774823f7\n",
      "T\tlib/spack/env/c++\n",
      "\n",
      "git checkout 0a0291678e283bf154081df67b0a1f5c909d1d19\n",
      "T\tlib/spack/env/c++\n",
      "\n",
      "git checkout f5a49280c3b9063c6deb29307cd6356bf75cedd5\n",
      "T\tlib/spack/env/c++\n",
      "\n",
      "50\n",
      "Bob Robey <brobey@lanl.gov>\n",
      "Gregory L. Lee <lee218@cab687.llnl.gov>\n",
      "Todd Gamblin <tgamblin@llnl.gov>\n",
      "Erik Schnetter <schnetter@gmail.com>\n",
      "Kevin Brandstatter <kbrandst@hawk.iit.edu>\n",
      "Tru Huynh <tru+github@pasteur.fr>\n",
      "Kevin Brandstatter <kjbrandstatter@gmail.com>\n",
      "Massimiliano Culpo <massimiliano.culpo@epfl.ch>\n",
      "Kelly T. Kirk <kelly.t.kirk@us.army.mil>\n",
      "Rasmus Wriedt Larsen <rasmuswriedtlarsen@gmail.com>\n",
      "Ben Boeckel <ben.boeckel@kitware.com>\n",
      "Mario Melara <mamelara@genepool1.nersc.gov>\n",
      "alalazo <massimiliano.culpo@googlemail.com>\n",
      "Adam Moody <moody20@llnl.gov>\n",
      "Justin Too <justin@doubleotoo.com>\n",
      "Gregory L. Lee <lee218@catalyst159.llnl.gov>\n",
      "Gregory L. Lee <lee218@surface86.llnl.gov>\n",
      "Charles A. Reynolds <reynolds12@llnl.gov>\n",
      "Tom Scogland <scogland1@llnl.gov>\n",
      "Todd Gamblin <gamblin2@llnl.gov>\n",
      "Nicolas Richart <nicolas.richart@epfl.ch>\n",
      "Jeff Squyres <jsquyres@cisco.com>\n",
      "George Todd Gamblin <gamblin2@llnl.gov>\n",
      "Saravan Pantham <saravan.pantham@gmail.com>\n",
      "Simon Thompson <S.J.Thompson@bham.ac.uk>\n",
      "David Boehme <boehme3@llnl.gov>\n",
      "Gregory Becker <becker33@llnl.gov>\n",
      "Luc Jaulmes <jaulmes1@llnl.gov>\n",
      "John Westlund <john.a.westlund@intel.com>\n",
      "Alfredo Gimenez <gimenez1@llnl.gov>\n",
      "Benjamin Walters <bwalter4@hawk.iit.edu>\n",
      "Abhinav Bhatele <bhatele@llnl.gov>\n",
      "David Boehme <boehme3@sierra648.llnl.gov>\n",
      "Gregory L. Lee <lee218@llnl.gov>\n",
      "David Shrader <dshrader@lanl.gov>\n",
      "David Beckingsale <davidbeckingsale@gmail.com>\n",
      "Kevin Huck <khuck@cs.uoregon.edu>\n",
      "Paul Dapolito <pdapolito@hmc.edu>\n",
      "Tom Scogland <tscogland@llnl.gov>\n",
      "Alfredo Gimenez <alfredo.gimenez@gmail.com>\n",
      "Gregory L. Lee <lee218@cab690.llnl.gov>\n",
      "Massimiliano Culpo <massimiliano.culpo@googlemail.com>\n",
      "Gregory Lee <lee218@llnl.gov>\n",
      "Peter Scheibel <scheibel1@llnl.gov>\n",
      "Mike Nolta <mike@nolta.net>\n",
      "Stephen Herbein <sherbein@udel.edu>\n",
      "Florent Pruvost <fpruvost@inria.fr>\n",
      "David Boehme <boehme3@sierra324.llnl.gov>\n",
      "Matthew LeGendre <legendre1@llnl.gov>\n",
      "Jim Galarowicz <jeg@krellinst.org>\n"
     ]
    }
   ],
   "source": [
    "#Thanks to Jason for this code\n",
    "\n",
    "def checkoutSubrepos(repos,tdir):\n",
    "    #currdir = os.getcwd()\n",
    "    for repopath in repos.keys():\n",
    "        if repopath == tdir: continue\n",
    "        retcode, out, err = Command.Command('git checkout %s%s' % repos[repopath]).run(dryrun=dry_run)\n",
    "    return\n",
    "\n",
    "\n",
    "if __name__ == \"__main__\":\n",
    "    \n",
    "    print('Going to load repos...')\n",
    "\n",
    "    #Load the list of repos to clone from the following file\n",
    "    urls = open(os.path.join('.','URL.txt'),'r').readlines()\n",
    "\n",
    "    #Move to the tmp directory that will hold the repos\n",
    "    currdir = os.getcwd()\n",
    "    tmpdir = os.path.join(currdir,'tmp')  #sff: fails if does not already exist\n",
    "    #os.chdir(tmpdir)\n",
    "\n",
    "    commander = GitCommand.GitCommand(tmpdir)\n",
    "\n",
    "    #Download each repo\n",
    "    for url in urls:\n",
    "        print('Cloning: ' + url)\n",
    "        commander.cloneRepo(url)\n",
    "\n",
    "    print('Finished cloning repos.')\n",
    "\n",
    "    outfile = open('../stats.csv','w')\n",
    "    outfile.write('Date' + ',' + ','.join(categories.keys()) + ',' + 'Other' + '\\n')\n",
    "\n",
    "    #Setup DB connection, this will probably change soon.\n",
    "    #mydb = mysql.connector.connect(host=\"localhost\", port=\"3307\", user=\"pythondb\", passwd=\"********\", database=\"gitstats\")\n",
    "    #print(mydb)\n",
    "    #mycursor = mydb.cursor()\n",
    "    #sql = \"INSERT INTO stats (reponame, stats) VALUES(%s, %s)\"\n",
    "\n",
    "    #Now run commands on the repos\n",
    "    for repo in os.listdir('.'):\n",
    "\n",
    "        print('Checking: ' + repo)\n",
    "        prefix,versions = commander.getRepoVersions(repo)\n",
    "        print(prefix)\n",
    "        print(versions)\n",
    "\n",
    "        #Gets all the commit data in a dictionary format {authorname:{'total_commits':0, 'commits':{'date':'', 'message':'', 'diffs':{'filename':'', 'diff':''}}}}\n",
    "        commits = commander.getRepoCommitData(repo)\n",
    "\n",
    "        print(len(commits))\n",
    "        for key,values in commits.items():\n",
    "            print(key)\n",
    "            #print(values)\n",
    "\n",
    "        \"\"\" stats = getStats('.',repo)\n",
    "        ts = repo + ', ' + out.strip().split('-')[0] \n",
    "        buf = ts\n",
    "        for i in range(0,len(category_names)): \n",
    "            buf += ', %d' % stats[category_names[i]]\n",
    "            linecounts[i].append(stats[category_names[i]]*0.001)\n",
    "        outfile.write(buf+'\\n')\n",
    "        #years.append(int(ts))\n",
    "        print(stats)\n",
    "        \n",
    "        val = (repo, buf)\"\"\"\n",
    "        #mycursor.execute(sql,val)\n",
    "        #mydb.commit()\n",
    "\n",
    "    outfile.close()\n",
    "\n",
    "\n"
   ]
  },
  {
   "cell_type": "markdown",
   "metadata": {},
   "source": [
    "## Let's see what we have"
   ]
  },
  {
   "cell_type": "code",
   "execution_count": 5,
   "metadata": {},
   "outputs": [
    {
     "data": {
      "text/plain": [
       "50"
      ]
     },
     "execution_count": 5,
     "metadata": {},
     "output_type": "execute_result"
    }
   ],
   "source": [
    "len(commits)  #50 separate people doing commits on the project"
   ]
  },
  {
   "cell_type": "code",
   "execution_count": 6,
   "metadata": {},
   "outputs": [
    {
     "data": {
      "text/plain": [
       "dict"
      ]
     },
     "execution_count": 6,
     "metadata": {},
     "output_type": "execute_result"
    }
   ],
   "source": [
    "type(commits)"
   ]
  },
  {
   "cell_type": "code",
   "execution_count": 7,
   "metadata": {},
   "outputs": [],
   "source": [
    "tups = commits.items()  #get it in form easier to see"
   ]
  },
  {
   "cell_type": "code",
   "execution_count": 8,
   "metadata": {},
   "outputs": [
    {
     "data": {
      "text/plain": [
       "('Bob Robey <brobey@lanl.gov>',\n",
       " {'commits': [{'date': 'Sat Oct 25 21:59:01 2014 -0600',\n",
       "    'diffs': [{'diff': '     \"\"\"ImageMagick is a image processing library\"\"\"',\n",
       "      'filename': '16 +3,16 @@ from spack import *'}],\n",
       "    'message': '    Fixing errors in depends_on and updating version for ImageMagick\\n'},\n",
       "   {'date': 'Sat Oct 25 21:25:25 2014 -0600',\n",
       "    'diffs': [{'diff': '+',\n",
       "      'filename': 'var/spack/packages/ImageMagick/package.py'}],\n",
       "    'message': '    Adding autotools and ImageMagick and patch for mpe2\\n'},\n",
       "   {'date': 'Sat Oct 25 21:59:01 2014 -0600',\n",
       "    'diffs': [{'diff': '     \"\"\"ImageMagick is a image processing library\"\"\"',\n",
       "      'filename': '16 +3,16 @@ from spack import *'}],\n",
       "    'message': '    Fixing errors in depends_on and updating version for ImageMagick\\n'},\n",
       "   {'date': 'Sat Oct 25 21:25:25 2014 -0600',\n",
       "    'diffs': [{'diff': '+',\n",
       "      'filename': 'var/spack/packages/ImageMagick/package.py'}],\n",
       "    'message': '    Adding autotools and ImageMagick and patch for mpe2\\n'},\n",
       "   {'date': 'Sat Oct 25 21:59:01 2014 -0600',\n",
       "    'diffs': [{'diff': '     \"\"\"ImageMagick is a image processing library\"\"\"',\n",
       "      'filename': '16 +3,16 @@ from spack import *'}],\n",
       "    'message': '    Fixing errors in depends_on and updating version for ImageMagick\\n'},\n",
       "   {'date': 'Sat Oct 25 21:25:25 2014 -0600',\n",
       "    'diffs': [{'diff': '+',\n",
       "      'filename': 'var/spack/packages/ImageMagick/package.py'}],\n",
       "    'message': '    Adding autotools and ImageMagick and patch for mpe2\\n'}],\n",
       "  'total_commits': 6})"
      ]
     },
     "execution_count": 8,
     "metadata": {},
     "output_type": "execute_result"
    }
   ],
   "source": [
    "tups[0]"
   ]
  },
  {
   "cell_type": "code",
   "execution_count": 9,
   "metadata": {},
   "outputs": [
    {
     "data": {
      "text/plain": [
       "('Gregory L. Lee <lee218@cab687.llnl.gov>',\n",
       " {'commits': [{'date': 'Sat Dec 19 07:43:34 2015 -0800',\n",
       "    'diffs': [{'diff': \"     version('4.0.0', 'd00301c078cba57ef68613be32ceea2f')\",\n",
       "      'filename': '6 +7,7 @@ class Mrnet(Package):'}],\n",
       "    'message': '    added mrnet 5.0.1\\n'},\n",
       "   {'date': 'Wed Dec 9 14:10:05 2015 -0800',\n",
       "    'diffs': [{'diff': ' ', 'filename': '4 +1,5 @@'}],\n",
       "    'message': '    install python files to libxml2 prefix instead of python prefix and ignore non-python files when activating\\n'},\n",
       "   {'date': 'Sat Dec 19 07:43:34 2015 -0800',\n",
       "    'diffs': [{'diff': \"     version('4.0.0', 'd00301c078cba57ef68613be32ceea2f')\",\n",
       "      'filename': '6 +7,7 @@ class Mrnet(Package):'}],\n",
       "    'message': '    added mrnet 5.0.1\\n'},\n",
       "   {'date': 'Wed Dec 9 14:10:05 2015 -0800',\n",
       "    'diffs': [{'diff': ' ', 'filename': '4 +1,5 @@'}],\n",
       "    'message': '    install python files to libxml2 prefix instead of python prefix and ignore non-python files when activating\\n'}],\n",
       "  'total_commits': 4})"
      ]
     },
     "execution_count": 9,
     "metadata": {},
     "output_type": "execute_result"
    }
   ],
   "source": [
    "x = tups[1]\n",
    "x"
   ]
  },
  {
   "cell_type": "code",
   "execution_count": 10,
   "metadata": {},
   "outputs": [
    {
     "data": {
      "text/plain": [
       "[{'date': 'Sat Dec 19 07:43:34 2015 -0800',\n",
       "  'diffs': [{'diff': \"     version('4.0.0', 'd00301c078cba57ef68613be32ceea2f')\",\n",
       "    'filename': '6 +7,7 @@ class Mrnet(Package):'}],\n",
       "  'message': '    added mrnet 5.0.1\\n'},\n",
       " {'date': 'Wed Dec 9 14:10:05 2015 -0800',\n",
       "  'diffs': [{'diff': ' ', 'filename': '4 +1,5 @@'}],\n",
       "  'message': '    install python files to libxml2 prefix instead of python prefix and ignore non-python files when activating\\n'},\n",
       " {'date': 'Sat Dec 19 07:43:34 2015 -0800',\n",
       "  'diffs': [{'diff': \"     version('4.0.0', 'd00301c078cba57ef68613be32ceea2f')\",\n",
       "    'filename': '6 +7,7 @@ class Mrnet(Package):'}],\n",
       "  'message': '    added mrnet 5.0.1\\n'},\n",
       " {'date': 'Wed Dec 9 14:10:05 2015 -0800',\n",
       "  'diffs': [{'diff': ' ', 'filename': '4 +1,5 @@'}],\n",
       "  'message': '    install python files to libxml2 prefix instead of python prefix and ignore non-python files when activating\\n'}]"
      ]
     },
     "execution_count": 10,
     "metadata": {},
     "output_type": "execute_result"
    }
   ],
   "source": [
    "x[1]['commits']"
   ]
  },
  {
   "cell_type": "markdown",
   "metadata": {},
   "source": [
    "I am going to reformat the data. Currently the key is user and the value is a nested structure that includes all the commits for that person. I want to invert this. I'd like a list of commits, where each commit has info including person."
   ]
  },
  {
   "cell_type": "markdown",
   "metadata": {},
   "source": [
    "Note Python is a mess when it comes to time zones. What is supposed to work, %z, does not. See discussion here: https://stackoverflow.com/questions/3305413/python-strptime-and-timezones.\n",
    "\n",
    "In particular, these fail when include UTC: '%a %b %m %X %y %z' and '%c %z'.\n",
    "\n",
    "I am resorting to a utility package."
   ]
  },
  {
   "cell_type": "code",
   "execution_count": 11,
   "metadata": {},
   "outputs": [
    {
     "data": {
      "text/plain": [
       "datetime.datetime(2016, 8, 2, 14, 58, 31, tzinfo=tzoffset(None, 7200))"
      ]
     },
     "execution_count": 11,
     "metadata": {},
     "output_type": "execute_result"
    }
   ],
   "source": [
    "import datetime\n",
    "from dateutil import parser\n",
    "parser.parse(\"Tue Aug 2 14:58:31 2016 +0200\")  #+0200 hours => 7200 seconds"
   ]
  },
  {
   "cell_type": "code",
   "execution_count": 12,
   "metadata": {},
   "outputs": [],
   "source": [
    "all_commits = []\n",
    "for entry in tups:\n",
    "    name = entry[0]                               #'Gilles Fourestey <gilles.fourestey@epfl.ch>'\n",
    "    commit_list = entry[1]['commits']\n",
    "    for a_commit in commit_list:\n",
    "        date = parser.parse(a_commit['date'])         #\"Tue Aug 2 14:58:31 2016 +0200\"\n",
    "        files = []\n",
    "        diffs = a_commit['diffs']\n",
    "        for diff_dict in diffs:\n",
    "            filename = diff_dict['filename']          #'var/spack/repos/builtin/packages/plumed/package.py'\n",
    "            files.append(filename)\n",
    "        message = a_commit['message']             #'Fixed broken link in README (#1733)\\n'\n",
    "        new_dict = {'date': date, 'files': files, 'message': message, 'person': name}\n",
    "        all_commits.append(new_dict)\n",
    "        \n",
    "    "
   ]
  },
  {
   "cell_type": "code",
   "execution_count": 22,
   "metadata": {},
   "outputs": [
    {
     "data": {
      "text/plain": [
       "2756"
      ]
     },
     "execution_count": 22,
     "metadata": {},
     "output_type": "execute_result"
    }
   ],
   "source": [
    "len(all_commits) #2756 commits spread over roughly 3 years"
   ]
  },
  {
   "cell_type": "code",
   "execution_count": 13,
   "metadata": {},
   "outputs": [
    {
     "data": {
      "text/plain": [
       "{'date': datetime.datetime(2014, 10, 25, 21, 59, 1, tzinfo=tzoffset(None, -21600)),\n",
       " 'files': ['16 +3,16 @@ from spack import *'],\n",
       " 'message': '    Fixing errors in depends_on and updating version for ImageMagick\\n',\n",
       " 'person': 'Bob Robey <brobey@lanl.gov>'}"
      ]
     },
     "execution_count": 13,
     "metadata": {},
     "output_type": "execute_result"
    }
   ],
   "source": [
    "all_commits[0]"
   ]
  },
  {
   "cell_type": "markdown",
   "metadata": {},
   "source": [
    "Looks ok to me. Now converting to pandas dataframe is easy peasy."
   ]
  },
  {
   "cell_type": "code",
   "execution_count": 14,
   "metadata": {},
   "outputs": [],
   "source": [
    "import pandas as pd"
   ]
  },
  {
   "cell_type": "code",
   "execution_count": 15,
   "metadata": {},
   "outputs": [],
   "source": [
    "df_commits = pd.DataFrame(all_commits)  #gotta love pandas"
   ]
  },
  {
   "cell_type": "code",
   "execution_count": 16,
   "metadata": {},
   "outputs": [
    {
     "data": {
      "text/html": [
       "<div>\n",
       "<style>\n",
       "    .dataframe thead tr:only-child th {\n",
       "        text-align: right;\n",
       "    }\n",
       "\n",
       "    .dataframe thead th {\n",
       "        text-align: left;\n",
       "    }\n",
       "\n",
       "    .dataframe tbody tr th {\n",
       "        vertical-align: top;\n",
       "    }\n",
       "</style>\n",
       "<table border=\"1\" class=\"dataframe\">\n",
       "  <thead>\n",
       "    <tr style=\"text-align: right;\">\n",
       "      <th></th>\n",
       "      <th>date</th>\n",
       "      <th>files</th>\n",
       "      <th>message</th>\n",
       "      <th>person</th>\n",
       "    </tr>\n",
       "  </thead>\n",
       "  <tbody>\n",
       "    <tr>\n",
       "      <th>0</th>\n",
       "      <td>2014-10-25 21:59:01-06:00</td>\n",
       "      <td>[16 +3,16 @@ from spack import *]</td>\n",
       "      <td>Fixing errors in depends_on and updating v...</td>\n",
       "      <td>Bob Robey &lt;brobey@lanl.gov&gt;</td>\n",
       "    </tr>\n",
       "    <tr>\n",
       "      <th>1</th>\n",
       "      <td>2014-10-25 21:25:25-06:00</td>\n",
       "      <td>[var/spack/packages/ImageMagick/package.py]</td>\n",
       "      <td>Adding autotools and ImageMagick and patch...</td>\n",
       "      <td>Bob Robey &lt;brobey@lanl.gov&gt;</td>\n",
       "    </tr>\n",
       "    <tr>\n",
       "      <th>2</th>\n",
       "      <td>2014-10-25 21:59:01-06:00</td>\n",
       "      <td>[16 +3,16 @@ from spack import *]</td>\n",
       "      <td>Fixing errors in depends_on and updating v...</td>\n",
       "      <td>Bob Robey &lt;brobey@lanl.gov&gt;</td>\n",
       "    </tr>\n",
       "    <tr>\n",
       "      <th>3</th>\n",
       "      <td>2014-10-25 21:25:25-06:00</td>\n",
       "      <td>[var/spack/packages/ImageMagick/package.py]</td>\n",
       "      <td>Adding autotools and ImageMagick and patch...</td>\n",
       "      <td>Bob Robey &lt;brobey@lanl.gov&gt;</td>\n",
       "    </tr>\n",
       "    <tr>\n",
       "      <th>4</th>\n",
       "      <td>2014-10-25 21:59:01-06:00</td>\n",
       "      <td>[16 +3,16 @@ from spack import *]</td>\n",
       "      <td>Fixing errors in depends_on and updating v...</td>\n",
       "      <td>Bob Robey &lt;brobey@lanl.gov&gt;</td>\n",
       "    </tr>\n",
       "  </tbody>\n",
       "</table>\n",
       "</div>"
      ],
      "text/plain": [
       "                        date                                        files  \\\n",
       "0  2014-10-25 21:59:01-06:00            [16 +3,16 @@ from spack import *]   \n",
       "1  2014-10-25 21:25:25-06:00  [var/spack/packages/ImageMagick/package.py]   \n",
       "2  2014-10-25 21:59:01-06:00            [16 +3,16 @@ from spack import *]   \n",
       "3  2014-10-25 21:25:25-06:00  [var/spack/packages/ImageMagick/package.py]   \n",
       "4  2014-10-25 21:59:01-06:00            [16 +3,16 @@ from spack import *]   \n",
       "\n",
       "                                             message  \\\n",
       "0      Fixing errors in depends_on and updating v...   \n",
       "1      Adding autotools and ImageMagick and patch...   \n",
       "2      Fixing errors in depends_on and updating v...   \n",
       "3      Adding autotools and ImageMagick and patch...   \n",
       "4      Fixing errors in depends_on and updating v...   \n",
       "\n",
       "                        person  \n",
       "0  Bob Robey <brobey@lanl.gov>  \n",
       "1  Bob Robey <brobey@lanl.gov>  \n",
       "2  Bob Robey <brobey@lanl.gov>  \n",
       "3  Bob Robey <brobey@lanl.gov>  \n",
       "4  Bob Robey <brobey@lanl.gov>  "
      ]
     },
     "execution_count": 16,
     "metadata": {},
     "output_type": "execute_result"
    }
   ],
   "source": [
    "df_commits.head()"
   ]
  },
  {
   "cell_type": "code",
   "execution_count": 17,
   "metadata": {},
   "outputs": [],
   "source": [
    "#df_sorted = df_commits.sort('date')  #this fails in 2.7"
   ]
  },
  {
   "cell_type": "code",
   "execution_count": 18,
   "metadata": {},
   "outputs": [],
   "source": [
    "df_sorted = df_commits.sort_values(by='date')\n",
    "df_sorted = df_sorted.reset_index(drop=True)"
   ]
  },
  {
   "cell_type": "code",
   "execution_count": 19,
   "metadata": {},
   "outputs": [
    {
     "data": {
      "text/html": [
       "<div>\n",
       "<style>\n",
       "    .dataframe thead tr:only-child th {\n",
       "        text-align: right;\n",
       "    }\n",
       "\n",
       "    .dataframe thead th {\n",
       "        text-align: left;\n",
       "    }\n",
       "\n",
       "    .dataframe tbody tr th {\n",
       "        vertical-align: top;\n",
       "    }\n",
       "</style>\n",
       "<table border=\"1\" class=\"dataframe\">\n",
       "  <thead>\n",
       "    <tr style=\"text-align: right;\">\n",
       "      <th></th>\n",
       "      <th>date</th>\n",
       "      <th>files</th>\n",
       "      <th>message</th>\n",
       "      <th>person</th>\n",
       "    </tr>\n",
       "  </thead>\n",
       "  <tbody>\n",
       "    <tr>\n",
       "      <th>0</th>\n",
       "      <td>2013-02-13 17:50:44-08:00</td>\n",
       "      <td>[.gitignore, bin/spack]</td>\n",
       "      <td>Initial version of spack with one package:...</td>\n",
       "      <td>Todd Gamblin &lt;tgamblin@llnl.gov&gt;</td>\n",
       "    </tr>\n",
       "    <tr>\n",
       "      <th>1</th>\n",
       "      <td>2013-02-13 17:50:44-08:00</td>\n",
       "      <td>[.gitignore, bin/spack]</td>\n",
       "      <td>Initial version of spack with one package:...</td>\n",
       "      <td>Todd Gamblin &lt;tgamblin@llnl.gov&gt;</td>\n",
       "    </tr>\n",
       "    <tr>\n",
       "      <th>2</th>\n",
       "      <td>2013-02-13 17:50:44-08:00</td>\n",
       "      <td>[.gitignore, bin/spack]</td>\n",
       "      <td>Initial version of spack with one package:...</td>\n",
       "      <td>Todd Gamblin &lt;tgamblin@llnl.gov&gt;</td>\n",
       "    </tr>\n",
       "    <tr>\n",
       "      <th>3</th>\n",
       "      <td>2013-02-13 17:50:44-08:00</td>\n",
       "      <td>[.gitignore, bin/spack]</td>\n",
       "      <td>Initial version of spack with one package:...</td>\n",
       "      <td>Todd Gamblin &lt;tgamblin@llnl.gov&gt;</td>\n",
       "    </tr>\n",
       "    <tr>\n",
       "      <th>4</th>\n",
       "      <td>2013-02-18 23:46:04-08:00</td>\n",
       "      <td>[,7 +19,7 @@ import spack]</td>\n",
       "      <td>Dependencies now work.  Added libelf, libd...</td>\n",
       "      <td>Todd Gamblin &lt;tgamblin@llnl.gov&gt;</td>\n",
       "    </tr>\n",
       "  </tbody>\n",
       "</table>\n",
       "</div>"
      ],
      "text/plain": [
       "                        date                       files  \\\n",
       "0  2013-02-13 17:50:44-08:00     [.gitignore, bin/spack]   \n",
       "1  2013-02-13 17:50:44-08:00     [.gitignore, bin/spack]   \n",
       "2  2013-02-13 17:50:44-08:00     [.gitignore, bin/spack]   \n",
       "3  2013-02-13 17:50:44-08:00     [.gitignore, bin/spack]   \n",
       "4  2013-02-18 23:46:04-08:00  [,7 +19,7 @@ import spack]   \n",
       "\n",
       "                                             message  \\\n",
       "0      Initial version of spack with one package:...   \n",
       "1      Initial version of spack with one package:...   \n",
       "2      Initial version of spack with one package:...   \n",
       "3      Initial version of spack with one package:...   \n",
       "4      Dependencies now work.  Added libelf, libd...   \n",
       "\n",
       "                             person  \n",
       "0  Todd Gamblin <tgamblin@llnl.gov>  \n",
       "1  Todd Gamblin <tgamblin@llnl.gov>  \n",
       "2  Todd Gamblin <tgamblin@llnl.gov>  \n",
       "3  Todd Gamblin <tgamblin@llnl.gov>  \n",
       "4  Todd Gamblin <tgamblin@llnl.gov>  "
      ]
     },
     "execution_count": 19,
     "metadata": {},
     "output_type": "execute_result"
    }
   ],
   "source": [
    "df_sorted.head()"
   ]
  },
  {
   "cell_type": "markdown",
   "metadata": {},
   "source": [
    "Write it out to file"
   ]
  },
  {
   "cell_type": "code",
   "execution_count": 23,
   "metadata": {},
   "outputs": [],
   "source": [
    "df_sorted.to_csv('sorted_commits.csv')  #ideas-uo-master/code/tmp/spack"
   ]
  },
  {
   "cell_type": "code",
   "execution_count": 21,
   "metadata": {},
   "outputs": [
    {
     "data": {
      "text/plain": [
       "2756"
      ]
     },
     "execution_count": 21,
     "metadata": {},
     "output_type": "execute_result"
    }
   ],
   "source": [
    "len(df_sorted)"
   ]
  },
  {
   "cell_type": "code",
   "execution_count": null,
   "metadata": {},
   "outputs": [],
   "source": []
  }
 ],
 "metadata": {
  "colab": {
   "collapsed_sections": [],
   "name": "get_commits.ipynb",
   "provenance": [],
   "version": "0.3.2"
  },
  "kernelspec": {
   "display_name": "Python 2",
   "language": "python",
   "name": "python2"
  },
  "language_info": {
   "codemirror_mode": {
    "name": "ipython",
    "version": 2
   },
   "file_extension": ".py",
   "mimetype": "text/x-python",
   "name": "python",
   "nbconvert_exporter": "python",
   "pygments_lexer": "ipython2",
   "version": "2.7.14"
  },
  "toc": {
   "base_numbering": 1,
   "nav_menu": {},
   "number_sections": true,
   "sideBar": true,
   "skip_h1_title": false,
   "title_cell": "Table of Contents",
   "title_sidebar": "Contents",
   "toc_cell": false,
   "toc_position": {},
   "toc_section_display": true,
   "toc_window_display": false
  }
 },
 "nbformat": 4,
 "nbformat_minor": 1
}
