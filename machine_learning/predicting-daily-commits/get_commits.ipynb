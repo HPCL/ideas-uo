{
 "cells": [
  {
   "cell_type": "markdown",
   "metadata": {},
   "source": [
    "# Build commit table\n",
    "\n",
    "The overall goal is to pull commit information about a single project from github, then format that info as a table where each row is a separate commit. Here is the target, where each row represents a single commit:\n",
    "\n",
    "<img src=\"https://www.dropbox.com/s/om587xsel6duayq/Screenshot%202019-06-25%2012.20.00.png?raw=1\">"
   ]
  },
  {
   "cell_type": "markdown",
   "metadata": {
    "colab_type": "text",
    "id": "YdsaQy6xaPC3"
   },
   "source": [
    "I first tried to run this from colab. I was able to download the hpcl folder to my desktop from here: https://github.com/HPCL/ideas-uo/tree/master/code/hpcl. Then upload it with code below. I first zipped it on the desktop so you can see unzipping below.\n",
    "\n",
    "However, I failed to bring in mysql.connector from colab so switched to jupyter server on my desktop"
   ]
  },
  {
   "cell_type": "markdown",
   "metadata": {},
   "source": [
    "## Make sure up to date\n",
    "\n"
   ]
  },
  {
   "cell_type": "code",
   "execution_count": 1,
   "metadata": {},
   "outputs": [
    {
     "data": {
      "text/plain": [
       "u'/Users/fickas/Dropbox/boyana/my_work/ideas-uo/machine_learning/predicting-daily-commits'"
      ]
     },
     "execution_count": 1,
     "metadata": {},
     "output_type": "execute_result"
    }
   ],
   "source": [
    "#~/ideas-uo/machine_learning/predicting-daily-commits\n",
    "%pwd"
   ]
  },
  {
   "cell_type": "code",
   "execution_count": 2,
   "metadata": {},
   "outputs": [
    {
     "name": "stdout",
     "output_type": "stream",
     "text": [
      "/Users/fickas/Dropbox/boyana/my_work/ideas-uo\n"
     ]
    }
   ],
   "source": [
    "#move up to uo-ideas folder - must be better way\n",
    "%cd ../.."
   ]
  },
  {
   "cell_type": "code",
   "execution_count": 3,
   "metadata": {},
   "outputs": [
    {
     "name": "stdout",
     "output_type": "stream",
     "text": [
      "Already up-to-date.\r\n"
     ]
    }
   ],
   "source": [
    "#Refresh local repository\n",
    "!git pull"
   ]
  },
  {
   "cell_type": "code",
   "execution_count": 4,
   "metadata": {},
   "outputs": [
    {
     "data": {
      "text/plain": [
       "'/Users/fickas/Dropbox/boyana/my_work/ideas-uo/code/hpcl'"
      ]
     },
     "execution_count": 4,
     "metadata": {},
     "output_type": "execute_result"
    }
   ],
   "source": [
    "import os\n",
    "repository_dir = os.getcwd() #~/ideas-uo/\n",
    "library_dir = repository_dir + '/code/hpcl'  #I am unable to import hpcl folder and don't know why\n",
    "library_dir"
   ]
  },
  {
   "cell_type": "code",
   "execution_count": 5,
   "metadata": {},
   "outputs": [],
   "source": [
    "\n",
    "import sys\n",
    "sys.path.append(library_dir)\n"
   ]
  },
  {
   "cell_type": "code",
   "execution_count": 6,
   "metadata": {},
   "outputs": [
    {
     "name": "stdout",
     "output_type": "stream",
     "text": [
      "\n",
      "/Users/fickas/anaconda2/lib/python27.zip\n",
      "/Users/fickas/anaconda2/lib/python2.7\n",
      "/Users/fickas/anaconda2/lib/python2.7/plat-darwin\n",
      "/Users/fickas/anaconda2/lib/python2.7/plat-mac\n",
      "/Users/fickas/anaconda2/lib/python2.7/plat-mac/lib-scriptpackages\n",
      "/Users/fickas/anaconda2/lib/python2.7/lib-tk\n",
      "/Users/fickas/anaconda2/lib/python2.7/lib-old\n",
      "/Users/fickas/anaconda2/lib/python2.7/lib-dynload\n",
      "/Users/fickas/.local/lib/python2.7/site-packages\n",
      "/Users/fickas/anaconda2/lib/python2.7/site-packages\n",
      "/Users/fickas/anaconda2/lib/python2.7/site-packages/Mako-1.0.7-py2.7.egg\n",
      "/Users/fickas/anaconda2/lib/python2.7/site-packages/aeosa\n",
      "/Users/fickas/anaconda2/lib/python2.7/site-packages/sputnik-0.9.3-py2.7.egg\n",
      "/Users/fickas/anaconda2/lib/python2.7/site-packages/IPython/extensions\n",
      "/Users/fickas/.ipython\n",
      "/Users/fickas/Dropbox/boyana/my_work/ideas-uo/code/hpcl\n"
     ]
    }
   ],
   "source": [
    "print( '\\n'.join(sys.path))"
   ]
  },
  {
   "cell_type": "markdown",
   "metadata": {},
   "source": [
    "## Not happy\n",
    "\n",
    "I am having to import each of the files separately because could not import hpcl folder - yuck.\n",
    "\n",
    "However, I do note that the imports within these files seem to work, e.g., import hpcl.Command as Command. But can't get it to work from notebook.\n"
   ]
  },
  {
   "cell_type": "code",
   "execution_count": 7,
   "metadata": {
    "colab": {
     "base_uri": "https://localhost:8080/",
     "height": 364
    },
    "colab_type": "code",
    "id": "tfbctmWhJfy-",
    "outputId": "b5eaf339-01fa-41f4-e7cf-c447d80321bc"
   },
   "outputs": [],
   "source": [
    "import os, sys, subprocess\n",
    "import Command\n",
    "import GitCommand\n",
    "#import mysql.connector    #works from command line but not here\n",
    "from analysis import *"
   ]
  },
  {
   "cell_type": "markdown",
   "metadata": {},
   "source": [
    "## Biggish issue\n",
    "\n",
    "Jason's code will not run in 3.6 so I switched kernels to 2.7. Reluctantly! Like to get everyhing in 3.6 soon.\n",
    "\n",
    "Note I did have to create a tmp dir prior to running this."
   ]
  },
  {
   "cell_type": "code",
   "execution_count": 14,
   "metadata": {},
   "outputs": [
    {
     "data": {
      "text/plain": [
       "'/Users/fickas/Dropbox/boyana/my_work/ideas-uo/code'"
      ]
     },
     "execution_count": 14,
     "metadata": {},
     "output_type": "execute_result"
    }
   ],
   "source": [
    "#move back to code dir\n",
    "\n",
    "os.chdir(repository_dir + '/code')\n",
    "os.getcwd()"
   ]
  },
  {
   "cell_type": "code",
   "execution_count": 15,
   "metadata": {
    "colab": {},
    "colab_type": "code",
    "id": "YIpCgM0OJsA0"
   },
   "outputs": [
    {
     "name": "stdout",
     "output_type": "stream",
     "text": [
      "Going to load repos...\n",
      "Cloning: https://github.com/spack/spack.git\n",
      "\n",
      "Cloning: https://github.com/lanl/LATTE.git\n",
      "\n",
      "Finished cloning repos.\n",
      "Checking: LATTE\n",
      "\n",
      "['cf192f6fd4209d7dc0759321451c30ccf5d51b02', '79d950d1f714c1358a018210f8f2603edef84520', 'b191c3c3fbfb699bded53435611d24f27fffcd2f', '8eb5f8188764116ec3a1690233cee51a5d636583']\n",
      "git checkout cf192f6fd4209d7dc0759321451c30ccf5d51b02\n",
      "\n",
      "git checkout 79d950d1f714c1358a018210f8f2603edef84520\n",
      "\n",
      "git checkout b191c3c3fbfb699bded53435611d24f27fffcd2f\n",
      "\n",
      "git checkout 8eb5f8188764116ec3a1690233cee51a5d636583\n",
      "\n",
      "15\n",
      "Christoph Junghans <junghans@votca.org>\n",
      "Christian Negre <cnegre@lanl.gov>\n",
      "Marc Cawkwell <cawkwell@lanl.gov>\n",
      "cawkwell <cawkwell@gransasso.lanl.gov>\n",
      "Christoph Junghans <junghans@lanl.gov>\n",
      "rperriot <rperriot@lanl.gov>\n",
      "Nestor F. Aguirre <nfaguirrec@gmail.com>\n",
      "Christoph Junghans <christoph.junghans@gmail.com>\n",
      "Axel Kohlmeyer <akohlmey@gmail.com>\n",
      "a1k12 <a1k2112@gmail.com>\n",
      "Chang Liu <chliu1990@users.noreply.github.com>\n",
      "Christian F. A. Negre <christianfannegre@gmail.com>\n",
      "Anders Niklasson <anders@gallium.lanl.gov>\n",
      "Christian Negre <cnegre@cori07-bond0.224>\n",
      "nfaguirrec <nestor@carbon.lanl.gov>\n",
      "Checking: spack\n",
      "\n",
      "['cc76c0f5f9f8021cfb7423a226bd431c00d791ce', '30d3b32085ab31c91ac45f2f14c5de07774823f7', '0a0291678e283bf154081df67b0a1f5c909d1d19', 'f5a49280c3b9063c6deb29307cd6356bf75cedd5', 'd32d5e45fb898835343a8aa8853708f60e14bd9f', 'c3b003e6984f15807fe8675d90eab19679566363', '8540d5390e70388625ee006562b450efa924113b']\n",
      "git checkout cc76c0f5f9f8021cfb7423a226bd431c00d791ce\n",
      "\n",
      "git checkout 30d3b32085ab31c91ac45f2f14c5de07774823f7\n",
      "\n",
      "git checkout 0a0291678e283bf154081df67b0a1f5c909d1d19\n",
      "\n",
      "git checkout f5a49280c3b9063c6deb29307cd6356bf75cedd5\n",
      "\n",
      "git checkout d32d5e45fb898835343a8aa8853708f60e14bd9f\n",
      "M\tlib/spack/env/cray/CC\n",
      "M\tlib/spack/env/craype/CC\n",
      "\n",
      "git checkout c3b003e6984f15807fe8675d90eab19679566363\n",
      "\n",
      "git checkout 8540d5390e70388625ee006562b450efa924113b\n",
      "\n",
      "465\n",
      "Ian Lee <IanLee1521@gmail.com>\n",
      "Gilles Fourestey <gilles.fourestey@epfl.ch>\n",
      "Michael Kuhn <suraia@ikkoku.de>\n",
      "Thomas Roehl <Thomas.Roehl@googlemail.com>\n",
      "Daryl W. Grunau <DarylGrunau@gmail.com>\n",
      "Ricardo Silva <ricardo.d.silva@gmail.com>\n",
      "Nicola Varini <nicola.varini@gmail.com>\n",
      "Kevin Brandstatter <kjbrandstatter@gmail.com>\n",
      "Feiyi Wang <fwang2@gmail.com>\n",
      "twang15 <twang15@ncsu.edu>\n",
      "Mayeul d'Avezac <m.davezac@ucl.ac.uk>\n",
      "Orion Poplawski <orion@cora.nwra.com>\n",
      "Federico Padua <padua@uni-mainz.de>\n",
      "g-mathias <40861554+g-mathias@users.noreply.github.com>\n",
      "Gregory L. Lee <lee218@surface86.llnl.gov>\n",
      "HAOCHENG LIU <30446009+HaochengLIU@users.noreply.github.com>\n",
      "Alan Williams <william@sandia.gov>\n",
      "lpoirel <lpoirel@users.noreply.github.com>\n",
      "Mark Olesen <Mark.Olesen@gmx.net>\n",
      "Gregory Becker <becker33.llnl.gov>\n",
      "Dan Han <danhan@iastate.edu>\n",
      "Jay <jaivanthshenoyu@gmail.com>\n",
      "Gregory L. Lee <lee218@llnl.gov>\n",
      "Ben Zwick <33216696+benzwick@users.noreply.github.com>\n",
      "Saravan Pantham <saravan.pantham@gmail.com>\n",
      "Cecilia W. Castillo <ceciliac@rzmerl162.llnl.gov>\n",
      "Mitchell Devlin <devlin@blogin4.lcrc.anl.gov>\n",
      "Simone Bnà <simone.bna@cineca.it>\n",
      "Peter Scheibel <scheibel1@llnl.gov>\n",
      "Dan Ibanez <ibaned@users.noreply.github.com>\n",
      "Andrey Prokopenko <aprokop@users.noreply.github.com>\n",
      "Jimmy Tang <jcftang@gmail.com>\n",
      "Mark C. Miller <markcmiller86@gmail.com>\n",
      "StackKorora <42156355+StackKorora@users.noreply.github.com>\n",
      "David Poliakoff <david.poliakoff@gmail.com>\n",
      "TomasPuverle <TomasPuverle@users.noreply.github.com>\n",
      "Cesare Cugnasco <cesare.cugnasco@gmail.com>\n",
      "Matteo Guglielmi <matteo.guglielmi@gmail.com>\n",
      "Jeffrey Salmond <js947@users.noreply.github.com>\n",
      "Peer-Timo Bremer <ptbremer@gmail.com>\n",
      "Aronnax, Miles V. [ISU/LAS] <rassilon@iastate.edu>\n",
      "Tyler Esser <tjesser@ucdavis.edu>\n",
      "estebanpauli <40901502+estebanpauli@users.noreply.github.com>\n",
      "Mark Meredith <mwm126@gmail.com>\n",
      "Marty McFadden <mcfadden8@llnl.gov>\n",
      "Mike Pozulp <mmpozulp@email.wm.edu>\n",
      "René Widera <r.widera@hzdr.de>\n",
      "Diana Bite <diana.bite@hotmail.com>\n",
      "Jean-Paul Pelteret <jppelteret@gmail.com>\n",
      "Brett Viren <bv@bnl.gov>\n",
      "Gary Klimowicz <gklimowicz@pobox.com>\n",
      "Cyrus Harrison <cyrush@llnl.gov>\n",
      "BenBrands <benjamin.brands@fau.de>\n",
      "Timo Heister <timo.heister@gmail.com>\n",
      "Jed Brown <jed@jedbrown.org>\n",
      "Raghu Raja <rajachan@users.noreply.github.com>\n",
      "Ross Miller <rgmiller@ornl.gov>\n",
      "Elsa Gonsiorowski, PhD <gonsie@me.com>\n",
      "Florent Pruvost <fpruvost@inria.fr>\n",
      "Stas Sergienko <ssergien@anl.gov>\n",
      "Nils Deppe <nd357@cornell.edu>\n",
      "Omar Awile <omar.awile@gmail.com>\n",
      "Tiziano Müller <tm@dev-zero.ch>\n",
      "Todd Gamblin <tgamblin@llnl.gov>\n",
      "David Lukes <dafydd.lukes@gmail.com>\n",
      "Axel Huebl <axel.huebl@plasma.ninja>\n",
      "Johann Klähn <github@web.jklaehn.de>\n",
      "Rasmus Wriedt Larsen <rasmuswriedtlarsen@gmail.com>\n",
      "Pieter Ghysels <pghysels@lbl.gov>\n",
      "Jon Rood <jrood@nrel.gov>\n",
      "Jia Li <lijia1608@gmail.com>\n",
      "Dave <dpgrote@lbl.gov>\n",
      "Louis Vernon <louis.vernon@gmail.com>\n",
      "Tim Stavenger <timothy.stavenger@pnnl.gov>\n",
      "Lynn Garren <lgarren@users.noreply.github.com>\n",
      " <kellyt@MENE.localdomain>\n",
      "EmreAtes <ates@bu.edu>\n",
      "Luigi Calori <l.calori@cineca.it>\n",
      "jiseung <anna.jiseung@gmail.com>\n",
      "Miles Perry <37849532+Miles-Perry@users.noreply.github.com>\n",
      "Barry Britt <barry.britt@gmail.com>\n",
      "Edoardo Aprà <edoardo.apra@gmail.com>\n",
      "Veronica G. Vergara Larrea <vergaravg@ornl.gov>\n",
      "eklee15 <eunkyung.lee@us.ibm.com>\n",
      "Gregory L. Lee <lee218@cab690.llnl.gov>\n",
      "Matthew Scott Krafczyk <krafczyk.matthew@gmail.com>\n",
      "Sergey Kosukhin <skosukhin@gmail.com>\n",
      "James Dickson <jdickson134@gmail.com>\n",
      "toffer93 <czachow@smail.uni-koeln.de>\n",
      "Brian Spilner <Try2Code@users.noreply.github.com>\n",
      "Dhanannjay Deo <dhanannjay.deo@kitware.com>\n",
      "Tzanio <tzanio@llnl.gov>\n",
      "Jungwon Kim <iarapre@gmail.com>\n",
      "anne-glerum <a.c.glerum@uu.nl>\n",
      "David Beckingsale <davidbeckingsale@gmail.com>\n",
      "Adam Moody <moody20@llnl.gov>\n",
      "Marty McFadden <mcfadden8@users.noreply.github.com>\n",
      "alcharal <alcharal@grid.auth.gr>\n",
      "Cody Balos <cjbalos@gmail.com>\n",
      "Brian Van Essen <vanessen1@llnl.gov>\n",
      "Dmitriy <dmitriy@mrzv.org>\n",
      "Keita Teranishi <knteran@sandia.gov>\n",
      "Robert.French <frenchrd@ornl.gov>\n",
      "Alicia Klinvex <amklinv@sandia.gov>\n",
      "Strahinja Trecakov <trecakov@nmsu.edu>\n",
      "Ben Boeckel <mathstuf@gmail.com>\n",
      "Gustavo Chávez <gchavez2@users.noreply.github.com>\n",
      "Alfredo Adolfo Gimenez <alfredo.gimenez@gmail.com>\n",
      "mwilliammyers <mwilliammyers@gmail.com>\n",
      "David Guibert <david.guibert@gmail.com>\n",
      "William Scullin <wscullin@gmail.com>\n",
      "Abhishek Kulkarni <adkulkar@indiana.edu>\n",
      "Hadrien G <knights_of_ni@gmx.com>\n",
      "Kelly (KT) Thompson <KineticTheory@users.noreply.github.com>\n",
      "James Riley Wynne III <wynnejr@ornl.gov>\n",
      "George Zagaris <george.zagaris@gmail.com>\n",
      "lingnanyuan <1297162327@qq.com>\n",
      "Gregory Becker <becker33@llnl.gov>\n",
      "Diana Bite <diana.bite@arm.com>\n",
      "nvarini <nicola.varini@gmail.com>\n",
      "Luc Jaulmes <jaulmes1@llnl.gov>\n",
      "Christoph Junghans <christoph.junghans@gmail.com>\n",
      "Nate Roberts <nate@nateroberts.com>\n",
      "Scott Pakin <pakin@lanl.gov>\n",
      "Mark W. Krentel <krentel@rice.edu>\n",
      "Geoffrey Oxberry <goxberry@gmail.com>\n",
      "Manav Bhatia <bhatiamanav@gmail.com>\n",
      "Mike Nolta <mike@nolta.net>\n",
      "Matthias Maiterth <matthias.maiterth@gmail.com>\n",
      "Elizabeth F <elizabeth.fischer@columbia.edu>\n",
      "Greg Becker <becker33@llnl.gov>\n",
      "Brian Homerding <homerdin@gmail.com>\n",
      "pkondamudi <pkondamudi@users.noreply.github.com>\n",
      "Omri Mor <omri50@gmail.com>\n",
      "robertdfrench <frenchrd@ornl.gov>\n",
      "las_thoma15 <las_thoma15@iastate.edu>\n",
      "nshtg <nshtg@users.noreply.github.com>\n",
      "Andrew Williams <williamsa89@cardiff.ac.uk>\n",
      "Ruben Di Battista <rubendibattista@users.noreply.github.com>\n",
      "Veselin Dobrev <dobrev@llnl.gov>\n",
      "Aidan San <muakasan@gmail.com>\n",
      "Chris Green <greenc@fnal.gov>\n",
      "Kenneth Hoste <kenneth.hoste@ugent.be>\n",
      "simo-tuomisto <simo-tuomisto@users.noreply.github.com>\n",
      "Reid Priedhorsky <1682574+reidpr@users.noreply.github.com>\n",
      "John Roberts <roberts.johneric@gmail.com>\n",
      "Torbjörn Lönnemark <tobbez@ryara.net>\n",
      "Thilina Rathnayake <thilinarmtb@users.noreply.github.com>\n",
      "Pramod Kumbhar <pramod.s.kumbhar@gmail.com>\n",
      "Yifan Zhu <ifanzhu@foxmail.com>\n",
      "Eloy Gil <eloy@eloygil.com>\n",
      "David Wells <drwells@email.unc.edu>\n",
      "Adam Fidel <ledif@users.noreply.github.com>\n",
      "Andrey Prokopenko <andrey.prok@gmail.com>\n",
      "AP97 <apispati@gmail.com>\n",
      "Justin Cook <jcook@cray.com>\n",
      "Choong Jun Jin <zepxhube@gmail.com>\n",
      "mmwolf <mmwolf@sandia.gov>\n",
      "Audrey Thoma <las_thoma15@iastate.edu>\n",
      "Tristan Carel <tristan.carel@gmail.com>\n",
      "amklinv <amklinv@sandia.gov>\n",
      "Jim Galarowicz <jeg@krellinst.org>\n",
      "Julien Adam <julien.adam.beulin@gmail.com>\n",
      "Dave <dpgrote@gmail.com>\n",
      "Tanzima Z. Islam <islam3@llnl.gov>\n",
      "Greg Lee <lee218@llnl.gov>\n",
      "Abhinav Bhatele <bhatele@gmail.com>\n",
      "Paul Hopkins <paul.hopkins@ligo.org>\n",
      "Praveen C <cpraveen@gmail.com>\n",
      "David Hows <howsdav@gmail.com>\n",
      "David Gardner <gardner48@llnl.gov>\n",
      "rvinaybharadwaj <vramakr1@uwyo.edu>\n",
      "Darach Golden <darachg@gmail.com>\n",
      "David Boehme <boehme3@llnl.gov>\n",
      "Dan FitzGerald <38731008+basicmanfitz@users.noreply.github.com>\n",
      "Michael Bentley <mikebentley15@gmail.com>\n",
      "James Clark <jameshclrk@users.noreply.github.com>\n",
      "Loikki <loikki@users.noreply.github.com>\n",
      "TZ <tz-rrze@users.noreply.github.com>\n",
      "Simon Thompson <S.J.Thompson@bham.ac.uk>\n",
      "Sheng Di <disheng222@gmail.com>\n",
      "Luigi Calori <luigi.calori@gmail.com>\n",
      "Oliver Pola <5pola@informatik.uni-hamburg.de>\n",
      "Jordan Moxon <32072858+moxcodes@users.noreply.github.com>\n",
      "jppelteret <jppelteret@gmail.com>\n",
      "Denis Davydov <davydden@gmail.com>\n",
      "Josh Asplund <joshuata@users.noreply.github.com>\n",
      "Robert Pavel <rspavel@gmail.com>\n",
      "Francesco Di Natale <frank.dinatale1988@gmail.com>\n",
      "Piotr Luszczek <luszczek@icl.utk.edu>\n",
      "Tom Scogland <tom.scogland@gmail.com>\n",
      "Prasanna Balaprakash <pbalapra@mcs.anl.gov>\n",
      "Tim Fuller <tjfulle@sandia.gov>\n",
      "Nasr S. Hassanein <nasr.s.hassan@gmail.com>\n",
      "Thomas Stitt <tomstit@gmail.com>\n",
      "Mitchell Devlin <mitchell.r.devlin@gmail.com>\n",
      "DDevHan <danhan@iastate.edu>\n",
      "Mark C. Miller <miller86@llnl.gov>\n",
      "Ondřej Čertík <ondrej@certik.us>\n",
      "Matthias Wolf <m+git@sushinara.net>\n",
      "f-sim <f-sim@users.noreply.github.com>\n",
      "dorier <dorier@users.noreply.github.com>\n",
      "Benjamin Walters <bwalter4@hawk.iit.edu>\n",
      "Yan Grange <ygrange@users.noreply.github.com>\n",
      "Gilberto Martinez Jr <gill_martinez@hotmail.com>\n",
      "Justin Stanley <molecuul@users.noreply.github.com>\n",
      "Matthias Diener <mdiener@illinois.edu>\n",
      "Ben Couturier <ben.couturier@cern.ch>\n",
      "Ivo Jimenez <ivo.jimenez@gmail.com>\n",
      "homerdin <homerdin@gmail.com>\n",
      "Loic Hausammann <loikki@users.noreply.github.com>\n",
      "Edward Kim <kim.edwardj@gmail.com>\n",
      "Stephen Herbein <stephen272@gmail.com>\n",
      "Patrick Gartung <gartung@fnal.gov>\n",
      "Mark Olesen <Mark.Olesen@esi-group.com>\n",
      "Tim Law <timrlaw@gmail.com>\n",
      "Ken Raffenetti <raffenet@users.noreply.github.com>\n",
      "Timothy Brown <t-brown@users.noreply.github.com>\n",
      "thelfer <thomas.helfer@cea.fr>\n",
      "Jordan Ogas <jogas@lanl.gov>\n",
      "Robert D. French <robert@robertdfrench.me>\n",
      "John Westlund <john.a.westlund@intel.com>\n",
      "jthies <jonas.thies@dlr.de>\n",
      "David Poliakoff <poliakoff1@llnl.gov>\n",
      "christianbaensch <christian.baensch@fau.de>\n",
      "Valentin Clement (バレンタイン クレメン) <clementval@gmail.com>\n",
      "Matthew LeGendre <legendre1@llnl.gov>\n",
      "Glenn Johnson <gjohnson@argon-ohpc.hpc.uiowa.edu>\n",
      "Roberto Villegas-Díaz <villegar@users.noreply.github.com>\n",
      "Federico Ficarelli <federico.ficarelli@gmail.com>\n",
      "Owen Solberg <odoublewen@users.noreply.github.com>\n",
      "Lukasz <lukasz.kaczmarczyk@glasgow.ac.uk>\n",
      "Mike DePaulo <mikedep333@users.noreply.github.com>\n",
      "gmatteo <gmatteo@gmail.com>\n",
      "Vishal Boddu <vishal.boddu@fau.de>\n",
      "Robert Maynard <robert.maynard@kitware.com>\n",
      "Carlos Bederián <zzzoom@gmail.com>\n",
      "Miroslav Stoyanov <30537612+mkstoyanov@users.noreply.github.com>\n",
      "Carlos Bederián <bc@famaf.unc.edu.ar>\n",
      "stefanosoffia <stefanosoffia@users.noreply.github.com>\n",
      "Matthias Vogelgesang <matthias.vogelgesang@gmail.com>\n",
      "Massimiliano Culpo <massimiliano.culpo@gmail.com>\n",
      "David Böhme <boehme3@llnl.gov>\n",
      "Kevin Huck <khuck@cs.uoregon.edu>\n",
      "Elsa Gonsiorowski <gonsie@me.com>\n",
      "Paul Dapolito <pdapolito@hmc.edu>\n",
      "Piotr Luszczek <luszczek@eecs.utk.edu>\n",
      "Greg Sjaardema <gsjaardema@gmail.com>\n",
      "Oliver Breitwieser <oliver.breitwieser@kip.uni-heidelberg.de>\n",
      "Adam Lyon <lyon@fnal.gov>\n",
      "Douglas Duckworth <quackmaster@protonmail.com>\n",
      "David Wootton <38671868+dwootton-ny@users.noreply.github.com>\n",
      "Kim Serradell <kserradell@yahoo.com>\n",
      "Andrea Negri <andrea.negri@gmail.com>\n",
      "Adam J. Stewart <ajstewart426@gmail.com>\n",
      "Takayuki Kobayashi <27466252+irisTa56@users.noreply.github.com>\n",
      "Mark Berrill <mberrill@gmail.com>\n",
      "Ben Boeckel <ben.boeckel@kitware.com>\n",
      "Mario Melara <mamelara@genepool1.nersc.gov>\n",
      "Mayeul d'Avezac <mdavezac@gmail.com>\n",
      "Andrew Williams <andrew@alshain.org.uk>\n",
      "Ali Dorostkar <ashkan.dorostkar@gmail.com>\n",
      "Michael Kuron <mkuron@users.noreply.github.com>\n",
      "健美猫 <weijianwen@gmail.com>\n",
      "Tom Merrick <thomas.merrick@tamucc.edu>\n",
      "Nicolas Richart <nicolas.richart@epfl.ch>\n",
      "kothah <kothah@users.noreply.github.com>\n",
      "George Todd Gamblin <gamblin2@llnl.gov>\n",
      "Robert Blake <blake14@llnl.gov>\n",
      "Bob Robey <brobey@lanl.gov>\n",
      "Joschka Lingemann <jlingema@users.noreply.github.com>\n",
      "John Finigan <johnwfinigan@gmail.com>\n",
      "Rob Latham <rlatham@gmail.com>\n",
      "Abhinav Bhatele <bhatele@llnl.gov>\n",
      "Michael F. Herbst <info@michael-herbst.com>\n",
      "Lars Bilke <lars.bilke@ufz.de>\n",
      "Besnard Jean-Baptiste <jbbesnard@paratools.fr>\n",
      "Bill Williams <wwilliam47@gmail.com>\n",
      "Kelly T. Kirk <kelly.t.kirk@us.army.mil>\n",
      "Philip Davis <philip-davis@users.noreply.github.com>\n",
      "Akhil Reddy Patlolla <patlolla.akhil@gmail.com>\n",
      "Omar Padron <omar.padron@kitware.com>\n",
      "Peter J. Scheibel <scheibel1@llnl.gov>\n",
      "Aaron Fisher <fisher47@llnl.gov>\n",
      "Holly <31740953+hauten@users.noreply.github.com>\n",
      "Leonhard Reichenbach <Zehvogel@users.noreply.github.com>\n",
      "Barry Smith <bsmith@mcs.anl.gov>\n",
      "Serban Maerean <serban@us.ibm.com>\n",
      "futuretristan <tristan.schloegl@fau.de>\n",
      "Erik Schnetter <schnetter@gmail.com>\n",
      "serbanmaerean <serban@us.ibm.com>\n",
      "Cameron Smith <cwsmith@users.noreply.github.com>\n",
      "Peter Josef Scheibel <scheibel1@llnl.gov>\n",
      "James Wynne III <wynnejr@gpujake.com>\n",
      "Matthew Thompson <fortran@gmail.com>\n",
      "Phil Tooley <32297355+ptooley@users.noreply.github.com>\n",
      "Tzanio Kolev <tzanio@llnl.gov>\n",
      "Matt Belhorn <matt.belhorn@gmail.com>\n",
      "zenln <alen.kansakar@gmail.com>\n",
      "Chris MacMackin <cmacmackin@gmail.com>\n",
      "Geoffrey Malcolm Oxberry <goxberry@gmail.com>\n",
      "Matthias Diener <matthias.diener@gmail.com>\n",
      "Benedikt Riedel <benedikt.riedel@gmail.com>\n",
      "Geoff Womeldorff <womeld@lanl.gov>\n",
      "kansakar <kansakar@build.las.iastate.edu>\n",
      "Kelly (KT) Thompson <kgt@lanl.gov>\n",
      "Mayeul d'Avezac <m.davezac@imperial.ac.uk>\n",
      "Michael Sternberg <sternberg@anl.gov>\n",
      "Glenn Johnson <glenn-johnson@uiowa.edu>\n",
      "carns <carns@users.noreply.github.com>\n",
      "David Pérez-Suárez <dps.helio@gmail.com>\n",
      "Sajid Ali <30510036+s-sajid-ali@users.noreply.github.com>\n",
      "hegner <benedikt.hegner@cern.ch>\n",
      "Mario Melara <maamelara@gmail.com>\n",
      "Tom Scogland <tscogland@llnl.gov>\n",
      "Tru Huynh <tru+github@pasteur.fr>\n",
      "David Boehme <boehme3@sierra648.llnl.gov>\n",
      "Peter Doak <PDoakORNL@users.noreply.github.com>\n",
      "Brock Palen <brockp@umich.edu>\n",
      "Jannek Squar <squar@informatik.uni-hamburg.de>\n",
      "Andrew Gaspar <andrew.gaspar@outlook.com>\n",
      "Sasha Nícolas <sasha@cs.wisc.edu>\n",
      "Will Furnass <will@thearete.co.uk>\n",
      "Eric <muffgaga@gmx.de>\n",
      "becker33 <becker33@llnl.gov>\n",
      "Nicholas Labello <nicholas.labello@pfizer.com>\n",
      "Oliver Breitwieser <oliver.breitwieser@gmail.com>\n",
      "Benedikt Hegner <hegner@cern.ch>\n",
      "Bruno Turcksin <bruno.turcksin@gmail.com>\n",
      "Nick Forrington <nick.forrington@gmail.com>\n",
      "Stephen Herbein <SteVwonder@users.noreply.github.com>\n",
      "Matthew Krafczyk <krafczyk.matthew@gmail.com>\n",
      "Stephen Hudson <shuds13@gmail.com>\n",
      "jkelling <j.kelling@hzdr.de>\n",
      "Nick Forrington <nick.forrington@arm.com>\n",
      "Seth R. Johnson <johnsonsr@ornl.gov>\n",
      "Phil Carns <carns@mcs.anl.gov>\n",
      "Alen Kansakar <alen.kansakar@gmail.com>\n",
      "Geoffrey Lentner <glentner@purdue.edu>\n",
      "healther <healther@users.noreply.github.com>\n",
      "Javier Cervantes <javiercvilla@gmail.com>\n",
      "alalazo <massimiliano.culpo@googlemail.com>\n",
      "Robert Cimrman <cimrman3@ntc.zcu.cz>\n",
      "Josh Deaton <jdeaton@users.noreply.github.com>\n",
      "Massimiliano Culpo <massimiliano.culpo@googlemail.com>\n",
      "Gregory Lee <lee218@llnl.gov>\n",
      "Glen Hansen <gahanse@sandia.gov>\n",
      "Dhanannjay 'Djay' Deo <dhanannjay.deo@kitware.com>\n",
      "Eric Müller <mueller@kip.uni-heidelberg.de>\n",
      "Andrew Holler <aholler2@illinois.edu>\n",
      "Oliver Breitwieser <oliver@breitwieser.eu>\n",
      "Chien-Chang Feng <jasonfenglu@users.noreply.github.com>\n",
      "Stephen McDowell <svenevs@users.noreply.github.com>\n",
      "Gregory L. Lee <lee218@catalyst159.llnl.gov>\n",
      "Cameron Stanavige <cameronstanavige@gmail.com>\n",
      "Chuck Atkins <chuck.atkins@kitware.com>\n",
      "Neil Flood <neilflood@fastmail.fm>\n",
      "Nicolas Richart <nrichart@users.noreply.github.com>\n",
      "paulhopkins <paulhopkins@users.noreply.github.com>\n",
      "Sam Bateman <samuel.bateman@gmail.com>\n",
      "Matt Belhorn <belhornmp@ornl.gov>\n",
      "jadoro <jadoro@users.noreply.github.com>\n",
      "Bert Wesarg <Bert.Wesarg@googlemail.com>\n",
      "peetsv <32349688+peetsv@users.noreply.github.com>\n",
      "Micheal Quinn <quinnm@missouri.edu>\n",
      "Glenn Johnson <glennpj@gmail.com>\n",
      "Thierry <trfmchl@gmail.com>\n",
      "Rajeev Jain <rajeeja@gmail.com>\n",
      "Robert D. French <frenchrd@ornl.gov>\n",
      "Eric <erimar77@users.noreply.github.com>\n",
      "Stephen Herbein <sherbein@udel.edu>\n",
      "Dan FitzGerald <38731008+djfitzgerald@users.noreply.github.com>\n",
      "Brice Goglin <bgoglin@free.fr>\n",
      "Kelly Thompson <KineticTheory@users.noreply.github.com>\n",
      "Veselin Dobrev <v-dobrev@users.noreply.github.com>\n",
      "ynanyam <31993194+ynanyam@users.noreply.github.com>\n",
      "snehring <snehring@users.noreply.github.com>\n",
      "Kshitij Mehta <kshitij-v-mehta@users.noreply.github.com>\n",
      "rice31 <42845593+rice31@users.noreply.github.com>\n",
      "Max Katz <maxpkatz@gmail.com>\n",
      "mic84 <mrosso@lbl.gov>\n",
      "junkudo <junkudo18@gmail.com>\n",
      "Isuru Fernando <isuru.11@cse.mrt.ac.lk>\n",
      "Elizabeth F <rpf2116@columbia.edu>\n",
      "Daniel Topa <dantopa@lanl.gov>\n",
      "vishalkenchan <vishalkenchan@users.noreply.github.com>\n",
      "fpruvost <florent.pruvost@inria.fr>\n",
      "Charles A. Reynolds <reynolds12@llnl.gov>\n",
      "Todd Gamblin <gamblin2@llnl.gov>\n",
      "Jeff Squyres <jsquyres@cisco.com>\n",
      "Elizabeth Fischer <rpf2116@columbia.edu>\n",
      "Sinan <sbulutw@gmail.com>\n",
      "Luca Heltai <luca.heltai@sissa.it>\n",
      "Howard Pritchard <hppritcha@gmail.com>\n",
      "Tin Huynh <tinlun123@gmail.com>\n",
      "xfzhao <xfzhao@iastate.edu>\n",
      "Tom Payerle <payerle@umd.edu>\n",
      "Ben Boeckel <mathstuf@users.noreply.github.com>\n",
      "Paul Chelarescu <paulchelarescu@gmail.com>\n",
      "Ce Qin <qince168@gmail.com>\n",
      "Kyle Fernandes, né Jacobs <kylefernandes@users.noreply.github.com>\n",
      "iulian787 <iulian787@users.noreply.github.com>\n",
      "Hans Pabst <hfp@users.noreply.github.com>\n",
      "Alfredo Gimenez <alfredo.gimenez@gmail.com>\n",
      "Milton Woods <miltonjwoods@gmail.com>\n",
      "David Orman <orman@iastate.edu>\n",
      "Javier <javiercvilla@gmail.com>\n",
      "sknigh <sknigh@sandia.gov>\n",
      "John Wohlbier <wohlbier@users.noreply.github.com>\n",
      "Sam Gutiérrez <samuelkgutierrez@users.noreply.github.com>\n",
      "Jason Sarich <sarich@mcs.anl.gov>\n",
      "Justin M Wozniak <wozniak@mcs.anl.gov>\n",
      "thecorkscrew <thecorkscrew@users.noreply.github.com>\n",
      "Massimiliano Culpo <massimiliano.culpo@epfl.ch>\n",
      "Jim Eliot <benjaminjeliot@gmail.com>\n",
      "cedricchevalier19 <cedric.chevalier@cea.fr>\n",
      "Levi Baber <baberlevi@gmail.com>\n",
      "Pramod S Kumbhar <pramod.r.s.kumbhar@gmail.com>\n",
      "rvinaybharadwaj <vinayr@lanl.gov>\n",
      "Justin Too <justin@doubleotoo.com>\n",
      "Alastair Harrison <aharrison24@gmail.com>\n",
      "Chris Hadjigeorgiou <ch741@cam.ac.uk>\n",
      "George Hartzell <hartzell@alerce.com>\n",
      "Bryce Allen <oss@bda.ath.cx>\n",
      "Geoffrey Oxberry <oxberry1@llnl.gov>\n",
      "Elizabeth Fischer <elizabeth.fischer@columbia.edu>\n",
      "Alberto Chiusole <bebosudo@users.noreply.github.com>\n",
      "Scott Wittenburg <scott.wittenburg@kitware.com>\n",
      "Mark Grondona <mark.grondona@gmail.com>\n",
      "Jonathan Wong <jonwong12@users.noreply.github.com>\n",
      "karenyyng <karen.yyng@gmail.com>\n",
      "danielsjensen1 <danielsjensen1@gmail.com>\n",
      "Nichols A. Romero <naromero77@users.noreply.github.com>\n",
      "David Boehme <boehme3@sierra324.llnl.gov>\n",
      "Josh Sixsmith <josh.sixsmith@gmail.com>\n",
      "Jon Rood <jon.rood@nrel.gov>\n",
      "Simon Flood <simonflood@users.noreply.github.com>\n",
      "Gregory L. Lee <lee218@cab687.llnl.gov>\n",
      "jwallior <jwallior@users.noreply.github.com>\n",
      "Kevin Brandstatter <kbrandst@hawk.iit.edu>\n",
      "Ben Morgan <Ben.Morgan@warwick.ac.uk>\n",
      "citibeth <rpf2116@columbia.edu>\n",
      "mcneish1 <35310375+mcneish1@users.noreply.github.com>\n",
      "Joseph Ciurej <ciurej1@llnl.gov>\n",
      "Suzanne Parete-Koon <paretekoonst@ornl.gov>\n",
      "Benedikt Hegner <benedikt.hegner@cern.ch>\n",
      "Andreas Baumbach <healther@users.noreply.github.com>\n",
      "Zack Galbreath <zack.galbreath@kitware.com>\n",
      "scheibelp <scheibel1@llnl.gov>\n",
      "William Killian <william.killian@gmail.com>\n",
      "Tom Scogland <scogland1@llnl.gov>\n",
      "Samuel Fux <samuel.fux@id.ethz.ch>\n",
      "健美猞猁 <weijianwen@gmail.com>\n",
      "Satish Balay <balay@mcs.anl.gov>\n",
      "Brett Viren <brett.viren@gmail.com>\n",
      "baip <baip@users.noreply.github.com>\n",
      "koebbe <koebbe@users.noreply.github.com>\n",
      "Paschalis Korosoglou <pkoro@grid.auth.gr>\n",
      "David Shrader <dshrader@lanl.gov>\n",
      "Quinn <micheal.quinn85@gmail.com>\n",
      "Alfredo Gimenez <gimenez1@llnl.gov>\n",
      "Corey McNeish <35310375+mcneish1@users.noreply.github.com>\n",
      "Jack Morrison <32687739+jack-morrison@users.noreply.github.com>\n",
      "Jonas Lippuner <jlippuner@lanl.gov>\n",
      "Henrik Bengtsson <hb@aroma-project.org>\n"
     ]
    }
   ],
   "source": [
    "#Thanks to Jason for this code\n",
    "\n",
    "def checkoutSubrepos(repos,tdir):\n",
    "    #currdir = os.getcwd()\n",
    "    for repopath in repos.keys():\n",
    "        if repopath == tdir: continue\n",
    "        retcode, out, err = Command.Command('git checkout %s%s' % repos[repopath]).run(dryrun=dry_run)\n",
    "    return\n",
    "\n",
    "\n",
    "if __name__ == \"__main__\":\n",
    "    \n",
    "    print('Going to load repos...')\n",
    "\n",
    "    #Load the list of repos to clone from the following file\n",
    "    urls = open(os.path.join('.','URL.txt'),'r').readlines()\n",
    "\n",
    "    #Move to the tmp directory that will hold the repos\n",
    "    currdir = os.getcwd()\n",
    "    tmpdir = os.path.join(currdir,'tmp')  #sff: fails if does not already exist\n",
    "    #os.chdir(tmpdir)\n",
    "\n",
    "    commander = GitCommand.GitCommand(tmpdir)\n",
    "\n",
    "    #Download each repo\n",
    "    for url in urls:\n",
    "        print('Cloning: ' + url)\n",
    "        commander.cloneRepo(url)\n",
    "\n",
    "    print('Finished cloning repos.')\n",
    "\n",
    "    outfile = open('../stats.csv','w')\n",
    "    outfile.write('Date' + ',' + ','.join(categories.keys()) + ',' + 'Other' + '\\n')\n",
    "\n",
    "    #Setup DB connection, this will probably change soon.\n",
    "    #mydb = mysql.connector.connect(host=\"localhost\", port=\"3307\", user=\"pythondb\", passwd=\"********\", database=\"gitstats\")\n",
    "    #print(mydb)\n",
    "    #mycursor = mydb.cursor()\n",
    "    #sql = \"INSERT INTO stats (reponame, stats) VALUES(%s, %s)\"\n",
    "\n",
    "    #Now run commands on the repos\n",
    "    for repo in os.listdir('.'):\n",
    "\n",
    "        print('Checking: ' + repo)\n",
    "        prefix,versions = commander.getRepoVersions(repo)\n",
    "        print(prefix)\n",
    "        print(versions)\n",
    "\n",
    "        #Gets all the commit data in a dictionary format {authorname:{'total_commits':0, 'commits':{'date':'', 'message':'', 'diffs':{'filename':'', 'diff':''}}}}\n",
    "        commits = commander.getRepoCommitData(repo)\n",
    "\n",
    "        print(len(commits))\n",
    "        for key,values in commits.items():\n",
    "            print(key)\n",
    "            #print(values)\n",
    "\n",
    "        \"\"\" stats = getStats('.',repo)\n",
    "        ts = repo + ', ' + out.strip().split('-')[0] \n",
    "        buf = ts\n",
    "        for i in range(0,len(category_names)): \n",
    "            buf += ', %d' % stats[category_names[i]]\n",
    "            linecounts[i].append(stats[category_names[i]]*0.001)\n",
    "        outfile.write(buf+'\\n')\n",
    "        #years.append(int(ts))\n",
    "        print(stats)\n",
    "        \n",
    "        val = (repo, buf)\"\"\"\n",
    "        #mycursor.execute(sql,val)\n",
    "        #mydb.commit()\n",
    "\n",
    "    outfile.close()\n",
    "\n",
    "\n"
   ]
  },
  {
   "cell_type": "markdown",
   "metadata": {},
   "source": [
    "## Let's see what we have"
   ]
  },
  {
   "cell_type": "code",
   "execution_count": 16,
   "metadata": {},
   "outputs": [
    {
     "data": {
      "text/plain": [
       "465"
      ]
     },
     "execution_count": 16,
     "metadata": {},
     "output_type": "execute_result"
    }
   ],
   "source": [
    "len(commits)  #50 separate people doing commits on the project"
   ]
  },
  {
   "cell_type": "code",
   "execution_count": 18,
   "metadata": {},
   "outputs": [
    {
     "data": {
      "text/plain": [
       "dict"
      ]
     },
     "execution_count": 18,
     "metadata": {},
     "output_type": "execute_result"
    }
   ],
   "source": [
    "type(commits)"
   ]
  },
  {
   "cell_type": "code",
   "execution_count": 19,
   "metadata": {},
   "outputs": [],
   "source": [
    "tups = commits.items()  #get it in form easier to see"
   ]
  },
  {
   "cell_type": "code",
   "execution_count": 20,
   "metadata": {},
   "outputs": [
    {
     "data": {
      "text/plain": [
       "('Ian Lee <IanLee1521@gmail.com>',\n",
       " {'commits': [{'date': 'Tue Sep 6 14:52:44 2016 -0700',\n",
       "    'diffs': [{'diff': ' ',\n",
       "      'filename': ',7 +20,7 @@ written in pure Python, and specs allow package authors to write a'}],\n",
       "    'message': '    Fixed broken link in README (#1733)\\n'},\n",
       "   {'date': 'Tue Sep 6 14:52:44 2016 -0700',\n",
       "    'diffs': [{'diff': ' ',\n",
       "      'filename': ',7 +20,7 @@ written in pure Python, and specs allow package authors to write a'}],\n",
       "    'message': '    Fixed broken link in README (#1733)\\n'},\n",
       "   {'date': 'Thu Jun 28 13:32:43 2018 -0700',\n",
       "    'diffs': [{'diff': ' ',\n",
       "      'filename': ',7 +31,8 @@ class Nmap(AutotoolsPackage):'}],\n",
       "    'message': '    Added nmap version 7.70 (#8606)\\n'},\n",
       "   {'date': 'Tue Sep 6 14:52:44 2016 -0700',\n",
       "    'diffs': [{'diff': ' ',\n",
       "      'filename': ',7 +20,7 @@ written in pure Python, and specs allow package authors to write a'}],\n",
       "    'message': '    Fixed broken link in README (#1733)\\n'}],\n",
       "  'total_commits': 4})"
      ]
     },
     "execution_count": 20,
     "metadata": {},
     "output_type": "execute_result"
    }
   ],
   "source": [
    "tups[0]"
   ]
  },
  {
   "cell_type": "code",
   "execution_count": null,
   "metadata": {},
   "outputs": [],
   "source": [
    "x = tups[1]\n",
    "x"
   ]
  },
  {
   "cell_type": "code",
   "execution_count": null,
   "metadata": {},
   "outputs": [],
   "source": [
    "x[1]['commits']"
   ]
  },
  {
   "cell_type": "markdown",
   "metadata": {},
   "source": [
    "I am going to reformat the data. Currently the key is user and the value is a nested structure that includes all the commits for that person. I want to invert this. I'd like a list of commits, where each commit has info including person."
   ]
  },
  {
   "cell_type": "markdown",
   "metadata": {},
   "source": [
    "Note Python is a mess when it comes to time zones. What is supposed to work, %z, does not. See discussion here: https://stackoverflow.com/questions/3305413/python-strptime-and-timezones.\n",
    "\n",
    "In particular, these fail when include UTC: '%a %b %m %X %y %z' and '%c %z'.\n",
    "\n",
    "I am resorting to a utility package."
   ]
  },
  {
   "cell_type": "code",
   "execution_count": 21,
   "metadata": {},
   "outputs": [
    {
     "data": {
      "text/plain": [
       "datetime.datetime(2016, 8, 2, 14, 58, 31, tzinfo=tzoffset(None, 7200))"
      ]
     },
     "execution_count": 21,
     "metadata": {},
     "output_type": "execute_result"
    }
   ],
   "source": [
    "import datetime\n",
    "from dateutil import parser\n",
    "parser.parse(\"Tue Aug 2 14:58:31 2016 +0200\")  #+0200 hours => 7200 seconds"
   ]
  },
  {
   "cell_type": "code",
   "execution_count": 22,
   "metadata": {},
   "outputs": [],
   "source": [
    "all_commits = []\n",
    "for entry in tups:\n",
    "    name = entry[0]                               #'Gilles Fourestey <gilles.fourestey@epfl.ch>'\n",
    "    commit_list = entry[1]['commits']\n",
    "    for a_commit in commit_list:\n",
    "        date = parser.parse(a_commit['date'])         #\"Tue Aug 2 14:58:31 2016 +0200\"\n",
    "        files = []\n",
    "        diffs = a_commit['diffs']\n",
    "        for diff_dict in diffs:\n",
    "            filename = diff_dict['filename']          #'var/spack/repos/builtin/packages/plumed/package.py'\n",
    "            files.append(filename)\n",
    "        message = a_commit['message']             #'Fixed broken link in README (#1733)\\n'\n",
    "        new_dict = {'date': date, 'files': files, 'message': message, 'person': name}\n",
    "        all_commits.append(new_dict)\n",
    "        \n",
    "    "
   ]
  },
  {
   "cell_type": "code",
   "execution_count": 23,
   "metadata": {},
   "outputs": [
    {
     "data": {
      "text/plain": [
       "23059"
      ]
     },
     "execution_count": 23,
     "metadata": {},
     "output_type": "execute_result"
    }
   ],
   "source": [
    "len(all_commits) #2756 commits spread over roughly 3 years"
   ]
  },
  {
   "cell_type": "code",
   "execution_count": 24,
   "metadata": {},
   "outputs": [
    {
     "data": {
      "text/plain": [
       "{'date': datetime.datetime(2016, 9, 6, 14, 52, 44, tzinfo=tzoffset(None, -25200)),\n",
       " 'files': [',7 +20,7 @@ written in pure Python, and specs allow package authors to write a'],\n",
       " 'message': '    Fixed broken link in README (#1733)\\n',\n",
       " 'person': 'Ian Lee <IanLee1521@gmail.com>'}"
      ]
     },
     "execution_count": 24,
     "metadata": {},
     "output_type": "execute_result"
    }
   ],
   "source": [
    "all_commits[0]"
   ]
  },
  {
   "cell_type": "markdown",
   "metadata": {},
   "source": [
    "Looks ok to me. Now converting to pandas dataframe is easy peasy."
   ]
  },
  {
   "cell_type": "code",
   "execution_count": 25,
   "metadata": {},
   "outputs": [],
   "source": [
    "import pandas as pd"
   ]
  },
  {
   "cell_type": "code",
   "execution_count": 26,
   "metadata": {},
   "outputs": [],
   "source": [
    "df_commits = pd.DataFrame(all_commits)  #gotta love pandas"
   ]
  },
  {
   "cell_type": "code",
   "execution_count": 27,
   "metadata": {},
   "outputs": [
    {
     "data": {
      "text/html": [
       "<div>\n",
       "<style>\n",
       "    .dataframe thead tr:only-child th {\n",
       "        text-align: right;\n",
       "    }\n",
       "\n",
       "    .dataframe thead th {\n",
       "        text-align: left;\n",
       "    }\n",
       "\n",
       "    .dataframe tbody tr th {\n",
       "        vertical-align: top;\n",
       "    }\n",
       "</style>\n",
       "<table border=\"1\" class=\"dataframe\">\n",
       "  <thead>\n",
       "    <tr style=\"text-align: right;\">\n",
       "      <th></th>\n",
       "      <th>date</th>\n",
       "      <th>files</th>\n",
       "      <th>message</th>\n",
       "      <th>person</th>\n",
       "    </tr>\n",
       "  </thead>\n",
       "  <tbody>\n",
       "    <tr>\n",
       "      <th>0</th>\n",
       "      <td>2016-09-06 14:52:44-07:00</td>\n",
       "      <td>[,7 +20,7 @@ written in pure Python, and specs...</td>\n",
       "      <td>Fixed broken link in README (#1733)\\n</td>\n",
       "      <td>Ian Lee &lt;IanLee1521@gmail.com&gt;</td>\n",
       "    </tr>\n",
       "    <tr>\n",
       "      <th>1</th>\n",
       "      <td>2016-09-06 14:52:44-07:00</td>\n",
       "      <td>[,7 +20,7 @@ written in pure Python, and specs...</td>\n",
       "      <td>Fixed broken link in README (#1733)\\n</td>\n",
       "      <td>Ian Lee &lt;IanLee1521@gmail.com&gt;</td>\n",
       "    </tr>\n",
       "    <tr>\n",
       "      <th>2</th>\n",
       "      <td>2018-06-28 13:32:43-07:00</td>\n",
       "      <td>[,7 +31,8 @@ class Nmap(AutotoolsPackage):]</td>\n",
       "      <td>Added nmap version 7.70 (#8606)\\n</td>\n",
       "      <td>Ian Lee &lt;IanLee1521@gmail.com&gt;</td>\n",
       "    </tr>\n",
       "    <tr>\n",
       "      <th>3</th>\n",
       "      <td>2016-09-06 14:52:44-07:00</td>\n",
       "      <td>[,7 +20,7 @@ written in pure Python, and specs...</td>\n",
       "      <td>Fixed broken link in README (#1733)\\n</td>\n",
       "      <td>Ian Lee &lt;IanLee1521@gmail.com&gt;</td>\n",
       "    </tr>\n",
       "    <tr>\n",
       "      <th>4</th>\n",
       "      <td>2016-08-02 14:58:31+02:00</td>\n",
       "      <td>[var/spack/repos/builtin/packages/plumed/packa...</td>\n",
       "      <td>added plumed\\n    \\n    * plumed : first v...</td>\n",
       "      <td>Gilles Fourestey &lt;gilles.fourestey@epfl.ch&gt;</td>\n",
       "    </tr>\n",
       "  </tbody>\n",
       "</table>\n",
       "</div>"
      ],
      "text/plain": [
       "                        date  \\\n",
       "0  2016-09-06 14:52:44-07:00   \n",
       "1  2016-09-06 14:52:44-07:00   \n",
       "2  2018-06-28 13:32:43-07:00   \n",
       "3  2016-09-06 14:52:44-07:00   \n",
       "4  2016-08-02 14:58:31+02:00   \n",
       "\n",
       "                                               files  \\\n",
       "0  [,7 +20,7 @@ written in pure Python, and specs...   \n",
       "1  [,7 +20,7 @@ written in pure Python, and specs...   \n",
       "2        [,7 +31,8 @@ class Nmap(AutotoolsPackage):]   \n",
       "3  [,7 +20,7 @@ written in pure Python, and specs...   \n",
       "4  [var/spack/repos/builtin/packages/plumed/packa...   \n",
       "\n",
       "                                             message  \\\n",
       "0              Fixed broken link in README (#1733)\\n   \n",
       "1              Fixed broken link in README (#1733)\\n   \n",
       "2                  Added nmap version 7.70 (#8606)\\n   \n",
       "3              Fixed broken link in README (#1733)\\n   \n",
       "4      added plumed\\n    \\n    * plumed : first v...   \n",
       "\n",
       "                                        person  \n",
       "0               Ian Lee <IanLee1521@gmail.com>  \n",
       "1               Ian Lee <IanLee1521@gmail.com>  \n",
       "2               Ian Lee <IanLee1521@gmail.com>  \n",
       "3               Ian Lee <IanLee1521@gmail.com>  \n",
       "4  Gilles Fourestey <gilles.fourestey@epfl.ch>  "
      ]
     },
     "execution_count": 27,
     "metadata": {},
     "output_type": "execute_result"
    }
   ],
   "source": [
    "df_commits.head()"
   ]
  },
  {
   "cell_type": "code",
   "execution_count": null,
   "metadata": {},
   "outputs": [],
   "source": [
    "#df_sorted = df_commits.sort('date')  #this fails in 2.7"
   ]
  },
  {
   "cell_type": "code",
   "execution_count": 28,
   "metadata": {},
   "outputs": [],
   "source": [
    "df_sorted = df_commits.sort_values(by='date')\n",
    "df_sorted = df_sorted.reset_index(drop=True)"
   ]
  },
  {
   "cell_type": "code",
   "execution_count": 29,
   "metadata": {},
   "outputs": [
    {
     "data": {
      "text/html": [
       "<div>\n",
       "<style>\n",
       "    .dataframe thead tr:only-child th {\n",
       "        text-align: right;\n",
       "    }\n",
       "\n",
       "    .dataframe thead th {\n",
       "        text-align: left;\n",
       "    }\n",
       "\n",
       "    .dataframe tbody tr th {\n",
       "        vertical-align: top;\n",
       "    }\n",
       "</style>\n",
       "<table border=\"1\" class=\"dataframe\">\n",
       "  <thead>\n",
       "    <tr style=\"text-align: right;\">\n",
       "      <th></th>\n",
       "      <th>date</th>\n",
       "      <th>files</th>\n",
       "      <th>message</th>\n",
       "      <th>person</th>\n",
       "    </tr>\n",
       "  </thead>\n",
       "  <tbody>\n",
       "    <tr>\n",
       "      <th>0</th>\n",
       "      <td>2013-02-13 17:50:44-08:00</td>\n",
       "      <td>[.gitignore, bin/spack]</td>\n",
       "      <td>Initial version of spack with one package:...</td>\n",
       "      <td>Todd Gamblin &lt;tgamblin@llnl.gov&gt;</td>\n",
       "    </tr>\n",
       "    <tr>\n",
       "      <th>1</th>\n",
       "      <td>2013-02-13 17:50:44-08:00</td>\n",
       "      <td>[.gitignore, bin/spack]</td>\n",
       "      <td>Initial version of spack with one package:...</td>\n",
       "      <td>Todd Gamblin &lt;tgamblin@llnl.gov&gt;</td>\n",
       "    </tr>\n",
       "    <tr>\n",
       "      <th>2</th>\n",
       "      <td>2013-02-13 17:50:44-08:00</td>\n",
       "      <td>[.gitignore, bin/spack]</td>\n",
       "      <td>Initial version of spack with one package:...</td>\n",
       "      <td>Todd Gamblin &lt;tgamblin@llnl.gov&gt;</td>\n",
       "    </tr>\n",
       "    <tr>\n",
       "      <th>3</th>\n",
       "      <td>2013-02-13 17:50:44-08:00</td>\n",
       "      <td>[.gitignore, bin/spack]</td>\n",
       "      <td>Initial version of spack with one package:...</td>\n",
       "      <td>Todd Gamblin &lt;tgamblin@llnl.gov&gt;</td>\n",
       "    </tr>\n",
       "    <tr>\n",
       "      <th>4</th>\n",
       "      <td>2013-02-13 17:50:44-08:00</td>\n",
       "      <td>[.gitignore, bin/spack]</td>\n",
       "      <td>Initial version of spack with one package:...</td>\n",
       "      <td>Todd Gamblin &lt;tgamblin@llnl.gov&gt;</td>\n",
       "    </tr>\n",
       "  </tbody>\n",
       "</table>\n",
       "</div>"
      ],
      "text/plain": [
       "                        date                    files  \\\n",
       "0  2013-02-13 17:50:44-08:00  [.gitignore, bin/spack]   \n",
       "1  2013-02-13 17:50:44-08:00  [.gitignore, bin/spack]   \n",
       "2  2013-02-13 17:50:44-08:00  [.gitignore, bin/spack]   \n",
       "3  2013-02-13 17:50:44-08:00  [.gitignore, bin/spack]   \n",
       "4  2013-02-13 17:50:44-08:00  [.gitignore, bin/spack]   \n",
       "\n",
       "                                             message  \\\n",
       "0      Initial version of spack with one package:...   \n",
       "1      Initial version of spack with one package:...   \n",
       "2      Initial version of spack with one package:...   \n",
       "3      Initial version of spack with one package:...   \n",
       "4      Initial version of spack with one package:...   \n",
       "\n",
       "                             person  \n",
       "0  Todd Gamblin <tgamblin@llnl.gov>  \n",
       "1  Todd Gamblin <tgamblin@llnl.gov>  \n",
       "2  Todd Gamblin <tgamblin@llnl.gov>  \n",
       "3  Todd Gamblin <tgamblin@llnl.gov>  \n",
       "4  Todd Gamblin <tgamblin@llnl.gov>  "
      ]
     },
     "execution_count": 29,
     "metadata": {},
     "output_type": "execute_result"
    }
   ],
   "source": [
    "df_sorted.head()"
   ]
  },
  {
   "cell_type": "code",
   "execution_count": 30,
   "metadata": {},
   "outputs": [
    {
     "data": {
      "text/html": [
       "<div>\n",
       "<style>\n",
       "    .dataframe thead tr:only-child th {\n",
       "        text-align: right;\n",
       "    }\n",
       "\n",
       "    .dataframe thead th {\n",
       "        text-align: left;\n",
       "    }\n",
       "\n",
       "    .dataframe tbody tr th {\n",
       "        vertical-align: top;\n",
       "    }\n",
       "</style>\n",
       "<table border=\"1\" class=\"dataframe\">\n",
       "  <thead>\n",
       "    <tr style=\"text-align: right;\">\n",
       "      <th></th>\n",
       "      <th>date</th>\n",
       "      <th>files</th>\n",
       "      <th>message</th>\n",
       "      <th>person</th>\n",
       "    </tr>\n",
       "  </thead>\n",
       "  <tbody>\n",
       "    <tr>\n",
       "      <th>23054</th>\n",
       "      <td>2018-12-31 23:40:32-08:00</td>\n",
       "      <td>[2,6 +122,6 @@ See [LICENSE-MIT](https://githu...</td>\n",
       "      <td>README: LLNL release number and SPDX id do...</td>\n",
       "      <td>Todd Gamblin &lt;tgamblin@llnl.gov&gt;</td>\n",
       "    </tr>\n",
       "    <tr>\n",
       "      <th>23055</th>\n",
       "      <td>2019-01-01 09:11:49+01:00</td>\n",
       "      <td>[2,6 +562,9 @@ class Singleton(object):]</td>\n",
       "      <td>Improve validation of modules.yaml (#9878)...</td>\n",
       "      <td>Massimiliano Culpo &lt;massimiliano.culpo@gmail.com&gt;</td>\n",
       "    </tr>\n",
       "    <tr>\n",
       "      <th>23056</th>\n",
       "      <td>2019-01-01 06:05:53-08:00</td>\n",
       "      <td>[,6 +14,7 @@ class RReadr(RPackage):]</td>\n",
       "      <td>Add list_url for r-readr, finding old vers...</td>\n",
       "      <td>George Hartzell &lt;hartzell@alerce.com&gt;</td>\n",
       "    </tr>\n",
       "    <tr>\n",
       "      <th>23057</th>\n",
       "      <td>2019-01-02 00:39:07+08:00</td>\n",
       "      <td>[,7 +58,9 @@ class Fenics(CMakePackage):]</td>\n",
       "      <td>FEniCS: workaround concretization issue wi...</td>\n",
       "      <td>Ben Zwick &lt;33216696+benzwick@users.noreply.git...</td>\n",
       "    </tr>\n",
       "    <tr>\n",
       "      <th>23058</th>\n",
       "      <td>2019-01-02 01:15:15+01:00</td>\n",
       "      <td>[,7 +78,7 @@ module_file_configuration = {]</td>\n",
       "      <td>Removed an extra comma after a dict litera...</td>\n",
       "      <td>Massimiliano Culpo &lt;massimiliano.culpo@gmail.com&gt;</td>\n",
       "    </tr>\n",
       "  </tbody>\n",
       "</table>\n",
       "</div>"
      ],
      "text/plain": [
       "                            date  \\\n",
       "23054  2018-12-31 23:40:32-08:00   \n",
       "23055  2019-01-01 09:11:49+01:00   \n",
       "23056  2019-01-01 06:05:53-08:00   \n",
       "23057  2019-01-02 00:39:07+08:00   \n",
       "23058  2019-01-02 01:15:15+01:00   \n",
       "\n",
       "                                                   files  \\\n",
       "23054  [2,6 +122,6 @@ See [LICENSE-MIT](https://githu...   \n",
       "23055           [2,6 +562,9 @@ class Singleton(object):]   \n",
       "23056              [,6 +14,7 @@ class RReadr(RPackage):]   \n",
       "23057          [,7 +58,9 @@ class Fenics(CMakePackage):]   \n",
       "23058        [,7 +78,7 @@ module_file_configuration = {]   \n",
       "\n",
       "                                                 message  \\\n",
       "23054      README: LLNL release number and SPDX id do...   \n",
       "23055      Improve validation of modules.yaml (#9878)...   \n",
       "23056      Add list_url for r-readr, finding old vers...   \n",
       "23057      FEniCS: workaround concretization issue wi...   \n",
       "23058      Removed an extra comma after a dict litera...   \n",
       "\n",
       "                                                  person  \n",
       "23054                   Todd Gamblin <tgamblin@llnl.gov>  \n",
       "23055  Massimiliano Culpo <massimiliano.culpo@gmail.com>  \n",
       "23056              George Hartzell <hartzell@alerce.com>  \n",
       "23057  Ben Zwick <33216696+benzwick@users.noreply.git...  \n",
       "23058  Massimiliano Culpo <massimiliano.culpo@gmail.com>  "
      ]
     },
     "execution_count": 30,
     "metadata": {},
     "output_type": "execute_result"
    }
   ],
   "source": [
    "df_sorted.tail()"
   ]
  },
  {
   "cell_type": "code",
   "execution_count": 31,
   "metadata": {},
   "outputs": [
    {
     "data": {
      "text/plain": [
       "23059"
      ]
     },
     "execution_count": 31,
     "metadata": {},
     "output_type": "execute_result"
    }
   ],
   "source": [
    "len(df_sorted)"
   ]
  },
  {
   "cell_type": "markdown",
   "metadata": {},
   "source": [
    "Write it out to file"
   ]
  },
  {
   "cell_type": "code",
   "execution_count": 32,
   "metadata": {},
   "outputs": [],
   "source": [
    "save_dir = repository_dir + '/machine_learning/predicting-daily-commits/'"
   ]
  },
  {
   "cell_type": "code",
   "execution_count": 33,
   "metadata": {},
   "outputs": [],
   "source": [
    "df_sorted.to_csv(save_dir + 'sorted_commits.csv')  #ideas-uo-master/code/tmp/spack"
   ]
  },
  {
   "cell_type": "code",
   "execution_count": null,
   "metadata": {},
   "outputs": [],
   "source": []
  }
 ],
 "metadata": {
  "colab": {
   "collapsed_sections": [],
   "name": "get_commits.ipynb",
   "provenance": [],
   "version": "0.3.2"
  },
  "kernelspec": {
   "display_name": "Python 2",
   "language": "python",
   "name": "python2"
  },
  "language_info": {
   "codemirror_mode": {
    "name": "ipython",
    "version": 2
   },
   "file_extension": ".py",
   "mimetype": "text/x-python",
   "name": "python",
   "nbconvert_exporter": "python",
   "pygments_lexer": "ipython2",
   "version": "2.7.14"
  },
  "toc": {
   "base_numbering": 1,
   "nav_menu": {},
   "number_sections": true,
   "sideBar": true,
   "skip_h1_title": false,
   "title_cell": "Table of Contents",
   "title_sidebar": "Contents",
   "toc_cell": false,
   "toc_position": {},
   "toc_section_display": true,
   "toc_window_display": false
  }
 },
 "nbformat": 4,
 "nbformat_minor": 1
}
