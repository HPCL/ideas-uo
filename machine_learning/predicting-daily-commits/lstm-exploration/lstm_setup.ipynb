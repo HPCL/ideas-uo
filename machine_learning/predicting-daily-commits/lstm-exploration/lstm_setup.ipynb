{
  "nbformat": 4,
  "nbformat_minor": 0,
  "metadata": {
    "colab": {
      "name": "lstm_setup.ipynb",
      "version": "0.3.2",
      "provenance": [],
      "collapsed_sections": []
    },
    "language_info": {
      "codemirror_mode": {
        "name": "ipython",
        "version": 3
      },
      "file_extension": ".py",
      "mimetype": "text/x-python",
      "name": "python",
      "nbconvert_exporter": "python",
      "pygments_lexer": "ipython3",
      "version": "3.6.4"
    },
    "kernelspec": {
      "display_name": "Python 3",
      "language": "python",
      "name": "python3"
    }
  },
  "cells": [
    {
      "cell_type": "markdown",
      "metadata": {
        "id": "duQukSK8ncOL",
        "colab_type": "text"
      },
      "source": [
        "# Use commit counts by day to train an LSTM model\n",
        "\n",
        "Will build 3 separate models and test on training data just for ballpark results. The models are:\n",
        "\n",
        "1.   Counts unscaled. 30 day chunk. 100 epochs. (lstm_model_v0.h5)\n",
        "2.   Counts scaled. 30 day chunk. 100 epochs. (lstm_model_v1.h5)\n",
        "3.   Counts binned into 4 bins. 30 day chunk. 100 epochs. (lstm_model_v2.h5)\n",
        "\n",
        "Assumes have already run get_commits and wrangle_commits notebooks to produce daily commit counts.\n",
        "\n"
      ]
    },
    {
      "cell_type": "markdown",
      "metadata": {
        "id": "IC-aMFmI_3qk",
        "colab_type": "text"
      },
      "source": [
        "#use if on jupyter server\n",
        "import json\n",
        "\n",
        "with open('commit_counts.txt', 'r') as f:\n",
        "\n",
        "    commit_counts = json.loads(f.read())\n",
        "    \n",
        "len(commit_counts)"
      ]
    },
    {
      "cell_type": "code",
      "metadata": {
        "id": "gKzthqTPAa_K",
        "colab_type": "code",
        "colab": {}
      },
      "source": [
        "#kludge because did not want to mess with uploading it. Just copy and pasted values.\n",
        "\n",
        "import numpy as np\n",
        "commit_counts = np.array([4, 0, 0, 0, 0, 8, 12, 8, 24, 4, 0, 0, 4, 0, 0, 0, 0, 0, 0, 0, 0, 0, 0, 0, 0, 0, 0, 0, 0, 0, 0, 0, 0, 0, 0, 0, 0, 8, 0, 0, 12, 0, 0, 0, 0, 0, 0, 0, 0, 0, 0, 0, 0, 0, 8, 0, 0, 0, 0, 0, 0, 0, 0, 0, 0, 0, 0, 0, 0, 0, 0, 0, 0, 0, 0, 0, 0, 0, 0, 0, 0, 0, 0, 0, 0, 20, 0, 0, 12, 4, 0, 4, 0, 16, 0, 0, 0, 0, 0, 0, 0, 0, 0, 0, 0, 0, 0, 0, 0, 4, 0, 0, 0, 0, 0, 0, 0, 0, 0, 0, 0, 0, 0, 0, 0, 0, 0, 0, 0, 0, 0, 0, 0, 0, 0, 0, 12, 0, 0, 0, 0, 0, 0, 0, 0, 0, 0, 0, 0, 0, 0, 0, 0, 0, 0, 0, 0, 0, 0, 0, 0, 0, 0, 0, 0, 0, 0, 0, 0, 0, 0, 0, 0, 0, 0, 0, 0, 0, 0, 0, 0, 0, 0, 0, 0, 0, 0, 0, 0, 0, 0, 0, 0, 0, 0, 0, 0, 0, 0, 0, 0, 0, 0, 0, 0, 0, 0, 0, 0, 0, 0, 0, 0, 0, 0, 0, 0, 0, 0, 0, 0, 0, 0, 0, 0, 0, 0, 0, 0, 0, 0, 0, 0, 0, 0, 0, 12, 0, 0, 0, 8, 0, 0, 0, 4, 0, 8, 4, 0, 0, 0, 0, 0, 0, 0, 4, 0, 0, 0, 0, 0, 0, 0, 0, 0, 0, 0, 0, 0, 0, 0, 0, 0, 0, 0, 0, 0, 0, 0, 0, 4, 0, 0, 24, 4, 0, 0, 0, 0, 0, 0, 4, 0, 0, 0, 0, 0, 8, 8, 16, 0, 0, 8, 0, 0, 0, 0, 0, 16, 0, 20, 4, 4, 20, 4, 12, 4, 0, 0, 0, 0, 0, 0, 0, 4, 9, 0, 15, 3, 9, 12, 0, 3, 6, 6, 6, 3, 0, 0, 0, 0, 0, 0, 0, 3, 0, 0, 30, 0, 0, 0, 0, 0, 0, 0, 0, 3, 3, 3, 18, 12, 3, 9, 0, 0, 0, 0, 0, 0, 0, 0, 0, 0, 0, 0, 0, 0, 0, 0, 0, 0, 0, 0, 0, 0, 0, 0, 0, 0, 0, 0, 0, 3, 78, 27, 12, 15, 9, 0, 0, 0, 0, 0, 0, 0, 0, 0, 0, 0, 0, 0, 0, 0, 0, 0, 0, 0, 0, 0, 0, 0, 0, 0, 0, 6, 12, 6, 6, 0, 0, 0, 0, 0, 0, 0, 3, 18, 0, 0, 0, 3, 0, 9, 0, 0, 3, 3, 0, 9, 0, 0, 0, 0, 0, 0, 0, 0, 6, 6, 0, 3, 9, 0, 0, 0, 0, 0, 0, 6, 3, 0, 3, 0, 0, 3, 0, 0, 6, 0, 0, 0, 0, 0, 0, 0, 0, 0, 9, 0, 6, 0, 6, 6, 0, 18, 6, 21, 0, 0, 0, 0, 0, 0, 0, 6, 0, 0, 0, 0, 0, 12, 6, 12, 0, 0, 0, 0, 0, 0, 0, 0, 0, 0, 0, 0, 0, 0, 9, 0, 0, 0, 3, 3, 30, 24, 0, 9, 3, 0, 3, 3, 3, 6, 33, 3, 0, 0, 0, 0, 9, 3, 0, 0, 6, 3, 6, 0, 0, 3, 0, 0, 0, 0, 0, 0, 0, 0, 0, 0, 6, 0, 0, 0, 0, 0, 0, 0, 0, 0, 0, 12, 15, 15, 9, 0, 0, 0, 6, 0, 0, 0, 18, 3, 18, 3, 3, 3, 0, 6, 0, 9, 18, 12, 0, 9, 0, 0, 0, 3, 6, 6, 0, 0, 0, 0, 0, 9, 3, 0, 15, 0, 36, 3, 0, 9, 3, 15, 3, 9, 0, 3, 6, 9, 15, 0, 0, 3, 0, 0, 0, 0, 3, 0, 0, 0, 0, 0, 0, 6, 0, 0, 0, 0, 0, 0, 0, 9, 18, 0, 9, 3, 0, 0, 3, 3, 3, 0, 3, 0, 0, 3, 0, 0, 9, 0, 0, 0, 9, 3, 0, 24, 6, 0, 0, 15, 3, 3, 0, 0, 5, 2, 2, 10, 6, 4, 0, 8, 0, 6, 4, 2, 4, 0, 2, 0, 16, 6, 2, 6, 4, 0, 2, 4, 0, 2, 0, 0, 0, 0, 4, 0, 4, 0, 10, 4, 18, 6, 0, 4, 6, 0, 0, 26, 8, 12, 24, 0, 0, 0, 4, 4, 8, 2, 4, 0, 0, 2, 0, 2, 4, 2, 0, 0, 0, 0, 0, 4, 8, 4, 0, 2, 0, 4, 4, 4, 0, 0, 0, 0, 8, 0, 6, 4, 0, 0, 2, 0, 2, 0, 0, 0, 0, 4, 6, 6, 2, 0, 0, 0, 2, 4, 0, 0, 0, 0, 0, 0, 0, 0, 0, 0, 0, 2, 4, 2, 2, 0, 2, 0, 0, 0, 4, 0, 4, 0, 8, 16, 0, 12, 0, 0, 0, 0, 2, 10, 0, 0, 0, 0, 0, 0, 0, 0, 8, 4, 10, 0, 2, 8, 0, 8, 2, 0, 30, 8, 0, 8, 10, 8, 0, 6, 0, 0, 0, 4, 6, 0, 6, 0, 0, 4, 0, 0, 0, 0, 0, 0, 0, 0, 12, 0, 0, 0, 0, 0, 2, 2, 2, 0, 0, 2, 8, 0, 4, 0, 0, 0, 0, 24, 2, 4, 2, 0, 0, 2, 0, 2, 0, 0, 4, 0, 2, 2, 0, 2, 4, 0, 0, 0, 0, 2, 4, 4, 0, 0, 2, 2, 0, 0, 6, 2, 0, 4, 10, 4, 2, 0, 0, 0, 4, 2, 0, 4, 0, 0, 0, 0, 0, 0, 0, 2, 0, 0, 0, 2, 0, 8, 2, 0, 0, 10, 4, 10, 2, 2, 2, 4, 0, 2, 0, 2, 0, 0, 0, 2, 2, 0, 6, 0, 0, 0, 8, 6, 4, 30, 8, 8, 2, 2, 0, 14, 18, 6, 4, 0, 18, 16, 2, 12, 0, 0, 2, 0, 0, 8, 6, 12, 0, 0, 8, 2, 4, 2, 2, 0, 0, 18, 6, 20, 8, 2, 0, 0, 28, 8, 4, 4, 2, 2, 6, 4, 8, 8, 6, 0, 4, 0, 12, 4, 18, 8, 8, 0, 2, 10, 6, 12, 6, 14, 16, 10, 14, 24, 4, 0, 0, 0, 0, 0, 0, 0, 0, 2])"
      ],
      "execution_count": 0,
      "outputs": []
    },
    {
      "cell_type": "code",
      "metadata": {
        "id": "hSr8crUf_3qt",
        "colab_type": "code",
        "colab": {
          "base_uri": "https://localhost:8080/",
          "height": 283
        },
        "outputId": "7ab4561f-e04c-4069-a577-c09cdca557fb"
      },
      "source": [
        "%matplotlib inline\n",
        "from matplotlib import pyplot as plt\n",
        "plt.plot(commit_counts)\n",
        "plt.ylabel('Commits per day')\n",
        "plt.xlabel('days')\n",
        "plt.show()"
      ],
      "execution_count": 2,
      "outputs": [
        {
          "output_type": "display_data",
          "data": {
            "image/png": "[encoded data removed]",
            "text/plain": [
              "<Figure size 432x288 with 1 Axes>"
            ]
          },
          "metadata": {
            "tags": []
          }
        }
      ]
    },
    {
      "cell_type": "markdown",
      "metadata": {
        "id": "3nvnEH7ntuov",
        "colab_type": "text"
      },
      "source": [
        "Scale for use later."
      ]
    },
    {
      "cell_type": "code",
      "metadata": {
        "id": "c-bMthaa_3qy",
        "colab_type": "code",
        "colab": {}
      },
      "source": [
        "from sklearn.preprocessing import MinMaxScaler\n",
        "\n",
        "scaler = MinMaxScaler(feature_range = (0, 1))\n",
        "\n",
        "commit_counts_scaled = scaler.fit_transform(commit_counts.reshape(-1, 1))  "
      ],
      "execution_count": 0,
      "outputs": []
    },
    {
      "cell_type": "code",
      "metadata": {
        "id": "mKW8sqZbC7m8",
        "colab_type": "code",
        "colab": {
          "base_uri": "https://localhost:8080/",
          "height": 34
        },
        "outputId": "ef415a40-9e6c-4c31-cc2e-f13d96fd9d74"
      },
      "source": [
        "commit_counts[:10]"
      ],
      "execution_count": 4,
      "outputs": [
        {
          "output_type": "execute_result",
          "data": {
            "text/plain": [
              "array([ 4,  0,  0,  0,  0,  8, 12,  8, 24,  4])"
            ]
          },
          "metadata": {
            "tags": []
          },
          "execution_count": 4
        }
      ]
    },
    {
      "cell_type": "code",
      "metadata": {
        "id": "dfowiH7gCuki",
        "colab_type": "code",
        "colab": {
          "base_uri": "https://localhost:8080/",
          "height": 185
        },
        "outputId": "93baf570-2628-4963-fadf-7f71109dd23c"
      },
      "source": [
        "print(commit_counts_scaled[:10])"
      ],
      "execution_count": 5,
      "outputs": [
        {
          "output_type": "stream",
          "text": [
            "[[0.05128205]\n",
            " [0.        ]\n",
            " [0.        ]\n",
            " [0.        ]\n",
            " [0.        ]\n",
            " [0.1025641 ]\n",
            " [0.15384615]\n",
            " [0.1025641 ]\n",
            " [0.30769231]\n",
            " [0.05128205]]\n"
          ],
          "name": "stdout"
        }
      ]
    },
    {
      "cell_type": "markdown",
      "metadata": {
        "id": "CuAxRHcBDph7",
        "colab_type": "text"
      },
      "source": [
        "## Working on unscaled for now"
      ]
    },
    {
      "cell_type": "code",
      "metadata": {
        "id": "UzYA98uc_3q2",
        "colab_type": "code",
        "colab": {
          "base_uri": "https://localhost:8080/",
          "height": 34
        },
        "outputId": "28539faa-2147-492a-f8bf-18a935ff189f"
      },
      "source": [
        "chunk = 30  #take 30 days in each chunk, stride = 1\n",
        "\n",
        "features_set = []  \n",
        "labels =  []  \n",
        "for i in range(chunk, len(commit_counts)):  \n",
        "    features_set.append(commit_counts[i-chunk:i])\n",
        "    labels.append(commit_counts[i])\n",
        "    \n",
        "(len(features_set), len(labels))"
      ],
      "execution_count": 6,
      "outputs": [
        {
          "output_type": "execute_result",
          "data": {
            "text/plain": [
              "(1023, 1023)"
            ]
          },
          "metadata": {
            "tags": []
          },
          "execution_count": 6
        }
      ]
    },
    {
      "cell_type": "code",
      "metadata": {
        "id": "H7M4xPfV_3q6",
        "colab_type": "code",
        "colab": {
          "base_uri": "https://localhost:8080/",
          "height": 50
        },
        "outputId": "ea385c67-11ce-45f6-882c-fe6a318a785a"
      },
      "source": [
        "features_set[-1]  #last 30 day chunk"
      ],
      "execution_count": 7,
      "outputs": [
        {
          "output_type": "execute_result",
          "data": {
            "text/plain": [
              "array([ 8,  6,  0,  4,  0, 12,  4, 18,  8,  8,  0,  2, 10,  6, 12,  6, 14,\n",
              "       16, 10, 14, 24,  4,  0,  0,  0,  0,  0,  0,  0,  0])"
            ]
          },
          "metadata": {
            "tags": []
          },
          "execution_count": 7
        }
      ]
    },
    {
      "cell_type": "code",
      "metadata": {
        "id": "Q5pAPCZ5_3q_",
        "colab_type": "code",
        "colab": {
          "base_uri": "https://localhost:8080/",
          "height": 34
        },
        "outputId": "4087f767-bbcf-41dc-8c87-2a771d695650"
      },
      "source": [
        "labels[:20]"
      ],
      "execution_count": 8,
      "outputs": [
        {
          "output_type": "execute_result",
          "data": {
            "text/plain": [
              "[0, 0, 0, 0, 0, 0, 0, 8, 0, 0, 12, 0, 0, 0, 0, 0, 0, 0, 0, 0]"
            ]
          },
          "metadata": {
            "tags": []
          },
          "execution_count": 8
        }
      ]
    },
    {
      "cell_type": "code",
      "metadata": {
        "id": "cl2Uno3d_3rD",
        "colab_type": "code",
        "colab": {}
      },
      "source": [
        "\n",
        "features_set, labels = np.array(features_set), np.array(labels)  "
      ],
      "execution_count": 0,
      "outputs": []
    },
    {
      "cell_type": "code",
      "metadata": {
        "id": "asgGkTPm_3rG",
        "colab_type": "code",
        "colab": {
          "base_uri": "https://localhost:8080/",
          "height": 34
        },
        "outputId": "2594a481-167d-452c-a2ba-4c47d01da9a2"
      },
      "source": [
        "features_set = np.reshape(features_set, (features_set.shape[0], features_set.shape[1], 1))  \n",
        "features_set.shape"
      ],
      "execution_count": 10,
      "outputs": [
        {
          "output_type": "execute_result",
          "data": {
            "text/plain": [
              "(1023, 30, 1)"
            ]
          },
          "metadata": {
            "tags": []
          },
          "execution_count": 10
        }
      ]
    },
    {
      "cell_type": "code",
      "metadata": {
        "id": "g9J4S6t0_3rL",
        "colab_type": "code",
        "colab": {
          "base_uri": "https://localhost:8080/",
          "height": 34
        },
        "outputId": "974eed39-5e07-4f66-f274-cc6ce45be9ea"
      },
      "source": [
        "from keras.models import Sequential  \n",
        "from keras.layers import Dense  \n",
        "from keras.layers import LSTM  \n",
        "from keras.layers import Dropout  "
      ],
      "execution_count": 11,
      "outputs": [
        {
          "output_type": "stream",
          "text": [
            "Using TensorFlow backend.\n"
          ],
          "name": "stderr"
        }
      ]
    },
    {
      "cell_type": "code",
      "metadata": {
        "id": "6Kx145El_3rP",
        "colab_type": "code",
        "colab": {
          "base_uri": "https://localhost:8080/",
          "height": 87
        },
        "outputId": "9357d01c-acad-4011-c38f-da0dd6880395"
      },
      "source": [
        "model = Sequential()  \n"
      ],
      "execution_count": 12,
      "outputs": [
        {
          "output_type": "stream",
          "text": [
            "WARNING: Logging before flag parsing goes to stderr.\n",
            "W0626 21:52:43.038202 139861523072896 deprecation_wrapper.py:119] From /usr/local/lib/python3.6/dist-packages/keras/backend/tensorflow_backend.py:74: The name tf.get_default_graph is deprecated. Please use tf.compat.v1.get_default_graph instead.\n",
            "\n"
          ],
          "name": "stderr"
        }
      ]
    },
    {
      "cell_type": "code",
      "metadata": {
        "id": "dwfBRHQwEAUt",
        "colab_type": "code",
        "colab": {
          "base_uri": "https://localhost:8080/",
          "height": 104
        },
        "outputId": "6121d2d6-1dba-4af8-e10e-27a70aa5ef29"
      },
      "source": [
        "model.add(LSTM(units=50, return_sequences=True, input_shape=(features_set.shape[1], 1)))  \n"
      ],
      "execution_count": 13,
      "outputs": [
        {
          "output_type": "stream",
          "text": [
            "W0626 21:52:43.070674 139861523072896 deprecation_wrapper.py:119] From /usr/local/lib/python3.6/dist-packages/keras/backend/tensorflow_backend.py:517: The name tf.placeholder is deprecated. Please use tf.compat.v1.placeholder instead.\n",
            "\n",
            "W0626 21:52:43.076282 139861523072896 deprecation_wrapper.py:119] From /usr/local/lib/python3.6/dist-packages/keras/backend/tensorflow_backend.py:4138: The name tf.random_uniform is deprecated. Please use tf.random.uniform instead.\n",
            "\n"
          ],
          "name": "stderr"
        }
      ]
    },
    {
      "cell_type": "code",
      "metadata": {
        "id": "wH4I4nGnEYyc",
        "colab_type": "code",
        "colab": {
          "base_uri": "https://localhost:8080/",
          "height": 121
        },
        "outputId": "3e32a18f-5699-4da6-d232-02593e92324e"
      },
      "source": [
        "model.add(Dropout(0.2))  \n",
        "\n"
      ],
      "execution_count": 14,
      "outputs": [
        {
          "output_type": "stream",
          "text": [
            "W0626 21:52:43.311999 139861523072896 deprecation_wrapper.py:119] From /usr/local/lib/python3.6/dist-packages/keras/backend/tensorflow_backend.py:133: The name tf.placeholder_with_default is deprecated. Please use tf.compat.v1.placeholder_with_default instead.\n",
            "\n",
            "W0626 21:52:43.328665 139861523072896 deprecation.py:506] From /usr/local/lib/python3.6/dist-packages/keras/backend/tensorflow_backend.py:3445: calling dropout (from tensorflow.python.ops.nn_ops) with keep_prob is deprecated and will be removed in a future version.\n",
            "Instructions for updating:\n",
            "Please use `rate` instead of `keep_prob`. Rate should be set to `rate = 1 - keep_prob`.\n"
          ],
          "name": "stderr"
        }
      ]
    },
    {
      "cell_type": "code",
      "metadata": {
        "id": "knFFLe49Eo2S",
        "colab_type": "code",
        "colab": {}
      },
      "source": [
        "model.add(LSTM(units=50, return_sequences=True))  \n",
        "model.add(Dropout(0.2))\n",
        "\n",
        "model.add(LSTM(units=50, return_sequences=True))  \n",
        "model.add(Dropout(0.2))\n",
        "\n",
        "model.add(LSTM(units=50))  \n",
        "model.add(Dropout(0.2))  "
      ],
      "execution_count": 0,
      "outputs": []
    },
    {
      "cell_type": "code",
      "metadata": {
        "id": "C9qTht1kE1Lj",
        "colab_type": "code",
        "colab": {}
      },
      "source": [
        "model.add(Dense(units = 1))  \n"
      ],
      "execution_count": 0,
      "outputs": []
    },
    {
      "cell_type": "code",
      "metadata": {
        "id": "v5YssZerE3Cp",
        "colab_type": "code",
        "colab": {
          "base_uri": "https://localhost:8080/",
          "height": 70
        },
        "outputId": "2b3ff28b-c45c-43f1-d7ac-8c095daf6bac"
      },
      "source": [
        "model.compile(optimizer = 'adam', loss = 'mean_squared_error')  \n"
      ],
      "execution_count": 17,
      "outputs": [
        {
          "output_type": "stream",
          "text": [
            "W0626 21:52:44.121560 139861523072896 deprecation_wrapper.py:119] From /usr/local/lib/python3.6/dist-packages/keras/optimizers.py:790: The name tf.train.Optimizer is deprecated. Please use tf.compat.v1.train.Optimizer instead.\n",
            "\n"
          ],
          "name": "stderr"
        }
      ]
    },
    {
      "cell_type": "code",
      "metadata": {
        "id": "fQZ-7bAgE_ID",
        "colab_type": "code",
        "colab": {
          "base_uri": "https://localhost:8080/",
          "height": 1000
        },
        "outputId": "9c8357e7-1ce5-4055-a088-620240ce68d8"
      },
      "source": [
        "'''\n",
        "Epoch 100/100\n",
        "1023/1023 [==============================] - 3s 3ms/step - loss: 12.6163\n",
        "'''\n",
        "model.fit(features_set, labels, epochs = 100, batch_size = 32)  \n"
      ],
      "execution_count": 18,
      "outputs": [
        {
          "output_type": "stream",
          "text": [
            "W0626 21:52:44.605077 139861523072896 deprecation.py:323] From /usr/local/lib/python3.6/dist-packages/tensorflow/python/ops/math_grad.py:1250: add_dispatch_support.<locals>.wrapper (from tensorflow.python.ops.array_ops) is deprecated and will be removed in a future version.\n",
            "Instructions for updating:\n",
            "Use tf.where in 2.0, which has the same broadcast rule as np.where\n",
            "W0626 21:52:47.276562 139861523072896 deprecation_wrapper.py:119] From /usr/local/lib/python3.6/dist-packages/keras/backend/tensorflow_backend.py:986: The name tf.assign_add is deprecated. Please use tf.compat.v1.assign_add instead.\n",
            "\n"
          ],
          "name": "stderr"
        },
        {
          "output_type": "stream",
          "text": [
            "Epoch 1/100\n",
            "1023/1023 [==============================] - 6s 6ms/step - loss: 32.6771\n",
            "Epoch 2/100\n",
            "1023/1023 [==============================] - 3s 3ms/step - loss: 30.9492\n",
            "Epoch 3/100\n",
            "1023/1023 [==============================] - 3s 3ms/step - loss: 30.8621\n",
            "Epoch 4/100\n",
            "1023/1023 [==============================] - 3s 3ms/step - loss: 30.7022\n",
            "Epoch 5/100\n",
            "1023/1023 [==============================] - 3s 3ms/step - loss: 30.5254\n",
            "Epoch 6/100\n",
            "1023/1023 [==============================] - 3s 3ms/step - loss: 30.5282\n",
            "Epoch 7/100\n",
            "1023/1023 [==============================] - 3s 3ms/step - loss: 30.1852\n",
            "Epoch 8/100\n",
            "1023/1023 [==============================] - 3s 3ms/step - loss: 29.6312\n",
            "Epoch 9/100\n",
            "1023/1023 [==============================] - 3s 3ms/step - loss: 29.7794\n",
            "Epoch 10/100\n",
            "1023/1023 [==============================] - 3s 3ms/step - loss: 29.4069\n",
            "Epoch 11/100\n",
            "1023/1023 [==============================] - 3s 3ms/step - loss: 29.3236\n",
            "Epoch 12/100\n",
            "1023/1023 [==============================] - 3s 3ms/step - loss: 29.2412\n",
            "Epoch 13/100\n",
            "1023/1023 [==============================] - 3s 3ms/step - loss: 28.8762\n",
            "Epoch 14/100\n",
            "1023/1023 [==============================] - 3s 3ms/step - loss: 28.6184\n",
            "Epoch 15/100\n",
            "1023/1023 [==============================] - 3s 3ms/step - loss: 28.3739\n",
            "Epoch 16/100\n",
            "1023/1023 [==============================] - 3s 3ms/step - loss: 28.5661\n",
            "Epoch 17/100\n",
            "1023/1023 [==============================] - 3s 3ms/step - loss: 28.7047\n",
            "Epoch 18/100\n",
            "1023/1023 [==============================] - 3s 3ms/step - loss: 28.4097\n",
            "Epoch 19/100\n",
            "1023/1023 [==============================] - 3s 3ms/step - loss: 28.1077\n",
            "Epoch 20/100\n",
            "1023/1023 [==============================] - 3s 3ms/step - loss: 28.1434\n",
            "Epoch 21/100\n",
            "1023/1023 [==============================] - 3s 3ms/step - loss: 28.0367\n",
            "Epoch 22/100\n",
            "1023/1023 [==============================] - 3s 3ms/step - loss: 27.7396\n",
            "Epoch 23/100\n",
            "1023/1023 [==============================] - 3s 3ms/step - loss: 27.4064\n",
            "Epoch 24/100\n",
            "1023/1023 [==============================] - 3s 3ms/step - loss: 27.4380\n",
            "Epoch 25/100\n",
            "1023/1023 [==============================] - 3s 3ms/step - loss: 27.2367\n",
            "Epoch 26/100\n",
            "1023/1023 [==============================] - 3s 3ms/step - loss: 27.0411\n",
            "Epoch 27/100\n",
            "1023/1023 [==============================] - 3s 3ms/step - loss: 26.7317\n",
            "Epoch 28/100\n",
            "1023/1023 [==============================] - 3s 3ms/step - loss: 26.7180\n",
            "Epoch 29/100\n",
            "1023/1023 [==============================] - 3s 3ms/step - loss: 27.5088\n",
            "Epoch 30/100\n",
            "1023/1023 [==============================] - 3s 3ms/step - loss: 26.3909\n",
            "Epoch 31/100\n",
            "1023/1023 [==============================] - 3s 3ms/step - loss: 26.2974\n",
            "Epoch 32/100\n",
            "1023/1023 [==============================] - 3s 3ms/step - loss: 25.9424\n",
            "Epoch 33/100\n",
            "1023/1023 [==============================] - 3s 3ms/step - loss: 25.9629\n",
            "Epoch 34/100\n",
            "1023/1023 [==============================] - 3s 3ms/step - loss: 25.4140\n",
            "Epoch 35/100\n",
            "1023/1023 [==============================] - 3s 3ms/step - loss: 25.6292\n",
            "Epoch 36/100\n",
            "1023/1023 [==============================] - 3s 3ms/step - loss: 25.1567\n",
            "Epoch 37/100\n",
            "1023/1023 [==============================] - 3s 3ms/step - loss: 24.4380\n",
            "Epoch 38/100\n",
            "1023/1023 [==============================] - 3s 3ms/step - loss: 25.1170\n",
            "Epoch 39/100\n",
            "1023/1023 [==============================] - 3s 3ms/step - loss: 24.4084\n",
            "Epoch 40/100\n",
            "1023/1023 [==============================] - 3s 3ms/step - loss: 23.8713\n",
            "Epoch 41/100\n",
            "1023/1023 [==============================] - 3s 3ms/step - loss: 23.3543\n",
            "Epoch 42/100\n",
            "1023/1023 [==============================] - 3s 3ms/step - loss: 23.9328\n",
            "Epoch 43/100\n",
            "1023/1023 [==============================] - 3s 3ms/step - loss: 23.4265\n",
            "Epoch 44/100\n",
            "1023/1023 [==============================] - 3s 3ms/step - loss: 22.3070\n",
            "Epoch 45/100\n",
            "1023/1023 [==============================] - 3s 3ms/step - loss: 22.4855\n",
            "Epoch 46/100\n",
            "1023/1023 [==============================] - 3s 3ms/step - loss: 22.5174\n",
            "Epoch 47/100\n",
            "1023/1023 [==============================] - 3s 3ms/step - loss: 23.4260\n",
            "Epoch 48/100\n",
            "1023/1023 [==============================] - 3s 3ms/step - loss: 23.1839\n",
            "Epoch 49/100\n",
            "1023/1023 [==============================] - 3s 3ms/step - loss: 21.8577\n",
            "Epoch 50/100\n",
            "1023/1023 [==============================] - 3s 3ms/step - loss: 23.4599\n",
            "Epoch 51/100\n",
            "1023/1023 [==============================] - 3s 3ms/step - loss: 22.0439\n",
            "Epoch 52/100\n",
            "1023/1023 [==============================] - 3s 3ms/step - loss: 20.1611\n",
            "Epoch 53/100\n",
            "1023/1023 [==============================] - 3s 3ms/step - loss: 20.3624\n",
            "Epoch 54/100\n",
            "1023/1023 [==============================] - 3s 3ms/step - loss: 20.4816\n",
            "Epoch 55/100\n",
            "1023/1023 [==============================] - 3s 3ms/step - loss: 20.7093\n",
            "Epoch 56/100\n",
            "1023/1023 [==============================] - 3s 3ms/step - loss: 21.1244\n",
            "Epoch 57/100\n",
            "1023/1023 [==============================] - 3s 3ms/step - loss: 19.0123\n",
            "Epoch 58/100\n",
            "1023/1023 [==============================] - 3s 3ms/step - loss: 19.8307\n",
            "Epoch 59/100\n",
            "1023/1023 [==============================] - 3s 3ms/step - loss: 19.6655\n",
            "Epoch 60/100\n",
            "1023/1023 [==============================] - 3s 3ms/step - loss: 18.9604\n",
            "Epoch 61/100\n",
            "1023/1023 [==============================] - 3s 3ms/step - loss: 18.6793\n",
            "Epoch 62/100\n",
            "1023/1023 [==============================] - 3s 3ms/step - loss: 18.1795\n",
            "Epoch 63/100\n",
            "1023/1023 [==============================] - 3s 3ms/step - loss: 17.7543\n",
            "Epoch 64/100\n",
            "1023/1023 [==============================] - 3s 3ms/step - loss: 17.4604\n",
            "Epoch 65/100\n",
            "1023/1023 [==============================] - 3s 3ms/step - loss: 18.4100\n",
            "Epoch 66/100\n",
            "1023/1023 [==============================] - 3s 3ms/step - loss: 18.3542\n",
            "Epoch 67/100\n",
            "1023/1023 [==============================] - 3s 3ms/step - loss: 18.6471\n",
            "Epoch 68/100\n",
            "1023/1023 [==============================] - 3s 3ms/step - loss: 17.5968\n",
            "Epoch 69/100\n",
            "1023/1023 [==============================] - 3s 3ms/step - loss: 17.5399\n",
            "Epoch 70/100\n",
            "1023/1023 [==============================] - 3s 3ms/step - loss: 17.1367\n",
            "Epoch 71/100\n",
            "1023/1023 [==============================] - 3s 3ms/step - loss: 17.5613\n",
            "Epoch 72/100\n",
            "1023/1023 [==============================] - 3s 3ms/step - loss: 16.6616\n",
            "Epoch 73/100\n",
            "1023/1023 [==============================] - 3s 3ms/step - loss: 16.2300\n",
            "Epoch 74/100\n",
            "1023/1023 [==============================] - 3s 3ms/step - loss: 15.7368\n",
            "Epoch 75/100\n",
            "1023/1023 [==============================] - 3s 3ms/step - loss: 17.2775\n",
            "Epoch 76/100\n",
            "1023/1023 [==============================] - 3s 3ms/step - loss: 17.7509\n",
            "Epoch 77/100\n",
            "1023/1023 [==============================] - 3s 3ms/step - loss: 15.8765\n",
            "Epoch 78/100\n",
            "1023/1023 [==============================] - 3s 3ms/step - loss: 15.4740\n",
            "Epoch 79/100\n",
            "1023/1023 [==============================] - 3s 3ms/step - loss: 15.1113\n",
            "Epoch 80/100\n",
            "1023/1023 [==============================] - 3s 3ms/step - loss: 15.1266\n",
            "Epoch 81/100\n",
            "1023/1023 [==============================] - 3s 3ms/step - loss: 15.0820\n",
            "Epoch 82/100\n",
            "1023/1023 [==============================] - 3s 3ms/step - loss: 14.9451\n",
            "Epoch 83/100\n",
            "1023/1023 [==============================] - 3s 3ms/step - loss: 14.4837\n",
            "Epoch 84/100\n",
            "1023/1023 [==============================] - 3s 3ms/step - loss: 14.6729\n",
            "Epoch 85/100\n",
            "1023/1023 [==============================] - 3s 3ms/step - loss: 14.5194\n",
            "Epoch 86/100\n",
            "1023/1023 [==============================] - 3s 3ms/step - loss: 13.3868\n",
            "Epoch 87/100\n",
            "1023/1023 [==============================] - 3s 3ms/step - loss: 14.9830\n",
            "Epoch 88/100\n",
            "1023/1023 [==============================] - 3s 3ms/step - loss: 14.6534\n",
            "Epoch 89/100\n",
            "1023/1023 [==============================] - 3s 3ms/step - loss: 13.1065\n",
            "Epoch 90/100\n",
            "1023/1023 [==============================] - 3s 3ms/step - loss: 14.3071\n",
            "Epoch 91/100\n",
            "1023/1023 [==============================] - 3s 3ms/step - loss: 13.3517\n",
            "Epoch 92/100\n",
            "1023/1023 [==============================] - 3s 3ms/step - loss: 12.9511\n",
            "Epoch 93/100\n",
            "1023/1023 [==============================] - 3s 3ms/step - loss: 12.2054\n",
            "Epoch 94/100\n",
            "1023/1023 [==============================] - 3s 3ms/step - loss: 14.3324\n",
            "Epoch 95/100\n",
            "1023/1023 [==============================] - 3s 3ms/step - loss: 13.2963\n",
            "Epoch 96/100\n",
            "1023/1023 [==============================] - 3s 3ms/step - loss: 12.3392\n",
            "Epoch 97/100\n",
            "1023/1023 [==============================] - 3s 3ms/step - loss: 12.2803\n",
            "Epoch 98/100\n",
            "1023/1023 [==============================] - 3s 3ms/step - loss: 12.4352\n",
            "Epoch 99/100\n",
            "1023/1023 [==============================] - 3s 3ms/step - loss: 12.5613\n",
            "Epoch 100/100\n",
            "1023/1023 [==============================] - 3s 3ms/step - loss: 12.9673\n"
          ],
          "name": "stdout"
        },
        {
          "output_type": "execute_result",
          "data": {
            "text/plain": [
              "<keras.callbacks.History at 0x7f33c914ae80>"
            ]
          },
          "metadata": {
            "tags": []
          },
          "execution_count": 18
        }
      ]
    },
    {
      "cell_type": "markdown",
      "metadata": {
        "id": "GPT-orXjJBmD",
        "colab_type": "text"
      },
      "source": [
        "## Write model out to gdrive"
      ]
    },
    {
      "cell_type": "code",
      "metadata": {
        "colab_type": "code",
        "id": "QxE83L41Hs_c",
        "outputId": "2f268b2a-274a-4960-e068-b0b1d949e4a3",
        "colab": {
          "base_uri": "https://localhost:8080/",
          "height": 121
        }
      },
      "source": [
        "from google.colab import drive\n",
        "drive.mount('/content/gdrive')"
      ],
      "execution_count": 12,
      "outputs": [
        {
          "output_type": "stream",
          "text": [
            "Go to this URL in a browser: https://accounts.google.com/o/oauth2/auth?client_id=947318989803-6bn6qk8qdgf4n4g3pfee6491hc0brc4i.apps.googleusercontent.com&redirect_uri=urn%3Aietf%3Awg%3Aoauth%3A2.0%3Aoob&scope=email%20https%3A%2F%2Fwww.googleapis.com%2Fauth%2Fdocs.test%20https%3A%2F%2Fwww.googleapis.com%2Fauth%2Fdrive%20https%3A%2F%2Fwww.googleapis.com%2Fauth%2Fdrive.photos.readonly%20https%3A%2F%2Fwww.googleapis.com%2Fauth%2Fpeopleapi.readonly&response_type=code\n",
            "\n",
            "Enter your authorization code:\n",
            "··········\n",
            "Mounted at /content/gdrive\n"
          ],
          "name": "stdout"
        }
      ]
    },
    {
      "cell_type": "code",
      "metadata": {
        "id": "einStfZYG5Ur",
        "colab_type": "code",
        "colab": {}
      },
      "source": [
        "# save model to single file\n",
        "model.save('/content/gdrive/My Drive/lstm_model_v0.h5')"
      ],
      "execution_count": 0,
      "outputs": []
    },
    {
      "cell_type": "markdown",
      "metadata": {
        "id": "qWlRht32JIzp",
        "colab_type": "text"
      },
      "source": [
        "Make sure we can load it again."
      ]
    },
    {
      "cell_type": "code",
      "metadata": {
        "id": "TmnZsIEKHKt5",
        "colab_type": "code",
        "colab": {
          "base_uri": "https://localhost:8080/",
          "height": 356
        },
        "outputId": "dc63fed4-b7d8-4d74-c448-46d9c12a1f75"
      },
      "source": [
        "from keras.models import load_model # load model from single file\n",
        "model_test = load_model('/content/gdrive/My Drive/lstm_model_v0.h5') # make predictions\n"
      ],
      "execution_count": 13,
      "outputs": [
        {
          "output_type": "stream",
          "text": [
            "WARNING: Logging before flag parsing goes to stderr.\n",
            "W0627 16:15:55.611779 139638353106816 deprecation_wrapper.py:119] From /usr/local/lib/python3.6/dist-packages/keras/backend/tensorflow_backend.py:74: The name tf.get_default_graph is deprecated. Please use tf.compat.v1.get_default_graph instead.\n",
            "\n",
            "W0627 16:15:55.668450 139638353106816 deprecation_wrapper.py:119] From /usr/local/lib/python3.6/dist-packages/keras/backend/tensorflow_backend.py:517: The name tf.placeholder is deprecated. Please use tf.compat.v1.placeholder instead.\n",
            "\n",
            "W0627 16:15:55.679312 139638353106816 deprecation_wrapper.py:119] From /usr/local/lib/python3.6/dist-packages/keras/backend/tensorflow_backend.py:4138: The name tf.random_uniform is deprecated. Please use tf.random.uniform instead.\n",
            "\n",
            "W0627 16:15:55.954307 139638353106816 deprecation_wrapper.py:119] From /usr/local/lib/python3.6/dist-packages/keras/backend/tensorflow_backend.py:133: The name tf.placeholder_with_default is deprecated. Please use tf.compat.v1.placeholder_with_default instead.\n",
            "\n",
            "W0627 16:15:55.967601 139638353106816 deprecation.py:506] From /usr/local/lib/python3.6/dist-packages/keras/backend/tensorflow_backend.py:3445: calling dropout (from tensorflow.python.ops.nn_ops) with keep_prob is deprecated and will be removed in a future version.\n",
            "Instructions for updating:\n",
            "Please use `rate` instead of `keep_prob`. Rate should be set to `rate = 1 - keep_prob`.\n",
            "W0627 16:15:56.723273 139638353106816 deprecation_wrapper.py:119] From /usr/local/lib/python3.6/dist-packages/keras/backend/tensorflow_backend.py:174: The name tf.get_default_session is deprecated. Please use tf.compat.v1.get_default_session instead.\n",
            "\n",
            "W0627 16:15:57.278183 139638353106816 deprecation_wrapper.py:119] From /usr/local/lib/python3.6/dist-packages/keras/optimizers.py:790: The name tf.train.Optimizer is deprecated. Please use tf.compat.v1.train.Optimizer instead.\n",
            "\n",
            "W0627 16:15:57.593445 139638353106816 deprecation.py:323] From /usr/local/lib/python3.6/dist-packages/tensorflow/python/ops/math_grad.py:1250: add_dispatch_support.<locals>.wrapper (from tensorflow.python.ops.array_ops) is deprecated and will be removed in a future version.\n",
            "Instructions for updating:\n",
            "Use tf.where in 2.0, which has the same broadcast rule as np.where\n"
          ],
          "name": "stderr"
        }
      ]
    },
    {
      "cell_type": "code",
      "metadata": {
        "id": "vX8HZNphHPYI",
        "colab_type": "code",
        "colab": {}
      },
      "source": [
        "#Try on training set for giggles\n",
        "check_predictions = []\n",
        "\n",
        "for  i,chunk in enumerate(features_set):\n",
        "  chunk = np.reshape(chunk, (1, features_set.shape[1], 1))\n",
        "  yhat = model_test.predict(chunk, verbose=0)\n",
        "  check_predictions.append((yhat, labels[i], abs(yhat-labels[i])))  #(prediction, actual, abs diff)\n"
      ],
      "execution_count": 0,
      "outputs": []
    },
    {
      "cell_type": "code",
      "metadata": {
        "id": "W_U82cqUK-0U",
        "colab_type": "code",
        "colab": {
          "base_uri": "https://localhost:8080/",
          "height": 420
        },
        "outputId": "2b1d1e54-dde0-4732-a050-95e83821154a"
      },
      "source": [
        "check_predictions[:10]"
      ],
      "execution_count": 15,
      "outputs": [
        {
          "output_type": "execute_result",
          "data": {
            "text/plain": [
              "[(array([[0.56348395]], dtype=float32),\n",
              "  0,\n",
              "  array([[0.56348395]], dtype=float32)),\n",
              " (array([[-0.04569387]], dtype=float32),\n",
              "  0,\n",
              "  array([[0.04569387]], dtype=float32)),\n",
              " (array([[-0.03544772]], dtype=float32),\n",
              "  0,\n",
              "  array([[0.03544772]], dtype=float32)),\n",
              " (array([[-0.01812792]], dtype=float32),\n",
              "  0,\n",
              "  array([[0.01812792]], dtype=float32)),\n",
              " (array([[0.03256644]], dtype=float32),\n",
              "  0,\n",
              "  array([[0.03256644]], dtype=float32)),\n",
              " (array([[0.18714575]], dtype=float32),\n",
              "  0,\n",
              "  array([[0.18714575]], dtype=float32)),\n",
              " (array([[1.825681]], dtype=float32), 0, array([[1.825681]], dtype=float32)),\n",
              " (array([[5.986456]], dtype=float32), 8, array([[2.013544]], dtype=float32)),\n",
              " (array([[0.9313088]], dtype=float32), 0, array([[0.9313088]], dtype=float32)),\n",
              " (array([[-0.39054322]], dtype=float32),\n",
              "  0,\n",
              "  array([[0.39054322]], dtype=float32))]"
            ]
          },
          "metadata": {
            "tags": []
          },
          "execution_count": 15
        }
      ]
    },
    {
      "cell_type": "markdown",
      "metadata": {
        "id": "eqORU6PNR7U_",
        "colab_type": "text"
      },
      "source": [
        "Average (absolute) difference."
      ]
    },
    {
      "cell_type": "code",
      "metadata": {
        "id": "dOT8r959LtEK",
        "colab_type": "code",
        "colab": {
          "base_uri": "https://localhost:8080/",
          "height": 34
        },
        "outputId": "f24e2141-49d8-4290-e456-3de630ee2028"
      },
      "source": [
        "sum([d for x,y,d in check_predictions])/len(check_predictions)  #array([[1.7262235]], dtype=float32)"
      ],
      "execution_count": 16,
      "outputs": [
        {
          "output_type": "execute_result",
          "data": {
            "text/plain": [
              "array([[1.7123202]], dtype=float32)"
            ]
          },
          "metadata": {
            "tags": []
          },
          "execution_count": 16
        }
      ]
    },
    {
      "cell_type": "markdown",
      "metadata": {
        "id": "4_VE8xaqTHX6",
        "colab_type": "text"
      },
      "source": [
        "MSE"
      ]
    },
    {
      "cell_type": "code",
      "metadata": {
        "id": "AHav8JSFQvg5",
        "colab_type": "code",
        "colab": {
          "base_uri": "https://localhost:8080/",
          "height": 34
        },
        "outputId": "7f2eb9da-6638-4573-9917-0df989876fb3"
      },
      "source": [
        "sum([d**2 for x,y,d in check_predictions])/len(check_predictions)  #array([[10.767744]], dtype=float32)"
      ],
      "execution_count": 17,
      "outputs": [
        {
          "output_type": "execute_result",
          "data": {
            "text/plain": [
              "array([[10.757049]], dtype=float32)"
            ]
          },
          "metadata": {
            "tags": []
          },
          "execution_count": 17
        }
      ]
    },
    {
      "cell_type": "markdown",
      "metadata": {
        "id": "6VPBEXLKzHcn",
        "colab_type": "text"
      },
      "source": [
        "## Kind of interesting\n",
        "\n",
        "How many predictions are off by a given difference:\n",
        "<pre>\n",
        "(0, 0.34701857282502446)        #35% dead on\n",
        "(1, 0.3069403714565005)         #65% within 1\n",
        "(2, 0.14565004887585534)        #79% within 2\n",
        "(3, 0.07429130009775171)\n",
        "(4, 0.0469208211143695)\n",
        "(5, 0.024437927663734114)\n",
        "(6, 0.019550342130987292)\n",
        "(7, 0.009775171065493646)\n",
        "(8, 0.006842619745845552)\n",
        "(9, 0.005865102639296188)\n",
        "</pre>"
      ]
    },
    {
      "cell_type": "code",
      "metadata": {
        "id": "6Anvjt1qwEoF",
        "colab_type": "code",
        "colab": {
          "base_uri": "https://localhost:8080/",
          "height": 185
        },
        "outputId": "71c403ac-ef28-455a-9b27-ff11f364c3d9"
      },
      "source": [
        "#round prediction and compare that with actual\n",
        "\n",
        "for i in range(10):\n",
        "  print((i, len([1 for y,x,d in check_predictions if abs(x-np.round(y))==float(i)])/len(check_predictions)))"
      ],
      "execution_count": 18,
      "outputs": [
        {
          "output_type": "stream",
          "text": [
            "(0, 0.34701857282502446)\n",
            "(1, 0.3069403714565005)\n",
            "(2, 0.14565004887585534)\n",
            "(3, 0.07429130009775171)\n",
            "(4, 0.0469208211143695)\n",
            "(5, 0.024437927663734114)\n",
            "(6, 0.019550342130987292)\n",
            "(7, 0.009775171065493646)\n",
            "(8, 0.006842619745845552)\n",
            "(9, 0.005865102639296188)\n"
          ],
          "name": "stdout"
        }
      ]
    },
    {
      "cell_type": "markdown",
      "metadata": {
        "id": "Sdmf9kH_S7Ad",
        "colab_type": "text"
      },
      "source": [
        "# Try with scaled features\n",
        "\n"
      ]
    },
    {
      "cell_type": "code",
      "metadata": {
        "colab_type": "code",
        "outputId": "5c78c262-cf33-4f54-8e65-8c0ab8de6f9e",
        "id": "hj_WtAdvUt8H",
        "colab": {
          "base_uri": "https://localhost:8080/",
          "height": 34
        }
      },
      "source": [
        "commit_counts[:10]"
      ],
      "execution_count": 27,
      "outputs": [
        {
          "output_type": "execute_result",
          "data": {
            "text/plain": [
              "array([ 4,  0,  0,  0,  0,  8, 12,  8, 24,  4])"
            ]
          },
          "metadata": {
            "tags": []
          },
          "execution_count": 27
        }
      ]
    },
    {
      "cell_type": "code",
      "metadata": {
        "colab_type": "code",
        "outputId": "634cdb2e-0893-487e-eafd-48fc9b2fdc8d",
        "id": "JlqudhGmUt8R",
        "colab": {
          "base_uri": "https://localhost:8080/",
          "height": 185
        }
      },
      "source": [
        "commit_counts_scaled[:10]"
      ],
      "execution_count": 28,
      "outputs": [
        {
          "output_type": "execute_result",
          "data": {
            "text/plain": [
              "array([[0.05128205],\n",
              "       [0.        ],\n",
              "       [0.        ],\n",
              "       [0.        ],\n",
              "       [0.        ],\n",
              "       [0.1025641 ],\n",
              "       [0.15384615],\n",
              "       [0.1025641 ],\n",
              "       [0.30769231],\n",
              "       [0.05128205]])"
            ]
          },
          "metadata": {
            "tags": []
          },
          "execution_count": 28
        }
      ]
    },
    {
      "cell_type": "code",
      "metadata": {
        "id": "emQzaKL0hnA1",
        "colab_type": "code",
        "colab": {
          "base_uri": "https://localhost:8080/",
          "height": 283
        },
        "outputId": "5390f170-2ca8-49ed-a580-38253fecd253"
      },
      "source": [
        "plt.plot(commit_counts_scaled)\n",
        "plt.ylabel('Commits per day scaled')\n",
        "plt.xlabel('days')\n",
        "plt.show()"
      ],
      "execution_count": 29,
      "outputs": [
        {
          "output_type": "display_data",
          "data": {
            "image/png": "[encoded data removed]",
            "text/plain": [
              "<Figure size 432x288 with 1 Axes>"
            ]
          },
          "metadata": {
            "tags": []
          }
        }
      ]
    },
    {
      "cell_type": "code",
      "metadata": {
        "id": "wwaUZCF8XfgK",
        "colab_type": "code",
        "colab": {}
      },
      "source": [
        "#Remember these because will reset them shortly\n",
        "\n",
        "unscaled_labels = labels\n",
        "unscaled_features_set = features_set\n",
        "unscaled_check_predictions = check_predictions"
      ],
      "execution_count": 0,
      "outputs": []
    },
    {
      "cell_type": "markdown",
      "metadata": {
        "colab_type": "text",
        "id": "m_a6NsC-Ut8W"
      },
      "source": [
        "## Working on scaled"
      ]
    },
    {
      "cell_type": "code",
      "metadata": {
        "colab_type": "code",
        "outputId": "c5501177-a751-42d3-f3fe-93b44cf5ce1e",
        "id": "L0__nWFSUt8X",
        "colab": {
          "base_uri": "https://localhost:8080/",
          "height": 34
        }
      },
      "source": [
        "chunk = 30  #take 30 days in each chunk\n",
        "\n",
        "features_set = []  \n",
        "labels =  []  \n",
        "for i in range(chunk, len(commit_counts_scaled)):  \n",
        "    features_set.append(commit_counts_scaled[i-chunk:i])\n",
        "    labels.append(commit_counts_scaled[i])\n",
        "    \n",
        "(len(features_set), len(labels))"
      ],
      "execution_count": 31,
      "outputs": [
        {
          "output_type": "execute_result",
          "data": {
            "text/plain": [
              "(1023, 1023)"
            ]
          },
          "metadata": {
            "tags": []
          },
          "execution_count": 31
        }
      ]
    },
    {
      "cell_type": "code",
      "metadata": {
        "colab_type": "code",
        "outputId": "8ccd07da-445a-4f6a-cb69-780e30106d10",
        "id": "rKkx4X5jUt8b",
        "colab": {
          "base_uri": "https://localhost:8080/",
          "height": 521
        }
      },
      "source": [
        "features_set[-1]  #last 30 day chunk"
      ],
      "execution_count": 32,
      "outputs": [
        {
          "output_type": "execute_result",
          "data": {
            "text/plain": [
              "array([[0.1025641 ],\n",
              "       [0.07692308],\n",
              "       [0.        ],\n",
              "       [0.05128205],\n",
              "       [0.        ],\n",
              "       [0.15384615],\n",
              "       [0.05128205],\n",
              "       [0.23076923],\n",
              "       [0.1025641 ],\n",
              "       [0.1025641 ],\n",
              "       [0.        ],\n",
              "       [0.02564103],\n",
              "       [0.12820513],\n",
              "       [0.07692308],\n",
              "       [0.15384615],\n",
              "       [0.07692308],\n",
              "       [0.17948718],\n",
              "       [0.20512821],\n",
              "       [0.12820513],\n",
              "       [0.17948718],\n",
              "       [0.30769231],\n",
              "       [0.05128205],\n",
              "       [0.        ],\n",
              "       [0.        ],\n",
              "       [0.        ],\n",
              "       [0.        ],\n",
              "       [0.        ],\n",
              "       [0.        ],\n",
              "       [0.        ],\n",
              "       [0.        ]])"
            ]
          },
          "metadata": {
            "tags": []
          },
          "execution_count": 32
        }
      ]
    },
    {
      "cell_type": "code",
      "metadata": {
        "colab_type": "code",
        "outputId": "26c092f9-fa6c-4ea4-c31a-60d3d297e246",
        "id": "710XD83hUt8j",
        "colab": {
          "base_uri": "https://localhost:8080/",
          "height": 353
        }
      },
      "source": [
        "labels[:20]"
      ],
      "execution_count": 33,
      "outputs": [
        {
          "output_type": "execute_result",
          "data": {
            "text/plain": [
              "[array([0.]),\n",
              " array([0.]),\n",
              " array([0.]),\n",
              " array([0.]),\n",
              " array([0.]),\n",
              " array([0.]),\n",
              " array([0.]),\n",
              " array([0.1025641]),\n",
              " array([0.]),\n",
              " array([0.]),\n",
              " array([0.15384615]),\n",
              " array([0.]),\n",
              " array([0.]),\n",
              " array([0.]),\n",
              " array([0.]),\n",
              " array([0.]),\n",
              " array([0.]),\n",
              " array([0.]),\n",
              " array([0.]),\n",
              " array([0.])]"
            ]
          },
          "metadata": {
            "tags": []
          },
          "execution_count": 33
        }
      ]
    },
    {
      "cell_type": "code",
      "metadata": {
        "colab_type": "code",
        "id": "e_6lYLYVUt8p",
        "colab": {}
      },
      "source": [
        "\n",
        "features_set, labels = np.array(features_set), np.array(labels)  "
      ],
      "execution_count": 0,
      "outputs": []
    },
    {
      "cell_type": "code",
      "metadata": {
        "colab_type": "code",
        "outputId": "800a1ef4-ba30-4bd4-9a42-873d4e7ee1bd",
        "id": "VzNLXCIHUt8r",
        "colab": {
          "base_uri": "https://localhost:8080/",
          "height": 34
        }
      },
      "source": [
        "features_set = np.reshape(features_set, (features_set.shape[0], features_set.shape[1], 1))  \n",
        "features_set.shape"
      ],
      "execution_count": 35,
      "outputs": [
        {
          "output_type": "execute_result",
          "data": {
            "text/plain": [
              "(1023, 30, 1)"
            ]
          },
          "metadata": {
            "tags": []
          },
          "execution_count": 35
        }
      ]
    },
    {
      "cell_type": "code",
      "metadata": {
        "colab_type": "code",
        "id": "viQScea6U0z7",
        "colab": {}
      },
      "source": [
        "model = Sequential()  \n"
      ],
      "execution_count": 0,
      "outputs": []
    },
    {
      "cell_type": "code",
      "metadata": {
        "colab_type": "code",
        "id": "gabOlskPU00D",
        "colab": {}
      },
      "source": [
        "model.add(LSTM(units=50, return_sequences=True, input_shape=(features_set.shape[1], 1)))  \n"
      ],
      "execution_count": 0,
      "outputs": []
    },
    {
      "cell_type": "code",
      "metadata": {
        "colab_type": "code",
        "id": "iZePUePJU00H",
        "colab": {}
      },
      "source": [
        "model.add(Dropout(0.2))  \n",
        "\n"
      ],
      "execution_count": 0,
      "outputs": []
    },
    {
      "cell_type": "code",
      "metadata": {
        "colab_type": "code",
        "id": "glkqzoQTU00M",
        "colab": {}
      },
      "source": [
        "model.add(LSTM(units=50, return_sequences=True))  \n",
        "model.add(Dropout(0.2))\n",
        "\n",
        "model.add(LSTM(units=50, return_sequences=True))  \n",
        "model.add(Dropout(0.2))\n",
        "\n",
        "model.add(LSTM(units=50))  \n",
        "model.add(Dropout(0.2))  "
      ],
      "execution_count": 0,
      "outputs": []
    },
    {
      "cell_type": "code",
      "metadata": {
        "colab_type": "code",
        "id": "JWS0Os1iU00P",
        "colab": {}
      },
      "source": [
        "model.add(Dense(units = 1))  \n"
      ],
      "execution_count": 0,
      "outputs": []
    },
    {
      "cell_type": "code",
      "metadata": {
        "colab_type": "code",
        "id": "N39aJXnjU00X",
        "colab": {}
      },
      "source": [
        "model.compile(optimizer = 'adam', loss = 'mean_squared_error')  \n"
      ],
      "execution_count": 0,
      "outputs": []
    },
    {
      "cell_type": "code",
      "metadata": {
        "colab_type": "code",
        "outputId": "f46378bc-31a8-4a0f-bf8c-45a897e7341c",
        "id": "ImXEROfxU00b",
        "colab": {
          "base_uri": "https://localhost:8080/",
          "height": 1000
        }
      },
      "source": [
        "'''\n",
        "Epoch 100/100\n",
        "1023/1023 [==============================] - 3s 3ms/step - loss: 0.0047\n",
        "'''\n",
        "model.fit(features_set, labels, epochs = 100, batch_size = 32)  \n"
      ],
      "execution_count": 42,
      "outputs": [
        {
          "output_type": "stream",
          "text": [
            "Epoch 1/100\n",
            "1023/1023 [==============================] - 7s 7ms/step - loss: 0.0052\n",
            "Epoch 2/100\n",
            "1023/1023 [==============================] - 3s 3ms/step - loss: 0.0051\n",
            "Epoch 3/100\n",
            "1023/1023 [==============================] - 3s 3ms/step - loss: 0.0052\n",
            "Epoch 4/100\n",
            "1023/1023 [==============================] - 3s 3ms/step - loss: 0.0052\n",
            "Epoch 5/100\n",
            "1023/1023 [==============================] - 3s 3ms/step - loss: 0.0051\n",
            "Epoch 6/100\n",
            "1023/1023 [==============================] - 3s 3ms/step - loss: 0.0051\n",
            "Epoch 7/100\n",
            "1023/1023 [==============================] - 3s 3ms/step - loss: 0.0051\n",
            "Epoch 8/100\n",
            "1023/1023 [==============================] - 3s 3ms/step - loss: 0.0051\n",
            "Epoch 9/100\n",
            "1023/1023 [==============================] - 3s 3ms/step - loss: 0.0051\n",
            "Epoch 10/100\n",
            "1023/1023 [==============================] - 3s 3ms/step - loss: 0.0051\n",
            "Epoch 11/100\n",
            "1023/1023 [==============================] - 3s 3ms/step - loss: 0.0051\n",
            "Epoch 12/100\n",
            "1023/1023 [==============================] - 3s 3ms/step - loss: 0.0050\n",
            "Epoch 13/100\n",
            "1023/1023 [==============================] - 3s 3ms/step - loss: 0.0050\n",
            "Epoch 14/100\n",
            "1023/1023 [==============================] - 3s 3ms/step - loss: 0.0050\n",
            "Epoch 15/100\n",
            "1023/1023 [==============================] - 3s 3ms/step - loss: 0.0051\n",
            "Epoch 16/100\n",
            "1023/1023 [==============================] - 3s 3ms/step - loss: 0.0051\n",
            "Epoch 17/100\n",
            "1023/1023 [==============================] - 3s 3ms/step - loss: 0.0050\n",
            "Epoch 18/100\n",
            "1023/1023 [==============================] - 3s 3ms/step - loss: 0.0050\n",
            "Epoch 19/100\n",
            "1023/1023 [==============================] - 3s 3ms/step - loss: 0.0050\n",
            "Epoch 20/100\n",
            "1023/1023 [==============================] - 3s 3ms/step - loss: 0.0050\n",
            "Epoch 21/100\n",
            "1023/1023 [==============================] - 3s 3ms/step - loss: 0.0049\n",
            "Epoch 22/100\n",
            "1023/1023 [==============================] - 3s 3ms/step - loss: 0.0049\n",
            "Epoch 23/100\n",
            "1023/1023 [==============================] - 3s 3ms/step - loss: 0.0049\n",
            "Epoch 24/100\n",
            "1023/1023 [==============================] - 3s 3ms/step - loss: 0.0049\n",
            "Epoch 25/100\n",
            "1023/1023 [==============================] - 3s 3ms/step - loss: 0.0049\n",
            "Epoch 26/100\n",
            "1023/1023 [==============================] - 3s 3ms/step - loss: 0.0048\n",
            "Epoch 27/100\n",
            "1023/1023 [==============================] - 3s 3ms/step - loss: 0.0048\n",
            "Epoch 28/100\n",
            "1023/1023 [==============================] - 3s 3ms/step - loss: 0.0048\n",
            "Epoch 29/100\n",
            "1023/1023 [==============================] - 3s 3ms/step - loss: 0.0048\n",
            "Epoch 30/100\n",
            "1023/1023 [==============================] - 3s 3ms/step - loss: 0.0048\n",
            "Epoch 31/100\n",
            "1023/1023 [==============================] - 3s 3ms/step - loss: 0.0048\n",
            "Epoch 32/100\n",
            "1023/1023 [==============================] - 3s 3ms/step - loss: 0.0048\n",
            "Epoch 33/100\n",
            "1023/1023 [==============================] - 3s 3ms/step - loss: 0.0048\n",
            "Epoch 34/100\n",
            "1023/1023 [==============================] - 3s 3ms/step - loss: 0.0047\n",
            "Epoch 35/100\n",
            "1023/1023 [==============================] - 3s 3ms/step - loss: 0.0047\n",
            "Epoch 36/100\n",
            "1023/1023 [==============================] - 3s 3ms/step - loss: 0.0048\n",
            "Epoch 37/100\n",
            "1023/1023 [==============================] - 3s 3ms/step - loss: 0.0048\n",
            "Epoch 38/100\n",
            "1023/1023 [==============================] - 3s 3ms/step - loss: 0.0048\n",
            "Epoch 39/100\n",
            "1023/1023 [==============================] - 3s 3ms/step - loss: 0.0048\n",
            "Epoch 40/100\n",
            "1023/1023 [==============================] - 3s 3ms/step - loss: 0.0048\n",
            "Epoch 41/100\n",
            "1023/1023 [==============================] - 3s 3ms/step - loss: 0.0048\n",
            "Epoch 42/100\n",
            "1023/1023 [==============================] - 3s 3ms/step - loss: 0.0048\n",
            "Epoch 43/100\n",
            "1023/1023 [==============================] - 3s 3ms/step - loss: 0.0048\n",
            "Epoch 44/100\n",
            "1023/1023 [==============================] - 3s 3ms/step - loss: 0.0048\n",
            "Epoch 45/100\n",
            "1023/1023 [==============================] - 3s 3ms/step - loss: 0.0048\n",
            "Epoch 46/100\n",
            "1023/1023 [==============================] - 3s 3ms/step - loss: 0.0046\n",
            "Epoch 47/100\n",
            "1023/1023 [==============================] - 3s 3ms/step - loss: 0.0049\n",
            "Epoch 48/100\n",
            "1023/1023 [==============================] - 3s 3ms/step - loss: 0.0047\n",
            "Epoch 49/100\n",
            "1023/1023 [==============================] - 3s 3ms/step - loss: 0.0048\n",
            "Epoch 50/100\n",
            "1023/1023 [==============================] - 3s 3ms/step - loss: 0.0047\n",
            "Epoch 51/100\n",
            "1023/1023 [==============================] - 3s 3ms/step - loss: 0.0048\n",
            "Epoch 52/100\n",
            "1023/1023 [==============================] - 3s 3ms/step - loss: 0.0048\n",
            "Epoch 53/100\n",
            "1023/1023 [==============================] - 3s 3ms/step - loss: 0.0047\n",
            "Epoch 54/100\n",
            "1023/1023 [==============================] - 3s 3ms/step - loss: 0.0048\n",
            "Epoch 55/100\n",
            "1023/1023 [==============================] - 3s 3ms/step - loss: 0.0048\n",
            "Epoch 56/100\n",
            "1023/1023 [==============================] - 3s 3ms/step - loss: 0.0048\n",
            "Epoch 57/100\n",
            "1023/1023 [==============================] - 3s 3ms/step - loss: 0.0048\n",
            "Epoch 58/100\n",
            "1023/1023 [==============================] - 3s 3ms/step - loss: 0.0047\n",
            "Epoch 59/100\n",
            "1023/1023 [==============================] - 3s 3ms/step - loss: 0.0048\n",
            "Epoch 60/100\n",
            "1023/1023 [==============================] - 3s 3ms/step - loss: 0.0048\n",
            "Epoch 61/100\n",
            "1023/1023 [==============================] - 3s 3ms/step - loss: 0.0048\n",
            "Epoch 62/100\n",
            "1023/1023 [==============================] - 3s 3ms/step - loss: 0.0047\n",
            "Epoch 63/100\n",
            "1023/1023 [==============================] - 3s 3ms/step - loss: 0.0048\n",
            "Epoch 64/100\n",
            "1023/1023 [==============================] - 3s 3ms/step - loss: 0.0047\n",
            "Epoch 65/100\n",
            "1023/1023 [==============================] - 3s 3ms/step - loss: 0.0048\n",
            "Epoch 66/100\n",
            "1023/1023 [==============================] - 3s 3ms/step - loss: 0.0047\n",
            "Epoch 67/100\n",
            "1023/1023 [==============================] - 3s 3ms/step - loss: 0.0047\n",
            "Epoch 68/100\n",
            "1023/1023 [==============================] - 3s 3ms/step - loss: 0.0047\n",
            "Epoch 69/100\n",
            "1023/1023 [==============================] - 3s 3ms/step - loss: 0.0047\n",
            "Epoch 70/100\n",
            "1023/1023 [==============================] - 3s 3ms/step - loss: 0.0047\n",
            "Epoch 71/100\n",
            "1023/1023 [==============================] - 3s 3ms/step - loss: 0.0048\n",
            "Epoch 72/100\n",
            "1023/1023 [==============================] - 3s 3ms/step - loss: 0.0048\n",
            "Epoch 73/100\n",
            "1023/1023 [==============================] - 3s 3ms/step - loss: 0.0047\n",
            "Epoch 74/100\n",
            "1023/1023 [==============================] - 3s 3ms/step - loss: 0.0048\n",
            "Epoch 75/100\n",
            "1023/1023 [==============================] - 3s 3ms/step - loss: 0.0047\n",
            "Epoch 76/100\n",
            "1023/1023 [==============================] - 3s 3ms/step - loss: 0.0047\n",
            "Epoch 77/100\n",
            "1023/1023 [==============================] - 3s 3ms/step - loss: 0.0047\n",
            "Epoch 78/100\n",
            "1023/1023 [==============================] - 3s 3ms/step - loss: 0.0047\n",
            "Epoch 79/100\n",
            "1023/1023 [==============================] - 3s 3ms/step - loss: 0.0047\n",
            "Epoch 80/100\n",
            "1023/1023 [==============================] - 3s 3ms/step - loss: 0.0047\n",
            "Epoch 81/100\n",
            "1023/1023 [==============================] - 3s 3ms/step - loss: 0.0047\n",
            "Epoch 82/100\n",
            "1023/1023 [==============================] - 3s 3ms/step - loss: 0.0047\n",
            "Epoch 83/100\n",
            "1023/1023 [==============================] - 3s 3ms/step - loss: 0.0047\n",
            "Epoch 84/100\n",
            "1023/1023 [==============================] - 3s 3ms/step - loss: 0.0048\n",
            "Epoch 85/100\n",
            "1023/1023 [==============================] - 3s 3ms/step - loss: 0.0047\n",
            "Epoch 86/100\n",
            "1023/1023 [==============================] - 3s 3ms/step - loss: 0.0047\n",
            "Epoch 87/100\n",
            "1023/1023 [==============================] - 3s 3ms/step - loss: 0.0047\n",
            "Epoch 88/100\n",
            "1023/1023 [==============================] - 3s 3ms/step - loss: 0.0048\n",
            "Epoch 89/100\n",
            "1023/1023 [==============================] - 3s 3ms/step - loss: 0.0047\n",
            "Epoch 90/100\n",
            "1023/1023 [==============================] - 3s 3ms/step - loss: 0.0047\n",
            "Epoch 91/100\n",
            "1023/1023 [==============================] - 3s 3ms/step - loss: 0.0047\n",
            "Epoch 92/100\n",
            "1023/1023 [==============================] - 3s 3ms/step - loss: 0.0048\n",
            "Epoch 93/100\n",
            "1023/1023 [==============================] - 3s 3ms/step - loss: 0.0047\n",
            "Epoch 94/100\n",
            "1023/1023 [==============================] - 3s 3ms/step - loss: 0.0047\n",
            "Epoch 95/100\n",
            "1023/1023 [==============================] - 3s 3ms/step - loss: 0.0047\n",
            "Epoch 96/100\n",
            "1023/1023 [==============================] - 3s 3ms/step - loss: 0.0047\n",
            "Epoch 97/100\n",
            "1023/1023 [==============================] - 3s 3ms/step - loss: 0.0047\n",
            "Epoch 98/100\n",
            "1023/1023 [==============================] - 3s 3ms/step - loss: 0.0047\n",
            "Epoch 99/100\n",
            "1023/1023 [==============================] - 3s 3ms/step - loss: 0.0047\n",
            "Epoch 100/100\n",
            "1023/1023 [==============================] - 3s 3ms/step - loss: 0.0047\n"
          ],
          "name": "stdout"
        },
        {
          "output_type": "execute_result",
          "data": {
            "text/plain": [
              "<keras.callbacks.History at 0x7f33bee7a668>"
            ]
          },
          "metadata": {
            "tags": []
          },
          "execution_count": 42
        }
      ]
    },
    {
      "cell_type": "markdown",
      "metadata": {
        "colab_type": "text",
        "id": "i6LRqMXkU-cQ"
      },
      "source": [
        "## Write model out to gdrive"
      ]
    },
    {
      "cell_type": "code",
      "metadata": {
        "colab_type": "code",
        "outputId": "bfcc5c7b-775d-4c7a-b4f3-3e3e0ae74560",
        "id": "PYB-EVe1U-cR",
        "colab": {
          "base_uri": "https://localhost:8080/",
          "height": 34
        }
      },
      "source": [
        "from google.colab import drive\n",
        "drive.mount('/content/gdrive')"
      ],
      "execution_count": 43,
      "outputs": [
        {
          "output_type": "stream",
          "text": [
            "Drive already mounted at /content/gdrive; to attempt to forcibly remount, call drive.mount(\"/content/gdrive\", force_remount=True).\n"
          ],
          "name": "stdout"
        }
      ]
    },
    {
      "cell_type": "code",
      "metadata": {
        "colab_type": "code",
        "id": "ioib7w54U-cX",
        "colab": {}
      },
      "source": [
        "# save model to single file\n",
        "model.save('/content/gdrive/My Drive/lstm_model_v1.h5')"
      ],
      "execution_count": 0,
      "outputs": []
    },
    {
      "cell_type": "markdown",
      "metadata": {
        "colab_type": "text",
        "id": "SZ7ITMIHU-cY"
      },
      "source": [
        "Make sure we can load it again."
      ]
    },
    {
      "cell_type": "code",
      "metadata": {
        "colab_type": "code",
        "id": "winTGsUaU-cZ",
        "colab": {}
      },
      "source": [
        "from keras.models import load_model # load model from single file\n",
        "model_test = load_model('/content/gdrive/My Drive/lstm_model_v1.h5') # make predictions\n"
      ],
      "execution_count": 0,
      "outputs": []
    },
    {
      "cell_type": "code",
      "metadata": {
        "id": "LHtGfAuRU5z9",
        "colab_type": "code",
        "colab": {
          "base_uri": "https://localhost:8080/",
          "height": 34
        },
        "outputId": "76cc45e4-1869-4947-dee3-3fcc449935e2"
      },
      "source": [
        "max(commit_counts)"
      ],
      "execution_count": 46,
      "outputs": [
        {
          "output_type": "execute_result",
          "data": {
            "text/plain": [
              "78"
            ]
          },
          "metadata": {
            "tags": []
          },
          "execution_count": 46
        }
      ]
    },
    {
      "cell_type": "code",
      "metadata": {
        "colab_type": "code",
        "id": "s2N1l_hiU-cb",
        "colab": {}
      },
      "source": [
        "#Try on training set for giggles\n",
        "check_predictions = []\n",
        "\n",
        "for  i,chunk in enumerate(features_set):\n",
        "  chunk = np.reshape(chunk, (1, features_set.shape[1], 1))\n",
        "  yhat = model_test.predict(chunk, verbose=0)\n",
        "  check_predictions.append((yhat, labels[i], abs(yhat-labels[i])))\n"
      ],
      "execution_count": 0,
      "outputs": []
    },
    {
      "cell_type": "code",
      "metadata": {
        "colab_type": "code",
        "outputId": "95c118b9-2ab8-4d8b-9c73-912ee63f3f95",
        "id": "YQ195O07U-cj",
        "colab": {
          "base_uri": "https://localhost:8080/",
          "height": 218
        }
      },
      "source": [
        "check_predictions[:10]"
      ],
      "execution_count": 48,
      "outputs": [
        {
          "output_type": "execute_result",
          "data": {
            "text/plain": [
              "[(array([[0.02085563]], dtype=float32), array([0.]), array([[0.02085563]])),\n",
              " (array([[0.02085207]], dtype=float32), array([0.]), array([[0.02085207]])),\n",
              " (array([[0.02085352]], dtype=float32), array([0.]), array([[0.02085352]])),\n",
              " (array([[0.02085711]], dtype=float32), array([0.]), array([[0.02085711]])),\n",
              " (array([[0.02086096]], dtype=float32), array([0.]), array([[0.02086096]])),\n",
              " (array([[0.02086413]], dtype=float32), array([0.]), array([[0.02086413]])),\n",
              " (array([[0.02086657]], dtype=float32), array([0.]), array([[0.02086657]])),\n",
              " (array([[0.02086818]], dtype=float32),\n",
              "  array([0.1025641]),\n",
              "  array([[0.08169592]])),\n",
              " (array([[0.04026111]], dtype=float32), array([0.]), array([[0.04026111]])),\n",
              " (array([[0.03885184]], dtype=float32), array([0.]), array([[0.03885184]]))]"
            ]
          },
          "metadata": {
            "tags": []
          },
          "execution_count": 48
        }
      ]
    },
    {
      "cell_type": "code",
      "metadata": {
        "id": "RyZwuo7qa63A",
        "colab_type": "code",
        "colab": {}
      },
      "source": [
        ""
      ],
      "execution_count": 0,
      "outputs": []
    },
    {
      "cell_type": "markdown",
      "metadata": {
        "colab_type": "text",
        "id": "qvUEbkjfa7ZZ"
      },
      "source": [
        "Average (absolute) difference."
      ]
    },
    {
      "cell_type": "code",
      "metadata": {
        "colab_type": "code",
        "outputId": "d6cc8cdc-e4bf-451d-9419-c12e02dfe74a",
        "id": "8zycHwKfa7Za",
        "colab": {
          "base_uri": "https://localhost:8080/",
          "height": 34
        }
      },
      "source": [
        "sum([d for y,x,d in check_predictions])/len(check_predictions)  #array([[0.03890186]])"
      ],
      "execution_count": 49,
      "outputs": [
        {
          "output_type": "execute_result",
          "data": {
            "text/plain": [
              "array([[0.04229493]])"
            ]
          },
          "metadata": {
            "tags": []
          },
          "execution_count": 49
        }
      ]
    },
    {
      "cell_type": "markdown",
      "metadata": {
        "colab_type": "text",
        "id": "1jxpujt3a7Zd"
      },
      "source": [
        "MSE"
      ]
    },
    {
      "cell_type": "code",
      "metadata": {
        "colab_type": "code",
        "outputId": "6e916e42-7681-4364-e2e3-25997518b148",
        "id": "SJO0hp97a7Ze",
        "colab": {
          "base_uri": "https://localhost:8080/",
          "height": 34
        }
      },
      "source": [
        "sum([d**2 for y,x,d in check_predictions])/len(check_predictions)  #array([[0.00464382]])"
      ],
      "execution_count": 50,
      "outputs": [
        {
          "output_type": "execute_result",
          "data": {
            "text/plain": [
              "array([[0.00466535]])"
            ]
          },
          "metadata": {
            "tags": []
          },
          "execution_count": 50
        }
      ]
    },
    {
      "cell_type": "code",
      "metadata": {
        "id": "kxEVKzb5dD4X",
        "colab_type": "code",
        "colab": {
          "base_uri": "https://localhost:8080/",
          "height": 34
        },
        "outputId": "5293128a-2a9f-4502-8cc3-7ebeb473f267"
      },
      "source": [
        "unscaled_labels[:10]"
      ],
      "execution_count": 51,
      "outputs": [
        {
          "output_type": "execute_result",
          "data": {
            "text/plain": [
              "array([0, 0, 0, 0, 0, 0, 0, 8, 0, 0])"
            ]
          },
          "metadata": {
            "tags": []
          },
          "execution_count": 51
        }
      ]
    },
    {
      "cell_type": "code",
      "metadata": {
        "id": "3bk-xd2qe7yQ",
        "colab_type": "code",
        "colab": {
          "base_uri": "https://localhost:8080/",
          "height": 185
        },
        "outputId": "2157d7a1-b880-40e7-8adc-0f7999860944"
      },
      "source": [
        "[y*78 for y,x,d in check_predictions][:10]"
      ],
      "execution_count": 52,
      "outputs": [
        {
          "output_type": "execute_result",
          "data": {
            "text/plain": [
              "[array([[1.6267388]], dtype=float32),\n",
              " array([[1.6264615]], dtype=float32),\n",
              " array([[1.6265744]], dtype=float32),\n",
              " array([[1.6268543]], dtype=float32),\n",
              " array([[1.6271551]], dtype=float32),\n",
              " array([[1.6274023]], dtype=float32),\n",
              " array([[1.6275927]], dtype=float32),\n",
              " array([[1.627718]], dtype=float32),\n",
              " array([[3.1403666]], dtype=float32),\n",
              " array([[3.0304437]], dtype=float32)]"
            ]
          },
          "metadata": {
            "tags": []
          },
          "execution_count": 52
        }
      ]
    },
    {
      "cell_type": "markdown",
      "metadata": {
        "id": "uuhgf72MddMl",
        "colab_type": "text"
      },
      "source": [
        "Check out actual unscaled value (between 0 and 78) with scaled prediction times 78"
      ]
    },
    {
      "cell_type": "code",
      "metadata": {
        "id": "bHRrywWrbxty",
        "colab_type": "code",
        "colab": {
          "base_uri": "https://localhost:8080/",
          "height": 34
        },
        "outputId": "3de2e032-c9bb-4f7d-8c0e-97d09bf87893"
      },
      "source": [
        "sum([ abs(val-(check_predictions[i][0]*78)) for i,val in enumerate(unscaled_labels)])/len(labels) #array([[3.0343463]], dtype=float32)\n",
        "  "
      ],
      "execution_count": 53,
      "outputs": [
        {
          "output_type": "execute_result",
          "data": {
            "text/plain": [
              "array([[3.299006]], dtype=float32)"
            ]
          },
          "metadata": {
            "tags": []
          },
          "execution_count": 53
        }
      ]
    },
    {
      "cell_type": "markdown",
      "metadata": {
        "id": "-fydDbU8eRo2",
        "colab_type": "text"
      },
      "source": [
        "Unscaled abs diff average was only 1.8093741."
      ]
    },
    {
      "cell_type": "markdown",
      "metadata": {
        "id": "i09XBA-2h09U",
        "colab_type": "text"
      },
      "source": [
        "# Now try binning\n",
        "\n",
        "Bin into 4 bins arbitrarily using glance at plot of unscaled counts.\n",
        "<p>\n",
        "  <img src='https://www.dropbox.com/s/uwzxigie260ar5d/Screenshot%202019-06-26%2013.52.55.png?raw=1'>"
      ]
    },
    {
      "cell_type": "code",
      "metadata": {
        "id": "pypVbYECijrp",
        "colab_type": "code",
        "colab": {}
      },
      "source": [
        "bin1 = 5\n",
        "bin2 = 10\n",
        "bin3 = 20\n",
        "#bin4 is anything over 20"
      ],
      "execution_count": 0,
      "outputs": []
    },
    {
      "cell_type": "markdown",
      "metadata": {
        "id": "h6AzT0uS2OGS",
        "colab_type": "text"
      },
      "source": [
        "## Note\n",
        "\n",
        "Might want to consider 0 commits in its own bin. Depends if there is a qualitative difference between 0 and not 0. Maybe if know 0 commits for next day, can avoid doing something. But if non 0, then will have to do it no matter.\n",
        "\n",
        "Or not. Just brainstorming."
      ]
    },
    {
      "cell_type": "code",
      "metadata": {
        "id": "vIJczP58iQI6",
        "colab_type": "code",
        "colab": {}
      },
      "source": [
        "binned_counts = []\n",
        "\n",
        "for c in commit_counts:\n",
        "  if c <= bin1:\n",
        "    binned_counts.append(0)\n",
        "    continue\n",
        "    \n",
        "  if c <= bin2:\n",
        "    binned_counts.append(1)\n",
        "    continue\n",
        "    \n",
        "  if c <= bin3:\n",
        "    binned_counts.append(2)\n",
        "    continue\n",
        "    \n",
        "  binned_counts.append(3)  # > bin3"
      ],
      "execution_count": 0,
      "outputs": []
    },
    {
      "cell_type": "code",
      "metadata": {
        "id": "NldVozTMkk18",
        "colab_type": "code",
        "colab": {
          "base_uri": "https://localhost:8080/",
          "height": 283
        },
        "outputId": "b4f0ae29-a11a-43a8-b732-1c853c495b6e"
      },
      "source": [
        "plt.plot(binned_counts)\n",
        "plt.ylabel('Commits per bin (1-4)')\n",
        "plt.xlabel('days')\n",
        "plt.show()"
      ],
      "execution_count": 21,
      "outputs": [
        {
          "output_type": "display_data",
          "data": {
            "image/png": "[encoded data removed]",
            "text/plain": [
              "<Figure size 432x288 with 1 Axes>"
            ]
          },
          "metadata": {
            "tags": []
          }
        }
      ]
    },
    {
      "cell_type": "code",
      "metadata": {
        "colab_type": "code",
        "outputId": "95a22662-7dde-4b05-807a-544391179202",
        "id": "E36wo8FrklZs",
        "colab": {
          "base_uri": "https://localhost:8080/",
          "height": 34
        }
      },
      "source": [
        "chunk = 30  #take 30 days in each chunk\n",
        "\n",
        "features_set = []  \n",
        "labels =  []  \n",
        "for i in range(chunk, len(binned_counts)):  \n",
        "    features_set.append(binned_counts[i-chunk:i])\n",
        "    labels.append(binned_counts[i])\n",
        "    \n",
        "(len(features_set), len(labels))"
      ],
      "execution_count": 22,
      "outputs": [
        {
          "output_type": "execute_result",
          "data": {
            "text/plain": [
              "(1023, 1023)"
            ]
          },
          "metadata": {
            "tags": []
          },
          "execution_count": 22
        }
      ]
    },
    {
      "cell_type": "code",
      "metadata": {
        "colab_type": "code",
        "outputId": "f986b8d9-3a89-4bf7-fb5e-72168cb7eb68",
        "id": "7QeT43i-klZu",
        "colab": {
          "base_uri": "https://localhost:8080/",
          "height": 34
        }
      },
      "source": [
        "print(features_set[-1])  #last 30 day chunk"
      ],
      "execution_count": 23,
      "outputs": [
        {
          "output_type": "stream",
          "text": [
            "[1, 1, 0, 0, 0, 2, 0, 2, 1, 1, 0, 0, 1, 1, 2, 1, 2, 2, 1, 2, 3, 0, 0, 0, 0, 0, 0, 0, 0, 0]\n"
          ],
          "name": "stdout"
        }
      ]
    },
    {
      "cell_type": "code",
      "metadata": {
        "colab_type": "code",
        "outputId": "9e63057a-ef55-446f-96d5-b0248c64450f",
        "id": "riwE0o4-klZv",
        "colab": {
          "base_uri": "https://localhost:8080/",
          "height": 34
        }
      },
      "source": [
        "labels[:20]"
      ],
      "execution_count": 24,
      "outputs": [
        {
          "output_type": "execute_result",
          "data": {
            "text/plain": [
              "[0, 0, 0, 0, 0, 0, 0, 1, 0, 0, 2, 0, 0, 0, 0, 0, 0, 0, 0, 0]"
            ]
          },
          "metadata": {
            "tags": []
          },
          "execution_count": 24
        }
      ]
    },
    {
      "cell_type": "code",
      "metadata": {
        "colab_type": "code",
        "id": "jEXmh_uuklZ1",
        "colab": {}
      },
      "source": [
        "\n",
        "features_set, labels = np.array(features_set), np.array(labels)  "
      ],
      "execution_count": 0,
      "outputs": []
    },
    {
      "cell_type": "code",
      "metadata": {
        "colab_type": "code",
        "outputId": "dc343169-64ae-4b35-bf65-f3e4b3bcf6f2",
        "id": "gmx89a2JklZ2",
        "colab": {
          "base_uri": "https://localhost:8080/",
          "height": 34
        }
      },
      "source": [
        "features_set = np.reshape(features_set, (features_set.shape[0], features_set.shape[1], 1))  \n",
        "features_set.shape"
      ],
      "execution_count": 26,
      "outputs": [
        {
          "output_type": "execute_result",
          "data": {
            "text/plain": [
              "(1023, 30, 1)"
            ]
          },
          "metadata": {
            "tags": []
          },
          "execution_count": 26
        }
      ]
    },
    {
      "cell_type": "code",
      "metadata": {
        "colab_type": "code",
        "id": "jmJF-CvWklZ8",
        "colab": {}
      },
      "source": [
        "model = Sequential()  \n"
      ],
      "execution_count": 0,
      "outputs": []
    },
    {
      "cell_type": "code",
      "metadata": {
        "colab_type": "code",
        "id": "Mb-XdRh1klZ9",
        "colab": {}
      },
      "source": [
        "model.add(LSTM(units=50, return_sequences=True, input_shape=(features_set.shape[1], 1)))  \n"
      ],
      "execution_count": 0,
      "outputs": []
    },
    {
      "cell_type": "code",
      "metadata": {
        "colab_type": "code",
        "id": "WF23zepuklZ-",
        "colab": {}
      },
      "source": [
        "model.add(Dropout(0.2))  \n",
        "\n"
      ],
      "execution_count": 0,
      "outputs": []
    },
    {
      "cell_type": "code",
      "metadata": {
        "colab_type": "code",
        "id": "lplS-KeNklaA",
        "colab": {}
      },
      "source": [
        "model.add(LSTM(units=50, return_sequences=True))  \n",
        "model.add(Dropout(0.2))\n",
        "\n",
        "model.add(LSTM(units=50, return_sequences=True))  \n",
        "model.add(Dropout(0.2))\n",
        "\n",
        "model.add(LSTM(units=50))  \n",
        "model.add(Dropout(0.2))  "
      ],
      "execution_count": 0,
      "outputs": []
    },
    {
      "cell_type": "code",
      "metadata": {
        "colab_type": "code",
        "id": "nfY6ThSsklaE",
        "colab": {}
      },
      "source": [
        "model.add(Dense(units = 1))  \n"
      ],
      "execution_count": 0,
      "outputs": []
    },
    {
      "cell_type": "code",
      "metadata": {
        "colab_type": "code",
        "id": "5WRey2FfklaF",
        "colab": {}
      },
      "source": [
        "model.compile(optimizer = 'adam', loss = 'mean_squared_error')  \n"
      ],
      "execution_count": 0,
      "outputs": []
    },
    {
      "cell_type": "code",
      "metadata": {
        "colab_type": "code",
        "outputId": "231565d2-3696-4950-e49f-df095720f503",
        "id": "vQ-6pUGxklaG",
        "colab": {
          "base_uri": "https://localhost:8080/",
          "height": 1000
        }
      },
      "source": [
        "'''\n",
        "Epoch 100/100\n",
        "1023/1023 [==============================] - 3s 3ms/step - loss: 0.3127\n",
        "'''\n",
        "model.fit(features_set, labels, epochs = 100, batch_size = 32)  \n"
      ],
      "execution_count": 68,
      "outputs": [
        {
          "output_type": "stream",
          "text": [
            "Epoch 1/100\n",
            "1023/1023 [==============================] - 8s 8ms/step - loss: 0.4042\n",
            "Epoch 2/100\n",
            "1023/1023 [==============================] - 3s 3ms/step - loss: 0.3982\n",
            "Epoch 3/100\n",
            "1023/1023 [==============================] - 3s 3ms/step - loss: 0.4008\n",
            "Epoch 4/100\n",
            "1023/1023 [==============================] - 3s 3ms/step - loss: 0.3954\n",
            "Epoch 5/100\n",
            "1023/1023 [==============================] - 3s 3ms/step - loss: 0.3972\n",
            "Epoch 6/100\n",
            "1023/1023 [==============================] - 3s 3ms/step - loss: 0.3987\n",
            "Epoch 7/100\n",
            "1023/1023 [==============================] - 3s 3ms/step - loss: 0.3943\n",
            "Epoch 8/100\n",
            "1023/1023 [==============================] - 3s 3ms/step - loss: 0.4003\n",
            "Epoch 9/100\n",
            "1023/1023 [==============================] - 3s 3ms/step - loss: 0.3942\n",
            "Epoch 10/100\n",
            "1023/1023 [==============================] - 3s 3ms/step - loss: 0.3943\n",
            "Epoch 11/100\n",
            "1023/1023 [==============================] - 3s 3ms/step - loss: 0.3971\n",
            "Epoch 12/100\n",
            "1023/1023 [==============================] - 3s 3ms/step - loss: 0.3904\n",
            "Epoch 13/100\n",
            "1023/1023 [==============================] - 3s 3ms/step - loss: 0.3905\n",
            "Epoch 14/100\n",
            "1023/1023 [==============================] - 3s 3ms/step - loss: 0.3875\n",
            "Epoch 15/100\n",
            "1023/1023 [==============================] - 3s 3ms/step - loss: 0.3895\n",
            "Epoch 16/100\n",
            "1023/1023 [==============================] - 3s 3ms/step - loss: 0.3870\n",
            "Epoch 17/100\n",
            "1023/1023 [==============================] - 3s 3ms/step - loss: 0.3868\n",
            "Epoch 18/100\n",
            "1023/1023 [==============================] - 3s 3ms/step - loss: 0.3838\n",
            "Epoch 19/100\n",
            "1023/1023 [==============================] - 3s 3ms/step - loss: 0.3802\n",
            "Epoch 20/100\n",
            "1023/1023 [==============================] - 3s 3ms/step - loss: 0.3761\n",
            "Epoch 21/100\n",
            "1023/1023 [==============================] - 3s 3ms/step - loss: 0.3747\n",
            "Epoch 22/100\n",
            "1023/1023 [==============================] - 3s 3ms/step - loss: 0.3802\n",
            "Epoch 23/100\n",
            "1023/1023 [==============================] - 3s 3ms/step - loss: 0.3737\n",
            "Epoch 24/100\n",
            "1023/1023 [==============================] - 3s 3ms/step - loss: 0.3783\n",
            "Epoch 25/100\n",
            "1023/1023 [==============================] - 3s 3ms/step - loss: 0.3762\n",
            "Epoch 26/100\n",
            "1023/1023 [==============================] - 3s 3ms/step - loss: 0.3744\n",
            "Epoch 27/100\n",
            "1023/1023 [==============================] - 3s 3ms/step - loss: 0.3762\n",
            "Epoch 28/100\n",
            "1023/1023 [==============================] - 3s 3ms/step - loss: 0.3698\n",
            "Epoch 29/100\n",
            "1023/1023 [==============================] - 3s 3ms/step - loss: 0.3683\n",
            "Epoch 30/100\n",
            "1023/1023 [==============================] - 3s 3ms/step - loss: 0.3717\n",
            "Epoch 31/100\n",
            "1023/1023 [==============================] - 3s 3ms/step - loss: 0.3691\n",
            "Epoch 32/100\n",
            "1023/1023 [==============================] - 3s 3ms/step - loss: 0.3718\n",
            "Epoch 33/100\n",
            "1023/1023 [==============================] - 3s 3ms/step - loss: 0.3699\n",
            "Epoch 34/100\n",
            "1023/1023 [==============================] - 3s 3ms/step - loss: 0.3713\n",
            "Epoch 35/100\n",
            "1023/1023 [==============================] - 3s 3ms/step - loss: 0.3714\n",
            "Epoch 36/100\n",
            "1023/1023 [==============================] - 3s 3ms/step - loss: 0.3726\n",
            "Epoch 37/100\n",
            "1023/1023 [==============================] - 3s 3ms/step - loss: 0.3736\n",
            "Epoch 38/100\n",
            "1023/1023 [==============================] - 3s 3ms/step - loss: 0.3708\n",
            "Epoch 39/100\n",
            "1023/1023 [==============================] - 3s 3ms/step - loss: 0.3708\n",
            "Epoch 40/100\n",
            "1023/1023 [==============================] - 3s 3ms/step - loss: 0.3750\n",
            "Epoch 41/100\n",
            "1023/1023 [==============================] - 3s 3ms/step - loss: 0.3735\n",
            "Epoch 42/100\n",
            "1023/1023 [==============================] - 3s 3ms/step - loss: 0.3726\n",
            "Epoch 43/100\n",
            "1023/1023 [==============================] - 3s 3ms/step - loss: 0.3695\n",
            "Epoch 44/100\n",
            "1023/1023 [==============================] - 3s 3ms/step - loss: 0.3675\n",
            "Epoch 45/100\n",
            "1023/1023 [==============================] - 3s 3ms/step - loss: 0.3651\n",
            "Epoch 46/100\n",
            "1023/1023 [==============================] - 3s 3ms/step - loss: 0.3692\n",
            "Epoch 47/100\n",
            "1023/1023 [==============================] - 3s 3ms/step - loss: 0.3705\n",
            "Epoch 48/100\n",
            "1023/1023 [==============================] - 3s 3ms/step - loss: 0.3683\n",
            "Epoch 49/100\n",
            "1023/1023 [==============================] - 3s 3ms/step - loss: 0.3690\n",
            "Epoch 50/100\n",
            "1023/1023 [==============================] - 3s 3ms/step - loss: 0.3703\n",
            "Epoch 51/100\n",
            "1023/1023 [==============================] - 3s 3ms/step - loss: 0.3686\n",
            "Epoch 52/100\n",
            "1023/1023 [==============================] - 3s 3ms/step - loss: 0.3642\n",
            "Epoch 53/100\n",
            "1023/1023 [==============================] - 3s 3ms/step - loss: 0.3727\n",
            "Epoch 54/100\n",
            "1023/1023 [==============================] - 3s 3ms/step - loss: 0.3701\n",
            "Epoch 55/100\n",
            "1023/1023 [==============================] - 3s 3ms/step - loss: 0.3689\n",
            "Epoch 56/100\n",
            "1023/1023 [==============================] - 3s 3ms/step - loss: 0.3652\n",
            "Epoch 57/100\n",
            "1023/1023 [==============================] - 3s 3ms/step - loss: 0.3667\n",
            "Epoch 58/100\n",
            "1023/1023 [==============================] - 3s 3ms/step - loss: 0.3628\n",
            "Epoch 59/100\n",
            "1023/1023 [==============================] - 3s 3ms/step - loss: 0.3648\n",
            "Epoch 60/100\n",
            "1023/1023 [==============================] - 3s 3ms/step - loss: 0.3634\n",
            "Epoch 61/100\n",
            "1023/1023 [==============================] - 3s 3ms/step - loss: 0.3686\n",
            "Epoch 62/100\n",
            "1023/1023 [==============================] - 3s 3ms/step - loss: 0.3632\n",
            "Epoch 63/100\n",
            "1023/1023 [==============================] - 3s 3ms/step - loss: 0.3638\n",
            "Epoch 64/100\n",
            "1023/1023 [==============================] - 3s 3ms/step - loss: 0.3633\n",
            "Epoch 65/100\n",
            "1023/1023 [==============================] - 3s 3ms/step - loss: 0.3611\n",
            "Epoch 66/100\n",
            "1023/1023 [==============================] - 3s 3ms/step - loss: 0.3593\n",
            "Epoch 67/100\n",
            "1023/1023 [==============================] - 3s 3ms/step - loss: 0.3604\n",
            "Epoch 68/100\n",
            "1023/1023 [==============================] - 3s 3ms/step - loss: 0.3550\n",
            "Epoch 69/100\n",
            "1023/1023 [==============================] - 3s 3ms/step - loss: 0.3608\n",
            "Epoch 70/100\n",
            "1023/1023 [==============================] - 3s 3ms/step - loss: 0.3544\n",
            "Epoch 71/100\n",
            "1023/1023 [==============================] - 3s 3ms/step - loss: 0.3661\n",
            "Epoch 72/100\n",
            "1023/1023 [==============================] - 3s 3ms/step - loss: 0.3519\n",
            "Epoch 73/100\n",
            "1023/1023 [==============================] - 3s 3ms/step - loss: 0.3498\n",
            "Epoch 74/100\n",
            "1023/1023 [==============================] - 3s 3ms/step - loss: 0.3556\n",
            "Epoch 75/100\n",
            "1023/1023 [==============================] - 3s 3ms/step - loss: 0.3452\n",
            "Epoch 76/100\n",
            "1023/1023 [==============================] - 3s 3ms/step - loss: 0.3396\n",
            "Epoch 77/100\n",
            "1023/1023 [==============================] - 3s 3ms/step - loss: 0.3375\n",
            "Epoch 78/100\n",
            "1023/1023 [==============================] - 3s 3ms/step - loss: 0.3486\n",
            "Epoch 79/100\n",
            "1023/1023 [==============================] - 3s 3ms/step - loss: 0.3420\n",
            "Epoch 80/100\n",
            "1023/1023 [==============================] - 3s 3ms/step - loss: 0.3362\n",
            "Epoch 81/100\n",
            "1023/1023 [==============================] - 3s 3ms/step - loss: 0.3327\n",
            "Epoch 82/100\n",
            "1023/1023 [==============================] - 3s 3ms/step - loss: 0.3220\n",
            "Epoch 83/100\n",
            "1023/1023 [==============================] - 3s 3ms/step - loss: 0.3317\n",
            "Epoch 84/100\n",
            "1023/1023 [==============================] - 3s 3ms/step - loss: 0.3159\n",
            "Epoch 85/100\n",
            "1023/1023 [==============================] - 3s 3ms/step - loss: 0.3315\n",
            "Epoch 86/100\n",
            "1023/1023 [==============================] - 3s 3ms/step - loss: 0.3246\n",
            "Epoch 87/100\n",
            "1023/1023 [==============================] - 3s 3ms/step - loss: 0.3154\n",
            "Epoch 88/100\n",
            "1023/1023 [==============================] - 3s 3ms/step - loss: 0.3227\n",
            "Epoch 89/100\n",
            "1023/1023 [==============================] - 3s 3ms/step - loss: 0.3145\n",
            "Epoch 90/100\n",
            "1023/1023 [==============================] - 3s 3ms/step - loss: 0.3023\n",
            "Epoch 91/100\n",
            "1023/1023 [==============================] - 3s 3ms/step - loss: 0.3082\n",
            "Epoch 92/100\n",
            "1023/1023 [==============================] - 3s 3ms/step - loss: 0.2974\n",
            "Epoch 93/100\n",
            "1023/1023 [==============================] - 3s 3ms/step - loss: 0.3093\n",
            "Epoch 94/100\n",
            "1023/1023 [==============================] - 3s 3ms/step - loss: 0.3149\n",
            "Epoch 95/100\n",
            "1023/1023 [==============================] - 3s 3ms/step - loss: 0.2963\n",
            "Epoch 96/100\n",
            "1023/1023 [==============================] - 3s 3ms/step - loss: 0.2987\n",
            "Epoch 97/100\n",
            "1023/1023 [==============================] - 3s 3ms/step - loss: 0.2862\n",
            "Epoch 98/100\n",
            "1023/1023 [==============================] - 3s 3ms/step - loss: 0.2996\n",
            "Epoch 99/100\n",
            "1023/1023 [==============================] - 3s 3ms/step - loss: 0.2785\n",
            "Epoch 100/100\n",
            "1023/1023 [==============================] - 3s 3ms/step - loss: 0.2794\n"
          ],
          "name": "stdout"
        },
        {
          "output_type": "execute_result",
          "data": {
            "text/plain": [
              "<keras.callbacks.History at 0x7f33b998ba58>"
            ]
          },
          "metadata": {
            "tags": []
          },
          "execution_count": 68
        }
      ]
    },
    {
      "cell_type": "markdown",
      "metadata": {
        "colab_type": "text",
        "id": "SjK4hqlkklaI"
      },
      "source": [
        "## Write model out to gdrive"
      ]
    },
    {
      "cell_type": "code",
      "metadata": {
        "colab_type": "code",
        "outputId": "c7ed77d1-7ef4-481e-a3fb-6e9a338f3eab",
        "id": "7VFcCbcdklaN",
        "colab": {
          "base_uri": "https://localhost:8080/",
          "height": 34
        }
      },
      "source": [
        "from google.colab import drive\n",
        "drive.mount('/content/gdrive')"
      ],
      "execution_count": 69,
      "outputs": [
        {
          "output_type": "stream",
          "text": [
            "Drive already mounted at /content/gdrive; to attempt to forcibly remount, call drive.mount(\"/content/gdrive\", force_remount=True).\n"
          ],
          "name": "stdout"
        }
      ]
    },
    {
      "cell_type": "code",
      "metadata": {
        "colab_type": "code",
        "id": "vWQ95Jn_klaP",
        "colab": {}
      },
      "source": [
        "# save model to single file\n",
        "model.save('/content/gdrive/My Drive/lstm_model_v2.h5')"
      ],
      "execution_count": 0,
      "outputs": []
    },
    {
      "cell_type": "markdown",
      "metadata": {
        "colab_type": "text",
        "id": "50s_iSR9klaQ"
      },
      "source": [
        "Make sure we can load it again."
      ]
    },
    {
      "cell_type": "code",
      "metadata": {
        "colab_type": "code",
        "id": "QA_xIvSZklaQ",
        "colab": {}
      },
      "source": [
        "from keras.models import load_model # load model from single file\n",
        "model_test = load_model('/content/gdrive/My Drive/lstm_model_v2.h5') # make predictions\n"
      ],
      "execution_count": 0,
      "outputs": []
    },
    {
      "cell_type": "code",
      "metadata": {
        "colab_type": "code",
        "id": "Gxt21xnEklaR",
        "colab": {}
      },
      "source": [
        "#Try on training set for giggles\n",
        "check_predictions = []\n",
        "\n",
        "for  i,chunk in enumerate(features_set):\n",
        "  chunk = np.reshape(chunk, (1, features_set.shape[1], 1))\n",
        "  yhat = model_test.predict(chunk, verbose=0)\n",
        "  check_predictions.append((yhat, labels[i], abs(yhat-labels[i])))\n"
      ],
      "execution_count": 0,
      "outputs": []
    },
    {
      "cell_type": "code",
      "metadata": {
        "colab_type": "code",
        "outputId": "570ed274-5954-45bf-e1f3-9d3c8d9fddb9",
        "id": "46IW3mBGklaV",
        "colab": {
          "base_uri": "https://localhost:8080/",
          "height": 454
        }
      },
      "source": [
        "check_predictions[:10]"
      ],
      "execution_count": 29,
      "outputs": [
        {
          "output_type": "execute_result",
          "data": {
            "text/plain": [
              "[(array([[0.06659372]], dtype=float32),\n",
              "  0,\n",
              "  array([[0.06659372]], dtype=float32)),\n",
              " (array([[0.04924829]], dtype=float32),\n",
              "  0,\n",
              "  array([[0.04924829]], dtype=float32)),\n",
              " (array([[0.06168213]], dtype=float32),\n",
              "  0,\n",
              "  array([[0.06168213]], dtype=float32)),\n",
              " (array([[0.09167122]], dtype=float32),\n",
              "  0,\n",
              "  array([[0.09167122]], dtype=float32)),\n",
              " (array([[0.12940569]], dtype=float32),\n",
              "  0,\n",
              "  array([[0.12940569]], dtype=float32)),\n",
              " (array([[0.1695927]], dtype=float32), 0, array([[0.1695927]], dtype=float32)),\n",
              " (array([[0.09838108]], dtype=float32),\n",
              "  0,\n",
              "  array([[0.09838108]], dtype=float32)),\n",
              " (array([[0.1009777]], dtype=float32), 1, array([[0.8990223]], dtype=float32)),\n",
              " (array([[0.08889107]], dtype=float32),\n",
              "  0,\n",
              "  array([[0.08889107]], dtype=float32)),\n",
              " (array([[0.24828091]], dtype=float32),\n",
              "  0,\n",
              "  array([[0.24828091]], dtype=float32))]"
            ]
          },
          "metadata": {
            "tags": []
          },
          "execution_count": 29
        }
      ]
    },
    {
      "cell_type": "markdown",
      "metadata": {
        "colab_type": "text",
        "id": "PdIEgdXHklaY"
      },
      "source": [
        "Average (absolute) difference."
      ]
    },
    {
      "cell_type": "code",
      "metadata": {
        "colab_type": "code",
        "outputId": "ebf28a11-9e4c-468b-80a9-5b3fd530122b",
        "id": "s8YqrNCFklaY",
        "colab": {
          "base_uri": "https://localhost:8080/",
          "height": 34
        }
      },
      "source": [
        "sum([d for y,x,d in check_predictions])/len(check_predictions)  #array([[0.35177565]], dtype=float32)"
      ],
      "execution_count": 74,
      "outputs": [
        {
          "output_type": "execute_result",
          "data": {
            "text/plain": [
              "array([[0.3064969]], dtype=float32)"
            ]
          },
          "metadata": {
            "tags": []
          },
          "execution_count": 74
        }
      ]
    },
    {
      "cell_type": "markdown",
      "metadata": {
        "colab_type": "text",
        "id": "60nAWSZcklaZ"
      },
      "source": [
        "MSE"
      ]
    },
    {
      "cell_type": "code",
      "metadata": {
        "colab_type": "code",
        "outputId": "a5c7c372-9c33-483c-cf70-b49add371df8",
        "id": "In4d3Djwklaa",
        "colab": {
          "base_uri": "https://localhost:8080/",
          "height": 34
        }
      },
      "source": [
        "sum([d**2 for y,x,d in check_predictions])/len(check_predictions)  #array([[0.2961716]], dtype=float32)"
      ],
      "execution_count": 75,
      "outputs": [
        {
          "output_type": "execute_result",
          "data": {
            "text/plain": [
              "array([[0.2569892]], dtype=float32)"
            ]
          },
          "metadata": {
            "tags": []
          },
          "execution_count": 75
        }
      ]
    },
    {
      "cell_type": "markdown",
      "metadata": {
        "id": "Km2bR1FZs3bb",
        "colab_type": "text"
      },
      "source": [
        "Percentages of bin diff.\n",
        "<pre>\n",
        "(0, 0.8132942326490714)  #81% dead on\n",
        "(1, 0.1573802541544477)  #97% within 1\n",
        "(2, 0.02346041055718475)\n",
        "(3, 0.005865102639296188)\n",
        "</pre>"
      ]
    },
    {
      "cell_type": "code",
      "metadata": {
        "id": "yKuL6rGizjz6",
        "colab_type": "code",
        "colab": {
          "base_uri": "https://localhost:8080/",
          "height": 84
        },
        "outputId": "dcccb90b-aa22-4415-ebff-f07a583670a5"
      },
      "source": [
        "for i in range(4):\n",
        "  print((i, len([1 for y,x,d in check_predictions if abs(x-np.round(y))==float(i)])/len(check_predictions)))"
      ],
      "execution_count": 30,
      "outputs": [
        {
          "output_type": "stream",
          "text": [
            "(0, 0.8132942326490714)\n",
            "(1, 0.1573802541544477)\n",
            "(2, 0.02346041055718475)\n",
            "(3, 0.005865102639296188)\n"
          ],
          "name": "stdout"
        }
      ]
    }
  ]
}